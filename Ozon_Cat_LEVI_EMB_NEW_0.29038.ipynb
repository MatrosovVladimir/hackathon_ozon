{
 "cells": [
  {
   "cell_type": "markdown",
   "id": "142606db",
   "metadata": {},
   "source": [
    "## Загрузка данных"
   ]
  },
  {
   "cell_type": "markdown",
   "id": "24a6e57f",
   "metadata": {},
   "source": [
    "### Импорты"
   ]
  },
  {
   "cell_type": "code",
   "execution_count": 1,
   "id": "396c4d9d",
   "metadata": {},
   "outputs": [],
   "source": [
    "!pip install catboost -q\n",
    "!pip install shap -q"
   ]
  },
  {
   "cell_type": "code",
   "execution_count": 2,
   "id": "2749ba12",
   "metadata": {},
   "outputs": [],
   "source": [
    "import json\n",
    "import ast\n",
    "from functools import partial\n",
    "from typing import List\n",
    "\n",
    "import matplotlib.pyplot as plt\n",
    "import numpy as np\n",
    "import pandas as pd\n",
    "import seaborn as sns\n",
    "from catboost import CatBoostClassifier, Pool\n",
    "from catboost.utils import eval_metric\n",
    "from scipy.spatial.distance import cosine, euclidean\n",
    "from sklearn.metrics import pairwise_distances, roc_curve, precision_recall_curve\n",
    "from sklearn.metrics import  auc, accuracy_score as acc, roc_auc_score, f1_score, precision_score\n",
    "from sklearn.model_selection import train_test_split,RandomizedSearchCV,GridSearchCV\n",
    "from sklearn.feature_extraction.text import CountVectorizer\n",
    "\n",
    "#from sklearn.preprocessing import StandardScaler\n",
    "from sklearn.preprocessing import OrdinalEncoder\n",
    "\n",
    "from tqdm import tqdm\n",
    "import warnings\n",
    "\n",
    "# настройки\n",
    "tqdm.pandas()\n",
    "warnings.filterwarnings(\"ignore\")\n",
    "pd.set_option('display.max_columns', None)\n",
    "\n",
    "# константы\n",
    "RANDOM_STATE = 42"
   ]
  },
  {
   "cell_type": "markdown",
   "id": "a79f3ec9",
   "metadata": {},
   "source": [
    "### Read/Head/Info"
   ]
  },
  {
   "cell_type": "code",
   "execution_count": 3,
   "id": "ba7f6e78",
   "metadata": {},
   "outputs": [],
   "source": [
    "try:\n",
    "    train_data = pd.read_parquet('C:/Users/zoika/OneDrive/Рабочий стол/YP ds54/!!!OzonHack3/train_data.parquet')\n",
    "    train_pairs = pd.read_parquet('C:/Users/zoika/OneDrive/Рабочий стол/YP ds54/!!!OzonHack3/train_pairs.parquet')\n",
    "    test_pairs_wo_target = pd.read_parquet('C:/Users/zoika/OneDrive/Рабочий стол/YP ds54/!!!OzonHack3/test_pairs_wo_target.parquet')\n",
    "    test_data = pd.read_parquet('C:/Users/zoika/OneDrive/Рабочий стол/YP ds54/!!!OzonHack3/test_data.parquet')\n",
    "    submission_example3 = pd.read_csv('C:/Users/zoika/OneDrive/Рабочий стол/YP ds54/!!!OzonHack3/submission_example3.csv')\n",
    "except:    \n",
    "    train_data = pd.read_parquet('train_data.parquet', engine='auto')\n",
    "    train_pairs = pd.read_parquet('train_pairs.parquet', engine='auto')\n",
    "    test_data = pd.read_parquet('test_data.parquet', engine='auto')\n",
    "    test_pairs_wo_target = pd.read_parquet('test_pairs_wo_target.parquet', engine='auto')\n",
    "    submission_example3 = pd.read_csv('submission_example.csv')"
   ]
  },
  {
   "cell_type": "code",
   "execution_count": 4,
   "id": "986186c3",
   "metadata": {},
   "outputs": [
    {
     "name": "stdout",
     "output_type": "stream",
     "text": [
      "CPU times: total: 42 s\n",
      "Wall time: 2.98 s\n"
     ]
    }
   ],
   "source": [
    "%%time\n",
    "# Грузим дополнительные ембеддинги названий и характеристик\n",
    "name_embs = pd.read_parquet('name_bert768.parquet')"
   ]
  },
  {
   "cell_type": "code",
   "execution_count": 5,
   "id": "8885cca1",
   "metadata": {},
   "outputs": [
    {
     "name": "stdout",
     "output_type": "stream",
     "text": [
      "CPU times: total: 5.59 s\n",
      "Wall time: 5.58 s\n"
     ]
    },
    {
     "data": {
      "text/html": [
       "<div>\n",
       "<style scoped>\n",
       "    .dataframe tbody tr th:only-of-type {\n",
       "        vertical-align: middle;\n",
       "    }\n",
       "\n",
       "    .dataframe tbody tr th {\n",
       "        vertical-align: top;\n",
       "    }\n",
       "\n",
       "    .dataframe thead th {\n",
       "        text-align: right;\n",
       "    }\n",
       "</style>\n",
       "<table border=\"1\" class=\"dataframe\">\n",
       "  <thead>\n",
       "    <tr style=\"text-align: right;\">\n",
       "      <th></th>\n",
       "      <th>variantid</th>\n",
       "      <th>name_embedding</th>\n",
       "    </tr>\n",
       "  </thead>\n",
       "  <tbody>\n",
       "    <tr>\n",
       "      <th>0</th>\n",
       "      <td>51195767</td>\n",
       "      <td>[-0.52616537, 0.5570387, 0.19487007, -0.363480...</td>\n",
       "    </tr>\n",
       "  </tbody>\n",
       "</table>\n",
       "</div>"
      ],
      "text/plain": [
       "   variantid                                     name_embedding\n",
       "0   51195767  [-0.52616537, 0.5570387, 0.19487007, -0.363480..."
      ]
     },
     "execution_count": 5,
     "metadata": {},
     "output_type": "execute_result"
    }
   ],
   "source": [
    "%%time\n",
    "embedding_columns = [str(i) for i in range(768)]\n",
    "\n",
    "name_embs['name_embedding'] = name_embs[embedding_columns].apply(lambda row: np.array(row.values), axis=1)\n",
    "embs_df = name_embs[['variantid', 'name_embedding']]\n",
    "\n",
    "embs_df.head(1)"
   ]
  },
  {
   "cell_type": "code",
   "execution_count": 6,
   "id": "05c19414",
   "metadata": {},
   "outputs": [
    {
     "name": "stdout",
     "output_type": "stream",
     "text": [
      "<class 'pandas.core.frame.DataFrame'>\n",
      "RangeIndex: 457063 entries, 0 to 457062\n",
      "Data columns (total 8 columns):\n",
      " #   Column                             Non-Null Count   Dtype \n",
      "---  ------                             --------------   ----- \n",
      " 0   variantid                          457063 non-null  int64 \n",
      " 1   name                               457063 non-null  object\n",
      " 2   categories                         457063 non-null  object\n",
      " 3   color_parsed                       378652 non-null  object\n",
      " 4   pic_embeddings_resnet_v1           303467 non-null  object\n",
      " 5   main_pic_embeddings_resnet_v1      457063 non-null  object\n",
      " 6   name_bert_64                       457063 non-null  object\n",
      " 7   characteristic_attributes_mapping  457036 non-null  object\n",
      "dtypes: int64(1), object(7)\n",
      "memory usage: 27.9+ MB\n"
     ]
    },
    {
     "data": {
      "text/plain": [
       "None"
      ]
     },
     "metadata": {},
     "output_type": "display_data"
    },
    {
     "name": "stdout",
     "output_type": "stream",
     "text": [
      "<class 'pandas.core.frame.DataFrame'>\n",
      "RangeIndex: 35730 entries, 0 to 35729\n",
      "Data columns (total 8 columns):\n",
      " #   Column                             Non-Null Count  Dtype \n",
      "---  ------                             --------------  ----- \n",
      " 0   variantid                          35730 non-null  int64 \n",
      " 1   name                               35730 non-null  object\n",
      " 2   categories                         35730 non-null  object\n",
      " 3   color_parsed                       26089 non-null  object\n",
      " 4   pic_embeddings_resnet_v1           19977 non-null  object\n",
      " 5   main_pic_embeddings_resnet_v1      35730 non-null  object\n",
      " 6   name_bert_64                       35730 non-null  object\n",
      " 7   characteristic_attributes_mapping  35726 non-null  object\n",
      "dtypes: int64(1), object(7)\n",
      "memory usage: 2.2+ MB\n"
     ]
    },
    {
     "data": {
      "text/plain": [
       "None"
      ]
     },
     "metadata": {},
     "output_type": "display_data"
    }
   ],
   "source": [
    "display(train_data.info())\n",
    "display(test_data.info())"
   ]
  },
  {
   "cell_type": "code",
   "execution_count": 7,
   "id": "660d6927",
   "metadata": {},
   "outputs": [
    {
     "name": "stdout",
     "output_type": "stream",
     "text": [
      "<class 'pandas.core.frame.DataFrame'>\n",
      "Int64Index: 460084 entries, 0 to 460083\n",
      "Data columns (total 9 columns):\n",
      " #   Column                             Non-Null Count   Dtype \n",
      "---  ------                             --------------   ----- \n",
      " 0   variantid                          460084 non-null  int64 \n",
      " 1   name                               460084 non-null  object\n",
      " 2   categories                         460084 non-null  object\n",
      " 3   color_parsed                       381142 non-null  object\n",
      " 4   pic_embeddings_resnet_v1           305631 non-null  object\n",
      " 5   main_pic_embeddings_resnet_v1      460084 non-null  object\n",
      " 6   name_bert_64                       460084 non-null  object\n",
      " 7   characteristic_attributes_mapping  460057 non-null  object\n",
      " 8   name_embedding                     460084 non-null  object\n",
      "dtypes: int64(1), object(8)\n",
      "memory usage: 35.1+ MB\n"
     ]
    },
    {
     "data": {
      "text/plain": [
       "None"
      ]
     },
     "metadata": {},
     "output_type": "display_data"
    },
    {
     "name": "stdout",
     "output_type": "stream",
     "text": [
      "<class 'pandas.core.frame.DataFrame'>\n",
      "Int64Index: 38751 entries, 0 to 38750\n",
      "Data columns (total 9 columns):\n",
      " #   Column                             Non-Null Count  Dtype \n",
      "---  ------                             --------------  ----- \n",
      " 0   variantid                          38751 non-null  int64 \n",
      " 1   name                               38751 non-null  object\n",
      " 2   categories                         38751 non-null  object\n",
      " 3   color_parsed                       28579 non-null  object\n",
      " 4   pic_embeddings_resnet_v1           22141 non-null  object\n",
      " 5   main_pic_embeddings_resnet_v1      38751 non-null  object\n",
      " 6   name_bert_64                       38751 non-null  object\n",
      " 7   characteristic_attributes_mapping  38747 non-null  object\n",
      " 8   name_embedding                     38751 non-null  object\n",
      "dtypes: int64(1), object(8)\n",
      "memory usage: 3.0+ MB\n"
     ]
    },
    {
     "data": {
      "text/plain": [
       "None"
      ]
     },
     "metadata": {},
     "output_type": "display_data"
    }
   ],
   "source": [
    "train_data = train_data.merge(embs_df, on='variantid')\n",
    "test_data = test_data.merge(embs_df, on='variantid')\n",
    "\n",
    "display(train_data.info())\n",
    "display(test_data.info())"
   ]
  },
  {
   "cell_type": "code",
   "execution_count": 8,
   "id": "38d52dd4",
   "metadata": {},
   "outputs": [
    {
     "name": "stdout",
     "output_type": "stream",
     "text": [
      "<class 'pandas.core.frame.DataFrame'>\n",
      "Int64Index: 457063 entries, 0 to 460083\n",
      "Data columns (total 9 columns):\n",
      " #   Column                             Non-Null Count   Dtype \n",
      "---  ------                             --------------   ----- \n",
      " 0   variantid                          457063 non-null  int64 \n",
      " 1   name                               457063 non-null  object\n",
      " 2   categories                         457063 non-null  object\n",
      " 3   color_parsed                       378652 non-null  object\n",
      " 4   pic_embeddings_resnet_v1           303467 non-null  object\n",
      " 5   main_pic_embeddings_resnet_v1      457063 non-null  object\n",
      " 6   name_bert_64                       457063 non-null  object\n",
      " 7   characteristic_attributes_mapping  457036 non-null  object\n",
      " 8   name_embedding                     457063 non-null  object\n",
      "dtypes: int64(1), object(8)\n",
      "memory usage: 34.9+ MB\n"
     ]
    },
    {
     "data": {
      "text/plain": [
       "None"
      ]
     },
     "metadata": {},
     "output_type": "display_data"
    },
    {
     "name": "stdout",
     "output_type": "stream",
     "text": [
      "<class 'pandas.core.frame.DataFrame'>\n",
      "Int64Index: 35730 entries, 0 to 38749\n",
      "Data columns (total 9 columns):\n",
      " #   Column                             Non-Null Count  Dtype \n",
      "---  ------                             --------------  ----- \n",
      " 0   variantid                          35730 non-null  int64 \n",
      " 1   name                               35730 non-null  object\n",
      " 2   categories                         35730 non-null  object\n",
      " 3   color_parsed                       26089 non-null  object\n",
      " 4   pic_embeddings_resnet_v1           19977 non-null  object\n",
      " 5   main_pic_embeddings_resnet_v1      35730 non-null  object\n",
      " 6   name_bert_64                       35730 non-null  object\n",
      " 7   characteristic_attributes_mapping  35726 non-null  object\n",
      " 8   name_embedding                     35730 non-null  object\n",
      "dtypes: int64(1), object(8)\n",
      "memory usage: 2.7+ MB\n"
     ]
    },
    {
     "data": {
      "text/plain": [
       "None"
      ]
     },
     "metadata": {},
     "output_type": "display_data"
    }
   ],
   "source": [
    "train_data = train_data.drop_duplicates(\"variantid\")\n",
    "test_data = test_data.drop_duplicates(\"variantid\")\n",
    "\n",
    "display(train_data.info())\n",
    "display(test_data.info())"
   ]
  },
  {
   "cell_type": "code",
   "execution_count": 9,
   "id": "bc5b36a2",
   "metadata": {
    "scrolled": true
   },
   "outputs": [],
   "source": [
    "def head_info(df):\n",
    "    display(df.info())\n",
    "    display(df.head(2))\n",
    "\n",
    "    \n",
    "# head_info(train_data)\n",
    "# head_info(train_pairs)\n",
    "# head_info(test_data)\n",
    "# head_info(test_pairs_wo_target)\n",
    "# head_info(submission_example3)"
   ]
  },
  {
   "cell_type": "code",
   "execution_count": 10,
   "id": "1957165a",
   "metadata": {},
   "outputs": [
    {
     "name": "stdout",
     "output_type": "stream",
     "text": [
      "<class 'pandas.core.frame.DataFrame'>\n",
      "Int64Index: 457063 entries, 0 to 460083\n",
      "Data columns (total 9 columns):\n",
      " #   Column                             Non-Null Count   Dtype \n",
      "---  ------                             --------------   ----- \n",
      " 0   variantid                          457063 non-null  int64 \n",
      " 1   name                               457063 non-null  object\n",
      " 2   categories                         457063 non-null  object\n",
      " 3   color_parsed                       378652 non-null  object\n",
      " 4   pic_embeddings_resnet_v1           303467 non-null  object\n",
      " 5   main_pic_embeddings_resnet_v1      457063 non-null  object\n",
      " 6   name_bert_64                       457063 non-null  object\n",
      " 7   characteristic_attributes_mapping  457036 non-null  object\n",
      " 8   name_embedding                     457063 non-null  object\n",
      "dtypes: int64(1), object(8)\n",
      "memory usage: 34.9+ MB\n"
     ]
    },
    {
     "data": {
      "text/plain": [
       "None"
      ]
     },
     "metadata": {},
     "output_type": "display_data"
    },
    {
     "data": {
      "text/html": [
       "<div>\n",
       "<style scoped>\n",
       "    .dataframe tbody tr th:only-of-type {\n",
       "        vertical-align: middle;\n",
       "    }\n",
       "\n",
       "    .dataframe tbody tr th {\n",
       "        vertical-align: top;\n",
       "    }\n",
       "\n",
       "    .dataframe thead th {\n",
       "        text-align: right;\n",
       "    }\n",
       "</style>\n",
       "<table border=\"1\" class=\"dataframe\">\n",
       "  <thead>\n",
       "    <tr style=\"text-align: right;\">\n",
       "      <th></th>\n",
       "      <th>variantid</th>\n",
       "      <th>name</th>\n",
       "      <th>categories</th>\n",
       "      <th>color_parsed</th>\n",
       "      <th>pic_embeddings_resnet_v1</th>\n",
       "      <th>main_pic_embeddings_resnet_v1</th>\n",
       "      <th>name_bert_64</th>\n",
       "      <th>characteristic_attributes_mapping</th>\n",
       "      <th>name_embedding</th>\n",
       "    </tr>\n",
       "  </thead>\n",
       "  <tbody>\n",
       "    <tr>\n",
       "      <th>0</th>\n",
       "      <td>51195767</td>\n",
       "      <td>Удлинитель Партнер-Электро ПВС 2х0,75 ГОСТ,6A,...</td>\n",
       "      <td>{\"1\": \"EPG\", \"2\": \"Электроника\", \"3\": \"Сетевые...</td>\n",
       "      <td>[оранжевый]</td>\n",
       "      <td>None</td>\n",
       "      <td>[[0.04603629, 0.18839523, -0.09973055, -0.6636...</td>\n",
       "      <td>[-0.47045058, 0.67237014, 0.48984158, -0.54485...</td>\n",
       "      <td>{\"Номинальный ток, А\":[\"10\"],\"Цвет товара\":[\"о...</td>\n",
       "      <td>[-0.52616537, 0.5570387, 0.19487007, -0.363480...</td>\n",
       "    </tr>\n",
       "    <tr>\n",
       "      <th>1</th>\n",
       "      <td>53565809</td>\n",
       "      <td>Магнитный кабель USB 2.0 A (m) - USB Type-C (m...</td>\n",
       "      <td>{\"1\": \"EPG\", \"2\": \"Электроника\", \"3\": \"Кабели ...</td>\n",
       "      <td>[красный]</td>\n",
       "      <td>[[0.26863545, -0.3130674, 0.29023397, 0.073978...</td>\n",
       "      <td>[[1.1471839, -0.665361, 0.7745614, 0.26716197,...</td>\n",
       "      <td>[-0.6575592, 0.6522429, 0.5426037, -0.54347897...</td>\n",
       "      <td>{\"Конструктивные особенности\":[\"Магнитная конс...</td>\n",
       "      <td>[-0.64783597, -0.1698648, 0.4192899, -0.225463...</td>\n",
       "    </tr>\n",
       "  </tbody>\n",
       "</table>\n",
       "</div>"
      ],
      "text/plain": [
       "   variantid                                               name  \\\n",
       "0   51195767  Удлинитель Партнер-Электро ПВС 2х0,75 ГОСТ,6A,...   \n",
       "1   53565809  Магнитный кабель USB 2.0 A (m) - USB Type-C (m...   \n",
       "\n",
       "                                          categories color_parsed  \\\n",
       "0  {\"1\": \"EPG\", \"2\": \"Электроника\", \"3\": \"Сетевые...  [оранжевый]   \n",
       "1  {\"1\": \"EPG\", \"2\": \"Электроника\", \"3\": \"Кабели ...    [красный]   \n",
       "\n",
       "                            pic_embeddings_resnet_v1  \\\n",
       "0                                               None   \n",
       "1  [[0.26863545, -0.3130674, 0.29023397, 0.073978...   \n",
       "\n",
       "                       main_pic_embeddings_resnet_v1  \\\n",
       "0  [[0.04603629, 0.18839523, -0.09973055, -0.6636...   \n",
       "1  [[1.1471839, -0.665361, 0.7745614, 0.26716197,...   \n",
       "\n",
       "                                        name_bert_64  \\\n",
       "0  [-0.47045058, 0.67237014, 0.48984158, -0.54485...   \n",
       "1  [-0.6575592, 0.6522429, 0.5426037, -0.54347897...   \n",
       "\n",
       "                   characteristic_attributes_mapping  \\\n",
       "0  {\"Номинальный ток, А\":[\"10\"],\"Цвет товара\":[\"о...   \n",
       "1  {\"Конструктивные особенности\":[\"Магнитная конс...   \n",
       "\n",
       "                                      name_embedding  \n",
       "0  [-0.52616537, 0.5570387, 0.19487007, -0.363480...  \n",
       "1  [-0.64783597, -0.1698648, 0.4192899, -0.225463...  "
      ]
     },
     "metadata": {},
     "output_type": "display_data"
    }
   ],
   "source": [
    "head_info(train_data)"
   ]
  },
  {
   "cell_type": "markdown",
   "id": "e81b5839",
   "metadata": {},
   "source": [
    "## Предобработка данных"
   ]
  },
  {
   "cell_type": "markdown",
   "id": "eb0e4946",
   "metadata": {},
   "source": [
    "### Колонки cat3 и 4 и набор атрибутов"
   ]
  },
  {
   "cell_type": "code",
   "execution_count": 11,
   "id": "7d3339c9",
   "metadata": {},
   "outputs": [],
   "source": [
    "def new_col(train_data):\n",
    "\n",
    "\n",
    "#  переводим текст категорий в словарь\n",
    "#    train_data['st'] = train_data.characteristic_attributes_mapping.fillna('{}').apply(ast.literal_eval)\n",
    "   \n",
    "    train_data['attributes_set'] = train_data.characteristic_attributes_mapping.fillna('{}').apply(ast.literal_eval)\n",
    "     \n",
    "    train_data['cat3'] = train_data['categories'].apply(lambda x: json.loads(x).get('3'))  \n",
    "    train_data['cat4'] = train_data['categories'].apply(lambda x: json.loads(x).get('4'))  \n",
    "    \n",
    "    train_data['main_pic_embeddings_resnet_v1_new'] = train_data['main_pic_embeddings_resnet_v1'].apply(lambda x: x[0])  # Переведем двумрные эмбеддинги в одномерные\n",
    "    \n",
    "    return train_data"
   ]
  },
  {
   "cell_type": "code",
   "execution_count": 12,
   "id": "7dba0a5e",
   "metadata": {
    "scrolled": false
   },
   "outputs": [
    {
     "name": "stdout",
     "output_type": "stream",
     "text": [
      "CPU times: total: 1min 37s\n",
      "Wall time: 1min 37s\n"
     ]
    }
   ],
   "source": [
    "%%time\n",
    "train_data = new_col(train_data)"
   ]
  },
  {
   "cell_type": "markdown",
   "id": "5305843b",
   "metadata": {},
   "source": [
    "### Группировка категорий"
   ]
  },
  {
   "cell_type": "code",
   "execution_count": 13,
   "id": "eab96f9a",
   "metadata": {},
   "outputs": [],
   "source": [
    "REST_train = 1000   # меньше скольки, считаем категорию маленькую"
   ]
  },
  {
   "cell_type": "code",
   "execution_count": 14,
   "id": "5dd61142",
   "metadata": {},
   "outputs": [
    {
     "name": "stdout",
     "output_type": "stream",
     "text": [
      "CPU times: total: 0 ns\n",
      "Wall time: 0 ns\n"
     ]
    }
   ],
   "source": [
    "%%time\n",
    "def cat3_grouped(train_data, FOR_REST):\n",
    "    cat3_counts = train_data[\"cat3\"].value_counts().to_dict()\n",
    "\n",
    "    cntr = 0\n",
    "    for cat3 in cat3_counts:\n",
    "        if cat3_counts[cat3] < FOR_REST:\n",
    "            cntr += cat3_counts[cat3]   \n",
    "    print(cntr)\n",
    "\n",
    "    train_data[\"cat3_grouped\"] = train_data[\"cat3\"].apply(lambda x: x if cat3_counts[x] > FOR_REST else \"rest\")\n",
    "    #train_data[\"cat3_grouped_num\"]=train_data[\"cat3_grouped\"]\n",
    "    return train_data"
   ]
  },
  {
   "cell_type": "code",
   "execution_count": 15,
   "id": "13aeea92",
   "metadata": {},
   "outputs": [
    {
     "name": "stdout",
     "output_type": "stream",
     "text": [
      "11296\n",
      "CPU times: total: 1.09 s\n",
      "Wall time: 1.09 s\n"
     ]
    },
    {
     "data": {
      "text/html": [
       "<div>\n",
       "<style scoped>\n",
       "    .dataframe tbody tr th:only-of-type {\n",
       "        vertical-align: middle;\n",
       "    }\n",
       "\n",
       "    .dataframe tbody tr th {\n",
       "        vertical-align: top;\n",
       "    }\n",
       "\n",
       "    .dataframe thead th {\n",
       "        text-align: right;\n",
       "    }\n",
       "</style>\n",
       "<table border=\"1\" class=\"dataframe\">\n",
       "  <thead>\n",
       "    <tr style=\"text-align: right;\">\n",
       "      <th></th>\n",
       "      <th>variantid</th>\n",
       "      <th>name</th>\n",
       "      <th>categories</th>\n",
       "      <th>color_parsed</th>\n",
       "      <th>pic_embeddings_resnet_v1</th>\n",
       "      <th>main_pic_embeddings_resnet_v1</th>\n",
       "      <th>name_bert_64</th>\n",
       "      <th>characteristic_attributes_mapping</th>\n",
       "      <th>name_embedding</th>\n",
       "      <th>attributes_set</th>\n",
       "      <th>cat3</th>\n",
       "      <th>cat4</th>\n",
       "      <th>main_pic_embeddings_resnet_v1_new</th>\n",
       "      <th>cat3_grouped</th>\n",
       "    </tr>\n",
       "  </thead>\n",
       "  <tbody>\n",
       "    <tr>\n",
       "      <th>0</th>\n",
       "      <td>51195767</td>\n",
       "      <td>Удлинитель Партнер-Электро ПВС 2х0,75 ГОСТ,6A,...</td>\n",
       "      <td>{\"1\": \"EPG\", \"2\": \"Электроника\", \"3\": \"Сетевые...</td>\n",
       "      <td>[оранжевый]</td>\n",
       "      <td>None</td>\n",
       "      <td>[[0.04603629, 0.18839523, -0.09973055, -0.6636...</td>\n",
       "      <td>[-0.47045058, 0.67237014, 0.48984158, -0.54485...</td>\n",
       "      <td>{\"Номинальный ток, А\":[\"10\"],\"Цвет товара\":[\"о...</td>\n",
       "      <td>[-0.52616537, 0.5570387, 0.19487007, -0.363480...</td>\n",
       "      <td>{'Номинальный ток, А': ['10'], 'Цвет товара': ...</td>\n",
       "      <td>93.0</td>\n",
       "      <td>284.0</td>\n",
       "      <td>[0.04603629, 0.18839523, -0.09973055, -0.66368...</td>\n",
       "      <td>Сетевые фильтры, разветвители и удлинители</td>\n",
       "    </tr>\n",
       "    <tr>\n",
       "      <th>1</th>\n",
       "      <td>53565809</td>\n",
       "      <td>Магнитный кабель USB 2.0 A (m) - USB Type-C (m...</td>\n",
       "      <td>{\"1\": \"EPG\", \"2\": \"Электроника\", \"3\": \"Кабели ...</td>\n",
       "      <td>[красный]</td>\n",
       "      <td>[[0.26863545, -0.3130674, 0.29023397, 0.073978...</td>\n",
       "      <td>[[1.1471839, -0.665361, 0.7745614, 0.26716197,...</td>\n",
       "      <td>[-0.6575592, 0.6522429, 0.5426037, -0.54347897...</td>\n",
       "      <td>{\"Конструктивные особенности\":[\"Магнитная конс...</td>\n",
       "      <td>[-0.64783597, -0.1698648, 0.4192899, -0.225463...</td>\n",
       "      <td>{'Конструктивные особенности': ['Магнитная кон...</td>\n",
       "      <td>48.0</td>\n",
       "      <td>128.0</td>\n",
       "      <td>[1.1471839, -0.665361, 0.7745614, 0.26716197, ...</td>\n",
       "      <td>Кабели и переходники</td>\n",
       "    </tr>\n",
       "  </tbody>\n",
       "</table>\n",
       "</div>"
      ],
      "text/plain": [
       "   variantid                                               name  \\\n",
       "0   51195767  Удлинитель Партнер-Электро ПВС 2х0,75 ГОСТ,6A,...   \n",
       "1   53565809  Магнитный кабель USB 2.0 A (m) - USB Type-C (m...   \n",
       "\n",
       "                                          categories color_parsed  \\\n",
       "0  {\"1\": \"EPG\", \"2\": \"Электроника\", \"3\": \"Сетевые...  [оранжевый]   \n",
       "1  {\"1\": \"EPG\", \"2\": \"Электроника\", \"3\": \"Кабели ...    [красный]   \n",
       "\n",
       "                            pic_embeddings_resnet_v1  \\\n",
       "0                                               None   \n",
       "1  [[0.26863545, -0.3130674, 0.29023397, 0.073978...   \n",
       "\n",
       "                       main_pic_embeddings_resnet_v1  \\\n",
       "0  [[0.04603629, 0.18839523, -0.09973055, -0.6636...   \n",
       "1  [[1.1471839, -0.665361, 0.7745614, 0.26716197,...   \n",
       "\n",
       "                                        name_bert_64  \\\n",
       "0  [-0.47045058, 0.67237014, 0.48984158, -0.54485...   \n",
       "1  [-0.6575592, 0.6522429, 0.5426037, -0.54347897...   \n",
       "\n",
       "                   characteristic_attributes_mapping  \\\n",
       "0  {\"Номинальный ток, А\":[\"10\"],\"Цвет товара\":[\"о...   \n",
       "1  {\"Конструктивные особенности\":[\"Магнитная конс...   \n",
       "\n",
       "                                      name_embedding  \\\n",
       "0  [-0.52616537, 0.5570387, 0.19487007, -0.363480...   \n",
       "1  [-0.64783597, -0.1698648, 0.4192899, -0.225463...   \n",
       "\n",
       "                                      attributes_set  cat3   cat4  \\\n",
       "0  {'Номинальный ток, А': ['10'], 'Цвет товара': ...  93.0  284.0   \n",
       "1  {'Конструктивные особенности': ['Магнитная кон...  48.0  128.0   \n",
       "\n",
       "                   main_pic_embeddings_resnet_v1_new  \\\n",
       "0  [0.04603629, 0.18839523, -0.09973055, -0.66368...   \n",
       "1  [1.1471839, -0.665361, 0.7745614, 0.26716197, ...   \n",
       "\n",
       "                                 cat3_grouped  \n",
       "0  Сетевые фильтры, разветвители и удлинители  \n",
       "1                        Кабели и переходники  "
      ]
     },
     "execution_count": 15,
     "metadata": {},
     "output_type": "execute_result"
    }
   ],
   "source": [
    "%%time\n",
    "train_data = cat3_grouped(train_data, REST_train)\n",
    "\n",
    "cat_col = ['cat3', 'cat4'] # \"cat3_grouped_num\"\n",
    "encoder = OrdinalEncoder(handle_unknown='use_encoded_value', unknown_value=777)\n",
    "encoder.fit(train_data[cat_col])\n",
    "\n",
    "train_data[cat_col] = encoder.transform(train_data[cat_col])    \n",
    "\n",
    "train_data.head(2)"
   ]
  },
  {
   "cell_type": "markdown",
   "id": "7ad39f33",
   "metadata": {},
   "source": [
    "### Колонка цвет"
   ]
  },
  {
   "cell_type": "code",
   "execution_count": 16,
   "id": "690a0a02",
   "metadata": {},
   "outputs": [],
   "source": [
    "def color(df):\n",
    "       \n",
    "    df['black'] = df['color_parsed'].astype(str).apply(lambda x: 1 if ('черный' in x) or ('black') in x else 0)\n",
    "    df['silver'] = df['color_parsed'].astype(str).apply(lambda x: 1 if ('silver'in x) or ('серебристый' in x) or ('серебряный' in x) else 0)\n",
    "    df['rose'] = df['color_parsed'].astype(str).apply(lambda x: 1 if ('pink' in x) or ('розовый'  in x) else 0)\n",
    "    df['red'] = df['color_parsed'].astype(str).apply(lambda x: 1 if ('red' in x) or ('красный' in x) else 0)\n",
    "    df['white'] = df['color_parsed'].astype(str).apply(lambda x: 1 if ('white' in x) or ('белый' in x) else 0)\n",
    "    df['blue'] = df['color_parsed'].astype(str).apply(lambda x: 1 if ('blue' in x) or ('синий' in x) or ('голубой' in x)  else 0)\n",
    "    df['multicol'] = df['color_parsed'].astype(str).apply(lambda x: 1 if ('разноцветный' in x) or ('цветной' in x) or ('многоцветный' in x) else 0)\n",
    "    df['green'] = df['color_parsed'].astype(str).apply(lambda x: 1 if ('green' in x) or ('зеленый' in x) else 0)\n",
    "    df['yellow'] = df['color_parsed'].astype(str).apply(lambda x: 1 if ('yellow' in x) or ('желтый' in x) else 0)\n",
    "    df['gold'] = df['color_parsed'].astype(str).apply(lambda x: 1 if ('gold' in x) or ('золотой' in x) else 0)\n",
    "    df['purple'] = df['color_parsed'].astype(str).apply(lambda x: 1 if ('purple' in x) or ('пурпурный' in x)  or ('сиреневый' in x) or ('фиолетовый' in x) else 0)\n",
    "    df['orange'] = df['color_parsed'].astype(str).apply(lambda x: 1 if 'оранжевый' in x else 0)\n",
    "    df['brown'] = df['color_parsed'].astype(str).apply(lambda x: 1 if ('коричневый' in x) or ('brown' in x) or ('темно-коричневый' in x) else 0)\n",
    "    df['grey'] = df['color_parsed'].astype(str).apply(lambda x: 1 if ('серый' in x) or ('grey' in x) or ('темно-серый' in x) else 0)\n",
    "    \n",
    "    name_color = ['black', \n",
    "                  'silver', \n",
    "                  'rose', \n",
    "                  'red', \n",
    "                  'white', \n",
    "                  'blue', \n",
    "                  'multicol', \n",
    "                  'green', \n",
    "                  'yellow', \n",
    "                  'gold', \n",
    "                  'purple', \n",
    "                  'orange', \n",
    "                  'brown', \n",
    "                  'grey'] \n",
    "    \n",
    "    df['clr_vect'] = df[name_color].values.tolist()\n",
    "    df = df.drop(name_color, axis=1)\n",
    "    df = df.drop(['color_parsed'], axis=1)\n",
    "     \n",
    "    return df"
   ]
  },
  {
   "cell_type": "code",
   "execution_count": 17,
   "id": "c3b5ead7",
   "metadata": {},
   "outputs": [
    {
     "name": "stdout",
     "output_type": "stream",
     "text": [
      "CPU times: total: 1min 50s\n",
      "Wall time: 1min 50s\n"
     ]
    }
   ],
   "source": [
    "%%time\n",
    "train_data = color(train_data)"
   ]
  },
  {
   "cell_type": "markdown",
   "id": "191b6f66",
   "metadata": {},
   "source": [
    "### Объединение таблиц"
   ]
  },
  {
   "cell_type": "code",
   "execution_count": 18,
   "id": "791e482f",
   "metadata": {},
   "outputs": [],
   "source": [
    "def merge_f(pairs, data): \n",
    "    features = pairs.merge(data.add_suffix('1'), on=\"variantid1\").merge(data.add_suffix('2'), on=\"variantid2\")\n",
    "    features.rename(columns={'cat31': 'cat3', 'cat3_grouped1': 'cat3_grouped'}, inplace=True)\n",
    "    return features"
   ]
  },
  {
   "cell_type": "code",
   "execution_count": 19,
   "id": "5605a1b7",
   "metadata": {},
   "outputs": [
    {
     "name": "stdout",
     "output_type": "stream",
     "text": [
      "CPU times: total: 2.91 s\n",
      "Wall time: 2.91 s\n"
     ]
    },
    {
     "data": {
      "text/html": [
       "<div>\n",
       "<style scoped>\n",
       "    .dataframe tbody tr th:only-of-type {\n",
       "        vertical-align: middle;\n",
       "    }\n",
       "\n",
       "    .dataframe tbody tr th {\n",
       "        vertical-align: top;\n",
       "    }\n",
       "\n",
       "    .dataframe thead th {\n",
       "        text-align: right;\n",
       "    }\n",
       "</style>\n",
       "<table border=\"1\" class=\"dataframe\">\n",
       "  <thead>\n",
       "    <tr style=\"text-align: right;\">\n",
       "      <th></th>\n",
       "      <th>target</th>\n",
       "      <th>variantid1</th>\n",
       "      <th>variantid2</th>\n",
       "      <th>name1</th>\n",
       "      <th>categories1</th>\n",
       "      <th>pic_embeddings_resnet_v11</th>\n",
       "      <th>main_pic_embeddings_resnet_v11</th>\n",
       "      <th>name_bert_641</th>\n",
       "      <th>characteristic_attributes_mapping1</th>\n",
       "      <th>name_embedding1</th>\n",
       "      <th>attributes_set1</th>\n",
       "      <th>cat3</th>\n",
       "      <th>cat41</th>\n",
       "      <th>main_pic_embeddings_resnet_v1_new1</th>\n",
       "      <th>cat3_grouped</th>\n",
       "      <th>clr_vect1</th>\n",
       "      <th>name2</th>\n",
       "      <th>categories2</th>\n",
       "      <th>pic_embeddings_resnet_v12</th>\n",
       "      <th>main_pic_embeddings_resnet_v12</th>\n",
       "      <th>name_bert_642</th>\n",
       "      <th>characteristic_attributes_mapping2</th>\n",
       "      <th>name_embedding2</th>\n",
       "      <th>attributes_set2</th>\n",
       "      <th>cat32</th>\n",
       "      <th>cat42</th>\n",
       "      <th>main_pic_embeddings_resnet_v1_new2</th>\n",
       "      <th>cat3_grouped2</th>\n",
       "      <th>clr_vect2</th>\n",
       "    </tr>\n",
       "  </thead>\n",
       "  <tbody>\n",
       "    <tr>\n",
       "      <th>0</th>\n",
       "      <td>0.0</td>\n",
       "      <td>51197862</td>\n",
       "      <td>51198054</td>\n",
       "      <td>Удлинитель TDM Electric Люкс УЛ05В 5 м (SQ1303...</td>\n",
       "      <td>{\"1\": \"EPG\", \"2\": \"Электроника\", \"3\": \"Сетевые...</td>\n",
       "      <td>None</td>\n",
       "      <td>[[-0.4304909, -0.49474272, -0.46439183, -0.060...</td>\n",
       "      <td>[-0.5104684, 0.56158644, 0.58873796, -0.529718...</td>\n",
       "      <td>{\"Число жил\":[\"3\"],\"Макс. нагрузка, Вт\":[\"3500...</td>\n",
       "      <td>[-0.4590829, -0.11046589, 0.11674632, -0.17761...</td>\n",
       "      <td>{'Число жил': ['3'], 'Макс. нагрузка, Вт': ['3...</td>\n",
       "      <td>93.0</td>\n",
       "      <td>284.0</td>\n",
       "      <td>[-0.4304909, -0.49474272, -0.46439183, -0.0609...</td>\n",
       "      <td>Сетевые фильтры, разветвители и удлинители</td>\n",
       "      <td>[0, 0, 0, 0, 1, 0, 0, 0, 0, 0, 0, 0, 0, 0]</td>\n",
       "      <td>Удлинитель TDM Electric Люкс УЛ05В 1.5 м (SQ13...</td>\n",
       "      <td>{\"1\": \"EPG\", \"2\": \"Электроника\", \"3\": \"Сетевые...</td>\n",
       "      <td>None</td>\n",
       "      <td>[[-0.42941108, -0.5129398, -0.4753536, -0.0677...</td>\n",
       "      <td>[-0.455473, 0.58157134, 0.5870387, -0.5325003,...</td>\n",
       "      <td>{\"Электробезопасность\":[\"Заземление\"],\"Длина к...</td>\n",
       "      <td>[-0.55869406, -0.13428268, 0.0906083, -0.18947...</td>\n",
       "      <td>{'Электробезопасность': ['Заземление'], 'Длина...</td>\n",
       "      <td>93.0</td>\n",
       "      <td>284.0</td>\n",
       "      <td>[-0.42941108, -0.5129398, -0.4753536, -0.06778...</td>\n",
       "      <td>Сетевые фильтры, разветвители и удлинители</td>\n",
       "      <td>[0, 0, 0, 0, 1, 0, 0, 0, 0, 0, 0, 0, 0, 0]</td>\n",
       "    </tr>\n",
       "  </tbody>\n",
       "</table>\n",
       "</div>"
      ],
      "text/plain": [
       "   target  variantid1  variantid2  \\\n",
       "0     0.0    51197862    51198054   \n",
       "\n",
       "                                               name1  \\\n",
       "0  Удлинитель TDM Electric Люкс УЛ05В 5 м (SQ1303...   \n",
       "\n",
       "                                         categories1  \\\n",
       "0  {\"1\": \"EPG\", \"2\": \"Электроника\", \"3\": \"Сетевые...   \n",
       "\n",
       "  pic_embeddings_resnet_v11  \\\n",
       "0                      None   \n",
       "\n",
       "                      main_pic_embeddings_resnet_v11  \\\n",
       "0  [[-0.4304909, -0.49474272, -0.46439183, -0.060...   \n",
       "\n",
       "                                       name_bert_641  \\\n",
       "0  [-0.5104684, 0.56158644, 0.58873796, -0.529718...   \n",
       "\n",
       "                  characteristic_attributes_mapping1  \\\n",
       "0  {\"Число жил\":[\"3\"],\"Макс. нагрузка, Вт\":[\"3500...   \n",
       "\n",
       "                                     name_embedding1  \\\n",
       "0  [-0.4590829, -0.11046589, 0.11674632, -0.17761...   \n",
       "\n",
       "                                     attributes_set1  cat3  cat41  \\\n",
       "0  {'Число жил': ['3'], 'Макс. нагрузка, Вт': ['3...  93.0  284.0   \n",
       "\n",
       "                  main_pic_embeddings_resnet_v1_new1  \\\n",
       "0  [-0.4304909, -0.49474272, -0.46439183, -0.0609...   \n",
       "\n",
       "                                 cat3_grouped  \\\n",
       "0  Сетевые фильтры, разветвители и удлинители   \n",
       "\n",
       "                                    clr_vect1  \\\n",
       "0  [0, 0, 0, 0, 1, 0, 0, 0, 0, 0, 0, 0, 0, 0]   \n",
       "\n",
       "                                               name2  \\\n",
       "0  Удлинитель TDM Electric Люкс УЛ05В 1.5 м (SQ13...   \n",
       "\n",
       "                                         categories2  \\\n",
       "0  {\"1\": \"EPG\", \"2\": \"Электроника\", \"3\": \"Сетевые...   \n",
       "\n",
       "  pic_embeddings_resnet_v12  \\\n",
       "0                      None   \n",
       "\n",
       "                      main_pic_embeddings_resnet_v12  \\\n",
       "0  [[-0.42941108, -0.5129398, -0.4753536, -0.0677...   \n",
       "\n",
       "                                       name_bert_642  \\\n",
       "0  [-0.455473, 0.58157134, 0.5870387, -0.5325003,...   \n",
       "\n",
       "                  characteristic_attributes_mapping2  \\\n",
       "0  {\"Электробезопасность\":[\"Заземление\"],\"Длина к...   \n",
       "\n",
       "                                     name_embedding2  \\\n",
       "0  [-0.55869406, -0.13428268, 0.0906083, -0.18947...   \n",
       "\n",
       "                                     attributes_set2  cat32  cat42  \\\n",
       "0  {'Электробезопасность': ['Заземление'], 'Длина...   93.0  284.0   \n",
       "\n",
       "                  main_pic_embeddings_resnet_v1_new2  \\\n",
       "0  [-0.42941108, -0.5129398, -0.4753536, -0.06778...   \n",
       "\n",
       "                                cat3_grouped2  \\\n",
       "0  Сетевые фильтры, разветвители и удлинители   \n",
       "\n",
       "                                    clr_vect2  \n",
       "0  [0, 0, 0, 0, 1, 0, 0, 0, 0, 0, 0, 0, 0, 0]  "
      ]
     },
     "execution_count": 19,
     "metadata": {},
     "output_type": "execute_result"
    }
   ],
   "source": [
    "%%time\n",
    "features = merge_f(train_pairs, train_data)\n",
    "\n",
    "features.head(1)"
   ]
  },
  {
   "cell_type": "markdown",
   "id": "140c5264",
   "metadata": {},
   "source": [
    "### Похожесть атрибутов"
   ]
  },
  {
   "cell_type": "code",
   "execution_count": 20,
   "id": "682d41b1",
   "metadata": {},
   "outputs": [],
   "source": [
    "def calculate_statistical_features(embedding1, embedding2):\n",
    "    \n",
    "    # Вычисляем разность между двумя эмбеддингами\n",
    "    diff = embedding1 - embedding2\n",
    "    \n",
    "    # Вычисляем среднее значение разности\n",
    "    mean = np.mean(diff)\n",
    "    \n",
    "    # Вычисляем медиану разности\n",
    "    median = np.median(diff)\n",
    "    \n",
    "    # Вычисляем стандартное отклонение разности\n",
    "    std = np.std(diff)\n",
    "    \n",
    "    # Возвращаем вычисленные значения\n",
    "    return mean, median, std"
   ]
  },
  {
   "cell_type": "code",
   "execution_count": 21,
   "id": "62bbc133",
   "metadata": {},
   "outputs": [
    {
     "name": "stdout",
     "output_type": "stream",
     "text": [
      "CPU times: total: 2min 7s\n",
      "Wall time: 2min 7s\n"
     ]
    }
   ],
   "source": [
    "%%time\n",
    "# Добавляем новые столбцы в датафрейм features с вычисленными статистическими характеристиками разности \n",
    "# между эмбеддингами названий товаров\n",
    "features[['name_mean_diff', 'name_median_diff', 'name_std_diff']] = features.apply(\n",
    "    lambda x: calculate_statistical_features(\n",
    "        x['name_embedding1'], x['name_embedding2']), axis=1, result_type='expand'\n",
    ")\n",
    "\n",
    "# Добавляем новые столбцы в датафрейм features с вычисленными статистическими характеристиками разности \n",
    "# между эмбеддингами названий товаров от ozon\n",
    "features[['ozon_name_mean_diff', 'ozon_name_median_diff', 'ozon_name_std_diff']] = features.apply(\n",
    "    lambda x: calculate_statistical_features(\n",
    "        x['name_bert_641'], x['name_bert_642']), axis=1, result_type='expand'\n",
    ")\n",
    "\n",
    "# Добавляем новые столбцы в датафрейм features с вычисленными статистическими характеристиками разности \n",
    "# между эмбеддингами картинок товаров\n",
    "features[['main_pic_mean_diff', 'main_pic_median_diff', 'main_pic_std_diff']] = features.apply(\n",
    "    lambda x: calculate_statistical_features(\n",
    "        x['main_pic_embeddings_resnet_v1_new1'], x['main_pic_embeddings_resnet_v1_new2']), axis=1, result_type='expand'\n",
    ")"
   ]
  },
  {
   "cell_type": "code",
   "execution_count": 22,
   "id": "ac508ab8",
   "metadata": {},
   "outputs": [],
   "source": [
    "def calculate_jaccard_similarity(text1, text2):\n",
    "    # Заменяем значения None на пустые строки\n",
    "    text1 = '' if text1 is None else text1\n",
    "    text2 = '' if text2 is None else text2\n",
    "    \n",
    "    # Заменяем значения типа float на пустые строки\n",
    "    text1 = '' if isinstance(text1, float) else text1\n",
    "    text2 = '' if isinstance(text2, float) else text2\n",
    "    \n",
    "    # Инициализируем векторизатор с бинарными значениями\n",
    "    vectorizer = CountVectorizer(binary=True)\n",
    "\n",
    "    try:\n",
    "        # Преобразуем тексты в векторы\n",
    "        X = vectorizer.fit_transform([text1, text2])\n",
    "    except ValueError:\n",
    "        # Если после предобработки текстов не осталось слов для анализа,\n",
    "        # возвращаем значение 0\n",
    "        return 0\n",
    "    \n",
    "    # Преобразуем тексты в векторы\n",
    "    X = vectorizer.fit_transform([text1, text2])\n",
    "    \n",
    "    # Вычисляем пересечение между векторами\n",
    "    intersection = X[0].multiply(X[1]).sum()\n",
    "    \n",
    "    # Вычисляем объединение между векторами\n",
    "    union = X.sum() - intersection\n",
    "    \n",
    "    # Возвращаем коэффициент Жаккара\n",
    "    return intersection / union"
   ]
  },
  {
   "cell_type": "code",
   "execution_count": 23,
   "id": "7294c168",
   "metadata": {},
   "outputs": [
    {
     "name": "stdout",
     "output_type": "stream",
     "text": [
      "CPU times: total: 17min 53s\n",
      "Wall time: 17min 53s\n"
     ]
    }
   ],
   "source": [
    "%%time\n",
    "# Добавляем новый столбец в датафрейм features с вычисленным коэффициентом Жаккара между названиями товаров\n",
    "features['name_jaccard_similarity'] = features.apply(\n",
    "    lambda x: calculate_jaccard_similarity(x['name1'], x['name2']), axis=1\n",
    ")\n",
    "\n",
    "# Добавляем новый столбец в датафрейм features с вычисленным коэффициентом Жаккара между атрибутами товаров\n",
    "features['attributes_jaccard_similarity'] = features.apply(\n",
    "    lambda x: calculate_jaccard_similarity(x['characteristic_attributes_mapping1'], x['characteristic_attributes_mapping2']), axis=1\n",
    ")"
   ]
  },
  {
   "cell_type": "code",
   "execution_count": 24,
   "id": "339d25de",
   "metadata": {},
   "outputs": [],
   "source": [
    "def is_number(value):\n",
    "    try:\n",
    "        float(value)\n",
    "        return True\n",
    "    except ValueError:\n",
    "        return False\n",
    "\n",
    "def compare_attr(set1, set2):\n",
    "    keys1 = set(set1.keys())\n",
    "    keys2 = set(set2.keys())\n",
    "    \n",
    "    # Отношение общих ключей к сумме ключей\n",
    "    ratio = len(keys2 & keys1) / (len(keys2) + len(keys1))\n",
    "    \n",
    "    # Количество одинаковых значений в общих ключах\n",
    "    d = 0\n",
    "    for i in keys2 & keys1:\n",
    "        if set1[i][0] == set2[i][0]:\n",
    "            d += 1\n",
    "    \n",
    "    # Количество общих ключей\n",
    "    common_keys = len(keys1 & keys2)\n",
    "    \n",
    "    # Количество ключей с одинаковыми значениями\n",
    "    same_value_keys = sum(1 for key in keys1 & keys2 if set1[key] == set2[key])\n",
    "    \n",
    "    # Среднее значение числовых характеристик для первого товара\n",
    "    mean_value1 = np.mean([float(value[0]) for key, value in set1.items() if is_number(value[0])])\n",
    "    \n",
    "    # Среднее значение числовых характеристик для второго товара\n",
    "    mean_value2 = np.mean([float(value[0]) for key, value in set2.items() if is_number(value[0])])\n",
    "    \n",
    "    return ratio, d, common_keys, same_value_keys, mean_value1, mean_value2"
   ]
  },
  {
   "cell_type": "code",
   "execution_count": 25,
   "id": "ae68b743",
   "metadata": {},
   "outputs": [
    {
     "name": "stdout",
     "output_type": "stream",
     "text": [
      "CPU times: total: 1min 30s\n",
      "Wall time: 1min 30s\n"
     ]
    }
   ],
   "source": [
    "%%time\n",
    "features[['attr_dist', \n",
    "          'attr_acc', \n",
    "          'common_keys', \n",
    "          'same_value_keys', \n",
    "          'mean_value1', \n",
    "          'mean_value2']] = features[['attributes_set1', 'attributes_set2']].apply(\n",
    "    lambda x: pd.Series(compare_attr(*x)), axis=1\n",
    ")"
   ]
  },
  {
   "cell_type": "code",
   "execution_count": 26,
   "id": "704c0aa2",
   "metadata": {},
   "outputs": [],
   "source": [
    "def manhattan_distance(emb1, emb2):\n",
    "    \"\"\"\n",
    "    Функция для расчета манхэттенского расстояния между двумя одномерными эмбеддингами в строке датафрейма\n",
    "    :return: манхэттенское расстояние между эмбеддингами в строке\n",
    "    \"\"\"\n",
    "    return np.abs(emb1 - emb2)"
   ]
  },
  {
   "cell_type": "code",
   "execution_count": 27,
   "id": "dc0300d8",
   "metadata": {},
   "outputs": [],
   "source": [
    "# Расчет манхэттенского расстояния между признаками name_bert_641 и name_bert_642\n",
    "features['ozon_bert_manhattan_distance'] = features.apply(\n",
    "    lambda x: manhattan_distance(x['name_bert_641'], x['name_bert_642']), axis=1\n",
    ")\n",
    "\n",
    "# Расчет манхэттенского расстояния между признаками main_pic_embeddings_resnet_v1_new1 и main_pic_embeddings_resnet_v1_new2\n",
    "features['main_pic_manhattan_distance'] = features.apply(\n",
    "    lambda x: manhattan_distance(x['main_pic_embeddings_resnet_v1_new1'], x['main_pic_embeddings_resnet_v1_new2']), axis=1\n",
    ")\n",
    "\n",
    "# Расчет манхэттенского расстояния между признаками name_embedding1 и name_embedding2\n",
    "features['name_emb_manhattan_distance'] = features.apply(\n",
    "    lambda x: manhattan_distance(x['name_embedding1'], x['name_embedding2']), axis=1\n",
    ")"
   ]
  },
  {
   "cell_type": "code",
   "execution_count": 28,
   "id": "7e092566",
   "metadata": {},
   "outputs": [],
   "source": [
    "def calculate_statistics(arr):\n",
    "    \"\"\"\n",
    "    Функция для расчета статистических мер для массива\n",
    "    :param arr: массив значений\n",
    "    :return: кортеж из среднего значения, медианы и стандартного отклонения\n",
    "    \"\"\"\n",
    "    mean = np.mean(arr)\n",
    "    median = np.median(arr)\n",
    "    std = np.std(arr)\n",
    "    \n",
    "    return mean, median, std"
   ]
  },
  {
   "cell_type": "code",
   "execution_count": 29,
   "id": "98d0d23c",
   "metadata": {},
   "outputs": [
    {
     "name": "stdout",
     "output_type": "stream",
     "text": [
      "CPU times: total: 4min 2s\n",
      "Wall time: 4min 2s\n"
     ]
    }
   ],
   "source": [
    "%%time\n",
    "# расчитываем среднее, медиану и стд для ozon_bert_manhattan_distance\n",
    "features[[\"mean_ozon_bert_manhattan_distance\", \n",
    "          \"median_ozon_bert_manhattan_distance\", \n",
    "          \"std_ozon_bert_manhattan_distance\"]] = (features['ozon_bert_manhattan_distance'].apply(\n",
    "        lambda x: pd.Series(calculate_statistics(x))))\n",
    "\n",
    "# расчитываем среднее, медиану и стд для main_pic_manhattan_distance\n",
    "features[[\"mean_main_pic_manhattan_distance\", \n",
    "          \"median_main_pic_manhattan_distance\", \n",
    "          \"std_main_pic_manhattan_distance\"]] = (features['main_pic_manhattan_distance'].apply(\n",
    "        lambda x: pd.Series(calculate_statistics(x))))\n",
    "\n",
    "# расчитываем среднее, медиану и стд для name_emb_manhattan_distance\n",
    "features[[\"mean_name_emb_manhattan_distance\", \n",
    "          \"median_name_emb_manhattan_distance\", \n",
    "          \"std_name_emb_manhattan_distance\"]] = (features['name_emb_manhattan_distance'].apply(\n",
    "        lambda x: pd.Series(calculate_statistics(x))))"
   ]
  },
  {
   "cell_type": "code",
   "execution_count": 30,
   "id": "ffd28a1f",
   "metadata": {},
   "outputs": [],
   "source": [
    "from nltk.metrics.distance import edit_distance\n",
    "\n",
    "def levenshtein_distance(text1, text2):\n",
    "    \"\"\"\n",
    "    Функция для расчета расстояния Левенштейна между двумя текстами\n",
    "    :param text1: первый текст\n",
    "    :param text2: второй текст\n",
    "    :return: расстояние Левенштейна между text1 и text2\n",
    "    \"\"\"\n",
    "    return edit_distance(text1, text2)"
   ]
  },
  {
   "cell_type": "code",
   "execution_count": 31,
   "id": "d02b24ed",
   "metadata": {},
   "outputs": [
    {
     "name": "stderr",
     "output_type": "stream",
     "text": [
      "100%|██████████| 306540/306540 [54:52<00:00, 93.10it/s]  "
     ]
    },
    {
     "name": "stdout",
     "output_type": "stream",
     "text": [
      "CPU times: total: 54min 54s\n",
      "Wall time: 54min 53s\n"
     ]
    },
    {
     "name": "stderr",
     "output_type": "stream",
     "text": [
      "\n"
     ]
    }
   ],
   "source": [
    "%%time\n",
    "# расчитаем расстояния Левенштейна для name1 и name2\n",
    "features[[\"name_levenshtein_distance\"]] = (\n",
    "    features[[\"name1\", \"name2\"]].progress_apply(\n",
    "        lambda x: pd.Series(levenshtein_distance(*x)), axis=1))"
   ]
  },
  {
   "cell_type": "code",
   "execution_count": 32,
   "id": "5b3f94b1",
   "metadata": {},
   "outputs": [
    {
     "data": {
      "text/plain": [
       "target                                     0\n",
       "variantid1                                 0\n",
       "variantid2                                 0\n",
       "name1                                      0\n",
       "categories1                                0\n",
       "pic_embeddings_resnet_v11              91004\n",
       "main_pic_embeddings_resnet_v11             0\n",
       "name_bert_641                              0\n",
       "characteristic_attributes_mapping1        17\n",
       "name_embedding1                            0\n",
       "attributes_set1                            0\n",
       "cat3                                       0\n",
       "cat41                                      0\n",
       "main_pic_embeddings_resnet_v1_new1         0\n",
       "cat3_grouped                               0\n",
       "clr_vect1                                  0\n",
       "name2                                      0\n",
       "categories2                                0\n",
       "pic_embeddings_resnet_v12              95047\n",
       "main_pic_embeddings_resnet_v12             0\n",
       "name_bert_642                              0\n",
       "characteristic_attributes_mapping2        13\n",
       "name_embedding2                            0\n",
       "attributes_set2                            0\n",
       "cat32                                      0\n",
       "cat42                                      0\n",
       "main_pic_embeddings_resnet_v1_new2         0\n",
       "cat3_grouped2                              0\n",
       "clr_vect2                                  0\n",
       "name_mean_diff                             0\n",
       "name_median_diff                           0\n",
       "name_std_diff                              0\n",
       "ozon_name_mean_diff                        0\n",
       "ozon_name_median_diff                      0\n",
       "ozon_name_std_diff                         0\n",
       "main_pic_mean_diff                         0\n",
       "main_pic_median_diff                       0\n",
       "main_pic_std_diff                          0\n",
       "name_jaccard_similarity                    0\n",
       "attributes_jaccard_similarity              0\n",
       "attr_dist                                  0\n",
       "attr_acc                                   0\n",
       "common_keys                                0\n",
       "same_value_keys                            0\n",
       "mean_value1                            55608\n",
       "mean_value2                            61134\n",
       "ozon_bert_manhattan_distance               0\n",
       "main_pic_manhattan_distance                0\n",
       "name_emb_manhattan_distance                0\n",
       "mean_ozon_bert_manhattan_distance          0\n",
       "median_ozon_bert_manhattan_distance        0\n",
       "std_ozon_bert_manhattan_distance           0\n",
       "mean_main_pic_manhattan_distance           0\n",
       "median_main_pic_manhattan_distance         0\n",
       "std_main_pic_manhattan_distance            0\n",
       "mean_name_emb_manhattan_distance           0\n",
       "median_name_emb_manhattan_distance         0\n",
       "std_name_emb_manhattan_distance            0\n",
       "name_levenshtein_distance                  0\n",
       "dtype: int64"
      ]
     },
     "execution_count": 32,
     "metadata": {},
     "output_type": "execute_result"
    }
   ],
   "source": [
    "features.isna().sum()"
   ]
  },
  {
   "cell_type": "code",
   "execution_count": 33,
   "id": "4b27b6a2",
   "metadata": {},
   "outputs": [],
   "source": [
    "features['mean_value1'] = features['mean_value1'].fillna(0)\n",
    "features['mean_value2'] = features['mean_value2'].fillna(0)"
   ]
  },
  {
   "cell_type": "markdown",
   "id": "91b415dc",
   "metadata": {},
   "source": [
    "### Введем расстояния "
   ]
  },
  {
   "cell_type": "code",
   "execution_count": 34,
   "id": "14cc223c",
   "metadata": {},
   "outputs": [],
   "source": [
    "def get_pic_features(main_pic_embeddings_1,\n",
    "                     main_pic_embeddings_2,\n",
    "                     percentiles: List[int]):\n",
    "    \"\"\"Calculate distances percentiles for \n",
    "    pairwise pic distances. Percentiles are useful \n",
    "    when product has several pictures.\n",
    "    \"\"\"\n",
    "    \n",
    "    if main_pic_embeddings_1 is not None and main_pic_embeddings_2 is not None:\n",
    "        main_pic_embeddings_1 = np.array([x for x in main_pic_embeddings_1])\n",
    "        main_pic_embeddings_2 = np.array([x for x in main_pic_embeddings_2])\n",
    "        \n",
    "        dist_m = pairwise_distances(\n",
    "            main_pic_embeddings_1, main_pic_embeddings_2\n",
    "        )\n",
    "    else:\n",
    "        dist_m = np.array([[-1]])\n",
    "\n",
    "    pair_features = []\n",
    "    pair_features += np.percentile(dist_m, percentiles).tolist()\n",
    "\n",
    "    return pair_features\n",
    "\n",
    "\n",
    "def text_dense_distances(ozon_embedding, comp_embedding):\n",
    "    \"\"\"Calculate Euclidean and Cosine distances between\n",
    "    ozon_embedding and comp_embedding.\n",
    "    \"\"\"\n",
    "    pair_features = []\n",
    "    if ozon_embedding is None or comp_embedding is None:\n",
    "        pair_features = [-1, -1]\n",
    "    \n",
    "    elif len(ozon_embedding) == 0 or len(comp_embedding) == 0:\n",
    "        pair_features = [-1, -1]\n",
    "    \n",
    "    else:\n",
    "        pair_features.append(\n",
    "            euclidean(ozon_embedding, comp_embedding)\n",
    "        )\n",
    "        cosine_value = cosine(ozon_embedding, comp_embedding)\n",
    "        \n",
    "        pair_features.append(cosine_value)\n",
    "\n",
    "    return pair_features"
   ]
  },
  {
   "cell_type": "code",
   "execution_count": 35,
   "id": "eee71034",
   "metadata": {},
   "outputs": [
    {
     "name": "stdout",
     "output_type": "stream",
     "text": [
      "<class 'pandas.core.frame.DataFrame'>\n",
      "Int64Index: 306540 entries, 0 to 306539\n",
      "Data columns (total 59 columns):\n",
      " #   Column                               Non-Null Count   Dtype  \n",
      "---  ------                               --------------   -----  \n",
      " 0   target                               306540 non-null  float64\n",
      " 1   variantid1                           306540 non-null  int64  \n",
      " 2   variantid2                           306540 non-null  int64  \n",
      " 3   name1                                306540 non-null  object \n",
      " 4   categories1                          306540 non-null  object \n",
      " 5   pic_embeddings_resnet_v11            215536 non-null  object \n",
      " 6   main_pic_embeddings_resnet_v11       306540 non-null  object \n",
      " 7   name_bert_641                        306540 non-null  object \n",
      " 8   characteristic_attributes_mapping1   306523 non-null  object \n",
      " 9   name_embedding1                      306540 non-null  object \n",
      " 10  attributes_set1                      306540 non-null  object \n",
      " 11  cat3                                 306540 non-null  float64\n",
      " 12  cat41                                306540 non-null  float64\n",
      " 13  main_pic_embeddings_resnet_v1_new1   306540 non-null  object \n",
      " 14  cat3_grouped                         306540 non-null  object \n",
      " 15  clr_vect1                            306540 non-null  object \n",
      " 16  name2                                306540 non-null  object \n",
      " 17  categories2                          306540 non-null  object \n",
      " 18  pic_embeddings_resnet_v12            211493 non-null  object \n",
      " 19  main_pic_embeddings_resnet_v12       306540 non-null  object \n",
      " 20  name_bert_642                        306540 non-null  object \n",
      " 21  characteristic_attributes_mapping2   306527 non-null  object \n",
      " 22  name_embedding2                      306540 non-null  object \n",
      " 23  attributes_set2                      306540 non-null  object \n",
      " 24  cat32                                306540 non-null  float64\n",
      " 25  cat42                                306540 non-null  float64\n",
      " 26  main_pic_embeddings_resnet_v1_new2   306540 non-null  object \n",
      " 27  cat3_grouped2                        306540 non-null  object \n",
      " 28  clr_vect2                            306540 non-null  object \n",
      " 29  name_mean_diff                       306540 non-null  float32\n",
      " 30  name_median_diff                     306540 non-null  float32\n",
      " 31  name_std_diff                        306540 non-null  float32\n",
      " 32  ozon_name_mean_diff                  306540 non-null  float32\n",
      " 33  ozon_name_median_diff                306540 non-null  float32\n",
      " 34  ozon_name_std_diff                   306540 non-null  float32\n",
      " 35  main_pic_mean_diff                   306540 non-null  float32\n",
      " 36  main_pic_median_diff                 306540 non-null  float32\n",
      " 37  main_pic_std_diff                    306540 non-null  float32\n",
      " 38  name_jaccard_similarity              306540 non-null  float64\n",
      " 39  attributes_jaccard_similarity        306540 non-null  float64\n",
      " 40  attr_dist                            306540 non-null  float64\n",
      " 41  attr_acc                             306540 non-null  float64\n",
      " 42  common_keys                          306540 non-null  float64\n",
      " 43  same_value_keys                      306540 non-null  float64\n",
      " 44  mean_value1                          306540 non-null  float64\n",
      " 45  mean_value2                          306540 non-null  float64\n",
      " 46  ozon_bert_manhattan_distance         306540 non-null  object \n",
      " 47  main_pic_manhattan_distance          306540 non-null  object \n",
      " 48  name_emb_manhattan_distance          306540 non-null  object \n",
      " 49  mean_ozon_bert_manhattan_distance    306540 non-null  float32\n",
      " 50  median_ozon_bert_manhattan_distance  306540 non-null  float32\n",
      " 51  std_ozon_bert_manhattan_distance     306540 non-null  float32\n",
      " 52  mean_main_pic_manhattan_distance     306540 non-null  float32\n",
      " 53  median_main_pic_manhattan_distance   306540 non-null  float32\n",
      " 54  std_main_pic_manhattan_distance      306540 non-null  float32\n",
      " 55  mean_name_emb_manhattan_distance     306540 non-null  float32\n",
      " 56  median_name_emb_manhattan_distance   306540 non-null  float32\n",
      " 57  std_name_emb_manhattan_distance      306540 non-null  float32\n",
      " 58  name_levenshtein_distance            306540 non-null  int64  \n",
      "dtypes: float32(18), float64(13), int64(3), object(25)\n",
      "memory usage: 119.3+ MB\n"
     ]
    }
   ],
   "source": [
    "features.info()"
   ]
  },
  {
   "cell_type": "code",
   "execution_count": 36,
   "id": "b4c1f403",
   "metadata": {},
   "outputs": [
    {
     "name": "stdout",
     "output_type": "stream",
     "text": [
      "CPU times: total: 11min 35s\n",
      "Wall time: 11min 35s\n"
     ]
    }
   ],
   "source": [
    "%%time\n",
    "get_pic_features_func = partial(get_pic_features, percentiles=[0, 25, 50])\n",
    "\n",
    "features[[\"pic_dist_0_perc\", \"pic_dist_25_perc\", \"pic_dist_50_perc\"]] = (\n",
    "    features[[\"pic_embeddings_resnet_v11\", \"pic_embeddings_resnet_v12\"]].apply(\n",
    "        lambda x: pd.Series(get_pic_features_func(*x)), axis=1))\n",
    "\n",
    "features[[\"main_pic_dist_0_perc\", \"main_pic_dist_25_perc\", \"main_pic_dist_50_perc\"]] = (\n",
    "    features[[\"main_pic_embeddings_resnet_v11\", \"main_pic_embeddings_resnet_v12\"]].apply(\n",
    "        lambda x: pd.Series(get_pic_features_func(*x)), axis=1))\n",
    "\n",
    "features[[\"euclidean_main_pic_dist\", \"cosine_main_pic_dist\"]] = (\n",
    "    features[[\"main_pic_embeddings_resnet_v1_new1\", \"main_pic_embeddings_resnet_v1_new2\"]].apply(\n",
    "        lambda x: pd.Series(text_dense_distances(*x)), axis=1))\n",
    "\n",
    "features[[\"euclidean_color_dist\", \"cosine_color_dist\"]] = (\n",
    "    features[[\"clr_vect1\", \"clr_vect2\"]].apply(\n",
    "        lambda x: pd.Series(text_dense_distances(*x)), axis=1))\n",
    "\n",
    "features[[\"euclidean_name_bert_dist\", \"cosine_name_bert_dist\"]] = (\n",
    "    features[[\"name_bert_641\", \"name_bert_642\"]].apply(\n",
    "        lambda x: pd.Series(text_dense_distances(*x)), axis=1))\n",
    "\n",
    "features[[\"euclidean_name_embedding_dist\", \"cosine_name_embedding_dist\"]] = (\n",
    "    features[[\"name_embedding1\", \"name_embedding2\"]].apply(\n",
    "        lambda x: pd.Series(text_dense_distances(*x)), axis=1))\n",
    "\n",
    "\n",
    "numeric_pic = [\"pic_dist_0_perc\", \n",
    "               \"pic_dist_25_perc\", \n",
    "               \"pic_dist_50_perc\", \n",
    "               'main_pic_dist_0_perc', \n",
    "               'main_pic_dist_25_perc', \n",
    "               'main_pic_dist_50_perc', \n",
    "               'euclidean_main_pic_dist', \n",
    "               'cosine_main_pic_dist']  # ['cat3','cat4','cat3_grouped']"
   ]
  },
  {
   "cell_type": "markdown",
   "id": "babb1703",
   "metadata": {},
   "source": [
    "###  Удаление ненужных колонок"
   ]
  },
  {
   "cell_type": "code",
   "execution_count": 37,
   "id": "ca8e9eda",
   "metadata": {},
   "outputs": [],
   "source": [
    "# drop\n",
    "\n",
    "def drop_f(features):\n",
    "    features = features.drop([\n",
    "        'name_bert_641', \n",
    "        'name_bert_642', \n",
    "        'main_pic_embeddings_resnet_v11', \n",
    "        'main_pic_embeddings_resnet_v12',\n",
    "        'main_pic_embeddings_resnet_v1_new1', \n",
    "        'main_pic_embeddings_resnet_v1_new2',\n",
    "        'name_embedding1', \n",
    "        'name_embedding2',\n",
    "        'categories1',\n",
    "        'categories2',\n",
    "        'pic_embeddings_resnet_v11',\n",
    "        'pic_embeddings_resnet_v12',       \n",
    "        'cat3_grouped2',\n",
    "        'attributes_set1', \n",
    "        'attributes_set2', \n",
    "        'clr_vect1', \n",
    "        'clr_vect2'], axis=1)  \n",
    "    \n",
    "    return features"
   ]
  },
  {
   "cell_type": "code",
   "execution_count": 38,
   "id": "08adf360",
   "metadata": {},
   "outputs": [],
   "source": [
    "features = drop_f(features)"
   ]
  },
  {
   "cell_type": "code",
   "execution_count": 39,
   "id": "19206530",
   "metadata": {},
   "outputs": [],
   "source": [
    "features[['characteristic_attributes_mapping1', \n",
    "          'characteristic_attributes_mapping2']] = features[['characteristic_attributes_mapping1', \n",
    "                                                             'characteristic_attributes_mapping2']].fillna('{}')"
   ]
  },
  {
   "cell_type": "markdown",
   "id": "38bea277",
   "metadata": {},
   "source": [
    "## Загрузка данных"
   ]
  },
  {
   "cell_type": "code",
   "execution_count": 40,
   "id": "8c4d8c9a",
   "metadata": {},
   "outputs": [
    {
     "name": "stdout",
     "output_type": "stream",
     "text": [
      "CPU times: total: 0 ns\n",
      "Wall time: 0 ns\n"
     ]
    }
   ],
   "source": [
    "%%time\n",
    "#features.to_csv(\"features_Catb26.csv\") #, index=False"
   ]
  },
  {
   "cell_type": "code",
   "execution_count": 41,
   "id": "fd3fce6e",
   "metadata": {},
   "outputs": [
    {
     "name": "stdout",
     "output_type": "stream",
     "text": [
      "CPU times: total: 0 ns\n",
      "Wall time: 0 ns\n"
     ]
    }
   ],
   "source": [
    "%%time\n",
    "#features=pd.read_csv(\"features_Catb26n.csv\",index_col=0)\n",
    "#head_info(features)"
   ]
  },
  {
   "cell_type": "code",
   "execution_count": 42,
   "id": "aeb1d17a",
   "metadata": {},
   "outputs": [],
   "source": [
    "# features = features.drop([\n",
    "#     'pic_dist_25_perc', \n",
    "#     'cat42', \n",
    "#     'pic_dist_50_perc', \n",
    "#     'main_pic_median_diff',\n",
    "#     'cat41', \n",
    "#     'main_pic_mean_diff',\n",
    "#     'ozon_name_mean_diff', \n",
    "#     'ozon_name_median_diff',\n",
    "#     'name_median_diff',\n",
    "#     'name_mean_diff'], axis=1) "
   ]
  },
  {
   "cell_type": "markdown",
   "id": "801c1a5c",
   "metadata": {},
   "source": [
    "###  Отделение тестовой выборки"
   ]
  },
  {
   "cell_type": "code",
   "execution_count": 43,
   "id": "80cecedb",
   "metadata": {},
   "outputs": [
    {
     "name": "stdout",
     "output_type": "stream",
     "text": [
      "<class 'pandas.core.frame.DataFrame'>\n",
      "Int64Index: 275886 entries, 94531 to 139533\n",
      "Data columns (total 52 columns):\n",
      " #   Column                               Non-Null Count   Dtype  \n",
      "---  ------                               --------------   -----  \n",
      " 0   name1                                275886 non-null  object \n",
      " 1   characteristic_attributes_mapping1   275886 non-null  object \n",
      " 2   cat3                                 275886 non-null  float64\n",
      " 3   cat41                                275886 non-null  float64\n",
      " 4   name2                                275886 non-null  object \n",
      " 5   characteristic_attributes_mapping2   275886 non-null  object \n",
      " 6   cat32                                275886 non-null  float64\n",
      " 7   cat42                                275886 non-null  float64\n",
      " 8   name_mean_diff                       275886 non-null  float32\n",
      " 9   name_median_diff                     275886 non-null  float32\n",
      " 10  name_std_diff                        275886 non-null  float32\n",
      " 11  ozon_name_mean_diff                  275886 non-null  float32\n",
      " 12  ozon_name_median_diff                275886 non-null  float32\n",
      " 13  ozon_name_std_diff                   275886 non-null  float32\n",
      " 14  main_pic_mean_diff                   275886 non-null  float32\n",
      " 15  main_pic_median_diff                 275886 non-null  float32\n",
      " 16  main_pic_std_diff                    275886 non-null  float32\n",
      " 17  name_jaccard_similarity              275886 non-null  float64\n",
      " 18  attributes_jaccard_similarity        275886 non-null  float64\n",
      " 19  attr_dist                            275886 non-null  float64\n",
      " 20  attr_acc                             275886 non-null  float64\n",
      " 21  common_keys                          275886 non-null  float64\n",
      " 22  same_value_keys                      275886 non-null  float64\n",
      " 23  mean_value1                          275886 non-null  float64\n",
      " 24  mean_value2                          275886 non-null  float64\n",
      " 25  ozon_bert_manhattan_distance         275886 non-null  object \n",
      " 26  main_pic_manhattan_distance          275886 non-null  object \n",
      " 27  name_emb_manhattan_distance          275886 non-null  object \n",
      " 28  mean_ozon_bert_manhattan_distance    275886 non-null  float32\n",
      " 29  median_ozon_bert_manhattan_distance  275886 non-null  float32\n",
      " 30  std_ozon_bert_manhattan_distance     275886 non-null  float32\n",
      " 31  mean_main_pic_manhattan_distance     275886 non-null  float32\n",
      " 32  median_main_pic_manhattan_distance   275886 non-null  float32\n",
      " 33  std_main_pic_manhattan_distance      275886 non-null  float32\n",
      " 34  mean_name_emb_manhattan_distance     275886 non-null  float32\n",
      " 35  median_name_emb_manhattan_distance   275886 non-null  float32\n",
      " 36  std_name_emb_manhattan_distance      275886 non-null  float32\n",
      " 37  name_levenshtein_distance            275886 non-null  int64  \n",
      " 38  pic_dist_0_perc                      275886 non-null  float64\n",
      " 39  pic_dist_25_perc                     275886 non-null  float64\n",
      " 40  pic_dist_50_perc                     275886 non-null  float64\n",
      " 41  main_pic_dist_0_perc                 275886 non-null  float64\n",
      " 42  main_pic_dist_25_perc                275886 non-null  float64\n",
      " 43  main_pic_dist_50_perc                275886 non-null  float64\n",
      " 44  euclidean_main_pic_dist              275886 non-null  float64\n",
      " 45  cosine_main_pic_dist                 275886 non-null  float64\n",
      " 46  euclidean_color_dist                 275886 non-null  float64\n",
      " 47  cosine_color_dist                    275886 non-null  float64\n",
      " 48  euclidean_name_bert_dist             275886 non-null  float64\n",
      " 49  cosine_name_bert_dist                275886 non-null  float64\n",
      " 50  euclidean_name_embedding_dist        275886 non-null  float64\n",
      " 51  cosine_name_embedding_dist           275886 non-null  float64\n",
      "dtypes: float32(18), float64(26), int64(1), object(7)\n",
      "memory usage: 92.6+ MB\n"
     ]
    }
   ],
   "source": [
    "X_train, X_my_test = train_test_split(features, test_size=0.1, \\\n",
    "                                random_state=RANDOM_STATE, stratify=features[[\"target\", \"cat3_grouped\"]])\n",
    "\n",
    "y_train = X_train[[\"target\", \"variantid1\", \"variantid2\"]]                      #[[\"target\", \"variantid1\", \"variantid2\"]]\n",
    "X_train = X_train.drop([\"target\"], axis=1)\n",
    "\n",
    "y_my_test = X_my_test[[\"target\", \"variantid1\", \"variantid2\"]]                  #[[\"target\", \"variantid1\", \"variantid2\"]]                 \n",
    "X_my_test = X_my_test.drop([\"target\"], axis=1)\n",
    "\n",
    "\n",
    "feats = list(X_train.columns) \n",
    "feats.remove(\"variantid1\")\n",
    "feats.remove(\"variantid2\")\n",
    "feats.remove(\"cat3_grouped\")\n",
    "\n",
    "#feats.remove(\"cat3_grouped_num1\")\n",
    "#feats.remove(\"cat3_grouped_num2\")\n",
    "\n",
    "# feats.remove(\"name2\")\n",
    "# feats.remove(\"name1\")\n",
    "# feats.remove(\"characteristic_attributes_mapping1\")\n",
    "# feats.remove(\"characteristic_attributes_mapping2\")\n",
    "X_train[feats].info() # на чем обучать"
   ]
  },
  {
   "cell_type": "markdown",
   "id": "ee3d6018",
   "metadata": {},
   "source": [
    "## Model"
   ]
  },
  {
   "cell_type": "markdown",
   "id": "9b681624",
   "metadata": {},
   "source": [
    "###  CatBoostClassifier"
   ]
  },
  {
   "cell_type": "code",
   "execution_count": 44,
   "id": "1d342428",
   "metadata": {},
   "outputs": [],
   "source": [
    "#X_train.drop(columns=['name_bert_642','name_bert_641','main_pic_embeddings_resnet_v11','main_pic_embeddings_resnet_v12'],axis=1)\n",
    "#X_my_test.drop(columns=['name_bert_642','name_bert_641','main_pic_embeddings_resnet_v11','main_pic_embeddings_resnet_v12'],axis=1)"
   ]
  },
  {
   "cell_type": "code",
   "execution_count": 45,
   "id": "12e62dca",
   "metadata": {},
   "outputs": [
    {
     "data": {
      "text/html": [
       "<div>\n",
       "<style scoped>\n",
       "    .dataframe tbody tr th:only-of-type {\n",
       "        vertical-align: middle;\n",
       "    }\n",
       "\n",
       "    .dataframe tbody tr th {\n",
       "        vertical-align: top;\n",
       "    }\n",
       "\n",
       "    .dataframe thead th {\n",
       "        text-align: right;\n",
       "    }\n",
       "</style>\n",
       "<table border=\"1\" class=\"dataframe\">\n",
       "  <thead>\n",
       "    <tr style=\"text-align: right;\">\n",
       "      <th></th>\n",
       "      <th>variantid1</th>\n",
       "      <th>variantid2</th>\n",
       "      <th>name1</th>\n",
       "      <th>characteristic_attributes_mapping1</th>\n",
       "      <th>cat3</th>\n",
       "      <th>cat41</th>\n",
       "      <th>cat3_grouped</th>\n",
       "      <th>name2</th>\n",
       "      <th>characteristic_attributes_mapping2</th>\n",
       "      <th>cat32</th>\n",
       "      <th>cat42</th>\n",
       "      <th>name_mean_diff</th>\n",
       "      <th>name_median_diff</th>\n",
       "      <th>name_std_diff</th>\n",
       "      <th>ozon_name_mean_diff</th>\n",
       "      <th>ozon_name_median_diff</th>\n",
       "      <th>ozon_name_std_diff</th>\n",
       "      <th>main_pic_mean_diff</th>\n",
       "      <th>main_pic_median_diff</th>\n",
       "      <th>main_pic_std_diff</th>\n",
       "      <th>name_jaccard_similarity</th>\n",
       "      <th>attributes_jaccard_similarity</th>\n",
       "      <th>attr_dist</th>\n",
       "      <th>attr_acc</th>\n",
       "      <th>common_keys</th>\n",
       "      <th>same_value_keys</th>\n",
       "      <th>mean_value1</th>\n",
       "      <th>mean_value2</th>\n",
       "      <th>ozon_bert_manhattan_distance</th>\n",
       "      <th>main_pic_manhattan_distance</th>\n",
       "      <th>name_emb_manhattan_distance</th>\n",
       "      <th>mean_ozon_bert_manhattan_distance</th>\n",
       "      <th>median_ozon_bert_manhattan_distance</th>\n",
       "      <th>std_ozon_bert_manhattan_distance</th>\n",
       "      <th>mean_main_pic_manhattan_distance</th>\n",
       "      <th>median_main_pic_manhattan_distance</th>\n",
       "      <th>std_main_pic_manhattan_distance</th>\n",
       "      <th>mean_name_emb_manhattan_distance</th>\n",
       "      <th>median_name_emb_manhattan_distance</th>\n",
       "      <th>std_name_emb_manhattan_distance</th>\n",
       "      <th>name_levenshtein_distance</th>\n",
       "      <th>pic_dist_0_perc</th>\n",
       "      <th>pic_dist_25_perc</th>\n",
       "      <th>pic_dist_50_perc</th>\n",
       "      <th>main_pic_dist_0_perc</th>\n",
       "      <th>main_pic_dist_25_perc</th>\n",
       "      <th>main_pic_dist_50_perc</th>\n",
       "      <th>euclidean_main_pic_dist</th>\n",
       "      <th>cosine_main_pic_dist</th>\n",
       "      <th>euclidean_color_dist</th>\n",
       "      <th>cosine_color_dist</th>\n",
       "      <th>euclidean_name_bert_dist</th>\n",
       "      <th>cosine_name_bert_dist</th>\n",
       "      <th>euclidean_name_embedding_dist</th>\n",
       "      <th>cosine_name_embedding_dist</th>\n",
       "    </tr>\n",
       "  </thead>\n",
       "  <tbody>\n",
       "    <tr>\n",
       "      <th>94531</th>\n",
       "      <td>815516420</td>\n",
       "      <td>822097168</td>\n",
       "      <td>Системный блок ЮКОМС 900-9400-202 (AMD A6-9400...</td>\n",
       "      <td>{\"Тип видеокарты\":[\"Встроенная\"],\"Видеокарта\":...</td>\n",
       "      <td>53.0</td>\n",
       "      <td>288.0</td>\n",
       "      <td>Компьютер</td>\n",
       "      <td>Системный блок ЮКОМС 9400-222 (AMD A6-9400 (3....</td>\n",
       "      <td>{\"ОС (краткое название)\":[\"Windows 10 Pro\"],\"Б...</td>\n",
       "      <td>53.0</td>\n",
       "      <td>288.0</td>\n",
       "      <td>-0.0005</td>\n",
       "      <td>-0.003655</td>\n",
       "      <td>0.105085</td>\n",
       "      <td>0.001404</td>\n",
       "      <td>-0.002702</td>\n",
       "      <td>0.030857</td>\n",
       "      <td>0.0</td>\n",
       "      <td>0.0</td>\n",
       "      <td>0.0</td>\n",
       "      <td>0.72</td>\n",
       "      <td>0.858333</td>\n",
       "      <td>0.487179</td>\n",
       "      <td>30.0</td>\n",
       "      <td>38.0</td>\n",
       "      <td>30.0</td>\n",
       "      <td>1411.036364</td>\n",
       "      <td>1563.04</td>\n",
       "      <td>[0.013211727, 0.008614302, 0.036072254, 0.0141...</td>\n",
       "      <td>[0.0, 0.0, 0.0, 0.0, 0.0, 0.0, 0.0, 0.0, 0.0, ...</td>\n",
       "      <td>[0.045237303, 0.075727, 0.087270856, 0.0516289...</td>\n",
       "      <td>0.024609</td>\n",
       "      <td>0.022335</td>\n",
       "      <td>0.018668</td>\n",
       "      <td>0.0</td>\n",
       "      <td>0.0</td>\n",
       "      <td>0.0</td>\n",
       "      <td>0.074207</td>\n",
       "      <td>0.05861</td>\n",
       "      <td>0.074406</td>\n",
       "      <td>12</td>\n",
       "      <td>-1.0</td>\n",
       "      <td>-1.0</td>\n",
       "      <td>-1.0</td>\n",
       "      <td>0.0</td>\n",
       "      <td>0.0</td>\n",
       "      <td>0.0</td>\n",
       "      <td>0.0</td>\n",
       "      <td>0.0</td>\n",
       "      <td>1.0</td>\n",
       "      <td>0.292893</td>\n",
       "      <td>0.247108</td>\n",
       "      <td>0.001791</td>\n",
       "      <td>2.91222</td>\n",
       "      <td>0.021454</td>\n",
       "    </tr>\n",
       "  </tbody>\n",
       "</table>\n",
       "</div>"
      ],
      "text/plain": [
       "       variantid1  variantid2  \\\n",
       "94531   815516420   822097168   \n",
       "\n",
       "                                                   name1  \\\n",
       "94531  Системный блок ЮКОМС 900-9400-202 (AMD A6-9400...   \n",
       "\n",
       "                      characteristic_attributes_mapping1  cat3  cat41  \\\n",
       "94531  {\"Тип видеокарты\":[\"Встроенная\"],\"Видеокарта\":...  53.0  288.0   \n",
       "\n",
       "      cat3_grouped                                              name2  \\\n",
       "94531    Компьютер  Системный блок ЮКОМС 9400-222 (AMD A6-9400 (3....   \n",
       "\n",
       "                      characteristic_attributes_mapping2  cat32  cat42  \\\n",
       "94531  {\"ОС (краткое название)\":[\"Windows 10 Pro\"],\"Б...   53.0  288.0   \n",
       "\n",
       "       name_mean_diff  name_median_diff  name_std_diff  ozon_name_mean_diff  \\\n",
       "94531         -0.0005         -0.003655       0.105085             0.001404   \n",
       "\n",
       "       ozon_name_median_diff  ozon_name_std_diff  main_pic_mean_diff  \\\n",
       "94531              -0.002702            0.030857                 0.0   \n",
       "\n",
       "       main_pic_median_diff  main_pic_std_diff  name_jaccard_similarity  \\\n",
       "94531                   0.0                0.0                     0.72   \n",
       "\n",
       "       attributes_jaccard_similarity  attr_dist  attr_acc  common_keys  \\\n",
       "94531                       0.858333   0.487179      30.0         38.0   \n",
       "\n",
       "       same_value_keys  mean_value1  mean_value2  \\\n",
       "94531             30.0  1411.036364      1563.04   \n",
       "\n",
       "                            ozon_bert_manhattan_distance  \\\n",
       "94531  [0.013211727, 0.008614302, 0.036072254, 0.0141...   \n",
       "\n",
       "                             main_pic_manhattan_distance  \\\n",
       "94531  [0.0, 0.0, 0.0, 0.0, 0.0, 0.0, 0.0, 0.0, 0.0, ...   \n",
       "\n",
       "                             name_emb_manhattan_distance  \\\n",
       "94531  [0.045237303, 0.075727, 0.087270856, 0.0516289...   \n",
       "\n",
       "       mean_ozon_bert_manhattan_distance  median_ozon_bert_manhattan_distance  \\\n",
       "94531                           0.024609                             0.022335   \n",
       "\n",
       "       std_ozon_bert_manhattan_distance  mean_main_pic_manhattan_distance  \\\n",
       "94531                          0.018668                               0.0   \n",
       "\n",
       "       median_main_pic_manhattan_distance  std_main_pic_manhattan_distance  \\\n",
       "94531                                 0.0                              0.0   \n",
       "\n",
       "       mean_name_emb_manhattan_distance  median_name_emb_manhattan_distance  \\\n",
       "94531                          0.074207                             0.05861   \n",
       "\n",
       "       std_name_emb_manhattan_distance  name_levenshtein_distance  \\\n",
       "94531                         0.074406                         12   \n",
       "\n",
       "       pic_dist_0_perc  pic_dist_25_perc  pic_dist_50_perc  \\\n",
       "94531             -1.0              -1.0              -1.0   \n",
       "\n",
       "       main_pic_dist_0_perc  main_pic_dist_25_perc  main_pic_dist_50_perc  \\\n",
       "94531                   0.0                    0.0                    0.0   \n",
       "\n",
       "       euclidean_main_pic_dist  cosine_main_pic_dist  euclidean_color_dist  \\\n",
       "94531                      0.0                   0.0                   1.0   \n",
       "\n",
       "       cosine_color_dist  euclidean_name_bert_dist  cosine_name_bert_dist  \\\n",
       "94531           0.292893                  0.247108               0.001791   \n",
       "\n",
       "       euclidean_name_embedding_dist  cosine_name_embedding_dist  \n",
       "94531                        2.91222                    0.021454  "
      ]
     },
     "execution_count": 45,
     "metadata": {},
     "output_type": "execute_result"
    }
   ],
   "source": [
    "X_train.head(1)"
   ]
  },
  {
   "cell_type": "code",
   "execution_count": 46,
   "id": "fe2bdf51",
   "metadata": {},
   "outputs": [],
   "source": [
    "y_train2 = y_train['target']\n",
    "y_my_test2 = y_my_test['target']\n",
    "embeddin_col = ['ozon_bert_manhattan_distance','main_pic_manhattan_distance','name_emb_manhattan_distance'] \n",
    "\n",
    "train_pool = Pool(\n",
    "    data=X_train[feats],\n",
    "    label=y_train2,\n",
    "    text_features=['characteristic_attributes_mapping1', 'characteristic_attributes_mapping2', 'name1', 'name2'],\n",
    "    # cat_features=['cat3_grouped'],\n",
    "    embedding_features=embeddin_col\n",
    ")\n",
    "eval_pool = Pool(\n",
    "    data=X_my_test[feats],\n",
    "    label=y_my_test2,\n",
    "    text_features=['characteristic_attributes_mapping1', 'characteristic_attributes_mapping2', 'name1', 'name2'],\n",
    "    # cat_features=['cat3_grouped'],\n",
    "    embedding_features=embeddin_col\n",
    ")"
   ]
  },
  {
   "cell_type": "code",
   "execution_count": 47,
   "id": "6abfe26b",
   "metadata": {
    "scrolled": true
   },
   "outputs": [
    {
     "data": {
      "application/vnd.jupyter.widget-view+json": {
       "model_id": "8ca3ea7bfefa463893f9c3ffc8c20037",
       "version_major": 2,
       "version_minor": 0
      },
      "text/plain": [
       "MetricVisualizer(layout=Layout(align_self='stretch', height='500px'))"
      ]
     },
     "metadata": {},
     "output_type": "display_data"
    },
    {
     "name": "stderr",
     "output_type": "stream",
     "text": [
      "Warning: Overfitting detector is active, thus evaluation metric is calculated on every iteration. 'metric_period' is ignored for evaluation metric.\n"
     ]
    },
    {
     "name": "stdout",
     "output_type": "stream",
     "text": [
      "0:\tlearn: 0.6450229\ttest: 0.6441363\tbest: 0.6441363 (0)\ttotal: 562ms\tremaining: 23m 24s\n",
      "10:\tlearn: 0.4715398\ttest: 0.4667523\tbest: 0.4667523 (10)\ttotal: 6.09s\tremaining: 22m 59s\n",
      "20:\tlearn: 0.4411359\ttest: 0.4362335\tbest: 0.4362335 (20)\ttotal: 11.6s\tremaining: 22m 50s\n",
      "30:\tlearn: 0.4294471\ttest: 0.4248741\tbest: 0.4248741 (30)\ttotal: 17.1s\tremaining: 22m 39s\n",
      "40:\tlearn: 0.4223549\ttest: 0.4182839\tbest: 0.4182839 (40)\ttotal: 22.5s\tremaining: 22m 29s\n",
      "50:\tlearn: 0.4172674\ttest: 0.4133678\tbest: 0.4133678 (50)\ttotal: 28s\tremaining: 22m 23s\n",
      "60:\tlearn: 0.4135226\ttest: 0.4101133\tbest: 0.4101133 (60)\ttotal: 33.3s\tremaining: 22m 13s\n",
      "70:\tlearn: 0.4108072\ttest: 0.4077108\tbest: 0.4077108 (70)\ttotal: 38.7s\tremaining: 22m 3s\n",
      "80:\tlearn: 0.4083961\ttest: 0.4055204\tbest: 0.4055204 (80)\ttotal: 44.1s\tremaining: 21m 58s\n",
      "90:\tlearn: 0.4066345\ttest: 0.4038400\tbest: 0.4038400 (90)\ttotal: 49.5s\tremaining: 21m 51s\n",
      "100:\tlearn: 0.4050440\ttest: 0.4025309\tbest: 0.4025309 (100)\ttotal: 54.8s\tremaining: 21m 41s\n",
      "110:\tlearn: 0.4034799\ttest: 0.4012019\tbest: 0.4012019 (110)\ttotal: 1m\tremaining: 21m 35s\n",
      "120:\tlearn: 0.4019070\ttest: 0.3998627\tbest: 0.3998627 (120)\ttotal: 1m 5s\tremaining: 21m 27s\n",
      "130:\tlearn: 0.4003557\ttest: 0.3985390\tbest: 0.3985390 (130)\ttotal: 1m 10s\tremaining: 21m 20s\n",
      "140:\tlearn: 0.3986915\ttest: 0.3971894\tbest: 0.3971894 (140)\ttotal: 1m 16s\tremaining: 21m 13s\n",
      "150:\tlearn: 0.3973379\ttest: 0.3960762\tbest: 0.3960762 (150)\ttotal: 1m 21s\tremaining: 21m 6s\n",
      "160:\tlearn: 0.3959123\ttest: 0.3948652\tbest: 0.3948652 (160)\ttotal: 1m 26s\tremaining: 20m 59s\n",
      "170:\tlearn: 0.3946136\ttest: 0.3938860\tbest: 0.3938860 (170)\ttotal: 1m 32s\tremaining: 20m 53s\n",
      "180:\tlearn: 0.3934903\ttest: 0.3930059\tbest: 0.3930059 (180)\ttotal: 1m 37s\tremaining: 20m 47s\n",
      "190:\tlearn: 0.3924360\ttest: 0.3920966\tbest: 0.3920966 (190)\ttotal: 1m 42s\tremaining: 20m 43s\n",
      "200:\tlearn: 0.3913494\ttest: 0.3912122\tbest: 0.3912122 (200)\ttotal: 1m 48s\tremaining: 20m 37s\n",
      "210:\tlearn: 0.3903312\ttest: 0.3905385\tbest: 0.3905385 (210)\ttotal: 1m 53s\tremaining: 20m 30s\n",
      "220:\tlearn: 0.3893279\ttest: 0.3898486\tbest: 0.3898486 (220)\ttotal: 1m 58s\tremaining: 20m 24s\n",
      "230:\tlearn: 0.3883125\ttest: 0.3891455\tbest: 0.3891455 (230)\ttotal: 2m 4s\tremaining: 20m 20s\n",
      "240:\tlearn: 0.3875236\ttest: 0.3886004\tbest: 0.3886004 (240)\ttotal: 2m 9s\tremaining: 20m 14s\n",
      "250:\tlearn: 0.3864962\ttest: 0.3877581\tbest: 0.3877581 (250)\ttotal: 2m 14s\tremaining: 20m 9s\n",
      "260:\tlearn: 0.3855302\ttest: 0.3870832\tbest: 0.3870832 (260)\ttotal: 2m 20s\tremaining: 20m 4s\n",
      "270:\tlearn: 0.3847878\ttest: 0.3866485\tbest: 0.3866484 (269)\ttotal: 2m 25s\tremaining: 19m 57s\n",
      "280:\tlearn: 0.3840134\ttest: 0.3861550\tbest: 0.3861550 (280)\ttotal: 2m 31s\tremaining: 19m 52s\n",
      "290:\tlearn: 0.3831713\ttest: 0.3856108\tbest: 0.3856108 (290)\ttotal: 2m 36s\tremaining: 19m 47s\n",
      "300:\tlearn: 0.3825115\ttest: 0.3853156\tbest: 0.3853156 (300)\ttotal: 2m 41s\tremaining: 19m 42s\n",
      "310:\tlearn: 0.3817961\ttest: 0.3848306\tbest: 0.3848306 (310)\ttotal: 2m 47s\tremaining: 19m 37s\n",
      "320:\tlearn: 0.3810947\ttest: 0.3844499\tbest: 0.3844499 (320)\ttotal: 2m 52s\tremaining: 19m 32s\n",
      "330:\tlearn: 0.3804636\ttest: 0.3840682\tbest: 0.3840682 (330)\ttotal: 2m 58s\tremaining: 19m 27s\n",
      "340:\tlearn: 0.3798181\ttest: 0.3836785\tbest: 0.3836785 (340)\ttotal: 3m 3s\tremaining: 19m 22s\n",
      "350:\tlearn: 0.3792430\ttest: 0.3832992\tbest: 0.3832992 (350)\ttotal: 3m 8s\tremaining: 19m 17s\n",
      "360:\tlearn: 0.3785541\ttest: 0.3829409\tbest: 0.3829409 (360)\ttotal: 3m 14s\tremaining: 19m 12s\n",
      "370:\tlearn: 0.3779210\ttest: 0.3825355\tbest: 0.3825355 (370)\ttotal: 3m 19s\tremaining: 19m 6s\n",
      "380:\tlearn: 0.3773517\ttest: 0.3823079\tbest: 0.3823079 (380)\ttotal: 3m 25s\tremaining: 19m 1s\n",
      "390:\tlearn: 0.3767541\ttest: 0.3820182\tbest: 0.3820182 (390)\ttotal: 3m 30s\tremaining: 18m 55s\n",
      "400:\tlearn: 0.3761292\ttest: 0.3817590\tbest: 0.3817590 (400)\ttotal: 3m 35s\tremaining: 18m 49s\n",
      "410:\tlearn: 0.3755746\ttest: 0.3814800\tbest: 0.3814800 (410)\ttotal: 3m 41s\tremaining: 18m 43s\n",
      "420:\tlearn: 0.3749283\ttest: 0.3810748\tbest: 0.3810748 (420)\ttotal: 3m 46s\tremaining: 18m 38s\n",
      "430:\tlearn: 0.3743316\ttest: 0.3807738\tbest: 0.3807738 (430)\ttotal: 3m 51s\tremaining: 18m 33s\n",
      "440:\tlearn: 0.3738200\ttest: 0.3804941\tbest: 0.3804941 (440)\ttotal: 3m 57s\tremaining: 18m 27s\n",
      "450:\tlearn: 0.3732664\ttest: 0.3802972\tbest: 0.3802972 (450)\ttotal: 4m 2s\tremaining: 18m 22s\n",
      "460:\tlearn: 0.3726843\ttest: 0.3801009\tbest: 0.3801009 (460)\ttotal: 4m 8s\tremaining: 18m 17s\n",
      "470:\tlearn: 0.3721582\ttest: 0.3799809\tbest: 0.3799659 (467)\ttotal: 4m 13s\tremaining: 18m 11s\n",
      "480:\tlearn: 0.3715730\ttest: 0.3796961\tbest: 0.3796961 (480)\ttotal: 4m 18s\tremaining: 18m 6s\n",
      "490:\tlearn: 0.3711073\ttest: 0.3795661\tbest: 0.3795661 (490)\ttotal: 4m 24s\tremaining: 18m 1s\n",
      "500:\tlearn: 0.3705824\ttest: 0.3793287\tbest: 0.3793287 (500)\ttotal: 4m 29s\tremaining: 17m 55s\n",
      "510:\tlearn: 0.3701039\ttest: 0.3791082\tbest: 0.3791082 (510)\ttotal: 4m 34s\tremaining: 17m 50s\n",
      "520:\tlearn: 0.3696084\ttest: 0.3789215\tbest: 0.3789215 (520)\ttotal: 4m 40s\tremaining: 17m 44s\n",
      "530:\tlearn: 0.3690449\ttest: 0.3785566\tbest: 0.3785566 (530)\ttotal: 4m 45s\tremaining: 17m 39s\n",
      "540:\tlearn: 0.3685735\ttest: 0.3784959\tbest: 0.3784959 (540)\ttotal: 4m 51s\tremaining: 17m 34s\n",
      "550:\tlearn: 0.3681105\ttest: 0.3782972\tbest: 0.3782972 (550)\ttotal: 4m 56s\tremaining: 17m 28s\n",
      "560:\tlearn: 0.3676914\ttest: 0.3781561\tbest: 0.3781561 (560)\ttotal: 5m 1s\tremaining: 17m 23s\n",
      "570:\tlearn: 0.3672263\ttest: 0.3779657\tbest: 0.3779657 (570)\ttotal: 5m 7s\tremaining: 17m 18s\n",
      "580:\tlearn: 0.3667449\ttest: 0.3777881\tbest: 0.3777881 (580)\ttotal: 5m 12s\tremaining: 17m 13s\n",
      "590:\tlearn: 0.3662883\ttest: 0.3776364\tbest: 0.3776364 (590)\ttotal: 5m 18s\tremaining: 17m 8s\n",
      "600:\tlearn: 0.3657368\ttest: 0.3773921\tbest: 0.3773921 (600)\ttotal: 5m 23s\tremaining: 17m 2s\n",
      "610:\tlearn: 0.3652863\ttest: 0.3772801\tbest: 0.3772470 (607)\ttotal: 5m 29s\tremaining: 16m 57s\n",
      "620:\tlearn: 0.3648625\ttest: 0.3771476\tbest: 0.3771476 (620)\ttotal: 5m 34s\tremaining: 16m 52s\n",
      "630:\tlearn: 0.3644302\ttest: 0.3769310\tbest: 0.3769310 (630)\ttotal: 5m 40s\tremaining: 16m 47s\n",
      "640:\tlearn: 0.3640099\ttest: 0.3767944\tbest: 0.3767944 (640)\ttotal: 5m 45s\tremaining: 16m 41s\n",
      "650:\tlearn: 0.3635621\ttest: 0.3766651\tbest: 0.3766651 (650)\ttotal: 5m 50s\tremaining: 16m 36s\n",
      "660:\tlearn: 0.3631193\ttest: 0.3764806\tbest: 0.3764806 (660)\ttotal: 5m 56s\tremaining: 16m 30s\n",
      "670:\tlearn: 0.3627363\ttest: 0.3763871\tbest: 0.3763871 (670)\ttotal: 6m 1s\tremaining: 16m 25s\n",
      "680:\tlearn: 0.3623256\ttest: 0.3763145\tbest: 0.3763081 (676)\ttotal: 6m 6s\tremaining: 16m 20s\n",
      "690:\tlearn: 0.3619068\ttest: 0.3761518\tbest: 0.3761518 (690)\ttotal: 6m 12s\tremaining: 16m 14s\n",
      "700:\tlearn: 0.3614753\ttest: 0.3759630\tbest: 0.3759630 (700)\ttotal: 6m 17s\tremaining: 16m 9s\n",
      "710:\tlearn: 0.3610678\ttest: 0.3758943\tbest: 0.3758780 (707)\ttotal: 6m 23s\tremaining: 16m 3s\n",
      "720:\tlearn: 0.3606581\ttest: 0.3757888\tbest: 0.3757748 (717)\ttotal: 6m 28s\tremaining: 15m 58s\n",
      "730:\tlearn: 0.3602287\ttest: 0.3757338\tbest: 0.3757071 (729)\ttotal: 6m 33s\tremaining: 15m 52s\n",
      "740:\tlearn: 0.3598166\ttest: 0.3756066\tbest: 0.3756066 (740)\ttotal: 6m 38s\tremaining: 15m 46s\n",
      "750:\tlearn: 0.3593984\ttest: 0.3754183\tbest: 0.3754183 (750)\ttotal: 6m 44s\tremaining: 15m 41s\n",
      "760:\tlearn: 0.3589803\ttest: 0.3752868\tbest: 0.3752868 (760)\ttotal: 6m 49s\tremaining: 15m 35s\n",
      "770:\tlearn: 0.3586175\ttest: 0.3751553\tbest: 0.3751553 (770)\ttotal: 6m 54s\tremaining: 15m 30s\n",
      "780:\tlearn: 0.3582221\ttest: 0.3750704\tbest: 0.3750630 (779)\ttotal: 7m\tremaining: 15m 24s\n",
      "790:\tlearn: 0.3578092\ttest: 0.3749884\tbest: 0.3749828 (789)\ttotal: 7m 5s\tremaining: 15m 19s\n",
      "800:\tlearn: 0.3574405\ttest: 0.3748531\tbest: 0.3748531 (800)\ttotal: 7m 10s\tremaining: 15m 13s\n",
      "810:\tlearn: 0.3570632\ttest: 0.3748025\tbest: 0.3748025 (810)\ttotal: 7m 16s\tremaining: 15m 8s\n",
      "820:\tlearn: 0.3566812\ttest: 0.3746914\tbest: 0.3746914 (820)\ttotal: 7m 21s\tremaining: 15m 3s\n",
      "830:\tlearn: 0.3562475\ttest: 0.3745506\tbest: 0.3745506 (830)\ttotal: 7m 26s\tremaining: 14m 57s\n",
      "840:\tlearn: 0.3558555\ttest: 0.3744160\tbest: 0.3744160 (840)\ttotal: 7m 32s\tremaining: 14m 52s\n",
      "850:\tlearn: 0.3554879\ttest: 0.3743301\tbest: 0.3743301 (850)\ttotal: 7m 37s\tremaining: 14m 46s\n",
      "860:\tlearn: 0.3551346\ttest: 0.3742834\tbest: 0.3742797 (859)\ttotal: 7m 43s\tremaining: 14m 41s\n",
      "870:\tlearn: 0.3547524\ttest: 0.3741569\tbest: 0.3741569 (870)\ttotal: 7m 48s\tremaining: 14m 35s\n",
      "880:\tlearn: 0.3543693\ttest: 0.3741025\tbest: 0.3741025 (880)\ttotal: 7m 53s\tremaining: 14m 30s\n"
     ]
    },
    {
     "name": "stdout",
     "output_type": "stream",
     "text": [
      "890:\tlearn: 0.3540092\ttest: 0.3740469\tbest: 0.3740423 (888)\ttotal: 7m 59s\tremaining: 14m 25s\n",
      "900:\tlearn: 0.3536646\ttest: 0.3740474\tbest: 0.3740174 (892)\ttotal: 8m 4s\tremaining: 14m 20s\n",
      "910:\tlearn: 0.3533220\ttest: 0.3739181\tbest: 0.3739181 (910)\ttotal: 8m 10s\tremaining: 14m 14s\n",
      "920:\tlearn: 0.3529408\ttest: 0.3738653\tbest: 0.3738653 (920)\ttotal: 8m 15s\tremaining: 14m 8s\n",
      "930:\tlearn: 0.3525720\ttest: 0.3737616\tbest: 0.3737554 (929)\ttotal: 8m 20s\tremaining: 14m 3s\n",
      "940:\tlearn: 0.3522145\ttest: 0.3736995\tbest: 0.3736995 (940)\ttotal: 8m 25s\tremaining: 13m 58s\n",
      "950:\tlearn: 0.3517853\ttest: 0.3735756\tbest: 0.3735756 (950)\ttotal: 8m 31s\tremaining: 13m 52s\n",
      "960:\tlearn: 0.3514122\ttest: 0.3734497\tbest: 0.3734497 (960)\ttotal: 8m 36s\tremaining: 13m 47s\n",
      "970:\tlearn: 0.3510820\ttest: 0.3733397\tbest: 0.3733397 (970)\ttotal: 8m 42s\tremaining: 13m 42s\n",
      "980:\tlearn: 0.3507394\ttest: 0.3732750\tbest: 0.3732750 (980)\ttotal: 8m 47s\tremaining: 13m 37s\n",
      "990:\tlearn: 0.3503902\ttest: 0.3731541\tbest: 0.3731541 (990)\ttotal: 8m 52s\tremaining: 13m 31s\n",
      "1000:\tlearn: 0.3500119\ttest: 0.3730096\tbest: 0.3730054 (998)\ttotal: 8m 58s\tremaining: 13m 26s\n",
      "1010:\tlearn: 0.3496576\ttest: 0.3729904\tbest: 0.3729904 (1010)\ttotal: 9m 3s\tremaining: 13m 20s\n",
      "1020:\tlearn: 0.3493739\ttest: 0.3729835\tbest: 0.3729587 (1017)\ttotal: 9m 9s\tremaining: 13m 15s\n",
      "1030:\tlearn: 0.3490373\ttest: 0.3729550\tbest: 0.3729415 (1024)\ttotal: 9m 14s\tremaining: 13m 10s\n",
      "1040:\tlearn: 0.3486757\ttest: 0.3728623\tbest: 0.3728410 (1036)\ttotal: 9m 19s\tremaining: 13m 4s\n",
      "1050:\tlearn: 0.3483585\ttest: 0.3728577\tbest: 0.3728410 (1036)\ttotal: 9m 25s\tremaining: 12m 59s\n",
      "1060:\tlearn: 0.3479880\ttest: 0.3728197\tbest: 0.3727870 (1057)\ttotal: 9m 30s\tremaining: 12m 53s\n",
      "1070:\tlearn: 0.3475558\ttest: 0.3727017\tbest: 0.3727017 (1070)\ttotal: 9m 35s\tremaining: 12m 48s\n",
      "1080:\tlearn: 0.3471923\ttest: 0.3726229\tbest: 0.3726229 (1080)\ttotal: 9m 41s\tremaining: 12m 42s\n",
      "1090:\tlearn: 0.3468167\ttest: 0.3725146\tbest: 0.3725146 (1090)\ttotal: 9m 46s\tremaining: 12m 37s\n",
      "1100:\tlearn: 0.3464795\ttest: 0.3724655\tbest: 0.3724619 (1098)\ttotal: 9m 51s\tremaining: 12m 31s\n",
      "1110:\tlearn: 0.3461184\ttest: 0.3723684\tbest: 0.3723684 (1110)\ttotal: 9m 56s\tremaining: 12m 26s\n",
      "1120:\tlearn: 0.3457950\ttest: 0.3723842\tbest: 0.3723684 (1110)\ttotal: 10m 1s\tremaining: 12m 20s\n",
      "1130:\tlearn: 0.3454968\ttest: 0.3722939\tbest: 0.3722939 (1130)\ttotal: 10m 7s\tremaining: 12m 14s\n",
      "1140:\tlearn: 0.3451361\ttest: 0.3721343\tbest: 0.3721308 (1137)\ttotal: 10m 12s\tremaining: 12m 9s\n",
      "1150:\tlearn: 0.3447902\ttest: 0.3721125\tbest: 0.3721105 (1148)\ttotal: 10m 17s\tremaining: 12m 3s\n",
      "1160:\tlearn: 0.3444462\ttest: 0.3719486\tbest: 0.3719486 (1160)\ttotal: 10m 22s\tremaining: 11m 58s\n",
      "1170:\tlearn: 0.3441175\ttest: 0.3718823\tbest: 0.3718648 (1167)\ttotal: 10m 28s\tremaining: 11m 52s\n",
      "1180:\tlearn: 0.3438058\ttest: 0.3718607\tbest: 0.3718430 (1178)\ttotal: 10m 33s\tremaining: 11m 47s\n",
      "1190:\tlearn: 0.3435071\ttest: 0.3717844\tbest: 0.3717844 (1190)\ttotal: 10m 38s\tremaining: 11m 41s\n",
      "1200:\tlearn: 0.3431667\ttest: 0.3717424\tbest: 0.3717424 (1200)\ttotal: 10m 43s\tremaining: 11m 36s\n",
      "1210:\tlearn: 0.3428288\ttest: 0.3716744\tbest: 0.3716519 (1208)\ttotal: 10m 49s\tremaining: 11m 30s\n",
      "1220:\tlearn: 0.3425225\ttest: 0.3716180\tbest: 0.3716060 (1216)\ttotal: 10m 54s\tremaining: 11m 25s\n",
      "1230:\tlearn: 0.3421917\ttest: 0.3716068\tbest: 0.3715956 (1225)\ttotal: 10m 59s\tremaining: 11m 20s\n",
      "1240:\tlearn: 0.3418392\ttest: 0.3715879\tbest: 0.3715879 (1240)\ttotal: 11m 5s\tremaining: 11m 14s\n",
      "1250:\tlearn: 0.3415129\ttest: 0.3715410\tbest: 0.3715410 (1250)\ttotal: 11m 10s\tremaining: 11m 9s\n",
      "1260:\tlearn: 0.3411708\ttest: 0.3715101\tbest: 0.3715101 (1260)\ttotal: 11m 15s\tremaining: 11m 4s\n",
      "1270:\tlearn: 0.3408553\ttest: 0.3714592\tbest: 0.3714571 (1269)\ttotal: 11m 21s\tremaining: 10m 58s\n",
      "1280:\tlearn: 0.3405476\ttest: 0.3713803\tbest: 0.3713803 (1280)\ttotal: 11m 26s\tremaining: 10m 53s\n",
      "1290:\tlearn: 0.3402092\ttest: 0.3713568\tbest: 0.3713489 (1285)\ttotal: 11m 31s\tremaining: 10m 47s\n",
      "1300:\tlearn: 0.3398715\ttest: 0.3713184\tbest: 0.3713174 (1298)\ttotal: 11m 36s\tremaining: 10m 42s\n",
      "1310:\tlearn: 0.3395899\ttest: 0.3712592\tbest: 0.3712592 (1310)\ttotal: 11m 41s\tremaining: 10m 36s\n",
      "1320:\tlearn: 0.3392658\ttest: 0.3711635\tbest: 0.3711635 (1320)\ttotal: 11m 47s\tremaining: 10m 31s\n",
      "1330:\tlearn: 0.3389045\ttest: 0.3710783\tbest: 0.3710783 (1330)\ttotal: 11m 52s\tremaining: 10m 25s\n",
      "1340:\tlearn: 0.3385894\ttest: 0.3710553\tbest: 0.3710507 (1335)\ttotal: 11m 57s\tremaining: 10m 20s\n",
      "1350:\tlearn: 0.3382670\ttest: 0.3710395\tbest: 0.3710376 (1344)\ttotal: 12m 3s\tremaining: 10m 15s\n",
      "1360:\tlearn: 0.3379668\ttest: 0.3710733\tbest: 0.3710222 (1351)\ttotal: 12m 8s\tremaining: 10m 9s\n",
      "1370:\tlearn: 0.3376790\ttest: 0.3710005\tbest: 0.3709871 (1368)\ttotal: 12m 13s\tremaining: 10m 4s\n",
      "1380:\tlearn: 0.3374121\ttest: 0.3709800\tbest: 0.3709747 (1375)\ttotal: 12m 19s\tremaining: 9m 58s\n",
      "1390:\tlearn: 0.3371167\ttest: 0.3709293\tbest: 0.3709293 (1390)\ttotal: 12m 24s\tremaining: 9m 53s\n",
      "1400:\tlearn: 0.3368215\ttest: 0.3708465\tbest: 0.3708465 (1400)\ttotal: 12m 29s\tremaining: 9m 48s\n",
      "1410:\tlearn: 0.3365214\ttest: 0.3708263\tbest: 0.3708211 (1404)\ttotal: 12m 35s\tremaining: 9m 42s\n",
      "1420:\tlearn: 0.3362442\ttest: 0.3708097\tbest: 0.3708097 (1420)\ttotal: 12m 40s\tremaining: 9m 37s\n",
      "1430:\tlearn: 0.3359464\ttest: 0.3708189\tbest: 0.3708097 (1420)\ttotal: 12m 45s\tremaining: 9m 32s\n",
      "1440:\tlearn: 0.3356608\ttest: 0.3708058\tbest: 0.3708043 (1435)\ttotal: 12m 51s\tremaining: 9m 26s\n",
      "1450:\tlearn: 0.3353369\ttest: 0.3707316\tbest: 0.3707316 (1450)\ttotal: 12m 56s\tremaining: 9m 21s\n",
      "1460:\tlearn: 0.3350407\ttest: 0.3706792\tbest: 0.3706792 (1460)\ttotal: 13m 1s\tremaining: 9m 15s\n",
      "1470:\tlearn: 0.3347165\ttest: 0.3706774\tbest: 0.3706667 (1468)\ttotal: 13m 7s\tremaining: 9m 10s\n",
      "1480:\tlearn: 0.3344097\ttest: 0.3705908\tbest: 0.3705810 (1477)\ttotal: 13m 12s\tremaining: 9m 5s\n",
      "1490:\tlearn: 0.3341281\ttest: 0.3705831\tbest: 0.3705582 (1488)\ttotal: 13m 17s\tremaining: 8m 59s\n",
      "1500:\tlearn: 0.3338255\ttest: 0.3704939\tbest: 0.3704939 (1500)\ttotal: 13m 23s\tremaining: 8m 54s\n",
      "1510:\tlearn: 0.3335180\ttest: 0.3704740\tbest: 0.3704425 (1505)\ttotal: 13m 28s\tremaining: 8m 49s\n",
      "1520:\tlearn: 0.3331716\ttest: 0.3703865\tbest: 0.3703815 (1517)\ttotal: 13m 33s\tremaining: 8m 43s\n",
      "1530:\tlearn: 0.3329023\ttest: 0.3704237\tbest: 0.3703815 (1517)\ttotal: 13m 39s\tremaining: 8m 38s\n",
      "1540:\tlearn: 0.3326064\ttest: 0.3703469\tbest: 0.3703469 (1540)\ttotal: 13m 44s\tremaining: 8m 33s\n",
      "1550:\tlearn: 0.3323022\ttest: 0.3703199\tbest: 0.3703198 (1542)\ttotal: 13m 49s\tremaining: 8m 27s\n",
      "1560:\tlearn: 0.3319965\ttest: 0.3703193\tbest: 0.3703041 (1555)\ttotal: 13m 54s\tremaining: 8m 22s\n",
      "1570:\tlearn: 0.3317241\ttest: 0.3702875\tbest: 0.3702757 (1566)\ttotal: 14m\tremaining: 8m 16s\n",
      "1580:\tlearn: 0.3314469\ttest: 0.3702572\tbest: 0.3702519 (1573)\ttotal: 14m 5s\tremaining: 8m 11s\n",
      "1590:\tlearn: 0.3311921\ttest: 0.3701976\tbest: 0.3701968 (1589)\ttotal: 14m 11s\tremaining: 8m 6s\n",
      "1600:\tlearn: 0.3309395\ttest: 0.3702081\tbest: 0.3701925 (1592)\ttotal: 14m 16s\tremaining: 8m\n",
      "1610:\tlearn: 0.3306695\ttest: 0.3701749\tbest: 0.3701723 (1607)\ttotal: 14m 21s\tremaining: 7m 55s\n",
      "1620:\tlearn: 0.3303977\ttest: 0.3701700\tbest: 0.3701562 (1611)\ttotal: 14m 27s\tremaining: 7m 50s\n",
      "1630:\tlearn: 0.3301367\ttest: 0.3701343\tbest: 0.3701343 (1630)\ttotal: 14m 32s\tremaining: 7m 44s\n",
      "1640:\tlearn: 0.3298550\ttest: 0.3700818\tbest: 0.3700636 (1637)\ttotal: 14m 37s\tremaining: 7m 39s\n",
      "1650:\tlearn: 0.3295634\ttest: 0.3700183\tbest: 0.3700183 (1650)\ttotal: 14m 42s\tremaining: 7m 34s\n",
      "1660:\tlearn: 0.3292927\ttest: 0.3700012\tbest: 0.3699830 (1659)\ttotal: 14m 48s\tremaining: 7m 28s\n",
      "1670:\tlearn: 0.3290135\ttest: 0.3699731\tbest: 0.3699685 (1666)\ttotal: 14m 53s\tremaining: 7m 23s\n",
      "1680:\tlearn: 0.3287313\ttest: 0.3699458\tbest: 0.3699250 (1677)\ttotal: 14m 59s\tremaining: 7m 18s\n",
      "1690:\tlearn: 0.3284554\ttest: 0.3699202\tbest: 0.3699062 (1688)\ttotal: 15m 4s\tremaining: 7m 12s\n",
      "1700:\tlearn: 0.3281041\ttest: 0.3697607\tbest: 0.3697605 (1697)\ttotal: 15m 9s\tremaining: 7m 7s\n",
      "1710:\tlearn: 0.3278026\ttest: 0.3697559\tbest: 0.3697447 (1704)\ttotal: 15m 15s\tremaining: 7m 1s\n",
      "1720:\tlearn: 0.3275097\ttest: 0.3697127\tbest: 0.3697024 (1719)\ttotal: 15m 20s\tremaining: 6m 56s\n",
      "1730:\tlearn: 0.3272216\ttest: 0.3696780\tbest: 0.3696747 (1729)\ttotal: 15m 25s\tremaining: 6m 51s\n",
      "1740:\tlearn: 0.3269506\ttest: 0.3696473\tbest: 0.3696473 (1740)\ttotal: 15m 30s\tremaining: 6m 45s\n",
      "1750:\tlearn: 0.3267073\ttest: 0.3695845\tbest: 0.3695845 (1750)\ttotal: 15m 35s\tremaining: 6m 40s\n"
     ]
    },
    {
     "name": "stdout",
     "output_type": "stream",
     "text": [
      "1760:\tlearn: 0.3264329\ttest: 0.3694530\tbest: 0.3694530 (1760)\ttotal: 15m 41s\tremaining: 6m 34s\n",
      "1770:\tlearn: 0.3261533\ttest: 0.3693914\tbest: 0.3693852 (1766)\ttotal: 15m 46s\tremaining: 6m 29s\n",
      "1780:\tlearn: 0.3258956\ttest: 0.3693622\tbest: 0.3693351 (1777)\ttotal: 15m 51s\tremaining: 6m 24s\n",
      "1790:\tlearn: 0.3256049\ttest: 0.3693761\tbest: 0.3693351 (1777)\ttotal: 15m 56s\tremaining: 6m 18s\n",
      "1800:\tlearn: 0.3253258\ttest: 0.3693566\tbest: 0.3693351 (1777)\ttotal: 16m 1s\tremaining: 6m 13s\n",
      "1810:\tlearn: 0.3250529\ttest: 0.3693145\tbest: 0.3693143 (1808)\ttotal: 16m 7s\tremaining: 6m 8s\n",
      "1820:\tlearn: 0.3247634\ttest: 0.3692829\tbest: 0.3692702 (1816)\ttotal: 16m 12s\tremaining: 6m 2s\n",
      "1830:\tlearn: 0.3245001\ttest: 0.3692724\tbest: 0.3692602 (1829)\ttotal: 16m 18s\tremaining: 5m 57s\n",
      "1840:\tlearn: 0.3242286\ttest: 0.3692507\tbest: 0.3692468 (1837)\ttotal: 16m 23s\tremaining: 5m 52s\n",
      "1850:\tlearn: 0.3239642\ttest: 0.3692141\tbest: 0.3692111 (1849)\ttotal: 16m 28s\tremaining: 5m 46s\n",
      "1860:\tlearn: 0.3237210\ttest: 0.3691419\tbest: 0.3691401 (1859)\ttotal: 16m 34s\tremaining: 5m 41s\n",
      "1870:\tlearn: 0.3234205\ttest: 0.3691180\tbest: 0.3691126 (1867)\ttotal: 16m 39s\tremaining: 5m 35s\n",
      "1880:\tlearn: 0.3231673\ttest: 0.3690735\tbest: 0.3690735 (1880)\ttotal: 16m 44s\tremaining: 5m 30s\n",
      "1890:\tlearn: 0.3229366\ttest: 0.3690467\tbest: 0.3690312 (1886)\ttotal: 16m 49s\tremaining: 5m 25s\n",
      "1900:\tlearn: 0.3226650\ttest: 0.3690176\tbest: 0.3690086 (1898)\ttotal: 16m 55s\tremaining: 5m 19s\n",
      "1910:\tlearn: 0.3223996\ttest: 0.3690169\tbest: 0.3690023 (1903)\ttotal: 17m\tremaining: 5m 14s\n",
      "1920:\tlearn: 0.3221391\ttest: 0.3689402\tbest: 0.3689402 (1920)\ttotal: 17m 5s\tremaining: 5m 9s\n",
      "1930:\tlearn: 0.3218880\ttest: 0.3689050\tbest: 0.3689019 (1929)\ttotal: 17m 11s\tremaining: 5m 3s\n",
      "1940:\tlearn: 0.3216208\ttest: 0.3688810\tbest: 0.3688593 (1936)\ttotal: 17m 16s\tremaining: 4m 58s\n",
      "1950:\tlearn: 0.3213610\ttest: 0.3688967\tbest: 0.3688593 (1936)\ttotal: 17m 21s\tremaining: 4m 53s\n",
      "1960:\tlearn: 0.3210876\ttest: 0.3688367\tbest: 0.3688367 (1960)\ttotal: 17m 26s\tremaining: 4m 47s\n",
      "1970:\tlearn: 0.3208442\ttest: 0.3688545\tbest: 0.3688334 (1966)\ttotal: 17m 32s\tremaining: 4m 42s\n",
      "1980:\tlearn: 0.3206173\ttest: 0.3688648\tbest: 0.3688334 (1966)\ttotal: 17m 37s\tremaining: 4m 37s\n",
      "1990:\tlearn: 0.3203311\ttest: 0.3688173\tbest: 0.3688173 (1990)\ttotal: 17m 42s\tremaining: 4m 31s\n",
      "2000:\tlearn: 0.3200749\ttest: 0.3688354\tbest: 0.3688160 (1993)\ttotal: 17m 48s\tremaining: 4m 26s\n",
      "2010:\tlearn: 0.3198077\ttest: 0.3688092\tbest: 0.3688091 (2006)\ttotal: 17m 53s\tremaining: 4m 21s\n",
      "2020:\tlearn: 0.3195594\ttest: 0.3687955\tbest: 0.3687936 (2017)\ttotal: 17m 59s\tremaining: 4m 15s\n",
      "2030:\tlearn: 0.3193156\ttest: 0.3687594\tbest: 0.3687594 (2030)\ttotal: 18m 4s\tremaining: 4m 10s\n",
      "2040:\tlearn: 0.3190132\ttest: 0.3686567\tbest: 0.3686566 (2039)\ttotal: 18m 9s\tremaining: 4m 5s\n",
      "2050:\tlearn: 0.3187508\ttest: 0.3686530\tbest: 0.3686412 (2047)\ttotal: 18m 15s\tremaining: 3m 59s\n",
      "2060:\tlearn: 0.3185396\ttest: 0.3687007\tbest: 0.3686412 (2047)\ttotal: 18m 20s\tremaining: 3m 54s\n",
      "2070:\tlearn: 0.3182994\ttest: 0.3686650\tbest: 0.3686412 (2047)\ttotal: 18m 26s\tremaining: 3m 49s\n",
      "2080:\tlearn: 0.3180330\ttest: 0.3686731\tbest: 0.3686412 (2047)\ttotal: 18m 31s\tremaining: 3m 43s\n",
      "2090:\tlearn: 0.3177923\ttest: 0.3686882\tbest: 0.3686412 (2047)\ttotal: 18m 36s\tremaining: 3m 38s\n",
      "Stopped by overfitting detector  (50 iterations wait)\n",
      "\n",
      "bestTest = 0.3686411853\n",
      "bestIteration = 2047\n",
      "\n",
      "Shrink model to first 2048 iterations.\n",
      "CPU times: total: 5h 3min 46s\n",
      "Wall time: 46min 17s\n"
     ]
    },
    {
     "data": {
      "text/plain": [
       "<catboost.core.CatBoostClassifier at 0x1f5321d7070>"
      ]
     },
     "execution_count": 47,
     "metadata": {},
     "output_type": "execute_result"
    }
   ],
   "source": [
    "%%time\n",
    "model = CatBoostClassifier(random_state=RANDOM_STATE, iterations=2500, learning_rate=0.1) #300\n",
    "\n",
    "model.fit(\n",
    "    train_pool,\n",
    "    eval_set=eval_pool,\n",
    "    plot=True,\n",
    "    verbose=True,\n",
    "    use_best_model=True,\n",
    "    early_stopping_rounds=50,\n",
    "    metric_period=10\n",
    ")"
   ]
  },
  {
   "cell_type": "code",
   "execution_count": 48,
   "id": "9502ec77",
   "metadata": {},
   "outputs": [],
   "source": [
    "#     metric_period=50,  iterations=2500, learning_rate=0.15)\n"
   ]
  },
  {
   "cell_type": "markdown",
   "id": "8788f30e",
   "metadata": {},
   "source": [
    "###  Параметры RandomizedSearchCV\n"
   ]
  },
  {
   "cell_type": "code",
   "execution_count": 49,
   "id": "7154005a",
   "metadata": {},
   "outputs": [],
   "source": [
    "# %%time\n",
    "\n",
    "# n_iter = 1  # сколько комбинаций проверит\n",
    "# params = {'depth': [8, 9, 14, 20, 60],\n",
    "#          'iterations': [800, 1000],\n",
    "#          'learning_rate': [0.05, 0.1],\n",
    "#          'l2_leaf_reg': [1, 2]}\n",
    "\n",
    "# grid_c = RandomizedSearchCV(model_cb, params, cv=2, verbose=2, n_jobs=-1, random_state=RANDOM_STATE, n_iter=n_iter, scoring='f1')\n",
    "\n",
    "# grid_c.fit(X_train[feats], y_train ) # verbose=100\n",
    "\n",
    "# grid_c.best_params_"
   ]
  },
  {
   "cell_type": "markdown",
   "id": "ed010e77",
   "metadata": {},
   "source": [
    "###  Сохранение модели\n",
    "!Убедиться, что далее используется лучшая модель"
   ]
  },
  {
   "cell_type": "code",
   "execution_count": 50,
   "id": "b7c3ed9a",
   "metadata": {},
   "outputs": [],
   "source": [
    "model = model     #  grid_c.best_estimator_    #model_cb"
   ]
  },
  {
   "cell_type": "code",
   "execution_count": 51,
   "id": "7d7f6b51",
   "metadata": {},
   "outputs": [],
   "source": [
    "# path ='C:/Users/zoika/OneDrive/Рабочий стол/YP ds54/!!hackathon_files_for_participants_ozon/ozonCat.cbm'\n",
    "# model.save_model(path)"
   ]
  },
  {
   "cell_type": "markdown",
   "id": "29a7303c",
   "metadata": {},
   "source": [
    "## Metric"
   ]
  },
  {
   "cell_type": "code",
   "execution_count": 52,
   "id": "a130f5cd",
   "metadata": {},
   "outputs": [],
   "source": [
    "def pr_auc_macro(\n",
    "    target_df: pd.DataFrame,\n",
    "    predictions_df: pd.DataFrame,\n",
    "    prec_level: float = 0.75,\n",
    "    cat_column: str = \"cat3_grouped\"\n",
    ") -> float:\n",
    "\n",
    "    df = target_df.merge(predictions_df, on=[\"variantid1\", \"variantid2\"])\n",
    "\n",
    "    y_true = df[\"target\"]\n",
    "    y_pred = df[\"scores\"]\n",
    "    categories = df[cat_column]\n",
    "\n",
    "    weights = []\n",
    "    pr_aucs = []\n",
    "\n",
    "    unique_cats, counts = np.unique(categories, return_counts=True)\n",
    "\n",
    "    # calculate metric for each big category\n",
    "    for i, category in enumerate(unique_cats):\n",
    "        # take just a certain category\n",
    "        cat_idx = np.where(categories == category)[0]\n",
    "        y_pred_cat = y_pred[cat_idx]\n",
    "        y_true_cat = y_true[cat_idx]\n",
    "\n",
    "        # if there is no matches in the category then PRAUC=0\n",
    "        if sum(y_true_cat) == 0:\n",
    "            pr_aucs.append(0)\n",
    "            weights.append(counts[i] / len(categories))\n",
    "            continue\n",
    "        \n",
    "        # get coordinates (x, y) for (recall, precision) of PR-curve\n",
    "        y, x, _ = precision_recall_curve(y_true_cat, y_pred_cat)\n",
    "        \n",
    "        # reverse the lists so that x's are in ascending order (left to right)\n",
    "        y = y[::-1]\n",
    "        x = x[::-1]\n",
    "        \n",
    "        # get indices for x-coordinate (recall) where y-coordinate (precision) \n",
    "        # is higher than precision level (75% for our task)\n",
    "        good_idx = np.where(y >= prec_level)[0]\n",
    "        \n",
    "        # if there are more than one such x's (at least one is always there, \n",
    "        # it's x=0 (recall=0)) we get a grid from x=0, to the rightest x \n",
    "        # with acceptable precision\n",
    "        if len(good_idx) > 1:\n",
    "            gt_prec_level_idx = np.arange(0, good_idx[-1] + 1)\n",
    "        # if there is only one such x, then we have zeros in the top scores \n",
    "        # and the curve simply goes down sharply at x=0 and does not rise \n",
    "        # above the required precision: PRAUC=0\n",
    "        else:\n",
    "            pr_aucs.append(0)\n",
    "            weights.append(counts[i] / len(categories))\n",
    "            continue\n",
    "        \n",
    "        # calculate category weight anyway\n",
    "        weights.append(counts[i] / len(categories))\n",
    "        # calculate PRAUC for all points where the rightest x \n",
    "        # still has required precision \n",
    "        try:\n",
    "            pr_auc_prec_level = auc(x[gt_prec_level_idx], y[gt_prec_level_idx])\n",
    "            if not np.isnan(pr_auc_prec_level):\n",
    "                pr_aucs.append(pr_auc_prec_level)\n",
    "        except ValueError:\n",
    "            pr_aucs.append(0)\n",
    "            \n",
    "    return np.average(pr_aucs, weights=weights)"
   ]
  },
  {
   "cell_type": "markdown",
   "id": "8b649365",
   "metadata": {},
   "source": [
    "##  Расчет pr_auc на нашей тестовой"
   ]
  },
  {
   "cell_type": "code",
   "execution_count": 53,
   "id": "098e7782",
   "metadata": {
    "scrolled": true
   },
   "outputs": [
    {
     "data": {
      "text/plain": [
       "'PROCtrain:'"
      ]
     },
     "metadata": {},
     "output_type": "display_data"
    },
    {
     "data": {
      "text/plain": [
       "0.7931623718964207"
      ]
     },
     "metadata": {},
     "output_type": "display_data"
    },
    {
     "name": "stdout",
     "output_type": "stream",
     "text": [
      "AUC: 0.9433378315959932\n",
      "Accuracy: 0.878602031273787\n",
      "F1: 0.8626329907224359\n",
      "Precision: 0.8598399058077071\n",
      "CPU times: total: 14min 7s\n",
      "Wall time: 42.8 s\n"
     ]
    }
   ],
   "source": [
    "%%time\n",
    "X_train[\"scores\"] = model.predict_proba(train_pool)[:, 1] # for cat\n",
    "pred_tr = model.predict(train_pool)\n",
    "\n",
    "pr_auc_macro_metr = pr_auc_macro(y_train, X_train)\n",
    "display('PROCtrain:', pr_auc_macro_metr)\n",
    "\n",
    "print('AUC:', roc_auc_score(y_train['target'], X_train[\"scores\"]))\n",
    "print('Accuracy:', acc(y_train['target'], pred_tr))\n",
    "print('F1:', f1_score(y_train['target'], pred_tr))\n",
    "print('Precision:', precision_score(y_train['target'], pred_tr))"
   ]
  },
  {
   "cell_type": "markdown",
   "id": "6ef5f4b7",
   "metadata": {},
   "source": [
    "- PROC:      0.7710663102683721\n",
    "- AUC:       0.9387756112382087\n",
    "- Accuracy:  0.8731070079670589\n",
    "- F1:        0.8564587023551794\n",
    "- Precision: 0.8534283402927021"
   ]
  },
  {
   "cell_type": "code",
   "execution_count": 54,
   "id": "27f0bfa3",
   "metadata": {},
   "outputs": [
    {
     "data": {
      "text/plain": [
       "'PROCeval:'"
      ]
     },
     "metadata": {},
     "output_type": "display_data"
    },
    {
     "data": {
      "text/plain": [
       "0.6684127865923386"
      ]
     },
     "metadata": {},
     "output_type": "display_data"
    },
    {
     "name": "stdout",
     "output_type": "stream",
     "text": [
      "AUC: 0.9139295020658907\n",
      "Accuracy: 0.8422391857506362\n",
      "F1: 0.8224017627616599\n",
      "Precision: 0.8156322843822844\n",
      "CPU times: total: 1min 31s\n",
      "Wall time: 4.85 s\n"
     ]
    }
   ],
   "source": [
    "%%time\n",
    "X_my_test[\"scores\"] = model.predict_proba(eval_pool)[:, 1] #for cat\n",
    "pred_ts = model.predict(eval_pool)\n",
    "\n",
    "pr_auc_macro_metr = pr_auc_macro(y_my_test, X_my_test)\n",
    "display('PROCeval:', pr_auc_macro_metr)\n",
    "\n",
    "print('AUC:', roc_auc_score(y_my_test['target'], X_my_test[\"scores\"]))\n",
    "print('Accuracy:', acc(y_my_test['target'], pred_ts))\n",
    "print('F1:', f1_score(y_my_test['target'], pred_ts))\n",
    "print('Precision:', precision_score(y_my_test['target'], pred_ts))"
   ]
  },
  {
   "cell_type": "markdown",
   "id": "4909b0ae",
   "metadata": {},
   "source": [
    "- PROC: 0.6572550797676896\n",
    "- AUC: 0.9119688787813636\n",
    "- Accuracy: 0.8398251451686566\n",
    "- F1: 0.8200806156101136\n",
    "- Precision: 0.8115752828546562"
   ]
  },
  {
   "cell_type": "code",
   "execution_count": 55,
   "id": "521832a9",
   "metadata": {},
   "outputs": [
    {
     "data": {
      "text/html": [
       "<div>\n",
       "<style scoped>\n",
       "    .dataframe tbody tr th:only-of-type {\n",
       "        vertical-align: middle;\n",
       "    }\n",
       "\n",
       "    .dataframe tbody tr th {\n",
       "        vertical-align: top;\n",
       "    }\n",
       "\n",
       "    .dataframe thead th {\n",
       "        text-align: right;\n",
       "    }\n",
       "</style>\n",
       "<table border=\"1\" class=\"dataframe\">\n",
       "  <thead>\n",
       "    <tr style=\"text-align: right;\">\n",
       "      <th></th>\n",
       "      <th>Feature Id</th>\n",
       "      <th>Importances</th>\n",
       "    </tr>\n",
       "  </thead>\n",
       "  <tbody>\n",
       "    <tr>\n",
       "      <th>0</th>\n",
       "      <td>name2</td>\n",
       "      <td>15.136199</td>\n",
       "    </tr>\n",
       "    <tr>\n",
       "      <th>1</th>\n",
       "      <td>name1</td>\n",
       "      <td>14.260640</td>\n",
       "    </tr>\n",
       "    <tr>\n",
       "      <th>2</th>\n",
       "      <td>name_jaccard_similarity</td>\n",
       "      <td>7.828576</td>\n",
       "    </tr>\n",
       "    <tr>\n",
       "      <th>3</th>\n",
       "      <td>characteristic_attributes_mapping1</td>\n",
       "      <td>7.248652</td>\n",
       "    </tr>\n",
       "    <tr>\n",
       "      <th>4</th>\n",
       "      <td>characteristic_attributes_mapping2</td>\n",
       "      <td>6.766030</td>\n",
       "    </tr>\n",
       "    <tr>\n",
       "      <th>5</th>\n",
       "      <td>name_emb_manhattan_distance</td>\n",
       "      <td>6.130306</td>\n",
       "    </tr>\n",
       "    <tr>\n",
       "      <th>6</th>\n",
       "      <td>name_levenshtein_distance</td>\n",
       "      <td>4.485204</td>\n",
       "    </tr>\n",
       "    <tr>\n",
       "      <th>7</th>\n",
       "      <td>attr_dist</td>\n",
       "      <td>4.292355</td>\n",
       "    </tr>\n",
       "    <tr>\n",
       "      <th>8</th>\n",
       "      <td>ozon_bert_manhattan_distance</td>\n",
       "      <td>2.781874</td>\n",
       "    </tr>\n",
       "    <tr>\n",
       "      <th>9</th>\n",
       "      <td>attributes_jaccard_similarity</td>\n",
       "      <td>2.337548</td>\n",
       "    </tr>\n",
       "    <tr>\n",
       "      <th>10</th>\n",
       "      <td>cosine_main_pic_dist</td>\n",
       "      <td>1.582509</td>\n",
       "    </tr>\n",
       "    <tr>\n",
       "      <th>11</th>\n",
       "      <td>euclidean_name_bert_dist</td>\n",
       "      <td>1.564638</td>\n",
       "    </tr>\n",
       "    <tr>\n",
       "      <th>12</th>\n",
       "      <td>cosine_color_dist</td>\n",
       "      <td>1.444694</td>\n",
       "    </tr>\n",
       "    <tr>\n",
       "      <th>13</th>\n",
       "      <td>pic_dist_0_perc</td>\n",
       "      <td>1.141241</td>\n",
       "    </tr>\n",
       "    <tr>\n",
       "      <th>14</th>\n",
       "      <td>cosine_name_embedding_dist</td>\n",
       "      <td>1.056144</td>\n",
       "    </tr>\n",
       "    <tr>\n",
       "      <th>15</th>\n",
       "      <td>common_keys</td>\n",
       "      <td>0.978590</td>\n",
       "    </tr>\n",
       "    <tr>\n",
       "      <th>16</th>\n",
       "      <td>main_pic_manhattan_distance</td>\n",
       "      <td>0.976975</td>\n",
       "    </tr>\n",
       "    <tr>\n",
       "      <th>17</th>\n",
       "      <td>main_pic_dist_0_perc</td>\n",
       "      <td>0.902015</td>\n",
       "    </tr>\n",
       "    <tr>\n",
       "      <th>18</th>\n",
       "      <td>name_std_diff</td>\n",
       "      <td>0.858603</td>\n",
       "    </tr>\n",
       "    <tr>\n",
       "      <th>19</th>\n",
       "      <td>median_main_pic_manhattan_distance</td>\n",
       "      <td>0.837195</td>\n",
       "    </tr>\n",
       "    <tr>\n",
       "      <th>20</th>\n",
       "      <td>same_value_keys</td>\n",
       "      <td>0.835362</td>\n",
       "    </tr>\n",
       "    <tr>\n",
       "      <th>21</th>\n",
       "      <td>main_pic_dist_25_perc</td>\n",
       "      <td>0.798263</td>\n",
       "    </tr>\n",
       "    <tr>\n",
       "      <th>22</th>\n",
       "      <td>cat3</td>\n",
       "      <td>0.744532</td>\n",
       "    </tr>\n",
       "    <tr>\n",
       "      <th>23</th>\n",
       "      <td>ozon_name_std_diff</td>\n",
       "      <td>0.704589</td>\n",
       "    </tr>\n",
       "    <tr>\n",
       "      <th>24</th>\n",
       "      <td>cat32</td>\n",
       "      <td>0.681890</td>\n",
       "    </tr>\n",
       "    <tr>\n",
       "      <th>25</th>\n",
       "      <td>std_main_pic_manhattan_distance</td>\n",
       "      <td>0.680248</td>\n",
       "    </tr>\n",
       "    <tr>\n",
       "      <th>26</th>\n",
       "      <td>main_pic_std_diff</td>\n",
       "      <td>0.660234</td>\n",
       "    </tr>\n",
       "    <tr>\n",
       "      <th>27</th>\n",
       "      <td>euclidean_color_dist</td>\n",
       "      <td>0.643426</td>\n",
       "    </tr>\n",
       "    <tr>\n",
       "      <th>28</th>\n",
       "      <td>median_ozon_bert_manhattan_distance</td>\n",
       "      <td>0.634455</td>\n",
       "    </tr>\n",
       "    <tr>\n",
       "      <th>29</th>\n",
       "      <td>mean_value2</td>\n",
       "      <td>0.633588</td>\n",
       "    </tr>\n",
       "    <tr>\n",
       "      <th>30</th>\n",
       "      <td>mean_name_emb_manhattan_distance</td>\n",
       "      <td>0.620208</td>\n",
       "    </tr>\n",
       "    <tr>\n",
       "      <th>31</th>\n",
       "      <td>cosine_name_bert_dist</td>\n",
       "      <td>0.619031</td>\n",
       "    </tr>\n",
       "    <tr>\n",
       "      <th>32</th>\n",
       "      <td>std_ozon_bert_manhattan_distance</td>\n",
       "      <td>0.606210</td>\n",
       "    </tr>\n",
       "    <tr>\n",
       "      <th>33</th>\n",
       "      <td>attr_acc</td>\n",
       "      <td>0.601748</td>\n",
       "    </tr>\n",
       "    <tr>\n",
       "      <th>34</th>\n",
       "      <td>mean_ozon_bert_manhattan_distance</td>\n",
       "      <td>0.557224</td>\n",
       "    </tr>\n",
       "    <tr>\n",
       "      <th>35</th>\n",
       "      <td>euclidean_main_pic_dist</td>\n",
       "      <td>0.528972</td>\n",
       "    </tr>\n",
       "    <tr>\n",
       "      <th>36</th>\n",
       "      <td>median_name_emb_manhattan_distance</td>\n",
       "      <td>0.527565</td>\n",
       "    </tr>\n",
       "    <tr>\n",
       "      <th>37</th>\n",
       "      <td>mean_value1</td>\n",
       "      <td>0.525496</td>\n",
       "    </tr>\n",
       "    <tr>\n",
       "      <th>38</th>\n",
       "      <td>std_name_emb_manhattan_distance</td>\n",
       "      <td>0.502789</td>\n",
       "    </tr>\n",
       "    <tr>\n",
       "      <th>39</th>\n",
       "      <td>name_mean_diff</td>\n",
       "      <td>0.499858</td>\n",
       "    </tr>\n",
       "    <tr>\n",
       "      <th>40</th>\n",
       "      <td>ozon_name_mean_diff</td>\n",
       "      <td>0.498620</td>\n",
       "    </tr>\n",
       "    <tr>\n",
       "      <th>41</th>\n",
       "      <td>name_median_diff</td>\n",
       "      <td>0.481400</td>\n",
       "    </tr>\n",
       "    <tr>\n",
       "      <th>42</th>\n",
       "      <td>cat42</td>\n",
       "      <td>0.472837</td>\n",
       "    </tr>\n",
       "    <tr>\n",
       "      <th>43</th>\n",
       "      <td>ozon_name_median_diff</td>\n",
       "      <td>0.462554</td>\n",
       "    </tr>\n",
       "    <tr>\n",
       "      <th>44</th>\n",
       "      <td>main_pic_mean_diff</td>\n",
       "      <td>0.446420</td>\n",
       "    </tr>\n",
       "    <tr>\n",
       "      <th>45</th>\n",
       "      <td>pic_dist_25_perc</td>\n",
       "      <td>0.404551</td>\n",
       "    </tr>\n",
       "    <tr>\n",
       "      <th>46</th>\n",
       "      <td>mean_main_pic_manhattan_distance</td>\n",
       "      <td>0.387465</td>\n",
       "    </tr>\n",
       "    <tr>\n",
       "      <th>47</th>\n",
       "      <td>pic_dist_50_perc</td>\n",
       "      <td>0.378160</td>\n",
       "    </tr>\n",
       "    <tr>\n",
       "      <th>48</th>\n",
       "      <td>main_pic_dist_50_perc</td>\n",
       "      <td>0.360151</td>\n",
       "    </tr>\n",
       "    <tr>\n",
       "      <th>49</th>\n",
       "      <td>main_pic_median_diff</td>\n",
       "      <td>0.324260</td>\n",
       "    </tr>\n",
       "    <tr>\n",
       "      <th>50</th>\n",
       "      <td>euclidean_name_embedding_dist</td>\n",
       "      <td>0.283988</td>\n",
       "    </tr>\n",
       "    <tr>\n",
       "      <th>51</th>\n",
       "      <td>cat41</td>\n",
       "      <td>0.283920</td>\n",
       "    </tr>\n",
       "  </tbody>\n",
       "</table>\n",
       "</div>"
      ],
      "text/plain": [
       "                             Feature Id  Importances\n",
       "0                                 name2    15.136199\n",
       "1                                 name1    14.260640\n",
       "2               name_jaccard_similarity     7.828576\n",
       "3    characteristic_attributes_mapping1     7.248652\n",
       "4    characteristic_attributes_mapping2     6.766030\n",
       "5           name_emb_manhattan_distance     6.130306\n",
       "6             name_levenshtein_distance     4.485204\n",
       "7                             attr_dist     4.292355\n",
       "8          ozon_bert_manhattan_distance     2.781874\n",
       "9         attributes_jaccard_similarity     2.337548\n",
       "10                 cosine_main_pic_dist     1.582509\n",
       "11             euclidean_name_bert_dist     1.564638\n",
       "12                    cosine_color_dist     1.444694\n",
       "13                      pic_dist_0_perc     1.141241\n",
       "14           cosine_name_embedding_dist     1.056144\n",
       "15                          common_keys     0.978590\n",
       "16          main_pic_manhattan_distance     0.976975\n",
       "17                 main_pic_dist_0_perc     0.902015\n",
       "18                        name_std_diff     0.858603\n",
       "19   median_main_pic_manhattan_distance     0.837195\n",
       "20                      same_value_keys     0.835362\n",
       "21                main_pic_dist_25_perc     0.798263\n",
       "22                                 cat3     0.744532\n",
       "23                   ozon_name_std_diff     0.704589\n",
       "24                                cat32     0.681890\n",
       "25      std_main_pic_manhattan_distance     0.680248\n",
       "26                    main_pic_std_diff     0.660234\n",
       "27                 euclidean_color_dist     0.643426\n",
       "28  median_ozon_bert_manhattan_distance     0.634455\n",
       "29                          mean_value2     0.633588\n",
       "30     mean_name_emb_manhattan_distance     0.620208\n",
       "31                cosine_name_bert_dist     0.619031\n",
       "32     std_ozon_bert_manhattan_distance     0.606210\n",
       "33                             attr_acc     0.601748\n",
       "34    mean_ozon_bert_manhattan_distance     0.557224\n",
       "35              euclidean_main_pic_dist     0.528972\n",
       "36   median_name_emb_manhattan_distance     0.527565\n",
       "37                          mean_value1     0.525496\n",
       "38      std_name_emb_manhattan_distance     0.502789\n",
       "39                       name_mean_diff     0.499858\n",
       "40                  ozon_name_mean_diff     0.498620\n",
       "41                     name_median_diff     0.481400\n",
       "42                                cat42     0.472837\n",
       "43                ozon_name_median_diff     0.462554\n",
       "44                   main_pic_mean_diff     0.446420\n",
       "45                     pic_dist_25_perc     0.404551\n",
       "46     mean_main_pic_manhattan_distance     0.387465\n",
       "47                     pic_dist_50_perc     0.378160\n",
       "48                main_pic_dist_50_perc     0.360151\n",
       "49                 main_pic_median_diff     0.324260\n",
       "50        euclidean_name_embedding_dist     0.283988\n",
       "51                                cat41     0.283920"
      ]
     },
     "execution_count": 55,
     "metadata": {},
     "output_type": "execute_result"
    }
   ],
   "source": [
    "fi = model.get_feature_importance(prettified=True)\n",
    "fi"
   ]
  },
  {
   "cell_type": "markdown",
   "id": "e5643eaa",
   "metadata": {},
   "source": [
    "## ДООБУЧЕНИЕ НА ВСЕЙ"
   ]
  },
  {
   "cell_type": "code",
   "execution_count": 56,
   "id": "0fd641e5",
   "metadata": {},
   "outputs": [],
   "source": [
    "# model = CatBoostClassifier(iterations=2500, learning_rate=0.125)"
   ]
  },
  {
   "cell_type": "code",
   "execution_count": 58,
   "id": "043cf339",
   "metadata": {},
   "outputs": [],
   "source": [
    "X_all = features.drop([\"target\"], axis=1)\n",
    "y_all = features[\"target\"]\n",
    "\n",
    "pool_all = Pool(\n",
    "    data=X_all[feats],\n",
    "    label=y_all,\n",
    "    text_features=['characteristic_attributes_mapping1', 'characteristic_attributes_mapping2', 'name1', 'name2'],\n",
    "    embedding_features=embeddin_col\n",
    ")"
   ]
  },
  {
   "cell_type": "code",
   "execution_count": 59,
   "id": "97bbdcfc",
   "metadata": {},
   "outputs": [],
   "source": [
    "# del train_data"
   ]
  },
  {
   "cell_type": "code",
   "execution_count": 60,
   "id": "761c5fae",
   "metadata": {
    "scrolled": true
   },
   "outputs": [
    {
     "data": {
      "application/vnd.jupyter.widget-view+json": {
       "model_id": "62809bca96db4d13a35466ec2d718ef5",
       "version_major": 2,
       "version_minor": 0
      },
      "text/plain": [
       "MetricVisualizer(layout=Layout(align_self='stretch', height='500px'))"
      ]
     },
     "metadata": {},
     "output_type": "display_data"
    },
    {
     "name": "stderr",
     "output_type": "stream",
     "text": [
      "You should provide test set for use best model. use_best_model parameter has been switched to false value.\n"
     ]
    },
    {
     "name": "stdout",
     "output_type": "stream",
     "text": [
      "0:\tlearn: 0.6453880\ttotal: 472ms\tremaining: 19m 40s\n",
      "10:\tlearn: 0.4722811\ttotal: 6.07s\tremaining: 22m 54s\n",
      "20:\tlearn: 0.4414090\ttotal: 11.7s\tremaining: 23m\n",
      "30:\tlearn: 0.4294168\ttotal: 17.2s\tremaining: 22m 51s\n",
      "40:\tlearn: 0.4221991\ttotal: 22.5s\tremaining: 22m 30s\n",
      "50:\tlearn: 0.4171749\ttotal: 28s\tremaining: 22m 24s\n",
      "60:\tlearn: 0.4134826\ttotal: 33.3s\tremaining: 22m 12s\n",
      "70:\tlearn: 0.4106904\ttotal: 38.5s\tremaining: 21m 57s\n",
      "80:\tlearn: 0.4079761\ttotal: 43.9s\tremaining: 21m 49s\n",
      "90:\tlearn: 0.4062056\ttotal: 49.2s\tremaining: 21m 42s\n",
      "100:\tlearn: 0.4046303\ttotal: 54.6s\tremaining: 21m 36s\n",
      "110:\tlearn: 0.4030092\ttotal: 60s\tremaining: 21m 30s\n",
      "120:\tlearn: 0.4016222\ttotal: 1m 5s\tremaining: 21m 23s\n",
      "130:\tlearn: 0.4001032\ttotal: 1m 10s\tremaining: 21m 18s\n",
      "140:\tlearn: 0.3987830\ttotal: 1m 16s\tremaining: 21m 13s\n",
      "150:\tlearn: 0.3973715\ttotal: 1m 21s\tremaining: 21m 6s\n",
      "160:\tlearn: 0.3959720\ttotal: 1m 26s\tremaining: 20m 59s\n",
      "170:\tlearn: 0.3948859\ttotal: 1m 31s\tremaining: 20m 52s\n",
      "180:\tlearn: 0.3937194\ttotal: 1m 37s\tremaining: 20m 44s\n",
      "190:\tlearn: 0.3925603\ttotal: 1m 42s\tremaining: 20m 37s\n",
      "200:\tlearn: 0.3915722\ttotal: 1m 47s\tremaining: 20m 33s\n",
      "210:\tlearn: 0.3906174\ttotal: 1m 53s\tremaining: 20m 27s\n",
      "220:\tlearn: 0.3896313\ttotal: 1m 58s\tremaining: 20m 23s\n",
      "230:\tlearn: 0.3887948\ttotal: 2m 4s\tremaining: 20m 19s\n",
      "240:\tlearn: 0.3879730\ttotal: 2m 9s\tremaining: 20m 13s\n",
      "250:\tlearn: 0.3871585\ttotal: 2m 14s\tremaining: 20m 7s\n",
      "260:\tlearn: 0.3864327\ttotal: 2m 19s\tremaining: 20m\n",
      "270:\tlearn: 0.3855698\ttotal: 2m 25s\tremaining: 19m 54s\n",
      "280:\tlearn: 0.3848450\ttotal: 2m 30s\tremaining: 19m 48s\n",
      "290:\tlearn: 0.3841141\ttotal: 2m 35s\tremaining: 19m 42s\n",
      "300:\tlearn: 0.3834244\ttotal: 2m 41s\tremaining: 19m 37s\n",
      "310:\tlearn: 0.3826686\ttotal: 2m 46s\tremaining: 19m 31s\n",
      "320:\tlearn: 0.3819442\ttotal: 2m 51s\tremaining: 19m 25s\n",
      "330:\tlearn: 0.3812494\ttotal: 2m 57s\tremaining: 19m 20s\n",
      "340:\tlearn: 0.3806592\ttotal: 3m 2s\tremaining: 19m 15s\n",
      "350:\tlearn: 0.3800214\ttotal: 3m 7s\tremaining: 19m 9s\n",
      "360:\tlearn: 0.3793976\ttotal: 3m 13s\tremaining: 19m 4s\n",
      "370:\tlearn: 0.3788253\ttotal: 3m 18s\tremaining: 18m 58s\n",
      "380:\tlearn: 0.3781622\ttotal: 3m 23s\tremaining: 18m 53s\n",
      "390:\tlearn: 0.3775973\ttotal: 3m 29s\tremaining: 18m 48s\n",
      "400:\tlearn: 0.3770659\ttotal: 3m 34s\tremaining: 18m 42s\n",
      "410:\tlearn: 0.3764860\ttotal: 3m 39s\tremaining: 18m 37s\n",
      "420:\tlearn: 0.3759368\ttotal: 3m 45s\tremaining: 18m 32s\n",
      "430:\tlearn: 0.3754780\ttotal: 3m 50s\tremaining: 18m 27s\n",
      "440:\tlearn: 0.3749413\ttotal: 3m 55s\tremaining: 18m 21s\n",
      "450:\tlearn: 0.3743952\ttotal: 4m 1s\tremaining: 18m 15s\n",
      "460:\tlearn: 0.3739050\ttotal: 4m 6s\tremaining: 18m 8s\n",
      "470:\tlearn: 0.3733977\ttotal: 4m 11s\tremaining: 18m 3s\n",
      "480:\tlearn: 0.3728763\ttotal: 4m 16s\tremaining: 17m 58s\n",
      "490:\tlearn: 0.3723015\ttotal: 4m 22s\tremaining: 17m 53s\n",
      "500:\tlearn: 0.3717405\ttotal: 4m 27s\tremaining: 17m 48s\n",
      "510:\tlearn: 0.3712701\ttotal: 4m 33s\tremaining: 17m 44s\n",
      "520:\tlearn: 0.3708445\ttotal: 4m 38s\tremaining: 17m 39s\n",
      "530:\tlearn: 0.3703270\ttotal: 4m 44s\tremaining: 17m 33s\n",
      "540:\tlearn: 0.3699027\ttotal: 4m 49s\tremaining: 17m 28s\n",
      "550:\tlearn: 0.3694717\ttotal: 4m 54s\tremaining: 17m 22s\n",
      "560:\tlearn: 0.3690281\ttotal: 5m\tremaining: 17m 17s\n",
      "570:\tlearn: 0.3685768\ttotal: 5m 5s\tremaining: 17m 12s\n",
      "580:\tlearn: 0.3680989\ttotal: 5m 10s\tremaining: 17m 6s\n",
      "590:\tlearn: 0.3676707\ttotal: 5m 16s\tremaining: 17m 1s\n",
      "600:\tlearn: 0.3672287\ttotal: 5m 21s\tremaining: 16m 55s\n",
      "610:\tlearn: 0.3667953\ttotal: 5m 26s\tremaining: 16m 49s\n",
      "620:\tlearn: 0.3663439\ttotal: 5m 31s\tremaining: 16m 44s\n",
      "630:\tlearn: 0.3659018\ttotal: 5m 37s\tremaining: 16m 38s\n",
      "640:\tlearn: 0.3654805\ttotal: 5m 42s\tremaining: 16m 33s\n",
      "650:\tlearn: 0.3650146\ttotal: 5m 47s\tremaining: 16m 28s\n",
      "660:\tlearn: 0.3646277\ttotal: 5m 53s\tremaining: 16m 22s\n",
      "670:\tlearn: 0.3642161\ttotal: 5m 58s\tremaining: 16m 17s\n",
      "680:\tlearn: 0.3638544\ttotal: 6m 4s\tremaining: 16m 12s\n",
      "690:\tlearn: 0.3634585\ttotal: 6m 9s\tremaining: 16m 6s\n",
      "700:\tlearn: 0.3630064\ttotal: 6m 14s\tremaining: 16m 1s\n",
      "710:\tlearn: 0.3626650\ttotal: 6m 20s\tremaining: 15m 56s\n",
      "720:\tlearn: 0.3623036\ttotal: 6m 25s\tremaining: 15m 51s\n",
      "730:\tlearn: 0.3619239\ttotal: 6m 30s\tremaining: 15m 45s\n",
      "740:\tlearn: 0.3615581\ttotal: 6m 36s\tremaining: 15m 40s\n",
      "750:\tlearn: 0.3611586\ttotal: 6m 41s\tremaining: 15m 34s\n",
      "760:\tlearn: 0.3607815\ttotal: 6m 46s\tremaining: 15m 29s\n",
      "770:\tlearn: 0.3603611\ttotal: 6m 52s\tremaining: 15m 23s\n",
      "780:\tlearn: 0.3599932\ttotal: 6m 57s\tremaining: 15m 18s\n",
      "790:\tlearn: 0.3596006\ttotal: 7m 2s\tremaining: 15m 13s\n",
      "800:\tlearn: 0.3592342\ttotal: 7m 8s\tremaining: 15m 7s\n",
      "810:\tlearn: 0.3588825\ttotal: 7m 13s\tremaining: 15m 2s\n",
      "820:\tlearn: 0.3585100\ttotal: 7m 18s\tremaining: 14m 57s\n",
      "830:\tlearn: 0.3581712\ttotal: 7m 24s\tremaining: 14m 51s\n",
      "840:\tlearn: 0.3578152\ttotal: 7m 29s\tremaining: 14m 46s\n",
      "850:\tlearn: 0.3574875\ttotal: 7m 34s\tremaining: 14m 41s\n",
      "860:\tlearn: 0.3571374\ttotal: 7m 40s\tremaining: 14m 36s\n",
      "870:\tlearn: 0.3567835\ttotal: 7m 45s\tremaining: 14m 30s\n",
      "880:\tlearn: 0.3564044\ttotal: 7m 50s\tremaining: 14m 25s\n",
      "890:\tlearn: 0.3560689\ttotal: 7m 56s\tremaining: 14m 20s\n",
      "900:\tlearn: 0.3557588\ttotal: 8m 1s\tremaining: 14m 14s\n",
      "910:\tlearn: 0.3554237\ttotal: 8m 6s\tremaining: 14m 9s\n",
      "920:\tlearn: 0.3551027\ttotal: 8m 12s\tremaining: 14m 4s\n",
      "930:\tlearn: 0.3547428\ttotal: 8m 17s\tremaining: 13m 58s\n",
      "940:\tlearn: 0.3544201\ttotal: 8m 23s\tremaining: 13m 53s\n",
      "950:\tlearn: 0.3540998\ttotal: 8m 28s\tremaining: 13m 48s\n",
      "960:\tlearn: 0.3537127\ttotal: 8m 33s\tremaining: 13m 42s\n",
      "970:\tlearn: 0.3534143\ttotal: 8m 39s\tremaining: 13m 37s\n",
      "980:\tlearn: 0.3530889\ttotal: 8m 44s\tremaining: 13m 32s\n",
      "990:\tlearn: 0.3527212\ttotal: 8m 50s\tremaining: 13m 27s\n",
      "1000:\tlearn: 0.3523869\ttotal: 8m 55s\tremaining: 13m 21s\n",
      "1010:\tlearn: 0.3520605\ttotal: 9m\tremaining: 13m 16s\n",
      "1020:\tlearn: 0.3517409\ttotal: 9m 6s\tremaining: 13m 11s\n",
      "1030:\tlearn: 0.3513805\ttotal: 9m 11s\tremaining: 13m 5s\n",
      "1040:\tlearn: 0.3510690\ttotal: 9m 16s\tremaining: 13m\n",
      "1050:\tlearn: 0.3507686\ttotal: 9m 22s\tremaining: 12m 54s\n",
      "1060:\tlearn: 0.3504785\ttotal: 9m 27s\tremaining: 12m 49s\n",
      "1070:\tlearn: 0.3501293\ttotal: 9m 32s\tremaining: 12m 44s\n",
      "1080:\tlearn: 0.3498188\ttotal: 9m 38s\tremaining: 12m 38s\n",
      "1090:\tlearn: 0.3495030\ttotal: 9m 43s\tremaining: 12m 33s\n",
      "1100:\tlearn: 0.3492021\ttotal: 9m 48s\tremaining: 12m 27s\n",
      "1110:\tlearn: 0.3488590\ttotal: 9m 53s\tremaining: 12m 22s\n",
      "1120:\tlearn: 0.3485170\ttotal: 9m 59s\tremaining: 12m 17s\n",
      "1130:\tlearn: 0.3481956\ttotal: 10m 4s\tremaining: 12m 11s\n",
      "1140:\tlearn: 0.3479140\ttotal: 10m 9s\tremaining: 12m 6s\n",
      "1150:\tlearn: 0.3475904\ttotal: 10m 15s\tremaining: 12m 1s\n",
      "1160:\tlearn: 0.3472409\ttotal: 10m 20s\tremaining: 11m 55s\n",
      "1170:\tlearn: 0.3469069\ttotal: 10m 25s\tremaining: 11m 50s\n",
      "1180:\tlearn: 0.3466138\ttotal: 10m 31s\tremaining: 11m 45s\n",
      "1190:\tlearn: 0.3463176\ttotal: 10m 36s\tremaining: 11m 39s\n",
      "1200:\tlearn: 0.3460208\ttotal: 10m 42s\tremaining: 11m 34s\n",
      "1210:\tlearn: 0.3457322\ttotal: 10m 47s\tremaining: 11m 29s\n",
      "1220:\tlearn: 0.3454220\ttotal: 10m 52s\tremaining: 11m 23s\n",
      "1230:\tlearn: 0.3451593\ttotal: 10m 58s\tremaining: 11m 18s\n",
      "1240:\tlearn: 0.3448730\ttotal: 11m 3s\tremaining: 11m 13s\n",
      "1250:\tlearn: 0.3445679\ttotal: 11m 9s\tremaining: 11m 8s\n",
      "1260:\tlearn: 0.3442669\ttotal: 11m 14s\tremaining: 11m 2s\n",
      "1270:\tlearn: 0.3439919\ttotal: 11m 19s\tremaining: 10m 57s\n",
      "1280:\tlearn: 0.3437185\ttotal: 11m 25s\tremaining: 10m 52s\n",
      "1290:\tlearn: 0.3434196\ttotal: 11m 30s\tremaining: 10m 46s\n",
      "1300:\tlearn: 0.3431511\ttotal: 11m 36s\tremaining: 10m 41s\n",
      "1310:\tlearn: 0.3428962\ttotal: 11m 41s\tremaining: 10m 36s\n",
      "1320:\tlearn: 0.3425943\ttotal: 11m 46s\tremaining: 10m 30s\n",
      "1330:\tlearn: 0.3422805\ttotal: 11m 52s\tremaining: 10m 25s\n",
      "1340:\tlearn: 0.3419936\ttotal: 11m 57s\tremaining: 10m 20s\n",
      "1350:\tlearn: 0.3416825\ttotal: 12m 3s\tremaining: 10m 14s\n",
      "1360:\tlearn: 0.3413589\ttotal: 12m 8s\tremaining: 10m 9s\n",
      "1370:\tlearn: 0.3410791\ttotal: 12m 13s\tremaining: 10m 4s\n",
      "1380:\tlearn: 0.3408114\ttotal: 12m 19s\tremaining: 9m 58s\n",
      "1390:\tlearn: 0.3405258\ttotal: 12m 24s\tremaining: 9m 53s\n",
      "1400:\tlearn: 0.3401914\ttotal: 12m 29s\tremaining: 9m 48s\n",
      "1410:\tlearn: 0.3399142\ttotal: 12m 35s\tremaining: 9m 42s\n",
      "1420:\tlearn: 0.3396144\ttotal: 12m 40s\tremaining: 9m 37s\n",
      "1430:\tlearn: 0.3393016\ttotal: 12m 45s\tremaining: 9m 31s\n",
      "1440:\tlearn: 0.3390184\ttotal: 12m 51s\tremaining: 9m 26s\n",
      "1450:\tlearn: 0.3387559\ttotal: 12m 56s\tremaining: 9m 21s\n",
      "1460:\tlearn: 0.3384789\ttotal: 13m 1s\tremaining: 9m 15s\n",
      "1470:\tlearn: 0.3382213\ttotal: 13m 7s\tremaining: 9m 10s\n",
      "1480:\tlearn: 0.3379114\ttotal: 13m 12s\tremaining: 9m 5s\n",
      "1490:\tlearn: 0.3376225\ttotal: 13m 17s\tremaining: 8m 59s\n"
     ]
    },
    {
     "name": "stdout",
     "output_type": "stream",
     "text": [
      "1500:\tlearn: 0.3373810\ttotal: 13m 23s\tremaining: 8m 54s\n",
      "1510:\tlearn: 0.3371125\ttotal: 13m 28s\tremaining: 8m 49s\n",
      "1520:\tlearn: 0.3368441\ttotal: 13m 33s\tremaining: 8m 43s\n",
      "1530:\tlearn: 0.3365636\ttotal: 13m 39s\tremaining: 8m 38s\n",
      "1540:\tlearn: 0.3362718\ttotal: 13m 44s\tremaining: 8m 33s\n",
      "1550:\tlearn: 0.3360151\ttotal: 13m 49s\tremaining: 8m 27s\n",
      "1560:\tlearn: 0.3357825\ttotal: 13m 55s\tremaining: 8m 22s\n",
      "1570:\tlearn: 0.3355044\ttotal: 14m\tremaining: 8m 17s\n",
      "1580:\tlearn: 0.3352154\ttotal: 14m 5s\tremaining: 8m 11s\n",
      "1590:\tlearn: 0.3349506\ttotal: 14m 11s\tremaining: 8m 6s\n",
      "1600:\tlearn: 0.3346809\ttotal: 14m 16s\tremaining: 8m 1s\n",
      "1610:\tlearn: 0.3344188\ttotal: 14m 21s\tremaining: 7m 55s\n",
      "1620:\tlearn: 0.3341611\ttotal: 14m 27s\tremaining: 7m 50s\n",
      "1630:\tlearn: 0.3339079\ttotal: 14m 32s\tremaining: 7m 45s\n",
      "1640:\tlearn: 0.3336519\ttotal: 14m 38s\tremaining: 7m 39s\n",
      "1650:\tlearn: 0.3333966\ttotal: 14m 43s\tremaining: 7m 34s\n",
      "1660:\tlearn: 0.3331079\ttotal: 14m 48s\tremaining: 7m 28s\n",
      "1670:\tlearn: 0.3328057\ttotal: 14m 54s\tremaining: 7m 23s\n",
      "1680:\tlearn: 0.3325258\ttotal: 14m 59s\tremaining: 7m 18s\n",
      "1690:\tlearn: 0.3322964\ttotal: 15m 4s\tremaining: 7m 12s\n",
      "1700:\tlearn: 0.3320468\ttotal: 15m 10s\tremaining: 7m 7s\n",
      "1710:\tlearn: 0.3317945\ttotal: 15m 15s\tremaining: 7m 2s\n",
      "1720:\tlearn: 0.3315418\ttotal: 15m 21s\tremaining: 6m 57s\n",
      "1730:\tlearn: 0.3312096\ttotal: 15m 26s\tremaining: 6m 51s\n",
      "1740:\tlearn: 0.3309595\ttotal: 15m 32s\tremaining: 6m 46s\n",
      "1750:\tlearn: 0.3306999\ttotal: 15m 37s\tremaining: 6m 41s\n",
      "1760:\tlearn: 0.3304456\ttotal: 15m 42s\tremaining: 6m 35s\n",
      "1770:\tlearn: 0.3301923\ttotal: 15m 48s\tremaining: 6m 30s\n",
      "1780:\tlearn: 0.3299172\ttotal: 15m 53s\tremaining: 6m 25s\n",
      "1790:\tlearn: 0.3296464\ttotal: 15m 59s\tremaining: 6m 19s\n",
      "1800:\tlearn: 0.3294008\ttotal: 16m 4s\tremaining: 6m 14s\n",
      "1810:\tlearn: 0.3291707\ttotal: 16m 9s\tremaining: 6m 8s\n",
      "1820:\tlearn: 0.3289191\ttotal: 16m 15s\tremaining: 6m 3s\n",
      "1830:\tlearn: 0.3286755\ttotal: 16m 20s\tremaining: 5m 58s\n",
      "1840:\tlearn: 0.3284606\ttotal: 16m 25s\tremaining: 5m 52s\n",
      "1850:\tlearn: 0.3282308\ttotal: 16m 31s\tremaining: 5m 47s\n",
      "1860:\tlearn: 0.3279895\ttotal: 16m 36s\tremaining: 5m 42s\n",
      "1870:\tlearn: 0.3276562\ttotal: 16m 41s\tremaining: 5m 36s\n",
      "1880:\tlearn: 0.3274184\ttotal: 16m 47s\tremaining: 5m 31s\n",
      "1890:\tlearn: 0.3271641\ttotal: 16m 52s\tremaining: 5m 26s\n",
      "1900:\tlearn: 0.3269268\ttotal: 16m 57s\tremaining: 5m 20s\n",
      "1910:\tlearn: 0.3266765\ttotal: 17m 2s\tremaining: 5m 15s\n",
      "1920:\tlearn: 0.3264074\ttotal: 17m 7s\tremaining: 5m 9s\n",
      "1930:\tlearn: 0.3261545\ttotal: 17m 12s\tremaining: 5m 4s\n",
      "1940:\tlearn: 0.3259040\ttotal: 17m 18s\tremaining: 4m 58s\n",
      "1950:\tlearn: 0.3256722\ttotal: 17m 23s\tremaining: 4m 53s\n",
      "1960:\tlearn: 0.3254382\ttotal: 17m 28s\tremaining: 4m 48s\n",
      "1970:\tlearn: 0.3252160\ttotal: 17m 34s\tremaining: 4m 42s\n",
      "1980:\tlearn: 0.3249823\ttotal: 17m 39s\tremaining: 4m 37s\n",
      "1990:\tlearn: 0.3247438\ttotal: 17m 45s\tremaining: 4m 32s\n",
      "2000:\tlearn: 0.3245140\ttotal: 17m 50s\tremaining: 4m 26s\n",
      "2010:\tlearn: 0.3242708\ttotal: 17m 55s\tremaining: 4m 21s\n",
      "2020:\tlearn: 0.3240392\ttotal: 18m\tremaining: 4m 16s\n",
      "2030:\tlearn: 0.3237995\ttotal: 18m 6s\tremaining: 4m 10s\n",
      "2040:\tlearn: 0.3235559\ttotal: 18m 11s\tremaining: 4m 5s\n",
      "2050:\tlearn: 0.3233613\ttotal: 18m 16s\tremaining: 4m\n",
      "2060:\tlearn: 0.3231127\ttotal: 18m 22s\tremaining: 3m 54s\n",
      "2070:\tlearn: 0.3228703\ttotal: 18m 27s\tremaining: 3m 49s\n",
      "2080:\tlearn: 0.3226536\ttotal: 18m 33s\tremaining: 3m 44s\n",
      "2090:\tlearn: 0.3224263\ttotal: 18m 38s\tremaining: 3m 38s\n",
      "2100:\tlearn: 0.3222027\ttotal: 18m 43s\tremaining: 3m 33s\n",
      "2110:\tlearn: 0.3219523\ttotal: 18m 49s\tremaining: 3m 28s\n",
      "2120:\tlearn: 0.3217266\ttotal: 18m 54s\tremaining: 3m 22s\n",
      "2130:\tlearn: 0.3214386\ttotal: 19m\tremaining: 3m 17s\n",
      "2140:\tlearn: 0.3211981\ttotal: 19m 5s\tremaining: 3m 12s\n",
      "2150:\tlearn: 0.3209727\ttotal: 19m 10s\tremaining: 3m 6s\n",
      "2160:\tlearn: 0.3207582\ttotal: 19m 15s\tremaining: 3m 1s\n",
      "2170:\tlearn: 0.3205334\ttotal: 19m 21s\tremaining: 2m 56s\n",
      "2180:\tlearn: 0.3202976\ttotal: 19m 26s\tremaining: 2m 50s\n",
      "2190:\tlearn: 0.3200902\ttotal: 19m 32s\tremaining: 2m 45s\n",
      "2200:\tlearn: 0.3198603\ttotal: 19m 37s\tremaining: 2m 39s\n",
      "2210:\tlearn: 0.3196163\ttotal: 19m 42s\tremaining: 2m 34s\n",
      "2220:\tlearn: 0.3194137\ttotal: 19m 47s\tremaining: 2m 29s\n",
      "2230:\tlearn: 0.3191852\ttotal: 19m 53s\tremaining: 2m 23s\n",
      "2240:\tlearn: 0.3189500\ttotal: 19m 58s\tremaining: 2m 18s\n",
      "2250:\tlearn: 0.3187066\ttotal: 20m 4s\tremaining: 2m 13s\n",
      "2260:\tlearn: 0.3184804\ttotal: 20m 9s\tremaining: 2m 7s\n",
      "2270:\tlearn: 0.3182612\ttotal: 20m 15s\tremaining: 2m 2s\n",
      "2280:\tlearn: 0.3180508\ttotal: 20m 20s\tremaining: 1m 57s\n",
      "2290:\tlearn: 0.3178252\ttotal: 20m 25s\tremaining: 1m 51s\n",
      "2300:\tlearn: 0.3175777\ttotal: 20m 30s\tremaining: 1m 46s\n",
      "2310:\tlearn: 0.3173355\ttotal: 20m 35s\tremaining: 1m 41s\n",
      "2320:\tlearn: 0.3171234\ttotal: 20m 40s\tremaining: 1m 35s\n",
      "2330:\tlearn: 0.3169143\ttotal: 20m 45s\tremaining: 1m 30s\n",
      "2340:\tlearn: 0.3166623\ttotal: 20m 50s\tremaining: 1m 24s\n",
      "2350:\tlearn: 0.3164423\ttotal: 20m 56s\tremaining: 1m 19s\n",
      "2360:\tlearn: 0.3162029\ttotal: 21m 1s\tremaining: 1m 14s\n",
      "2370:\tlearn: 0.3160070\ttotal: 21m 7s\tremaining: 1m 8s\n",
      "2380:\tlearn: 0.3157846\ttotal: 21m 12s\tremaining: 1m 3s\n",
      "2390:\tlearn: 0.3155556\ttotal: 21m 17s\tremaining: 58.3s\n",
      "2400:\tlearn: 0.3152965\ttotal: 21m 23s\tremaining: 52.9s\n",
      "2410:\tlearn: 0.3150674\ttotal: 21m 28s\tremaining: 47.6s\n",
      "2420:\tlearn: 0.3148565\ttotal: 21m 34s\tremaining: 42.2s\n",
      "2430:\tlearn: 0.3146264\ttotal: 21m 39s\tremaining: 36.9s\n",
      "2440:\tlearn: 0.3144300\ttotal: 21m 45s\tremaining: 31.5s\n",
      "2450:\tlearn: 0.3142037\ttotal: 21m 50s\tremaining: 26.2s\n",
      "2460:\tlearn: 0.3139866\ttotal: 21m 55s\tremaining: 20.8s\n",
      "2470:\tlearn: 0.3137722\ttotal: 22m\tremaining: 15.5s\n",
      "2480:\tlearn: 0.3135670\ttotal: 22m 6s\tremaining: 10.2s\n",
      "2490:\tlearn: 0.3133745\ttotal: 22m 11s\tremaining: 4.81s\n",
      "2499:\tlearn: 0.3131775\ttotal: 22m 16s\tremaining: 0us\n"
     ]
    },
    {
     "data": {
      "text/plain": [
       "<catboost.core.CatBoostClassifier at 0x1f5321d7070>"
      ]
     },
     "execution_count": 60,
     "metadata": {},
     "output_type": "execute_result"
    }
   ],
   "source": [
    "model.fit(\n",
    "    pool_all,\n",
    "    plot=True,\n",
    "    verbose=True,\n",
    "    use_best_model=True,\n",
    "    early_stopping_rounds=40,\n",
    "    metric_period=10\n",
    ")"
   ]
  },
  {
   "cell_type": "code",
   "execution_count": 62,
   "id": "97ed25c0",
   "metadata": {},
   "outputs": [],
   "source": [
    "# X_all[\"scores\"] = model.predict_proba(pool_all)[:, 1] # for cat\n",
    "# pred_ts = model.predict(pool_all)\n",
    "\n",
    "# pr_auc_macro_metr = pr_auc_macro(features,X_all)\n",
    "# display('PROCall:', pr_auc_macro_metr)\n",
    "\n",
    "# print('AUC:', roc_auc_score(y_all, X_all ))\n",
    "# print('Accuracy:', acc(y_all['target'], pred_ts ))\n",
    "# print('F1:', f1_score(y_all['target'], pred_ts ))\n",
    "# print('Precision:', precision_score(y_all['target'], pred_ts))"
   ]
  },
  {
   "cell_type": "markdown",
   "id": "5412aa17",
   "metadata": {},
   "source": [
    "###  Метрика на дообученной"
   ]
  },
  {
   "cell_type": "markdown",
   "id": "e46fd523",
   "metadata": {},
   "source": [
    "## Submission. Расчет на финальной тестовой"
   ]
  },
  {
   "cell_type": "markdown",
   "id": "db880bd2",
   "metadata": {},
   "source": [
    "### Предобработка"
   ]
  },
  {
   "cell_type": "code",
   "execution_count": 63,
   "id": "1eb031ac",
   "metadata": {
    "scrolled": true
   },
   "outputs": [
    {
     "name": "stdout",
     "output_type": "stream",
     "text": [
      "449\n",
      "CPU times: total: 17.8 s\n",
      "Wall time: 17.8 s\n"
     ]
    }
   ],
   "source": [
    "%%time\n",
    "# test_pairs_wo_target = pd.read_parquet('test_pairs_wo_target.parquet')\n",
    "# test_data = pd.read_parquet('test_data.parquet')\n",
    "\n",
    "REST_test = 50\n",
    "\n",
    "test_data = new_col(test_data)\n",
    "test_data = cat3_grouped(test_data, REST_test)\n",
    "test_data[cat_col] = encoder.transform(test_data[cat_col]) \n",
    "test_data = color(test_data)\n",
    "\n",
    "# Объединение таблиц\n",
    "features_test = merge_f(test_pairs_wo_target, test_data)\n",
    "\n",
    "\n",
    "features_test[['attr_dist', \n",
    "               'attr_acc', \n",
    "               'common_keys', \n",
    "               'same_value_keys', \n",
    "               'mean_value1', \n",
    "               'mean_value2']] = features_test[['attributes_set1', 'attributes_set2']].apply(\n",
    "    lambda x: pd.Series(compare_attr(*x)), axis=1\n",
    ")\n",
    "\n",
    "features_test['mean_value1'] = features_test['mean_value1'].fillna(0)\n",
    "features_test['mean_value2'] = features_test['mean_value2'].fillna(0)"
   ]
  },
  {
   "cell_type": "code",
   "execution_count": 64,
   "id": "84cc6ef6",
   "metadata": {},
   "outputs": [
    {
     "data": {
      "text/html": [
       "<div>\n",
       "<style scoped>\n",
       "    .dataframe tbody tr th:only-of-type {\n",
       "        vertical-align: middle;\n",
       "    }\n",
       "\n",
       "    .dataframe tbody tr th {\n",
       "        vertical-align: top;\n",
       "    }\n",
       "\n",
       "    .dataframe thead th {\n",
       "        text-align: right;\n",
       "    }\n",
       "</style>\n",
       "<table border=\"1\" class=\"dataframe\">\n",
       "  <thead>\n",
       "    <tr style=\"text-align: right;\">\n",
       "      <th></th>\n",
       "      <th>variantid1</th>\n",
       "      <th>variantid2</th>\n",
       "      <th>cat3_grouped</th>\n",
       "      <th>name1</th>\n",
       "      <th>categories1</th>\n",
       "      <th>pic_embeddings_resnet_v11</th>\n",
       "      <th>main_pic_embeddings_resnet_v11</th>\n",
       "      <th>name_bert_641</th>\n",
       "      <th>characteristic_attributes_mapping1</th>\n",
       "      <th>name_embedding1</th>\n",
       "      <th>attributes_set1</th>\n",
       "      <th>cat3</th>\n",
       "      <th>cat41</th>\n",
       "      <th>main_pic_embeddings_resnet_v1_new1</th>\n",
       "      <th>cat3_grouped</th>\n",
       "      <th>clr_vect1</th>\n",
       "      <th>name2</th>\n",
       "      <th>categories2</th>\n",
       "      <th>pic_embeddings_resnet_v12</th>\n",
       "      <th>main_pic_embeddings_resnet_v12</th>\n",
       "      <th>name_bert_642</th>\n",
       "      <th>characteristic_attributes_mapping2</th>\n",
       "      <th>name_embedding2</th>\n",
       "      <th>attributes_set2</th>\n",
       "      <th>cat32</th>\n",
       "      <th>cat42</th>\n",
       "      <th>main_pic_embeddings_resnet_v1_new2</th>\n",
       "      <th>cat3_grouped2</th>\n",
       "      <th>clr_vect2</th>\n",
       "      <th>attr_dist</th>\n",
       "      <th>attr_acc</th>\n",
       "      <th>common_keys</th>\n",
       "      <th>same_value_keys</th>\n",
       "      <th>mean_value1</th>\n",
       "      <th>mean_value2</th>\n",
       "    </tr>\n",
       "  </thead>\n",
       "  <tbody>\n",
       "    <tr>\n",
       "      <th>0</th>\n",
       "      <td>52076340</td>\n",
       "      <td>290590137</td>\n",
       "      <td>Батарейки и аккумуляторы</td>\n",
       "      <td>Батарейка AAA щелочная Perfeo LR03/10BL Super ...</td>\n",
       "      <td>{\"1\": \"EPG\", \"2\": \"Электроника\", \"3\": \"Батарей...</td>\n",
       "      <td>[[0.15417035, 0.41160947, 0.2213532, -0.019731...</td>\n",
       "      <td>[[0.04763528, -0.20136409, 0.29605597, 0.26453...</td>\n",
       "      <td>[-0.28437558, 0.60909724, 0.5972025, -0.523296...</td>\n",
       "      <td>{\"Напряжение, В\":[\"1.5\"],\"Бренд\":[\"Perfeo\"],\"Т...</td>\n",
       "      <td>[-0.68162066, 0.0034779932, 0.14610538, -0.138...</td>\n",
       "      <td>{'Напряжение, В': ['1.5'], 'Бренд': ['Perfeo']...</td>\n",
       "      <td>17.0</td>\n",
       "      <td>45.0</td>\n",
       "      <td>[0.04763528, -0.20136409, 0.29605597, 0.264536...</td>\n",
       "      <td>Батарейки и аккумуляторы</td>\n",
       "      <td>[0, 0, 0, 0, 0, 0, 0, 0, 0, 0, 0, 0, 0, 0]</td>\n",
       "      <td>Батарейка AAA щелочная Perfeo LR03/2BL mini Su...</td>\n",
       "      <td>{\"1\": \"EPG\", \"2\": \"Электроника\", \"3\": \"Батарей...</td>\n",
       "      <td>[[-0.025554053, 0.012488857, 0.43989864, -0.10...</td>\n",
       "      <td>[[0.06223978, -0.16145544, 0.26409012, 0.24271...</td>\n",
       "      <td>[-0.3380968, 0.6156224, 0.6428071, -0.57499236...</td>\n",
       "      <td>{\"Форм-фактор батареи\":[\"AAA\"],\"Химический тип...</td>\n",
       "      <td>[-0.47604635, -0.15201007, 0.23725557, -0.0434...</td>\n",
       "      <td>{'Форм-фактор батареи': ['AAA'], 'Химический т...</td>\n",
       "      <td>17.0</td>\n",
       "      <td>45.0</td>\n",
       "      <td>[0.06223978, -0.16145544, 0.26409012, 0.242712...</td>\n",
       "      <td>Батарейки и аккумуляторы</td>\n",
       "      <td>[0, 0, 0, 0, 0, 0, 0, 0, 0, 0, 0, 0, 0, 0]</td>\n",
       "      <td>0.5</td>\n",
       "      <td>9.0</td>\n",
       "      <td>10.0</td>\n",
       "      <td>9.0</td>\n",
       "      <td>5.75</td>\n",
       "      <td>2.75</td>\n",
       "    </tr>\n",
       "  </tbody>\n",
       "</table>\n",
       "</div>"
      ],
      "text/plain": [
       "   variantid1  variantid2              cat3_grouped  \\\n",
       "0    52076340   290590137  Батарейки и аккумуляторы   \n",
       "\n",
       "                                               name1  \\\n",
       "0  Батарейка AAA щелочная Perfeo LR03/10BL Super ...   \n",
       "\n",
       "                                         categories1  \\\n",
       "0  {\"1\": \"EPG\", \"2\": \"Электроника\", \"3\": \"Батарей...   \n",
       "\n",
       "                           pic_embeddings_resnet_v11  \\\n",
       "0  [[0.15417035, 0.41160947, 0.2213532, -0.019731...   \n",
       "\n",
       "                      main_pic_embeddings_resnet_v11  \\\n",
       "0  [[0.04763528, -0.20136409, 0.29605597, 0.26453...   \n",
       "\n",
       "                                       name_bert_641  \\\n",
       "0  [-0.28437558, 0.60909724, 0.5972025, -0.523296...   \n",
       "\n",
       "                  characteristic_attributes_mapping1  \\\n",
       "0  {\"Напряжение, В\":[\"1.5\"],\"Бренд\":[\"Perfeo\"],\"Т...   \n",
       "\n",
       "                                     name_embedding1  \\\n",
       "0  [-0.68162066, 0.0034779932, 0.14610538, -0.138...   \n",
       "\n",
       "                                     attributes_set1  cat3  cat41  \\\n",
       "0  {'Напряжение, В': ['1.5'], 'Бренд': ['Perfeo']...  17.0   45.0   \n",
       "\n",
       "                  main_pic_embeddings_resnet_v1_new1  \\\n",
       "0  [0.04763528, -0.20136409, 0.29605597, 0.264536...   \n",
       "\n",
       "               cat3_grouped                                   clr_vect1  \\\n",
       "0  Батарейки и аккумуляторы  [0, 0, 0, 0, 0, 0, 0, 0, 0, 0, 0, 0, 0, 0]   \n",
       "\n",
       "                                               name2  \\\n",
       "0  Батарейка AAA щелочная Perfeo LR03/2BL mini Su...   \n",
       "\n",
       "                                         categories2  \\\n",
       "0  {\"1\": \"EPG\", \"2\": \"Электроника\", \"3\": \"Батарей...   \n",
       "\n",
       "                           pic_embeddings_resnet_v12  \\\n",
       "0  [[-0.025554053, 0.012488857, 0.43989864, -0.10...   \n",
       "\n",
       "                      main_pic_embeddings_resnet_v12  \\\n",
       "0  [[0.06223978, -0.16145544, 0.26409012, 0.24271...   \n",
       "\n",
       "                                       name_bert_642  \\\n",
       "0  [-0.3380968, 0.6156224, 0.6428071, -0.57499236...   \n",
       "\n",
       "                  characteristic_attributes_mapping2  \\\n",
       "0  {\"Форм-фактор батареи\":[\"AAA\"],\"Химический тип...   \n",
       "\n",
       "                                     name_embedding2  \\\n",
       "0  [-0.47604635, -0.15201007, 0.23725557, -0.0434...   \n",
       "\n",
       "                                     attributes_set2  cat32  cat42  \\\n",
       "0  {'Форм-фактор батареи': ['AAA'], 'Химический т...   17.0   45.0   \n",
       "\n",
       "                  main_pic_embeddings_resnet_v1_new2  \\\n",
       "0  [0.06223978, -0.16145544, 0.26409012, 0.242712...   \n",
       "\n",
       "              cat3_grouped2                                   clr_vect2  \\\n",
       "0  Батарейки и аккумуляторы  [0, 0, 0, 0, 0, 0, 0, 0, 0, 0, 0, 0, 0, 0]   \n",
       "\n",
       "   attr_dist  attr_acc  common_keys  same_value_keys  mean_value1  mean_value2  \n",
       "0        0.5       9.0         10.0              9.0         5.75         2.75  "
      ]
     },
     "execution_count": 64,
     "metadata": {},
     "output_type": "execute_result"
    }
   ],
   "source": [
    "features_test.head(1)"
   ]
  },
  {
   "cell_type": "code",
   "execution_count": 65,
   "id": "282e9d3c",
   "metadata": {},
   "outputs": [],
   "source": [
    "features_test['main_pic_embeddings_resnet_v1_new1'] = features_test['main_pic_embeddings_resnet_v11'].apply(lambda x: x[0])\n",
    "features_test['main_pic_embeddings_resnet_v1_new2'] = features_test['main_pic_embeddings_resnet_v12'].apply(lambda x: x[0])"
   ]
  },
  {
   "cell_type": "code",
   "execution_count": 66,
   "id": "b71f2ae1",
   "metadata": {},
   "outputs": [
    {
     "name": "stdout",
     "output_type": "stream",
     "text": [
      "CPU times: total: 8.53 s\n",
      "Wall time: 8.53 s\n"
     ]
    }
   ],
   "source": [
    "%%time\n",
    "# Добавляем новые столбцы в датафрейм features_test с вычисленными статистическими характеристиками разности \n",
    "# между эмбеддингами названий товаров\n",
    "features_test[['name_mean_diff', 'name_median_diff', 'name_std_diff']] = features_test.apply(\n",
    "    lambda x: calculate_statistical_features(\n",
    "        x['name_embedding1'], x['name_embedding2']), axis=1, result_type='expand'\n",
    ")\n",
    "\n",
    "# Добавляем новые столбцы в датафрейм features_test с вычисленными статистическими характеристиками разности \n",
    "# между эмбеддингами названий товаров от ozon\n",
    "features_test[['ozon_name_mean_diff', 'ozon_name_median_diff', 'ozon_name_std_diff']] = features_test.apply(\n",
    "    lambda x: calculate_statistical_features(\n",
    "        x['name_bert_641'], x['name_bert_642']), axis=1, result_type='expand'\n",
    ")\n",
    "\n",
    "# Добавляем новые столбцы в датафрейм features_test с вычисленными статистическими характеристиками разности \n",
    "# между эмбеддингами картинок товаров\n",
    "features_test[['main_pic_mean_diff', 'main_pic_median_diff', 'main_pic_std_diff']] = features_test.apply(\n",
    "    lambda x: calculate_statistical_features(\n",
    "        x['main_pic_embeddings_resnet_v1_new1'], x['main_pic_embeddings_resnet_v1_new2']), axis=1, result_type='expand'\n",
    ")"
   ]
  },
  {
   "cell_type": "code",
   "execution_count": 67,
   "id": "ce700520",
   "metadata": {},
   "outputs": [
    {
     "name": "stdout",
     "output_type": "stream",
     "text": [
      "CPU times: total: 1min 2s\n",
      "Wall time: 1min 2s\n"
     ]
    }
   ],
   "source": [
    "%%time\n",
    "# Добавляем новый столбец в датафрейм features_test с вычисленным коэффициентом Жаккара между названиями товаров\n",
    "features_test['name_jaccard_similarity'] = features_test.apply(\n",
    "    lambda x: calculate_jaccard_similarity(x['name1'], x['name2']), axis=1\n",
    ")\n",
    "\n",
    "# Добавляем новый столбец в датафрейм features_test с вычисленным коэффициентом Жаккара между атрибутами товаров\n",
    "features_test['attributes_jaccard_similarity'] = features_test.apply(\n",
    "    lambda x: calculate_jaccard_similarity(x['characteristic_attributes_mapping1'], x['characteristic_attributes_mapping2']), axis=1\n",
    ")"
   ]
  },
  {
   "cell_type": "code",
   "execution_count": 68,
   "id": "d6a93847",
   "metadata": {},
   "outputs": [
    {
     "name": "stdout",
     "output_type": "stream",
     "text": [
      "CPU times: total: 40.9 s\n",
      "Wall time: 40.9 s\n"
     ]
    }
   ],
   "source": [
    "%%time\n",
    "features_test[[\"pic_dist_0_perc\", \"pic_dist_25_perc\", \"pic_dist_50_perc\"]] = (\n",
    "    features_test[[\"pic_embeddings_resnet_v11\", \"pic_embeddings_resnet_v12\"]].apply(\n",
    "        lambda x: pd.Series(get_pic_features_func(*x)), axis=1))\n",
    "\n",
    "features_test[[\"main_pic_dist_0_perc\", \"main_pic_dist_25_perc\", \"main_pic_dist_50_perc\"]] = (\n",
    "    features_test[[\"main_pic_embeddings_resnet_v11\", \"main_pic_embeddings_resnet_v12\"]].apply(\n",
    "        lambda x: pd.Series(get_pic_features_func(*x)), axis=1))\n",
    "\n",
    "features_test[[\"euclidean_main_pic_dist\", \"cosine_main_pic_dist\"]] = (\n",
    "    features_test[[\"main_pic_embeddings_resnet_v1_new1\", \"main_pic_embeddings_resnet_v1_new2\"]].apply(\n",
    "        lambda x: pd.Series(text_dense_distances(*x)), axis=1))\n",
    "\n",
    "features_test[[\"euclidean_color_dist\", \"cosine_color_dist\"]] = (\n",
    "    features_test[[\"clr_vect1\", \"clr_vect2\"]].apply(\n",
    "        lambda x: pd.Series(text_dense_distances(*x)), axis=1))\n",
    "\n",
    "features_test[[\"euclidean_name_bert_dist\", \"cosine_name_bert_dist\"]] = (\n",
    "    features_test[[\"name_bert_641\", \"name_bert_642\"]].apply(\n",
    "        lambda x: pd.Series(text_dense_distances(*x)), axis=1))\n",
    "\n",
    "features_test[[\"euclidean_name_embedding_dist\", \"cosine_name_embedding_dist\"]] = (\n",
    "    features_test[[\"name_embedding1\", \"name_embedding2\"]].apply(\n",
    "        lambda x: pd.Series(text_dense_distances(*x)), axis=1))\n"
   ]
  },
  {
   "cell_type": "code",
   "execution_count": 69,
   "id": "159e6490",
   "metadata": {},
   "outputs": [],
   "source": [
    "# Расчет features_test манхэттенского расстояния между признаками name_bert_641 и name_bert_642\n",
    "features_test['ozon_bert_manhattan_distance'] = features_test.apply(\n",
    "    lambda x: manhattan_distance(x['name_bert_641'], x['name_bert_642']), axis=1\n",
    ")\n",
    "\n",
    "# Расчет features_test манхэттенского расстояния между признаками main_pic_embeddings_resnet_v1_new1 и main_pic_embeddings_resnet_v1_new2\n",
    "features_test['main_pic_manhattan_distance'] = features_test.apply(\n",
    "    lambda x: manhattan_distance(x['main_pic_embeddings_resnet_v1_new1'], x['main_pic_embeddings_resnet_v1_new2']), axis=1\n",
    ")\n",
    "\n",
    "# Расчет features_test манхэттенского расстояния между признаками name_embedding1 и name_embedding2\n",
    "features_test['name_emb_manhattan_distance'] = features_test.apply(\n",
    "    lambda x: manhattan_distance(x['name_embedding1'], x['name_embedding2']), axis=1\n",
    ")"
   ]
  },
  {
   "cell_type": "code",
   "execution_count": 70,
   "id": "9902aaaf",
   "metadata": {},
   "outputs": [
    {
     "name": "stdout",
     "output_type": "stream",
     "text": [
      "CPU times: total: 13.8 s\n",
      "Wall time: 13.8 s\n"
     ]
    }
   ],
   "source": [
    "%%time\n",
    "# расчитываем среднее, медиану и стд для ozon_bert_manhattan_distance\n",
    "features_test[[\"mean_ozon_bert_manhattan_distance\", \n",
    "          \"median_ozon_bert_manhattan_distance\", \n",
    "          \"std_ozon_bert_manhattan_distance\"]] = (features_test['ozon_bert_manhattan_distance'].apply(\n",
    "        lambda x: pd.Series(calculate_statistics(x))))\n",
    "\n",
    "# расчитываем среднее, медиану и стд для main_pic_manhattan_distance\n",
    "features_test[[\"mean_main_pic_manhattan_distance\", \n",
    "          \"median_main_pic_manhattan_distance\", \n",
    "          \"std_main_pic_manhattan_distance\"]] = (features_test['main_pic_manhattan_distance'].apply(\n",
    "        lambda x: pd.Series(calculate_statistics(x))))\n",
    "\n",
    "# расчитываем среднее, медиану и стд для name_emb_manhattan_distance\n",
    "features_test[[\"mean_name_emb_manhattan_distance\", \n",
    "          \"median_name_emb_manhattan_distance\", \n",
    "          \"std_name_emb_manhattan_distance\"]] = (features_test['name_emb_manhattan_distance'].apply(\n",
    "        lambda x: pd.Series(calculate_statistics(x))))"
   ]
  },
  {
   "cell_type": "code",
   "execution_count": 71,
   "id": "30c1201f",
   "metadata": {},
   "outputs": [
    {
     "name": "stderr",
     "output_type": "stream",
     "text": [
      "100%|██████████| 18084/18084 [02:39<00:00, 113.20it/s]"
     ]
    },
    {
     "name": "stdout",
     "output_type": "stream",
     "text": [
      "CPU times: total: 2min 39s\n",
      "Wall time: 2min 39s\n"
     ]
    },
    {
     "name": "stderr",
     "output_type": "stream",
     "text": [
      "\n"
     ]
    }
   ],
   "source": [
    "%%time\n",
    "# расчитаем расстояния Левенштейна для name1 и name2\n",
    "features_test[[\"name_levenshtein_distance\"]] = (\n",
    "    features_test[[\"name1\", \"name2\"]].progress_apply(\n",
    "        lambda x: pd.Series(levenshtein_distance(*x)), axis=1))"
   ]
  },
  {
   "cell_type": "code",
   "execution_count": 72,
   "id": "4a3056e4",
   "metadata": {},
   "outputs": [],
   "source": [
    "features_test = drop_f(features_test)\n",
    "features_test[['characteristic_attributes_mapping1', \n",
    "               'characteristic_attributes_mapping2']] = features_test[['characteristic_attributes_mapping1', \n",
    "                                                                       'characteristic_attributes_mapping2']].fillna('{}')"
   ]
  },
  {
   "cell_type": "code",
   "execution_count": 73,
   "id": "b21f7add",
   "metadata": {},
   "outputs": [
    {
     "name": "stdout",
     "output_type": "stream",
     "text": [
      "<class 'pandas.core.frame.DataFrame'>\n",
      "Int64Index: 275886 entries, 94531 to 139533\n",
      "Data columns (total 56 columns):\n",
      " #   Column                               Non-Null Count   Dtype  \n",
      "---  ------                               --------------   -----  \n",
      " 0   variantid1                           275886 non-null  int64  \n",
      " 1   variantid2                           275886 non-null  int64  \n",
      " 2   name1                                275886 non-null  object \n",
      " 3   characteristic_attributes_mapping1   275886 non-null  object \n",
      " 4   cat3                                 275886 non-null  float64\n",
      " 5   cat41                                275886 non-null  float64\n",
      " 6   cat3_grouped                         275886 non-null  object \n",
      " 7   name2                                275886 non-null  object \n",
      " 8   characteristic_attributes_mapping2   275886 non-null  object \n",
      " 9   cat32                                275886 non-null  float64\n",
      " 10  cat42                                275886 non-null  float64\n",
      " 11  name_mean_diff                       275886 non-null  float32\n",
      " 12  name_median_diff                     275886 non-null  float32\n",
      " 13  name_std_diff                        275886 non-null  float32\n",
      " 14  ozon_name_mean_diff                  275886 non-null  float32\n",
      " 15  ozon_name_median_diff                275886 non-null  float32\n",
      " 16  ozon_name_std_diff                   275886 non-null  float32\n",
      " 17  main_pic_mean_diff                   275886 non-null  float32\n",
      " 18  main_pic_median_diff                 275886 non-null  float32\n",
      " 19  main_pic_std_diff                    275886 non-null  float32\n",
      " 20  name_jaccard_similarity              275886 non-null  float64\n",
      " 21  attributes_jaccard_similarity        275886 non-null  float64\n",
      " 22  attr_dist                            275886 non-null  float64\n",
      " 23  attr_acc                             275886 non-null  float64\n",
      " 24  common_keys                          275886 non-null  float64\n",
      " 25  same_value_keys                      275886 non-null  float64\n",
      " 26  mean_value1                          275886 non-null  float64\n",
      " 27  mean_value2                          275886 non-null  float64\n",
      " 28  ozon_bert_manhattan_distance         275886 non-null  object \n",
      " 29  main_pic_manhattan_distance          275886 non-null  object \n",
      " 30  name_emb_manhattan_distance          275886 non-null  object \n",
      " 31  mean_ozon_bert_manhattan_distance    275886 non-null  float32\n",
      " 32  median_ozon_bert_manhattan_distance  275886 non-null  float32\n",
      " 33  std_ozon_bert_manhattan_distance     275886 non-null  float32\n",
      " 34  mean_main_pic_manhattan_distance     275886 non-null  float32\n",
      " 35  median_main_pic_manhattan_distance   275886 non-null  float32\n",
      " 36  std_main_pic_manhattan_distance      275886 non-null  float32\n",
      " 37  mean_name_emb_manhattan_distance     275886 non-null  float32\n",
      " 38  median_name_emb_manhattan_distance   275886 non-null  float32\n",
      " 39  std_name_emb_manhattan_distance      275886 non-null  float32\n",
      " 40  name_levenshtein_distance            275886 non-null  int64  \n",
      " 41  pic_dist_0_perc                      275886 non-null  float64\n",
      " 42  pic_dist_25_perc                     275886 non-null  float64\n",
      " 43  pic_dist_50_perc                     275886 non-null  float64\n",
      " 44  main_pic_dist_0_perc                 275886 non-null  float64\n",
      " 45  main_pic_dist_25_perc                275886 non-null  float64\n",
      " 46  main_pic_dist_50_perc                275886 non-null  float64\n",
      " 47  euclidean_main_pic_dist              275886 non-null  float64\n",
      " 48  cosine_main_pic_dist                 275886 non-null  float64\n",
      " 49  euclidean_color_dist                 275886 non-null  float64\n",
      " 50  cosine_color_dist                    275886 non-null  float64\n",
      " 51  euclidean_name_bert_dist             275886 non-null  float64\n",
      " 52  cosine_name_bert_dist                275886 non-null  float64\n",
      " 53  euclidean_name_embedding_dist        275886 non-null  float64\n",
      " 54  cosine_name_embedding_dist           275886 non-null  float64\n",
      " 55  scores                               275886 non-null  float64\n",
      "dtypes: float32(18), float64(27), int64(3), object(8)\n",
      "memory usage: 101.0+ MB\n"
     ]
    },
    {
     "data": {
      "text/plain": [
       "None"
      ]
     },
     "metadata": {},
     "output_type": "display_data"
    },
    {
     "name": "stdout",
     "output_type": "stream",
     "text": [
      "<class 'pandas.core.frame.DataFrame'>\n",
      "Int64Index: 18084 entries, 0 to 18083\n",
      "Data columns (total 56 columns):\n",
      " #   Column                               Non-Null Count  Dtype  \n",
      "---  ------                               --------------  -----  \n",
      " 0   variantid1                           18084 non-null  int64  \n",
      " 1   variantid2                           18084 non-null  int64  \n",
      " 2   cat3_grouped                         18084 non-null  object \n",
      " 3   name1                                18084 non-null  object \n",
      " 4   characteristic_attributes_mapping1   18084 non-null  object \n",
      " 5   cat3                                 18084 non-null  float64\n",
      " 6   cat41                                18084 non-null  float64\n",
      " 7   cat3_grouped                         18084 non-null  object \n",
      " 8   name2                                18084 non-null  object \n",
      " 9   characteristic_attributes_mapping2   18084 non-null  object \n",
      " 10  cat32                                18084 non-null  float64\n",
      " 11  cat42                                18084 non-null  float64\n",
      " 12  attr_dist                            18084 non-null  float64\n",
      " 13  attr_acc                             18084 non-null  float64\n",
      " 14  common_keys                          18084 non-null  float64\n",
      " 15  same_value_keys                      18084 non-null  float64\n",
      " 16  mean_value1                          18084 non-null  float64\n",
      " 17  mean_value2                          18084 non-null  float64\n",
      " 18  name_mean_diff                       18084 non-null  float32\n",
      " 19  name_median_diff                     18084 non-null  float32\n",
      " 20  name_std_diff                        18084 non-null  float32\n",
      " 21  ozon_name_mean_diff                  18084 non-null  float32\n",
      " 22  ozon_name_median_diff                18084 non-null  float32\n",
      " 23  ozon_name_std_diff                   18084 non-null  float32\n",
      " 24  main_pic_mean_diff                   18084 non-null  float32\n",
      " 25  main_pic_median_diff                 18084 non-null  float32\n",
      " 26  main_pic_std_diff                    18084 non-null  float32\n",
      " 27  name_jaccard_similarity              18084 non-null  float64\n",
      " 28  attributes_jaccard_similarity        18084 non-null  float64\n",
      " 29  pic_dist_0_perc                      18084 non-null  float64\n",
      " 30  pic_dist_25_perc                     18084 non-null  float64\n",
      " 31  pic_dist_50_perc                     18084 non-null  float64\n",
      " 32  main_pic_dist_0_perc                 18084 non-null  float64\n",
      " 33  main_pic_dist_25_perc                18084 non-null  float64\n",
      " 34  main_pic_dist_50_perc                18084 non-null  float64\n",
      " 35  euclidean_main_pic_dist              18084 non-null  float64\n",
      " 36  cosine_main_pic_dist                 18084 non-null  float64\n",
      " 37  euclidean_color_dist                 18084 non-null  float64\n",
      " 38  cosine_color_dist                    18084 non-null  float64\n",
      " 39  euclidean_name_bert_dist             18084 non-null  float64\n",
      " 40  cosine_name_bert_dist                18084 non-null  float64\n",
      " 41  euclidean_name_embedding_dist        18084 non-null  float64\n",
      " 42  cosine_name_embedding_dist           18084 non-null  float64\n",
      " 43  ozon_bert_manhattan_distance         18084 non-null  object \n",
      " 44  main_pic_manhattan_distance          18084 non-null  object \n",
      " 45  name_emb_manhattan_distance          18084 non-null  object \n",
      " 46  mean_ozon_bert_manhattan_distance    18084 non-null  float32\n",
      " 47  median_ozon_bert_manhattan_distance  18084 non-null  float32\n",
      " 48  std_ozon_bert_manhattan_distance     18084 non-null  float32\n",
      " 49  mean_main_pic_manhattan_distance     18084 non-null  float32\n",
      " 50  median_main_pic_manhattan_distance   18084 non-null  float32\n",
      " 51  std_main_pic_manhattan_distance      18084 non-null  float32\n",
      " 52  mean_name_emb_manhattan_distance     18084 non-null  float32\n",
      " 53  median_name_emb_manhattan_distance   18084 non-null  float32\n",
      " 54  std_name_emb_manhattan_distance      18084 non-null  float32\n",
      " 55  name_levenshtein_distance            18084 non-null  int64  \n",
      "dtypes: float32(18), float64(26), int64(3), object(9)\n",
      "memory usage: 6.6+ MB\n"
     ]
    },
    {
     "data": {
      "text/plain": [
       "None"
      ]
     },
     "metadata": {},
     "output_type": "display_data"
    }
   ],
   "source": [
    "display(X_train.info())\n",
    "display(features_test.info())"
   ]
  },
  {
   "cell_type": "code",
   "execution_count": 74,
   "id": "47ba7eba",
   "metadata": {},
   "outputs": [
    {
     "data": {
      "text/html": [
       "<div>\n",
       "<style scoped>\n",
       "    .dataframe tbody tr th:only-of-type {\n",
       "        vertical-align: middle;\n",
       "    }\n",
       "\n",
       "    .dataframe tbody tr th {\n",
       "        vertical-align: top;\n",
       "    }\n",
       "\n",
       "    .dataframe thead th {\n",
       "        text-align: right;\n",
       "    }\n",
       "</style>\n",
       "<table border=\"1\" class=\"dataframe\">\n",
       "  <thead>\n",
       "    <tr style=\"text-align: right;\">\n",
       "      <th></th>\n",
       "      <th>variantid1</th>\n",
       "      <th>variantid2</th>\n",
       "      <th>target</th>\n",
       "    </tr>\n",
       "  </thead>\n",
       "  <tbody>\n",
       "    <tr>\n",
       "      <th>0</th>\n",
       "      <td>52076340</td>\n",
       "      <td>290590137</td>\n",
       "      <td>0.236128</td>\n",
       "    </tr>\n",
       "    <tr>\n",
       "      <th>1</th>\n",
       "      <td>64525522</td>\n",
       "      <td>204128919</td>\n",
       "      <td>0.323596</td>\n",
       "    </tr>\n",
       "    <tr>\n",
       "      <th>2</th>\n",
       "      <td>77243372</td>\n",
       "      <td>479860557</td>\n",
       "      <td>0.614722</td>\n",
       "    </tr>\n",
       "  </tbody>\n",
       "</table>\n",
       "</div>"
      ],
      "text/plain": [
       "   variantid1  variantid2    target\n",
       "0    52076340   290590137  0.236128\n",
       "1    64525522   204128919  0.323596\n",
       "2    77243372   479860557  0.614722"
      ]
     },
     "execution_count": 74,
     "metadata": {},
     "output_type": "execute_result"
    }
   ],
   "source": [
    "submission_example = features_test.copy()\n",
    "\n",
    "submission_example[\"target\"] = model.predict_proba(features_test[feats])[:, 1]\n",
    "submission_example = submission_example[[\"variantid1\", \"variantid2\", \"target\"]]\n",
    "submission_example.head(3)"
   ]
  },
  {
   "cell_type": "code",
   "execution_count": 75,
   "id": "a68322a0",
   "metadata": {},
   "outputs": [
    {
     "data": {
      "text/html": [
       "<div>\n",
       "<style scoped>\n",
       "    .dataframe tbody tr th:only-of-type {\n",
       "        vertical-align: middle;\n",
       "    }\n",
       "\n",
       "    .dataframe tbody tr th {\n",
       "        vertical-align: top;\n",
       "    }\n",
       "\n",
       "    .dataframe thead th {\n",
       "        text-align: right;\n",
       "    }\n",
       "</style>\n",
       "<table border=\"1\" class=\"dataframe\">\n",
       "  <thead>\n",
       "    <tr style=\"text-align: right;\">\n",
       "      <th></th>\n",
       "      <th>variantid1</th>\n",
       "      <th>variantid2</th>\n",
       "      <th>target</th>\n",
       "    </tr>\n",
       "  </thead>\n",
       "  <tbody>\n",
       "    <tr>\n",
       "      <th>0</th>\n",
       "      <td>52076340</td>\n",
       "      <td>290590137</td>\n",
       "      <td>0.236128</td>\n",
       "    </tr>\n",
       "    <tr>\n",
       "      <th>1</th>\n",
       "      <td>64525522</td>\n",
       "      <td>204128919</td>\n",
       "      <td>0.323596</td>\n",
       "    </tr>\n",
       "    <tr>\n",
       "      <th>2</th>\n",
       "      <td>77243372</td>\n",
       "      <td>479860557</td>\n",
       "      <td>0.614722</td>\n",
       "    </tr>\n",
       "  </tbody>\n",
       "</table>\n",
       "</div>"
      ],
      "text/plain": [
       "   variantid1  variantid2    target\n",
       "0    52076340   290590137  0.236128\n",
       "1    64525522   204128919  0.323596\n",
       "2    77243372   479860557  0.614722"
      ]
     },
     "execution_count": 75,
     "metadata": {},
     "output_type": "execute_result"
    }
   ],
   "source": [
    "s = submission_example.drop_duplicates().merge(\n",
    "      features_test[[\"variantid1\", \"variantid2\"]].drop_duplicates([\"variantid1\", \"variantid2\"]),\n",
    "      on=[\"variantid1\", \"variantid2\"]\n",
    ")\n",
    "\n",
    "s.head(3)"
   ]
  },
  {
   "cell_type": "code",
   "execution_count": 76,
   "id": "5d68b6e1",
   "metadata": {},
   "outputs": [
    {
     "data": {
      "text/plain": [
       "0"
      ]
     },
     "execution_count": 76,
     "metadata": {},
     "output_type": "execute_result"
    }
   ],
   "source": [
    "features_test.duplicated([\"variantid1\", \"variantid2\"]).sum()"
   ]
  },
  {
   "cell_type": "code",
   "execution_count": 77,
   "id": "6c4c93ca",
   "metadata": {},
   "outputs": [
    {
     "data": {
      "text/plain": [
       "0.003946305318749987"
      ]
     },
     "execution_count": 77,
     "metadata": {},
     "output_type": "execute_result"
    }
   ],
   "source": [
    "s.target.min()"
   ]
  },
  {
   "cell_type": "code",
   "execution_count": 78,
   "id": "bda8f231",
   "metadata": {},
   "outputs": [
    {
     "data": {
      "text/plain": [
       "0.9908497396704322"
      ]
     },
     "execution_count": 78,
     "metadata": {},
     "output_type": "execute_result"
    }
   ],
   "source": [
    "s.target.max()"
   ]
  },
  {
   "cell_type": "code",
   "execution_count": 79,
   "id": "99ad45ee",
   "metadata": {},
   "outputs": [],
   "source": [
    "# s = s.drop_duplicates([\"variantid1\", \"variantid2\"])"
   ]
  },
  {
   "cell_type": "code",
   "execution_count": 80,
   "id": "9f21130c",
   "metadata": {},
   "outputs": [],
   "source": [
    "s.to_csv(\"submission_Cat_LEVI_NEW_FEATURES.csv\", index=False)"
   ]
  },
  {
   "cell_type": "code",
   "execution_count": 81,
   "id": "6643f7fd",
   "metadata": {},
   "outputs": [
    {
     "name": "stdout",
     "output_type": "stream",
     "text": [
      "<class 'pandas.core.frame.DataFrame'>\n",
      "Int64Index: 18084 entries, 0 to 18083\n",
      "Data columns (total 3 columns):\n",
      " #   Column      Non-Null Count  Dtype  \n",
      "---  ------      --------------  -----  \n",
      " 0   variantid1  18084 non-null  int64  \n",
      " 1   variantid2  18084 non-null  int64  \n",
      " 2   target      18084 non-null  float64\n",
      "dtypes: float64(1), int64(2)\n",
      "memory usage: 565.1 KB\n"
     ]
    }
   ],
   "source": [
    "s.info()"
   ]
  },
  {
   "cell_type": "code",
   "execution_count": null,
   "id": "c1edc4db",
   "metadata": {},
   "outputs": [],
   "source": []
  }
 ],
 "metadata": {
  "kernelspec": {
   "display_name": "Python 3 (ipykernel)",
   "language": "python",
   "name": "python3"
  },
  "language_info": {
   "codemirror_mode": {
    "name": "ipython",
    "version": 3
   },
   "file_extension": ".py",
   "mimetype": "text/x-python",
   "name": "python",
   "nbconvert_exporter": "python",
   "pygments_lexer": "ipython3",
   "version": "3.9.16"
  },
  "toc": {
   "base_numbering": 1,
   "nav_menu": {},
   "number_sections": true,
   "sideBar": true,
   "skip_h1_title": false,
   "title_cell": "",
   "title_sidebar": "Contents",
   "toc_cell": false,
   "toc_position": {
    "height": "674.503px",
    "left": "10px",
    "top": "150px",
    "width": "282.145px"
   },
   "toc_section_display": true,
   "toc_window_display": true
  }
 },
 "nbformat": 4,
 "nbformat_minor": 5
}
