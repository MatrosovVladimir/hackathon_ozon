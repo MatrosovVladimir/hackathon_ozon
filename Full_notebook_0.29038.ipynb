{
 "cells": [
  {
   "cell_type": "markdown",
   "id": "142606db",
   "metadata": {},
   "source": [
    "## Загрузка данных"
   ]
  },
  {
   "cell_type": "markdown",
   "id": "24a6e57f",
   "metadata": {},
   "source": [
    "### Импорты"
   ]
  },
  {
   "cell_type": "code",
   "execution_count": 1,
   "id": "396c4d9d",
   "metadata": {},
   "outputs": [],
   "source": [
    "!pip install catboost -q\n",
    "!pip install shap -q"
   ]
  },
  {
   "cell_type": "code",
   "execution_count": 2,
   "id": "2749ba12",
   "metadata": {},
   "outputs": [],
   "source": [
    "import json\n",
    "import ast\n",
    "from functools import partial\n",
    "from typing import List\n",
    "\n",
    "import matplotlib.pyplot as plt\n",
    "import numpy as np\n",
    "import pandas as pd\n",
    "import seaborn as sns\n",
    "from catboost import CatBoostClassifier, Pool\n",
    "from catboost.utils import eval_metric\n",
    "from scipy.spatial.distance import cosine, euclidean\n",
    "from sklearn.metrics import pairwise_distances, roc_curve, precision_recall_curve\n",
    "from sklearn.metrics import  auc, accuracy_score as acc, roc_auc_score, f1_score, precision_score\n",
    "from sklearn.model_selection import train_test_split,RandomizedSearchCV,GridSearchCV\n",
    "from sklearn.feature_extraction.text import CountVectorizer\n",
    "from sklearn.preprocessing import OrdinalEncoder\n",
    "\n",
    "from nltk.metrics.distance import edit_distance\n",
    "\n",
    "from tqdm import tqdm\n",
    "import warnings\n",
    "\n",
    "# настройки\n",
    "tqdm.pandas()\n",
    "warnings.filterwarnings(\"ignore\")\n",
    "pd.set_option('display.max_columns', None)\n",
    "\n",
    "# константы\n",
    "RANDOM_STATE = 42"
   ]
  },
  {
   "cell_type": "markdown",
   "id": "a79f3ec9",
   "metadata": {},
   "source": [
    "### Read/Head/Info"
   ]
  },
  {
   "cell_type": "code",
   "execution_count": 3,
   "id": "ba7f6e78",
   "metadata": {},
   "outputs": [],
   "source": [
    "# загружаем предоставленные файлы\n",
    "try:\n",
    "    train_data = pd.read_parquet('C:/Users/zoika/OneDrive/Рабочий стол/YP ds54/!!!OzonHack3/train_data.parquet')\n",
    "    train_pairs = pd.read_parquet('C:/Users/zoika/OneDrive/Рабочий стол/YP ds54/!!!OzonHack3/train_pairs.parquet')\n",
    "    test_pairs_wo_target = pd.read_parquet('C:/Users/zoika/OneDrive/Рабочий стол/YP ds54/!!!OzonHack3/test_pairs_wo_target.parquet')\n",
    "    test_data = pd.read_parquet('C:/Users/zoika/OneDrive/Рабочий стол/YP ds54/!!!OzonHack3/test_data.parquet')\n",
    "    submission_example3 = pd.read_csv('C:/Users/zoika/OneDrive/Рабочий стол/YP ds54/!!!OzonHack3/submission_example3.csv')\n",
    "except:    \n",
    "    train_data = pd.read_parquet('train_data.parquet', engine='auto')\n",
    "    train_pairs = pd.read_parquet('train_pairs.parquet', engine='auto')\n",
    "    test_data = pd.read_parquet('test_data.parquet', engine='auto')\n",
    "    test_pairs_wo_target = pd.read_parquet('test_pairs_wo_target.parquet', engine='auto')\n",
    "    submission_example3 = pd.read_csv('submission_example.csv')"
   ]
  },
  {
   "cell_type": "code",
   "execution_count": 4,
   "id": "986186c3",
   "metadata": {},
   "outputs": [
    {
     "name": "stdout",
     "output_type": "stream",
     "text": [
      "CPU times: total: 11.6 s\n",
      "Wall time: 12.1 s\n"
     ]
    }
   ],
   "source": [
    "%%time\n",
    "# грузим дополнительные ембеддинги названий\n",
    "name_bert = pd.read_parquet('name_bert768.parquet')\n",
    "name_bert.rename(columns={'caracs_bert768': 'name_bert768'}, inplace=True)"
   ]
  },
  {
   "cell_type": "code",
   "execution_count": 5,
   "id": "3e3b0dcc",
   "metadata": {},
   "outputs": [
    {
     "name": "stdout",
     "output_type": "stream",
     "text": [
      "<class 'pandas.core.frame.DataFrame'>\n",
      "Int64Index: 460084 entries, 0 to 460083\n",
      "Data columns (total 9 columns):\n",
      " #   Column                             Non-Null Count   Dtype \n",
      "---  ------                             --------------   ----- \n",
      " 0   variantid                          460084 non-null  int64 \n",
      " 1   name                               460084 non-null  object\n",
      " 2   categories                         460084 non-null  object\n",
      " 3   color_parsed                       381142 non-null  object\n",
      " 4   pic_embeddings_resnet_v1           305631 non-null  object\n",
      " 5   main_pic_embeddings_resnet_v1      460084 non-null  object\n",
      " 6   name_bert_64                       460084 non-null  object\n",
      " 7   characteristic_attributes_mapping  460057 non-null  object\n",
      " 8   name_bert768                       460084 non-null  object\n",
      "dtypes: int64(1), object(8)\n",
      "memory usage: 35.1+ MB\n"
     ]
    },
    {
     "data": {
      "text/plain": [
       "None"
      ]
     },
     "metadata": {},
     "output_type": "display_data"
    },
    {
     "name": "stdout",
     "output_type": "stream",
     "text": [
      "<class 'pandas.core.frame.DataFrame'>\n",
      "Int64Index: 38751 entries, 0 to 38750\n",
      "Data columns (total 9 columns):\n",
      " #   Column                             Non-Null Count  Dtype \n",
      "---  ------                             --------------  ----- \n",
      " 0   variantid                          38751 non-null  int64 \n",
      " 1   name                               38751 non-null  object\n",
      " 2   categories                         38751 non-null  object\n",
      " 3   color_parsed                       28579 non-null  object\n",
      " 4   pic_embeddings_resnet_v1           22141 non-null  object\n",
      " 5   main_pic_embeddings_resnet_v1      38751 non-null  object\n",
      " 6   name_bert_64                       38751 non-null  object\n",
      " 7   characteristic_attributes_mapping  38747 non-null  object\n",
      " 8   name_bert768                       38751 non-null  object\n",
      "dtypes: int64(1), object(8)\n",
      "memory usage: 3.0+ MB\n"
     ]
    },
    {
     "data": {
      "text/plain": [
       "None"
      ]
     },
     "metadata": {},
     "output_type": "display_data"
    }
   ],
   "source": [
    "# объединим датасеты с новыми эмбеддингами\n",
    "train_data = train_data.merge(name_bert, on='variantid')\n",
    "test_data = test_data.merge(name_bert, on='variantid')\n",
    "\n",
    "display(train_data.info())\n",
    "display(test_data.info())"
   ]
  },
  {
   "cell_type": "code",
   "execution_count": 6,
   "id": "38d52dd4",
   "metadata": {},
   "outputs": [
    {
     "name": "stdout",
     "output_type": "stream",
     "text": [
      "<class 'pandas.core.frame.DataFrame'>\n",
      "Int64Index: 457063 entries, 0 to 460083\n",
      "Data columns (total 9 columns):\n",
      " #   Column                             Non-Null Count   Dtype \n",
      "---  ------                             --------------   ----- \n",
      " 0   variantid                          457063 non-null  int64 \n",
      " 1   name                               457063 non-null  object\n",
      " 2   categories                         457063 non-null  object\n",
      " 3   color_parsed                       378652 non-null  object\n",
      " 4   pic_embeddings_resnet_v1           303467 non-null  object\n",
      " 5   main_pic_embeddings_resnet_v1      457063 non-null  object\n",
      " 6   name_bert_64                       457063 non-null  object\n",
      " 7   characteristic_attributes_mapping  457036 non-null  object\n",
      " 8   name_bert768                       457063 non-null  object\n",
      "dtypes: int64(1), object(8)\n",
      "memory usage: 34.9+ MB\n"
     ]
    },
    {
     "data": {
      "text/plain": [
       "None"
      ]
     },
     "metadata": {},
     "output_type": "display_data"
    },
    {
     "name": "stdout",
     "output_type": "stream",
     "text": [
      "<class 'pandas.core.frame.DataFrame'>\n",
      "Int64Index: 35730 entries, 0 to 38749\n",
      "Data columns (total 9 columns):\n",
      " #   Column                             Non-Null Count  Dtype \n",
      "---  ------                             --------------  ----- \n",
      " 0   variantid                          35730 non-null  int64 \n",
      " 1   name                               35730 non-null  object\n",
      " 2   categories                         35730 non-null  object\n",
      " 3   color_parsed                       26089 non-null  object\n",
      " 4   pic_embeddings_resnet_v1           19977 non-null  object\n",
      " 5   main_pic_embeddings_resnet_v1      35730 non-null  object\n",
      " 6   name_bert_64                       35730 non-null  object\n",
      " 7   characteristic_attributes_mapping  35726 non-null  object\n",
      " 8   name_bert768                       35730 non-null  object\n",
      "dtypes: int64(1), object(8)\n",
      "memory usage: 2.7+ MB\n"
     ]
    },
    {
     "data": {
      "text/plain": [
       "None"
      ]
     },
     "metadata": {},
     "output_type": "display_data"
    }
   ],
   "source": [
    "# удалим дубликаты по колонке variantid\n",
    "train_data = train_data.drop_duplicates('variantid')\n",
    "test_data = test_data.drop_duplicates('variantid')\n",
    "\n",
    "display(train_data.info())\n",
    "display(test_data.info())"
   ]
  },
  {
   "cell_type": "code",
   "execution_count": 7,
   "id": "bc5b36a2",
   "metadata": {
    "scrolled": true
   },
   "outputs": [],
   "source": [
    "# функция вывода info и head\n",
    "def head_info(df):\n",
    "    display(df.info())\n",
    "    display(df.head(2))\n",
    "\n",
    "    \n",
    "# head_info(train_data)\n",
    "# head_info(train_pairs)\n",
    "# head_info(test_data)\n",
    "# head_info(test_pairs_wo_target)\n",
    "# head_info(submission_example3)"
   ]
  },
  {
   "cell_type": "code",
   "execution_count": 8,
   "id": "1957165a",
   "metadata": {},
   "outputs": [
    {
     "name": "stdout",
     "output_type": "stream",
     "text": [
      "<class 'pandas.core.frame.DataFrame'>\n",
      "Int64Index: 457063 entries, 0 to 460083\n",
      "Data columns (total 9 columns):\n",
      " #   Column                             Non-Null Count   Dtype \n",
      "---  ------                             --------------   ----- \n",
      " 0   variantid                          457063 non-null  int64 \n",
      " 1   name                               457063 non-null  object\n",
      " 2   categories                         457063 non-null  object\n",
      " 3   color_parsed                       378652 non-null  object\n",
      " 4   pic_embeddings_resnet_v1           303467 non-null  object\n",
      " 5   main_pic_embeddings_resnet_v1      457063 non-null  object\n",
      " 6   name_bert_64                       457063 non-null  object\n",
      " 7   characteristic_attributes_mapping  457036 non-null  object\n",
      " 8   name_bert768                       457063 non-null  object\n",
      "dtypes: int64(1), object(8)\n",
      "memory usage: 34.9+ MB\n"
     ]
    },
    {
     "data": {
      "text/plain": [
       "None"
      ]
     },
     "metadata": {},
     "output_type": "display_data"
    },
    {
     "data": {
      "text/html": [
       "<div>\n",
       "<style scoped>\n",
       "    .dataframe tbody tr th:only-of-type {\n",
       "        vertical-align: middle;\n",
       "    }\n",
       "\n",
       "    .dataframe tbody tr th {\n",
       "        vertical-align: top;\n",
       "    }\n",
       "\n",
       "    .dataframe thead th {\n",
       "        text-align: right;\n",
       "    }\n",
       "</style>\n",
       "<table border=\"1\" class=\"dataframe\">\n",
       "  <thead>\n",
       "    <tr style=\"text-align: right;\">\n",
       "      <th></th>\n",
       "      <th>variantid</th>\n",
       "      <th>name</th>\n",
       "      <th>categories</th>\n",
       "      <th>color_parsed</th>\n",
       "      <th>pic_embeddings_resnet_v1</th>\n",
       "      <th>main_pic_embeddings_resnet_v1</th>\n",
       "      <th>name_bert_64</th>\n",
       "      <th>characteristic_attributes_mapping</th>\n",
       "      <th>name_bert768</th>\n",
       "    </tr>\n",
       "  </thead>\n",
       "  <tbody>\n",
       "    <tr>\n",
       "      <th>0</th>\n",
       "      <td>51195767</td>\n",
       "      <td>Удлинитель Партнер-Электро ПВС 2х0,75 ГОСТ,6A,...</td>\n",
       "      <td>{\"1\": \"EPG\", \"2\": \"Электроника\", \"3\": \"Сетевые...</td>\n",
       "      <td>[оранжевый]</td>\n",
       "      <td>None</td>\n",
       "      <td>[[0.04603629, 0.18839523, -0.09973055, -0.6636...</td>\n",
       "      <td>[-0.47045058, 0.67237014, 0.48984158, -0.54485...</td>\n",
       "      <td>{\"Номинальный ток, А\":[\"10\"],\"Цвет товара\":[\"о...</td>\n",
       "      <td>[-0.52616537, 0.5570387, 0.19487007, -0.363480...</td>\n",
       "    </tr>\n",
       "    <tr>\n",
       "      <th>1</th>\n",
       "      <td>53565809</td>\n",
       "      <td>Магнитный кабель USB 2.0 A (m) - USB Type-C (m...</td>\n",
       "      <td>{\"1\": \"EPG\", \"2\": \"Электроника\", \"3\": \"Кабели ...</td>\n",
       "      <td>[красный]</td>\n",
       "      <td>[[0.26863545, -0.3130674, 0.29023397, 0.073978...</td>\n",
       "      <td>[[1.1471839, -0.665361, 0.7745614, 0.26716197,...</td>\n",
       "      <td>[-0.6575592, 0.6522429, 0.5426037, -0.54347897...</td>\n",
       "      <td>{\"Конструктивные особенности\":[\"Магнитная конс...</td>\n",
       "      <td>[-0.64783597, -0.1698648, 0.4192899, -0.225463...</td>\n",
       "    </tr>\n",
       "  </tbody>\n",
       "</table>\n",
       "</div>"
      ],
      "text/plain": [
       "   variantid                                               name  \\\n",
       "0   51195767  Удлинитель Партнер-Электро ПВС 2х0,75 ГОСТ,6A,...   \n",
       "1   53565809  Магнитный кабель USB 2.0 A (m) - USB Type-C (m...   \n",
       "\n",
       "                                          categories color_parsed  \\\n",
       "0  {\"1\": \"EPG\", \"2\": \"Электроника\", \"3\": \"Сетевые...  [оранжевый]   \n",
       "1  {\"1\": \"EPG\", \"2\": \"Электроника\", \"3\": \"Кабели ...    [красный]   \n",
       "\n",
       "                            pic_embeddings_resnet_v1  \\\n",
       "0                                               None   \n",
       "1  [[0.26863545, -0.3130674, 0.29023397, 0.073978...   \n",
       "\n",
       "                       main_pic_embeddings_resnet_v1  \\\n",
       "0  [[0.04603629, 0.18839523, -0.09973055, -0.6636...   \n",
       "1  [[1.1471839, -0.665361, 0.7745614, 0.26716197,...   \n",
       "\n",
       "                                        name_bert_64  \\\n",
       "0  [-0.47045058, 0.67237014, 0.48984158, -0.54485...   \n",
       "1  [-0.6575592, 0.6522429, 0.5426037, -0.54347897...   \n",
       "\n",
       "                   characteristic_attributes_mapping  \\\n",
       "0  {\"Номинальный ток, А\":[\"10\"],\"Цвет товара\":[\"о...   \n",
       "1  {\"Конструктивные особенности\":[\"Магнитная конс...   \n",
       "\n",
       "                                        name_bert768  \n",
       "0  [-0.52616537, 0.5570387, 0.19487007, -0.363480...  \n",
       "1  [-0.64783597, -0.1698648, 0.4192899, -0.225463...  "
      ]
     },
     "metadata": {},
     "output_type": "display_data"
    }
   ],
   "source": [
    "# изучим информацию по train_data\n",
    "head_info(train_data)"
   ]
  },
  {
   "cell_type": "markdown",
   "id": "e81b5839",
   "metadata": {},
   "source": [
    "## Предобработка данных"
   ]
  },
  {
   "cell_type": "markdown",
   "id": "eb0e4946",
   "metadata": {},
   "source": [
    "### *Колонки cat 2, 3, 4 и набор атрибутов*"
   ]
  },
  {
   "cell_type": "code",
   "execution_count": 9,
   "id": "7d3339c9",
   "metadata": {},
   "outputs": [],
   "source": [
    "def new_col(train_data):\n",
    "\n",
    "\n",
    "    # переводим текст категорий в словарь\n",
    "    train_data['attributes_set'] = train_data.characteristic_attributes_mapping.fillna('{}').apply(ast.literal_eval)\n",
    "    \n",
    "    train_data['cat2'] = train_data['categories'].apply(lambda x: json.loads(x).get('2'))\n",
    "    train_data['cat3'] = train_data['categories'].apply(lambda x: json.loads(x).get('3'))  \n",
    "    train_data['cat4'] = train_data['categories'].apply(lambda x: json.loads(x).get('4'))  \n",
    "    \n",
    "    # Переведем двумрные эмбеддинги в одномерные\n",
    "    train_data['main_pic_embeddings_resnet_v1_new'] = train_data['main_pic_embeddings_resnet_v1'].apply(lambda x: x[0])\n",
    "    \n",
    "    return train_data"
   ]
  },
  {
   "cell_type": "code",
   "execution_count": 10,
   "id": "7dba0a5e",
   "metadata": {
    "scrolled": false
   },
   "outputs": [
    {
     "name": "stdout",
     "output_type": "stream",
     "text": [
      "CPU times: total: 1min 45s\n",
      "Wall time: 1min 51s\n"
     ]
    }
   ],
   "source": [
    "%%time\n",
    "# добавляем новые признаки\n",
    "train_data = new_col(train_data)"
   ]
  },
  {
   "cell_type": "code",
   "execution_count": 11,
   "id": "4b511267",
   "metadata": {},
   "outputs": [],
   "source": [
    "# удалим ненужные категории\n",
    "train_data = train_data[train_data['cat2'] == 'Электроника']\n",
    "train_data = train_data.drop('cat2', axis=1)"
   ]
  },
  {
   "cell_type": "markdown",
   "id": "5305843b",
   "metadata": {},
   "source": [
    "### Группировка категорий"
   ]
  },
  {
   "cell_type": "code",
   "execution_count": 12,
   "id": "eab96f9a",
   "metadata": {},
   "outputs": [],
   "source": [
    "REST_train = 1000   # переменная для замены категорий численностью ниже 1000"
   ]
  },
  {
   "cell_type": "code",
   "execution_count": 13,
   "id": "5dd61142",
   "metadata": {},
   "outputs": [
    {
     "name": "stdout",
     "output_type": "stream",
     "text": [
      "CPU times: total: 0 ns\n",
      "Wall time: 0 ns\n"
     ]
    }
   ],
   "source": [
    "%%time\n",
    "def cat3_grouped(train_data, FOR_REST):\n",
    "    cat3_counts = train_data[\"cat3\"].value_counts().to_dict()\n",
    "\n",
    "    cntr = 0\n",
    "    for cat3 in cat3_counts:\n",
    "        if cat3_counts[cat3] < FOR_REST:\n",
    "            cntr += cat3_counts[cat3]   \n",
    "    print(cntr)\n",
    "\n",
    "    train_data[\"cat3_grouped\"] = train_data[\"cat3\"].apply(lambda x: x if cat3_counts[x] > FOR_REST else \"rest\")\n",
    "\n",
    "    return train_data"
   ]
  },
  {
   "cell_type": "code",
   "execution_count": 14,
   "id": "13aeea92",
   "metadata": {},
   "outputs": [
    {
     "name": "stdout",
     "output_type": "stream",
     "text": [
      "11076\n",
      "CPU times: total: 219 ms\n",
      "Wall time: 211 ms\n"
     ]
    }
   ],
   "source": [
    "%%time\n",
    "# переименуем категории численностью ниже 1000 в rest\n",
    "train_data = cat3_grouped(train_data, REST_train)"
   ]
  },
  {
   "cell_type": "code",
   "execution_count": 15,
   "id": "8146c36c",
   "metadata": {},
   "outputs": [
    {
     "data": {
      "text/html": [
       "<div>\n",
       "<style scoped>\n",
       "    .dataframe tbody tr th:only-of-type {\n",
       "        vertical-align: middle;\n",
       "    }\n",
       "\n",
       "    .dataframe tbody tr th {\n",
       "        vertical-align: top;\n",
       "    }\n",
       "\n",
       "    .dataframe thead th {\n",
       "        text-align: right;\n",
       "    }\n",
       "</style>\n",
       "<table border=\"1\" class=\"dataframe\">\n",
       "  <thead>\n",
       "    <tr style=\"text-align: right;\">\n",
       "      <th></th>\n",
       "      <th>variantid</th>\n",
       "      <th>name</th>\n",
       "      <th>categories</th>\n",
       "      <th>color_parsed</th>\n",
       "      <th>pic_embeddings_resnet_v1</th>\n",
       "      <th>main_pic_embeddings_resnet_v1</th>\n",
       "      <th>name_bert_64</th>\n",
       "      <th>characteristic_attributes_mapping</th>\n",
       "      <th>name_bert768</th>\n",
       "      <th>attributes_set</th>\n",
       "      <th>cat3</th>\n",
       "      <th>cat4</th>\n",
       "      <th>main_pic_embeddings_resnet_v1_new</th>\n",
       "      <th>cat3_grouped</th>\n",
       "    </tr>\n",
       "  </thead>\n",
       "  <tbody>\n",
       "    <tr>\n",
       "      <th>0</th>\n",
       "      <td>51195767</td>\n",
       "      <td>Удлинитель Партнер-Электро ПВС 2х0,75 ГОСТ,6A,...</td>\n",
       "      <td>{\"1\": \"EPG\", \"2\": \"Электроника\", \"3\": \"Сетевые...</td>\n",
       "      <td>[оранжевый]</td>\n",
       "      <td>None</td>\n",
       "      <td>[[0.04603629, 0.18839523, -0.09973055, -0.6636...</td>\n",
       "      <td>[-0.47045058, 0.67237014, 0.48984158, -0.54485...</td>\n",
       "      <td>{\"Номинальный ток, А\":[\"10\"],\"Цвет товара\":[\"о...</td>\n",
       "      <td>[-0.52616537, 0.5570387, 0.19487007, -0.363480...</td>\n",
       "      <td>{'Номинальный ток, А': ['10'], 'Цвет товара': ...</td>\n",
       "      <td>60.0</td>\n",
       "      <td>210.0</td>\n",
       "      <td>[0.04603629, 0.18839523, -0.09973055, -0.66368...</td>\n",
       "      <td>Сетевые фильтры, разветвители и удлинители</td>\n",
       "    </tr>\n",
       "    <tr>\n",
       "      <th>1</th>\n",
       "      <td>53565809</td>\n",
       "      <td>Магнитный кабель USB 2.0 A (m) - USB Type-C (m...</td>\n",
       "      <td>{\"1\": \"EPG\", \"2\": \"Электроника\", \"3\": \"Кабели ...</td>\n",
       "      <td>[красный]</td>\n",
       "      <td>[[0.26863545, -0.3130674, 0.29023397, 0.073978...</td>\n",
       "      <td>[[1.1471839, -0.665361, 0.7745614, 0.26716197,...</td>\n",
       "      <td>[-0.6575592, 0.6522429, 0.5426037, -0.54347897...</td>\n",
       "      <td>{\"Конструктивные особенности\":[\"Магнитная конс...</td>\n",
       "      <td>[-0.64783597, -0.1698648, 0.4192899, -0.225463...</td>\n",
       "      <td>{'Конструктивные особенности': ['Магнитная кон...</td>\n",
       "      <td>31.0</td>\n",
       "      <td>98.0</td>\n",
       "      <td>[1.1471839, -0.665361, 0.7745614, 0.26716197, ...</td>\n",
       "      <td>Кабели и переходники</td>\n",
       "    </tr>\n",
       "  </tbody>\n",
       "</table>\n",
       "</div>"
      ],
      "text/plain": [
       "   variantid                                               name  \\\n",
       "0   51195767  Удлинитель Партнер-Электро ПВС 2х0,75 ГОСТ,6A,...   \n",
       "1   53565809  Магнитный кабель USB 2.0 A (m) - USB Type-C (m...   \n",
       "\n",
       "                                          categories color_parsed  \\\n",
       "0  {\"1\": \"EPG\", \"2\": \"Электроника\", \"3\": \"Сетевые...  [оранжевый]   \n",
       "1  {\"1\": \"EPG\", \"2\": \"Электроника\", \"3\": \"Кабели ...    [красный]   \n",
       "\n",
       "                            pic_embeddings_resnet_v1  \\\n",
       "0                                               None   \n",
       "1  [[0.26863545, -0.3130674, 0.29023397, 0.073978...   \n",
       "\n",
       "                       main_pic_embeddings_resnet_v1  \\\n",
       "0  [[0.04603629, 0.18839523, -0.09973055, -0.6636...   \n",
       "1  [[1.1471839, -0.665361, 0.7745614, 0.26716197,...   \n",
       "\n",
       "                                        name_bert_64  \\\n",
       "0  [-0.47045058, 0.67237014, 0.48984158, -0.54485...   \n",
       "1  [-0.6575592, 0.6522429, 0.5426037, -0.54347897...   \n",
       "\n",
       "                   characteristic_attributes_mapping  \\\n",
       "0  {\"Номинальный ток, А\":[\"10\"],\"Цвет товара\":[\"о...   \n",
       "1  {\"Конструктивные особенности\":[\"Магнитная конс...   \n",
       "\n",
       "                                        name_bert768  \\\n",
       "0  [-0.52616537, 0.5570387, 0.19487007, -0.363480...   \n",
       "1  [-0.64783597, -0.1698648, 0.4192899, -0.225463...   \n",
       "\n",
       "                                      attributes_set  cat3   cat4  \\\n",
       "0  {'Номинальный ток, А': ['10'], 'Цвет товара': ...  60.0  210.0   \n",
       "1  {'Конструктивные особенности': ['Магнитная кон...  31.0   98.0   \n",
       "\n",
       "                   main_pic_embeddings_resnet_v1_new  \\\n",
       "0  [0.04603629, 0.18839523, -0.09973055, -0.66368...   \n",
       "1  [1.1471839, -0.665361, 0.7745614, 0.26716197, ...   \n",
       "\n",
       "                                 cat3_grouped  \n",
       "0  Сетевые фильтры, разветвители и удлинители  \n",
       "1                        Кабели и переходники  "
      ]
     },
     "execution_count": 15,
     "metadata": {},
     "output_type": "execute_result"
    }
   ],
   "source": [
    "# закодируем колонки cat3 и cat4\n",
    "cat_col = ['cat3', 'cat4']\n",
    "encoder = OrdinalEncoder(handle_unknown='use_encoded_value', unknown_value=777)\n",
    "encoder.fit(train_data[cat_col])\n",
    "\n",
    "train_data[cat_col] = encoder.transform(train_data[cat_col])    \n",
    "\n",
    "train_data.head(2)"
   ]
  },
  {
   "cell_type": "markdown",
   "id": "7ad39f33",
   "metadata": {},
   "source": [
    "### *Колонка цвет*"
   ]
  },
  {
   "cell_type": "code",
   "execution_count": 16,
   "id": "690a0a02",
   "metadata": {},
   "outputs": [],
   "source": [
    "# выделим самые популярные цвета и поместим все в матрицу цветов\n",
    "def color(df):\n",
    "       \n",
    "    df['black'] = df['color_parsed'].astype(str).apply(lambda x: 1 if ('черный' in x) or ('black') in x else 0)\n",
    "    df['silver'] = df['color_parsed'].astype(str).apply(lambda x: 1 if ('silver'in x) or ('серебристый' in x) or ('серебряный' in x) else 0)\n",
    "    df['rose'] = df['color_parsed'].astype(str).apply(lambda x: 1 if ('pink' in x) or ('розовый'  in x) else 0)\n",
    "    df['red'] = df['color_parsed'].astype(str).apply(lambda x: 1 if ('red' in x) or ('красный' in x) else 0)\n",
    "    df['white'] = df['color_parsed'].astype(str).apply(lambda x: 1 if ('white' in x) or ('белый' in x) else 0)\n",
    "    df['blue'] = df['color_parsed'].astype(str).apply(lambda x: 1 if ('blue' in x) or ('синий' in x) or ('голубой' in x)  else 0)\n",
    "    df['multicol'] = df['color_parsed'].astype(str).apply(lambda x: 1 if ('разноцветный' in x) or ('цветной' in x) or ('многоцветный' in x) else 0)\n",
    "    df['green'] = df['color_parsed'].astype(str).apply(lambda x: 1 if ('green' in x) or ('зеленый' in x) else 0)\n",
    "    df['yellow'] = df['color_parsed'].astype(str).apply(lambda x: 1 if ('yellow' in x) or ('желтый' in x) else 0)\n",
    "    df['gold'] = df['color_parsed'].astype(str).apply(lambda x: 1 if ('gold' in x) or ('золотой' in x) else 0)\n",
    "    df['purple'] = df['color_parsed'].astype(str).apply(lambda x: 1 if ('purple' in x) or ('пурпурный' in x)  or ('сиреневый' in x) or ('фиолетовый' in x) else 0)\n",
    "    df['orange'] = df['color_parsed'].astype(str).apply(lambda x: 1 if 'оранжевый' in x else 0)\n",
    "    df['brown'] = df['color_parsed'].astype(str).apply(lambda x: 1 if ('коричневый' in x) or ('brown' in x) or ('темно-коричневый' in x) else 0)\n",
    "    df['grey'] = df['color_parsed'].astype(str).apply(lambda x: 1 if ('серый' in x) or ('grey' in x) or ('темно-серый' in x) else 0)\n",
    "    \n",
    "    name_color = ['black', 'silver', 'rose', 'red', 'white', 'blue', 'multicol', \n",
    "                  'green', 'yellow', 'gold', 'purple', 'orange', 'brown', 'grey'] \n",
    "    \n",
    "    df['clr_vect'] = df[name_color].values.tolist()\n",
    "    df = df.drop(name_color, axis=1)\n",
    "    df = df.drop(['color_parsed'], axis=1)\n",
    "     \n",
    "    return df"
   ]
  },
  {
   "cell_type": "code",
   "execution_count": 17,
   "id": "c3b5ead7",
   "metadata": {},
   "outputs": [
    {
     "name": "stdout",
     "output_type": "stream",
     "text": [
      "CPU times: total: 1min 52s\n",
      "Wall time: 1min 57s\n"
     ]
    }
   ],
   "source": [
    "%%time\n",
    "# переведем цвета в матрицу\n",
    "train_data = color(train_data)"
   ]
  },
  {
   "cell_type": "markdown",
   "id": "191b6f66",
   "metadata": {},
   "source": [
    "### *Объединение таблиц*"
   ]
  },
  {
   "cell_type": "code",
   "execution_count": 18,
   "id": "791e482f",
   "metadata": {},
   "outputs": [],
   "source": [
    "# объединим данные по парам товаров\n",
    "def merge_f(pairs, data): \n",
    "    features = pairs.merge(data.add_suffix('1'), on='variantid1').merge(data.add_suffix('2'), on='variantid2')\n",
    "    features.rename(columns={'cat31': 'cat3', 'cat3_grouped1': 'cat3_grouped'}, inplace=True)\n",
    "    return features"
   ]
  },
  {
   "cell_type": "code",
   "execution_count": 19,
   "id": "5605a1b7",
   "metadata": {},
   "outputs": [
    {
     "name": "stdout",
     "output_type": "stream",
     "text": [
      "CPU times: total: 3.69 s\n",
      "Wall time: 3.94 s\n"
     ]
    },
    {
     "data": {
      "text/html": [
       "<div>\n",
       "<style scoped>\n",
       "    .dataframe tbody tr th:only-of-type {\n",
       "        vertical-align: middle;\n",
       "    }\n",
       "\n",
       "    .dataframe tbody tr th {\n",
       "        vertical-align: top;\n",
       "    }\n",
       "\n",
       "    .dataframe thead th {\n",
       "        text-align: right;\n",
       "    }\n",
       "</style>\n",
       "<table border=\"1\" class=\"dataframe\">\n",
       "  <thead>\n",
       "    <tr style=\"text-align: right;\">\n",
       "      <th></th>\n",
       "      <th>target</th>\n",
       "      <th>variantid1</th>\n",
       "      <th>variantid2</th>\n",
       "      <th>name1</th>\n",
       "      <th>categories1</th>\n",
       "      <th>pic_embeddings_resnet_v11</th>\n",
       "      <th>main_pic_embeddings_resnet_v11</th>\n",
       "      <th>name_bert_641</th>\n",
       "      <th>characteristic_attributes_mapping1</th>\n",
       "      <th>name_bert7681</th>\n",
       "      <th>attributes_set1</th>\n",
       "      <th>cat3</th>\n",
       "      <th>cat41</th>\n",
       "      <th>main_pic_embeddings_resnet_v1_new1</th>\n",
       "      <th>cat3_grouped</th>\n",
       "      <th>clr_vect1</th>\n",
       "      <th>name2</th>\n",
       "      <th>categories2</th>\n",
       "      <th>pic_embeddings_resnet_v12</th>\n",
       "      <th>main_pic_embeddings_resnet_v12</th>\n",
       "      <th>name_bert_642</th>\n",
       "      <th>characteristic_attributes_mapping2</th>\n",
       "      <th>name_bert7682</th>\n",
       "      <th>attributes_set2</th>\n",
       "      <th>cat32</th>\n",
       "      <th>cat42</th>\n",
       "      <th>main_pic_embeddings_resnet_v1_new2</th>\n",
       "      <th>cat3_grouped2</th>\n",
       "      <th>clr_vect2</th>\n",
       "    </tr>\n",
       "  </thead>\n",
       "  <tbody>\n",
       "    <tr>\n",
       "      <th>0</th>\n",
       "      <td>0.0</td>\n",
       "      <td>51197862</td>\n",
       "      <td>51198054</td>\n",
       "      <td>Удлинитель TDM Electric Люкс УЛ05В 5 м (SQ1303...</td>\n",
       "      <td>{\"1\": \"EPG\", \"2\": \"Электроника\", \"3\": \"Сетевые...</td>\n",
       "      <td>None</td>\n",
       "      <td>[[-0.4304909, -0.49474272, -0.46439183, -0.060...</td>\n",
       "      <td>[-0.5104684, 0.56158644, 0.58873796, -0.529718...</td>\n",
       "      <td>{\"Число жил\":[\"3\"],\"Макс. нагрузка, Вт\":[\"3500...</td>\n",
       "      <td>[-0.4590829, -0.11046589, 0.11674632, -0.17761...</td>\n",
       "      <td>{'Число жил': ['3'], 'Макс. нагрузка, Вт': ['3...</td>\n",
       "      <td>60.0</td>\n",
       "      <td>210.0</td>\n",
       "      <td>[-0.4304909, -0.49474272, -0.46439183, -0.0609...</td>\n",
       "      <td>Сетевые фильтры, разветвители и удлинители</td>\n",
       "      <td>[0, 0, 0, 0, 1, 0, 0, 0, 0, 0, 0, 0, 0, 0]</td>\n",
       "      <td>Удлинитель TDM Electric Люкс УЛ05В 1.5 м (SQ13...</td>\n",
       "      <td>{\"1\": \"EPG\", \"2\": \"Электроника\", \"3\": \"Сетевые...</td>\n",
       "      <td>None</td>\n",
       "      <td>[[-0.42941108, -0.5129398, -0.4753536, -0.0677...</td>\n",
       "      <td>[-0.455473, 0.58157134, 0.5870387, -0.5325003,...</td>\n",
       "      <td>{\"Электробезопасность\":[\"Заземление\"],\"Длина к...</td>\n",
       "      <td>[-0.55869406, -0.13428268, 0.0906083, -0.18947...</td>\n",
       "      <td>{'Электробезопасность': ['Заземление'], 'Длина...</td>\n",
       "      <td>60.0</td>\n",
       "      <td>210.0</td>\n",
       "      <td>[-0.42941108, -0.5129398, -0.4753536, -0.06778...</td>\n",
       "      <td>Сетевые фильтры, разветвители и удлинители</td>\n",
       "      <td>[0, 0, 0, 0, 1, 0, 0, 0, 0, 0, 0, 0, 0, 0]</td>\n",
       "    </tr>\n",
       "  </tbody>\n",
       "</table>\n",
       "</div>"
      ],
      "text/plain": [
       "   target  variantid1  variantid2  \\\n",
       "0     0.0    51197862    51198054   \n",
       "\n",
       "                                               name1  \\\n",
       "0  Удлинитель TDM Electric Люкс УЛ05В 5 м (SQ1303...   \n",
       "\n",
       "                                         categories1  \\\n",
       "0  {\"1\": \"EPG\", \"2\": \"Электроника\", \"3\": \"Сетевые...   \n",
       "\n",
       "  pic_embeddings_resnet_v11  \\\n",
       "0                      None   \n",
       "\n",
       "                      main_pic_embeddings_resnet_v11  \\\n",
       "0  [[-0.4304909, -0.49474272, -0.46439183, -0.060...   \n",
       "\n",
       "                                       name_bert_641  \\\n",
       "0  [-0.5104684, 0.56158644, 0.58873796, -0.529718...   \n",
       "\n",
       "                  characteristic_attributes_mapping1  \\\n",
       "0  {\"Число жил\":[\"3\"],\"Макс. нагрузка, Вт\":[\"3500...   \n",
       "\n",
       "                                       name_bert7681  \\\n",
       "0  [-0.4590829, -0.11046589, 0.11674632, -0.17761...   \n",
       "\n",
       "                                     attributes_set1  cat3  cat41  \\\n",
       "0  {'Число жил': ['3'], 'Макс. нагрузка, Вт': ['3...  60.0  210.0   \n",
       "\n",
       "                  main_pic_embeddings_resnet_v1_new1  \\\n",
       "0  [-0.4304909, -0.49474272, -0.46439183, -0.0609...   \n",
       "\n",
       "                                 cat3_grouped  \\\n",
       "0  Сетевые фильтры, разветвители и удлинители   \n",
       "\n",
       "                                    clr_vect1  \\\n",
       "0  [0, 0, 0, 0, 1, 0, 0, 0, 0, 0, 0, 0, 0, 0]   \n",
       "\n",
       "                                               name2  \\\n",
       "0  Удлинитель TDM Electric Люкс УЛ05В 1.5 м (SQ13...   \n",
       "\n",
       "                                         categories2  \\\n",
       "0  {\"1\": \"EPG\", \"2\": \"Электроника\", \"3\": \"Сетевые...   \n",
       "\n",
       "  pic_embeddings_resnet_v12  \\\n",
       "0                      None   \n",
       "\n",
       "                      main_pic_embeddings_resnet_v12  \\\n",
       "0  [[-0.42941108, -0.5129398, -0.4753536, -0.0677...   \n",
       "\n",
       "                                       name_bert_642  \\\n",
       "0  [-0.455473, 0.58157134, 0.5870387, -0.5325003,...   \n",
       "\n",
       "                  characteristic_attributes_mapping2  \\\n",
       "0  {\"Электробезопасность\":[\"Заземление\"],\"Длина к...   \n",
       "\n",
       "                                       name_bert7682  \\\n",
       "0  [-0.55869406, -0.13428268, 0.0906083, -0.18947...   \n",
       "\n",
       "                                     attributes_set2  cat32  cat42  \\\n",
       "0  {'Электробезопасность': ['Заземление'], 'Длина...   60.0  210.0   \n",
       "\n",
       "                  main_pic_embeddings_resnet_v1_new2  \\\n",
       "0  [-0.42941108, -0.5129398, -0.4753536, -0.06778...   \n",
       "\n",
       "                                cat3_grouped2  \\\n",
       "0  Сетевые фильтры, разветвители и удлинители   \n",
       "\n",
       "                                    clr_vect2  \n",
       "0  [0, 0, 0, 0, 1, 0, 0, 0, 0, 0, 0, 0, 0, 0]  "
      ]
     },
     "execution_count": 19,
     "metadata": {},
     "output_type": "execute_result"
    }
   ],
   "source": [
    "%%time\n",
    "features = merge_f(train_pairs, train_data)\n",
    "\n",
    "features.head(1)"
   ]
  },
  {
   "cell_type": "markdown",
   "id": "140c5264",
   "metadata": {},
   "source": [
    "### *Похожесть атрибутов*"
   ]
  },
  {
   "cell_type": "code",
   "execution_count": 20,
   "id": "682d41b1",
   "metadata": {},
   "outputs": [],
   "source": [
    "def calculate_statistical_features(embedding1, embedding2):\n",
    "    \n",
    "    # Вычисляем разность между двумя эмбеддингами\n",
    "    diff = embedding1 - embedding2\n",
    "    \n",
    "    # Вычисляем среднее значение разности\n",
    "    mean = np.mean(diff)\n",
    "    \n",
    "    # Вычисляем медиану разности\n",
    "    median = np.median(diff)\n",
    "    \n",
    "    # Вычисляем стандартное отклонение разности\n",
    "    std = np.std(diff)\n",
    "    \n",
    "    # Возвращаем вычисленные значения\n",
    "    return mean, median, std"
   ]
  },
  {
   "cell_type": "code",
   "execution_count": 21,
   "id": "62bbc133",
   "metadata": {},
   "outputs": [
    {
     "name": "stderr",
     "output_type": "stream",
     "text": [
      "100%|██████████| 306306/306306 [01:03<00:00, 4789.74it/s]\n",
      "100%|██████████| 306306/306306 [00:45<00:00, 6686.10it/s]\n",
      "100%|██████████| 306306/306306 [00:46<00:00, 6564.72it/s]"
     ]
    },
    {
     "name": "stdout",
     "output_type": "stream",
     "text": [
      "CPU times: total: 2min 19s\n",
      "Wall time: 2min 36s\n"
     ]
    },
    {
     "name": "stderr",
     "output_type": "stream",
     "text": [
      "\n"
     ]
    }
   ],
   "source": [
    "%%time\n",
    "# Добавляем новые столбцы в датафрейм features с вычисленными статистическими характеристиками разности \n",
    "# между парами эмбеддингов эмбеддингами\n",
    "\n",
    "features[['name_mean_diff', 'name_median_diff', 'name_std_diff']] = features.progress_apply(\n",
    "    lambda x: calculate_statistical_features(\n",
    "        x['name_bert7681'], x['name_bert7682']), axis=1, result_type='expand'\n",
    ")\n",
    "\n",
    "features[['ozon_name_mean_diff', 'ozon_name_median_diff', 'ozon_name_std_diff']] = features.progress_apply(\n",
    "    lambda x: calculate_statistical_features(\n",
    "        x['name_bert_641'], x['name_bert_642']), axis=1, result_type='expand'\n",
    ")\n",
    "\n",
    "features[['main_pic_mean_diff', 'main_pic_median_diff', 'main_pic_std_diff']] = features.progress_apply(\n",
    "    lambda x: calculate_statistical_features(\n",
    "        x['main_pic_embeddings_resnet_v1_new1'], x['main_pic_embeddings_resnet_v1_new2']), axis=1, result_type='expand'\n",
    ")"
   ]
  },
  {
   "cell_type": "code",
   "execution_count": 22,
   "id": "ac508ab8",
   "metadata": {},
   "outputs": [],
   "source": [
    "# добавим коэффициент Жаккара\n",
    "def calculate_jaccard_similarity(text1, text2):\n",
    "    # Заменяем значения None на пустые строки\n",
    "    text1 = '' if text1 is None else text1\n",
    "    text2 = '' if text2 is None else text2\n",
    "    \n",
    "    # Заменяем значения типа float на пустые строки\n",
    "    text1 = '' if isinstance(text1, float) else text1\n",
    "    text2 = '' if isinstance(text2, float) else text2\n",
    "    \n",
    "    # Инициализируем векторизатор с бинарными значениями\n",
    "    vectorizer = CountVectorizer(binary=True)\n",
    "\n",
    "    try:\n",
    "        # Преобразуем тексты в векторы\n",
    "        X = vectorizer.fit_transform([text1, text2])\n",
    "    except ValueError:\n",
    "        # Если после предобработки текстов не осталось слов для анализа,\n",
    "        # возвращаем значение 0\n",
    "        return 0\n",
    "    \n",
    "    # Преобразуем тексты в векторы\n",
    "    X = vectorizer.fit_transform([text1, text2])\n",
    "    \n",
    "    # Вычисляем пересечение между векторами\n",
    "    intersection = X[0].multiply(X[1]).sum()\n",
    "    \n",
    "    # Вычисляем объединение между векторами\n",
    "    union = X.sum() - intersection\n",
    "    \n",
    "    # Возвращаем коэффициент Жаккара\n",
    "    return intersection / union"
   ]
  },
  {
   "cell_type": "code",
   "execution_count": 23,
   "id": "7294c168",
   "metadata": {},
   "outputs": [
    {
     "name": "stderr",
     "output_type": "stream",
     "text": [
      "100%|██████████| 306306/306306 [09:44<00:00, 524.21it/s]\n",
      "100%|██████████| 306306/306306 [10:54<00:00, 468.03it/s]"
     ]
    },
    {
     "name": "stdout",
     "output_type": "stream",
     "text": [
      "CPU times: total: 19min 32s\n",
      "Wall time: 20min 38s\n"
     ]
    },
    {
     "name": "stderr",
     "output_type": "stream",
     "text": [
      "\n"
     ]
    }
   ],
   "source": [
    "%%time\n",
    "# Добавляем новыe признаки в датафрейм features с вычисленным коэффициентом Жаккара между названиями товаров и характеристиками\n",
    "features['name_jaccard_similarity'] = features.progress_apply(\n",
    "    lambda x: calculate_jaccard_similarity(x['name1'], x['name2']), axis=1\n",
    ")\n",
    "\n",
    "features['attributes_jaccard_similarity'] = features.progress_apply(\n",
    "    lambda x: calculate_jaccard_similarity(x['characteristic_attributes_mapping1'], x['characteristic_attributes_mapping2']), axis=1\n",
    ")"
   ]
  },
  {
   "cell_type": "code",
   "execution_count": 24,
   "id": "339d25de",
   "metadata": {},
   "outputs": [],
   "source": [
    "# добавим признаки взаимосвязи характеристик\n",
    "def is_number(value):\n",
    "    try:\n",
    "        float(value)\n",
    "        return True\n",
    "    except ValueError:\n",
    "        return False\n",
    "\n",
    "def compare_attr(set1, set2):\n",
    "    keys1 = set(set1.keys())\n",
    "    keys2 = set(set2.keys())\n",
    "    \n",
    "    # Отношение общих ключей к сумме ключей\n",
    "    ratio = len(keys2 & keys1) / (len(keys2) + len(keys1))\n",
    "    \n",
    "    # Количество одинаковых значений в общих ключах\n",
    "    d = 0\n",
    "    for i in keys2 & keys1:\n",
    "        if set1[i][0] == set2[i][0]:\n",
    "            d += 1\n",
    "    \n",
    "    # Количество общих ключей\n",
    "    common_keys = len(keys1 & keys2)\n",
    "    \n",
    "    # Количество ключей с одинаковыми значениями\n",
    "    same_value_keys = sum(1 for key in keys1 & keys2 if set1[key] == set2[key])\n",
    "    \n",
    "    # Среднее значение числовых характеристик для первого товара\n",
    "    mean_value1 = np.mean([float(value[0]) for key, value in set1.items() if is_number(value[0])])\n",
    "    \n",
    "    # Среднее значение числовых характеристик для второго товара\n",
    "    mean_value2 = np.mean([float(value[0]) for key, value in set2.items() if is_number(value[0])])\n",
    "    \n",
    "    return ratio, d, common_keys, same_value_keys, mean_value1, mean_value2"
   ]
  },
  {
   "cell_type": "code",
   "execution_count": 25,
   "id": "ae68b743",
   "metadata": {},
   "outputs": [
    {
     "name": "stderr",
     "output_type": "stream",
     "text": [
      "100%|██████████| 306306/306306 [01:33<00:00, 3273.64it/s]"
     ]
    },
    {
     "name": "stdout",
     "output_type": "stream",
     "text": [
      "CPU times: total: 1min 33s\n",
      "Wall time: 1min 33s\n"
     ]
    },
    {
     "name": "stderr",
     "output_type": "stream",
     "text": [
      "\n"
     ]
    }
   ],
   "source": [
    "%%time\n",
    "# добавим признаки взаимосвязи характеристик\n",
    "features[['attr_dist', \n",
    "          'attr_acc', \n",
    "          'common_keys', \n",
    "          'same_value_keys', \n",
    "          'mean_value1', \n",
    "          'mean_value2']] = features[['attributes_set1', 'attributes_set2']].progress_apply(\n",
    "    lambda x: pd.Series(compare_attr(*x)), axis=1\n",
    ")"
   ]
  },
  {
   "cell_type": "code",
   "execution_count": 26,
   "id": "cb3eea55",
   "metadata": {},
   "outputs": [],
   "source": [
    "# заполним нулями пропуски в mean_value1 и mean_value2\n",
    "features['mean_value1'] = features['mean_value1'].fillna(0)\n",
    "features['mean_value2'] = features['mean_value2'].fillna(0)"
   ]
  },
  {
   "cell_type": "code",
   "execution_count": 27,
   "id": "704c0aa2",
   "metadata": {},
   "outputs": [],
   "source": [
    "def manhattan_distance(emb1, emb2):\n",
    "    \"\"\"\n",
    "    Функция для расчета манхэттенского расстояния между двумя одномерными эмбеддингами в строке датафрейма\n",
    "    :return: манхэттенское расстояние между эмбеддингами в строке\n",
    "    \"\"\"\n",
    "    return np.abs(emb1 - emb2)"
   ]
  },
  {
   "cell_type": "code",
   "execution_count": 28,
   "id": "dc0300d8",
   "metadata": {},
   "outputs": [
    {
     "name": "stderr",
     "output_type": "stream",
     "text": [
      "100%|██████████| 306306/306306 [00:05<00:00, 52515.88it/s]\n",
      "100%|██████████| 306306/306306 [00:06<00:00, 48005.69it/s]\n",
      "100%|██████████| 306306/306306 [00:08<00:00, 34398.18it/s]\n"
     ]
    }
   ],
   "source": [
    "# Расчет манхэттенского расстояния между признаками name_bert_641 и name_bert_642\n",
    "features['ozon_bert_manhattan_distance'] = features.progress_apply(\n",
    "    lambda x: manhattan_distance(x['name_bert_641'], x['name_bert_642']), axis=1\n",
    ")\n",
    "\n",
    "# Расчет манхэттенского расстояния между признаками main_pic_embeddings_resnet_v1_new1 и main_pic_embeddings_resnet_v1_new2\n",
    "features['main_pic_manhattan_distance'] = features.progress_apply(\n",
    "    lambda x: manhattan_distance(x['main_pic_embeddings_resnet_v1_new1'], x['main_pic_embeddings_resnet_v1_new2']), axis=1\n",
    ")\n",
    "\n",
    "# Расчет манхэттенского расстояния между признаками name_embedding1 и name_embedding2\n",
    "features['name_emb_manhattan_distance'] = features.progress_apply(\n",
    "    lambda x: manhattan_distance(x['name_bert7681'], x['name_bert7682']), axis=1\n",
    ")"
   ]
  },
  {
   "cell_type": "code",
   "execution_count": 29,
   "id": "7e092566",
   "metadata": {},
   "outputs": [],
   "source": [
    "def calculate_statistics(arr):\n",
    "    \"\"\"\n",
    "    Функция для расчета статистических мер для массива\n",
    "    :param arr: массив значений\n",
    "    :return: кортеж из среднего значения, медианы и стандартного отклонения\n",
    "    \"\"\"\n",
    "    mean = np.mean(arr)\n",
    "    median = np.median(arr)\n",
    "    std = np.std(arr)\n",
    "    \n",
    "    return mean, median, std"
   ]
  },
  {
   "cell_type": "code",
   "execution_count": 30,
   "id": "98d0d23c",
   "metadata": {},
   "outputs": [
    {
     "name": "stderr",
     "output_type": "stream",
     "text": [
      "100%|██████████| 306306/306306 [01:15<00:00, 4035.05it/s]\n",
      "100%|██████████| 306306/306306 [01:18<00:00, 3892.78it/s]\n",
      "100%|██████████| 306306/306306 [01:35<00:00, 3199.29it/s]"
     ]
    },
    {
     "name": "stdout",
     "output_type": "stream",
     "text": [
      "CPU times: total: 4min 10s\n",
      "Wall time: 4min 10s\n"
     ]
    },
    {
     "name": "stderr",
     "output_type": "stream",
     "text": [
      "\n"
     ]
    }
   ],
   "source": [
    "%%time\n",
    "# расчитываем среднее, медиану и стд для ozon_bert_manhattan_distance\n",
    "features[[\"mean_ozon_bert_manhattan_distance\", \n",
    "          \"median_ozon_bert_manhattan_distance\", \n",
    "          \"std_ozon_bert_manhattan_distance\"]] = (features['ozon_bert_manhattan_distance'].progress_apply(\n",
    "        lambda x: pd.Series(calculate_statistics(x))))\n",
    "\n",
    "# расчитываем среднее, медиану и стд для main_pic_manhattan_distance\n",
    "features[[\"mean_main_pic_manhattan_distance\", \n",
    "          \"median_main_pic_manhattan_distance\", \n",
    "          \"std_main_pic_manhattan_distance\"]] = (features['main_pic_manhattan_distance'].progress_apply(\n",
    "        lambda x: pd.Series(calculate_statistics(x))))\n",
    "\n",
    "# расчитываем среднее, медиану и стд для name_emb_manhattan_distance\n",
    "features[[\"mean_name_emb_manhattan_distance\", \n",
    "          \"median_name_emb_manhattan_distance\", \n",
    "          \"std_name_emb_manhattan_distance\"]] = (features['name_emb_manhattan_distance'].progress_apply(\n",
    "        lambda x: pd.Series(calculate_statistics(x))))"
   ]
  },
  {
   "cell_type": "code",
   "execution_count": 31,
   "id": "ffd28a1f",
   "metadata": {},
   "outputs": [],
   "source": [
    "def levenshtein_distance(text1, text2):\n",
    "    \"\"\"\n",
    "    Функция для расчета расстояния Левенштейна между двумя текстами\n",
    "    :param text1: первый текст\n",
    "    :param text2: второй текст\n",
    "    :return: расстояние Левенштейна между text1 и text2\n",
    "    \"\"\"\n",
    "    return edit_distance(text1, text2)"
   ]
  },
  {
   "cell_type": "code",
   "execution_count": 32,
   "id": "d02b24ed",
   "metadata": {},
   "outputs": [
    {
     "name": "stderr",
     "output_type": "stream",
     "text": [
      "100%|██████████| 306306/306306 [54:27<00:00, 93.74it/s]  "
     ]
    },
    {
     "name": "stdout",
     "output_type": "stream",
     "text": [
      "CPU times: total: 54min 28s\n",
      "Wall time: 54min 28s\n"
     ]
    },
    {
     "name": "stderr",
     "output_type": "stream",
     "text": [
      "\n"
     ]
    }
   ],
   "source": [
    "%%time\n",
    "# расчитаем расстояния Левенштейна для name1 и name2\n",
    "features[['name_levenshtein_distance']] = (\n",
    "    features[[\"name1\", \"name2\"]].progress_apply(\n",
    "        lambda x: pd.Series(levenshtein_distance(*x)), axis=1))"
   ]
  },
  {
   "cell_type": "markdown",
   "id": "91b415dc",
   "metadata": {},
   "source": [
    "### *Введем расстояния*"
   ]
  },
  {
   "cell_type": "code",
   "execution_count": 33,
   "id": "14cc223c",
   "metadata": {},
   "outputs": [],
   "source": [
    "def get_pic_features(main_pic_embeddings_1,\n",
    "                     main_pic_embeddings_2,\n",
    "                     percentiles: List[int]):\n",
    "    \"\"\"\n",
    "    Calculate distances percentiles for \n",
    "    pairwise pic distances. Percentiles are useful \n",
    "    when product has several pictures.\n",
    "    \"\"\"\n",
    "    \n",
    "    if main_pic_embeddings_1 is not None and main_pic_embeddings_2 is not None:\n",
    "        main_pic_embeddings_1 = np.array([x for x in main_pic_embeddings_1])\n",
    "        main_pic_embeddings_2 = np.array([x for x in main_pic_embeddings_2])\n",
    "        \n",
    "        dist_m = pairwise_distances(\n",
    "            main_pic_embeddings_1, main_pic_embeddings_2\n",
    "        )\n",
    "    else:\n",
    "        dist_m = np.array([[-1]])\n",
    "\n",
    "    pair_features = []\n",
    "    pair_features += np.percentile(dist_m, percentiles).tolist()\n",
    "\n",
    "    return pair_features\n",
    "\n",
    "\n",
    "def text_dense_distances(ozon_embedding, comp_embedding):\n",
    "    \"\"\"\n",
    "    Calculate Euclidean and Cosine distances between\n",
    "    ozon_embedding and comp_embedding.\n",
    "    \"\"\"\n",
    "    pair_features = []\n",
    "    if ozon_embedding is None or comp_embedding is None:\n",
    "        pair_features = [-1, -1]\n",
    "    \n",
    "    elif len(ozon_embedding) == 0 or len(comp_embedding) == 0:\n",
    "        pair_features = [-1, -1]\n",
    "    \n",
    "    else:\n",
    "        pair_features.append(\n",
    "            euclidean(ozon_embedding, comp_embedding)\n",
    "        )\n",
    "        cosine_value = cosine(ozon_embedding, comp_embedding)\n",
    "        \n",
    "        pair_features.append(cosine_value)\n",
    "\n",
    "    return pair_features"
   ]
  },
  {
   "cell_type": "code",
   "execution_count": 34,
   "id": "b4c1f403",
   "metadata": {},
   "outputs": [
    {
     "name": "stderr",
     "output_type": "stream",
     "text": [
      "100%|██████████| 306306/306306 [02:58<00:00, 1716.80it/s]\n",
      "100%|██████████| 306306/306306 [03:22<00:00, 1515.20it/s]\n",
      "100%|██████████| 306306/306306 [01:18<00:00, 3895.77it/s]\n",
      "100%|██████████| 306306/306306 [01:20<00:00, 3828.11it/s]\n",
      "100%|██████████| 306306/306306 [01:22<00:00, 3712.84it/s]\n",
      "100%|██████████| 306306/306306 [01:42<00:00, 2989.24it/s]"
     ]
    },
    {
     "name": "stdout",
     "output_type": "stream",
     "text": [
      "CPU times: total: 12min 9s\n",
      "Wall time: 12min 4s\n"
     ]
    },
    {
     "name": "stderr",
     "output_type": "stream",
     "text": [
      "\n"
     ]
    }
   ],
   "source": [
    "%%time\n",
    "get_pic_features_func = partial(get_pic_features, percentiles=[0, 25, 50])\n",
    "\n",
    "features[[\"pic_dist_0_perc\", \"pic_dist_25_perc\", \"pic_dist_50_perc\"]] = (\n",
    "    features[[\"pic_embeddings_resnet_v11\", \"pic_embeddings_resnet_v12\"]].progress_apply(\n",
    "        lambda x: pd.Series(get_pic_features_func(*x)), axis=1\n",
    "    )\n",
    ")\n",
    "\n",
    "features[[\"main_pic_dist_0_perc\", \"main_pic_dist_25_perc\", \"main_pic_dist_50_perc\"]] = (\n",
    "    features[[\"main_pic_embeddings_resnet_v11\", \"main_pic_embeddings_resnet_v12\"]].progress_apply(\n",
    "        lambda x: pd.Series(get_pic_features_func(*x)), axis=1\n",
    "    )\n",
    ")\n",
    "\n",
    "features[[\"euclidean_main_pic_dist\", \"cosine_main_pic_dist\"]] = (\n",
    "    features[[\"main_pic_embeddings_resnet_v1_new1\", \"main_pic_embeddings_resnet_v1_new2\"]].progress_apply(\n",
    "        lambda x: pd.Series(text_dense_distances(*x)), axis=1\n",
    "    )\n",
    ")\n",
    "\n",
    "features[[\"euclidean_color_dist\", \"cosine_color_dist\"]] = (\n",
    "    features[[\"clr_vect1\", \"clr_vect2\"]].progress_apply(\n",
    "        lambda x: pd.Series(text_dense_distances(*x)), axis=1\n",
    "    )\n",
    ")\n",
    "\n",
    "features[[\"euclidean_name_bert_dist\", \"cosine_name_bert_dist\"]] = (\n",
    "    features[[\"name_bert_641\", \"name_bert_642\"]].progress_apply(\n",
    "        lambda x: pd.Series(text_dense_distances(*x)), axis=1\n",
    "    )\n",
    ")\n",
    "\n",
    "features[[\"euclidean_name_embedding_dist\", \"cosine_name_embedding_dist\"]] = (\n",
    "    features[[\"name_bert7681\", \"name_bert7682\"]].progress_apply(\n",
    "        lambda x: pd.Series(text_dense_distances(*x)), axis=1\n",
    "    )\n",
    ")"
   ]
  },
  {
   "cell_type": "markdown",
   "id": "babb1703",
   "metadata": {},
   "source": [
    "###  Удаление ненужных колонок"
   ]
  },
  {
   "cell_type": "code",
   "execution_count": 37,
   "id": "ca8e9eda",
   "metadata": {},
   "outputs": [],
   "source": [
    "# drop\n",
    "def drop_f(features):\n",
    "    features = features.drop([\n",
    "        'name_bert_641', \n",
    "        'name_bert_642', \n",
    "        'main_pic_embeddings_resnet_v11', \n",
    "        'main_pic_embeddings_resnet_v12',\n",
    "        'main_pic_embeddings_resnet_v1_new1', \n",
    "        'main_pic_embeddings_resnet_v1_new2',\n",
    "        'name_bert7681', \n",
    "        'name_bert7682',\n",
    "        'categories1',\n",
    "        'categories2',\n",
    "        'pic_embeddings_resnet_v11',\n",
    "        'pic_embeddings_resnet_v12',       \n",
    "        'cat3_grouped2',\n",
    "        'attributes_set1', \n",
    "        'attributes_set2', \n",
    "        'clr_vect1', \n",
    "        'clr_vect2'], axis=1)  \n",
    "    \n",
    "    return features"
   ]
  },
  {
   "cell_type": "code",
   "execution_count": 38,
   "id": "08adf360",
   "metadata": {},
   "outputs": [],
   "source": [
    "# удалим не используещиеся далее признаки\n",
    "features = drop_f(features)"
   ]
  },
  {
   "cell_type": "code",
   "execution_count": 39,
   "id": "19206530",
   "metadata": {},
   "outputs": [],
   "source": [
    "# заполним пропуски в characteristic_attributes_mapping1 и characteristic_attributes_mapping2\n",
    "features[['characteristic_attributes_mapping1', \n",
    "          'characteristic_attributes_mapping2']] = features[['characteristic_attributes_mapping1', \n",
    "                                                             'characteristic_attributes_mapping2']].fillna('{}')"
   ]
  },
  {
   "cell_type": "markdown",
   "id": "801c1a5c",
   "metadata": {},
   "source": [
    "##  Отделение тестовой выборки"
   ]
  },
  {
   "cell_type": "code",
   "execution_count": 40,
   "id": "80cecedb",
   "metadata": {},
   "outputs": [
    {
     "name": "stdout",
     "output_type": "stream",
     "text": [
      "<class 'pandas.core.frame.DataFrame'>\n",
      "Int64Index: 275675 entries, 204167 to 61494\n",
      "Data columns (total 52 columns):\n",
      " #   Column                               Non-Null Count   Dtype  \n",
      "---  ------                               --------------   -----  \n",
      " 0   name1                                275675 non-null  object \n",
      " 1   characteristic_attributes_mapping1   275675 non-null  object \n",
      " 2   cat3                                 275675 non-null  float64\n",
      " 3   cat41                                275675 non-null  float64\n",
      " 4   name2                                275675 non-null  object \n",
      " 5   characteristic_attributes_mapping2   275675 non-null  object \n",
      " 6   cat32                                275675 non-null  float64\n",
      " 7   cat42                                275675 non-null  float64\n",
      " 8   name_mean_diff                       275675 non-null  float32\n",
      " 9   name_median_diff                     275675 non-null  float32\n",
      " 10  name_std_diff                        275675 non-null  float32\n",
      " 11  ozon_name_mean_diff                  275675 non-null  float32\n",
      " 12  ozon_name_median_diff                275675 non-null  float32\n",
      " 13  ozon_name_std_diff                   275675 non-null  float32\n",
      " 14  main_pic_mean_diff                   275675 non-null  float32\n",
      " 15  main_pic_median_diff                 275675 non-null  float32\n",
      " 16  main_pic_std_diff                    275675 non-null  float32\n",
      " 17  name_jaccard_similarity              275675 non-null  float64\n",
      " 18  attributes_jaccard_similarity        275675 non-null  float64\n",
      " 19  attr_dist                            275675 non-null  float64\n",
      " 20  attr_acc                             275675 non-null  float64\n",
      " 21  common_keys                          275675 non-null  float64\n",
      " 22  same_value_keys                      275675 non-null  float64\n",
      " 23  mean_value1                          275675 non-null  float64\n",
      " 24  mean_value2                          275675 non-null  float64\n",
      " 25  ozon_bert_manhattan_distance         275675 non-null  object \n",
      " 26  main_pic_manhattan_distance          275675 non-null  object \n",
      " 27  name_emb_manhattan_distance          275675 non-null  object \n",
      " 28  mean_ozon_bert_manhattan_distance    275675 non-null  float32\n",
      " 29  median_ozon_bert_manhattan_distance  275675 non-null  float32\n",
      " 30  std_ozon_bert_manhattan_distance     275675 non-null  float32\n",
      " 31  mean_main_pic_manhattan_distance     275675 non-null  float32\n",
      " 32  median_main_pic_manhattan_distance   275675 non-null  float32\n",
      " 33  std_main_pic_manhattan_distance      275675 non-null  float32\n",
      " 34  mean_name_emb_manhattan_distance     275675 non-null  float32\n",
      " 35  median_name_emb_manhattan_distance   275675 non-null  float32\n",
      " 36  std_name_emb_manhattan_distance      275675 non-null  float32\n",
      " 37  name_levenshtein_distance            275675 non-null  int64  \n",
      " 38  pic_dist_0_perc                      275675 non-null  float64\n",
      " 39  pic_dist_25_perc                     275675 non-null  float64\n",
      " 40  pic_dist_50_perc                     275675 non-null  float64\n",
      " 41  main_pic_dist_0_perc                 275675 non-null  float64\n",
      " 42  main_pic_dist_25_perc                275675 non-null  float64\n",
      " 43  main_pic_dist_50_perc                275675 non-null  float64\n",
      " 44  euclidean_main_pic_dist              275675 non-null  float64\n",
      " 45  cosine_main_pic_dist                 275675 non-null  float64\n",
      " 46  euclidean_color_dist                 275675 non-null  float64\n",
      " 47  cosine_color_dist                    275675 non-null  float64\n",
      " 48  euclidean_name_bert_dist             275675 non-null  float64\n",
      " 49  cosine_name_bert_dist                275675 non-null  float64\n",
      " 50  euclidean_name_embedding_dist        275675 non-null  float64\n",
      " 51  cosine_name_embedding_dist           275675 non-null  float64\n",
      "dtypes: float32(18), float64(26), int64(1), object(7)\n",
      "memory usage: 92.5+ MB\n"
     ]
    }
   ],
   "source": [
    "X_train, X_my_test = train_test_split(features, test_size=0.1, \\\n",
    "                                random_state=RANDOM_STATE, stratify=features[[\"target\", \"cat3_grouped\"]])\n",
    "\n",
    "y_train = X_train[[\"target\", \"variantid1\", \"variantid2\"]]\n",
    "X_train = X_train.drop([\"target\"], axis=1)\n",
    "\n",
    "y_my_test = X_my_test[[\"target\", \"variantid1\", \"variantid2\"]]           \n",
    "X_my_test = X_my_test.drop([\"target\"], axis=1)\n",
    "\n",
    "\n",
    "feats = list(X_train.columns) \n",
    "feats.remove(\"variantid1\")\n",
    "feats.remove(\"variantid2\")\n",
    "feats.remove(\"cat3_grouped\")\n",
    "\n",
    "X_train[feats].info() # на чем обучать"
   ]
  },
  {
   "cell_type": "markdown",
   "id": "ee3d6018",
   "metadata": {},
   "source": [
    "## Model"
   ]
  },
  {
   "cell_type": "markdown",
   "id": "9b681624",
   "metadata": {},
   "source": [
    "###  CatBoostClassifier"
   ]
  },
  {
   "cell_type": "code",
   "execution_count": 41,
   "id": "12e62dca",
   "metadata": {},
   "outputs": [
    {
     "data": {
      "text/html": [
       "<div>\n",
       "<style scoped>\n",
       "    .dataframe tbody tr th:only-of-type {\n",
       "        vertical-align: middle;\n",
       "    }\n",
       "\n",
       "    .dataframe tbody tr th {\n",
       "        vertical-align: top;\n",
       "    }\n",
       "\n",
       "    .dataframe thead th {\n",
       "        text-align: right;\n",
       "    }\n",
       "</style>\n",
       "<table border=\"1\" class=\"dataframe\">\n",
       "  <thead>\n",
       "    <tr style=\"text-align: right;\">\n",
       "      <th></th>\n",
       "      <th>variantid1</th>\n",
       "      <th>variantid2</th>\n",
       "      <th>name1</th>\n",
       "      <th>characteristic_attributes_mapping1</th>\n",
       "      <th>cat3</th>\n",
       "      <th>cat41</th>\n",
       "      <th>cat3_grouped</th>\n",
       "      <th>name2</th>\n",
       "      <th>characteristic_attributes_mapping2</th>\n",
       "      <th>cat32</th>\n",
       "      <th>cat42</th>\n",
       "      <th>name_mean_diff</th>\n",
       "      <th>name_median_diff</th>\n",
       "      <th>name_std_diff</th>\n",
       "      <th>ozon_name_mean_diff</th>\n",
       "      <th>ozon_name_median_diff</th>\n",
       "      <th>ozon_name_std_diff</th>\n",
       "      <th>main_pic_mean_diff</th>\n",
       "      <th>main_pic_median_diff</th>\n",
       "      <th>main_pic_std_diff</th>\n",
       "      <th>name_jaccard_similarity</th>\n",
       "      <th>attributes_jaccard_similarity</th>\n",
       "      <th>attr_dist</th>\n",
       "      <th>attr_acc</th>\n",
       "      <th>common_keys</th>\n",
       "      <th>same_value_keys</th>\n",
       "      <th>mean_value1</th>\n",
       "      <th>mean_value2</th>\n",
       "      <th>ozon_bert_manhattan_distance</th>\n",
       "      <th>main_pic_manhattan_distance</th>\n",
       "      <th>name_emb_manhattan_distance</th>\n",
       "      <th>mean_ozon_bert_manhattan_distance</th>\n",
       "      <th>median_ozon_bert_manhattan_distance</th>\n",
       "      <th>std_ozon_bert_manhattan_distance</th>\n",
       "      <th>mean_main_pic_manhattan_distance</th>\n",
       "      <th>median_main_pic_manhattan_distance</th>\n",
       "      <th>std_main_pic_manhattan_distance</th>\n",
       "      <th>mean_name_emb_manhattan_distance</th>\n",
       "      <th>median_name_emb_manhattan_distance</th>\n",
       "      <th>std_name_emb_manhattan_distance</th>\n",
       "      <th>name_levenshtein_distance</th>\n",
       "      <th>pic_dist_0_perc</th>\n",
       "      <th>pic_dist_25_perc</th>\n",
       "      <th>pic_dist_50_perc</th>\n",
       "      <th>main_pic_dist_0_perc</th>\n",
       "      <th>main_pic_dist_25_perc</th>\n",
       "      <th>main_pic_dist_50_perc</th>\n",
       "      <th>euclidean_main_pic_dist</th>\n",
       "      <th>cosine_main_pic_dist</th>\n",
       "      <th>euclidean_color_dist</th>\n",
       "      <th>cosine_color_dist</th>\n",
       "      <th>euclidean_name_bert_dist</th>\n",
       "      <th>cosine_name_bert_dist</th>\n",
       "      <th>euclidean_name_embedding_dist</th>\n",
       "      <th>cosine_name_embedding_dist</th>\n",
       "    </tr>\n",
       "  </thead>\n",
       "  <tbody>\n",
       "    <tr>\n",
       "      <th>204167</th>\n",
       "      <td>558654336</td>\n",
       "      <td>785126987</td>\n",
       "      <td>Кабель витая пара UTP 4 пары, чистая медь (BC)...</td>\n",
       "      <td>{\"Коннектор 1\":[\"RJ-45\"],\"Размеры, мм\":[\"200x2...</td>\n",
       "      <td>31.0</td>\n",
       "      <td>98.0</td>\n",
       "      <td>Кабели и переходники</td>\n",
       "      <td>Кабель витая пара UTP 4 пары, чистая медь (BC)...</td>\n",
       "      <td>{\"Комплектация\":[\"Устройство - 1шт\"],\"Материал...</td>\n",
       "      <td>31.0</td>\n",
       "      <td>98.0</td>\n",
       "      <td>-0.000082</td>\n",
       "      <td>-0.000167</td>\n",
       "      <td>0.015456</td>\n",
       "      <td>-0.012098</td>\n",
       "      <td>-0.002774</td>\n",
       "      <td>0.055224</td>\n",
       "      <td>0.0</td>\n",
       "      <td>0.0</td>\n",
       "      <td>0.0</td>\n",
       "      <td>0.904762</td>\n",
       "      <td>0.933333</td>\n",
       "      <td>0.5</td>\n",
       "      <td>20.0</td>\n",
       "      <td>22.0</td>\n",
       "      <td>20.0</td>\n",
       "      <td>522.2</td>\n",
       "      <td>218.2</td>\n",
       "      <td>[0.011884868, 0.13925996, 0.0013739765, 0.0674...</td>\n",
       "      <td>[0.0, 0.0, 0.0, 0.0, 0.0, 0.0, 0.0, 0.0, 0.0, ...</td>\n",
       "      <td>[0.001141429, 0.003529057, 0.0015780926, 0.001...</td>\n",
       "      <td>0.044214</td>\n",
       "      <td>0.039085</td>\n",
       "      <td>0.03523</td>\n",
       "      <td>0.0</td>\n",
       "      <td>0.0</td>\n",
       "      <td>0.0</td>\n",
       "      <td>0.012323</td>\n",
       "      <td>0.010445</td>\n",
       "      <td>0.00933</td>\n",
       "      <td>2</td>\n",
       "      <td>0.0</td>\n",
       "      <td>4.052639</td>\n",
       "      <td>8.038209</td>\n",
       "      <td>0.0</td>\n",
       "      <td>0.0</td>\n",
       "      <td>0.0</td>\n",
       "      <td>0.0</td>\n",
       "      <td>0.0</td>\n",
       "      <td>0.0</td>\n",
       "      <td>0.0</td>\n",
       "      <td>0.452269</td>\n",
       "      <td>0.006031</td>\n",
       "      <td>0.428349</td>\n",
       "      <td>0.000438</td>\n",
       "    </tr>\n",
       "  </tbody>\n",
       "</table>\n",
       "</div>"
      ],
      "text/plain": [
       "        variantid1  variantid2  \\\n",
       "204167   558654336   785126987   \n",
       "\n",
       "                                                    name1  \\\n",
       "204167  Кабель витая пара UTP 4 пары, чистая медь (BC)...   \n",
       "\n",
       "                       characteristic_attributes_mapping1  cat3  cat41  \\\n",
       "204167  {\"Коннектор 1\":[\"RJ-45\"],\"Размеры, мм\":[\"200x2...  31.0   98.0   \n",
       "\n",
       "                cat3_grouped  \\\n",
       "204167  Кабели и переходники   \n",
       "\n",
       "                                                    name2  \\\n",
       "204167  Кабель витая пара UTP 4 пары, чистая медь (BC)...   \n",
       "\n",
       "                       characteristic_attributes_mapping2  cat32  cat42  \\\n",
       "204167  {\"Комплектация\":[\"Устройство - 1шт\"],\"Материал...   31.0   98.0   \n",
       "\n",
       "        name_mean_diff  name_median_diff  name_std_diff  ozon_name_mean_diff  \\\n",
       "204167       -0.000082         -0.000167       0.015456            -0.012098   \n",
       "\n",
       "        ozon_name_median_diff  ozon_name_std_diff  main_pic_mean_diff  \\\n",
       "204167              -0.002774            0.055224                 0.0   \n",
       "\n",
       "        main_pic_median_diff  main_pic_std_diff  name_jaccard_similarity  \\\n",
       "204167                   0.0                0.0                 0.904762   \n",
       "\n",
       "        attributes_jaccard_similarity  attr_dist  attr_acc  common_keys  \\\n",
       "204167                       0.933333        0.5      20.0         22.0   \n",
       "\n",
       "        same_value_keys  mean_value1  mean_value2  \\\n",
       "204167             20.0        522.2        218.2   \n",
       "\n",
       "                             ozon_bert_manhattan_distance  \\\n",
       "204167  [0.011884868, 0.13925996, 0.0013739765, 0.0674...   \n",
       "\n",
       "                              main_pic_manhattan_distance  \\\n",
       "204167  [0.0, 0.0, 0.0, 0.0, 0.0, 0.0, 0.0, 0.0, 0.0, ...   \n",
       "\n",
       "                              name_emb_manhattan_distance  \\\n",
       "204167  [0.001141429, 0.003529057, 0.0015780926, 0.001...   \n",
       "\n",
       "        mean_ozon_bert_manhattan_distance  \\\n",
       "204167                           0.044214   \n",
       "\n",
       "        median_ozon_bert_manhattan_distance  std_ozon_bert_manhattan_distance  \\\n",
       "204167                             0.039085                           0.03523   \n",
       "\n",
       "        mean_main_pic_manhattan_distance  median_main_pic_manhattan_distance  \\\n",
       "204167                               0.0                                 0.0   \n",
       "\n",
       "        std_main_pic_manhattan_distance  mean_name_emb_manhattan_distance  \\\n",
       "204167                              0.0                          0.012323   \n",
       "\n",
       "        median_name_emb_manhattan_distance  std_name_emb_manhattan_distance  \\\n",
       "204167                            0.010445                          0.00933   \n",
       "\n",
       "        name_levenshtein_distance  pic_dist_0_perc  pic_dist_25_perc  \\\n",
       "204167                          2              0.0          4.052639   \n",
       "\n",
       "        pic_dist_50_perc  main_pic_dist_0_perc  main_pic_dist_25_perc  \\\n",
       "204167          8.038209                   0.0                    0.0   \n",
       "\n",
       "        main_pic_dist_50_perc  euclidean_main_pic_dist  cosine_main_pic_dist  \\\n",
       "204167                    0.0                      0.0                   0.0   \n",
       "\n",
       "        euclidean_color_dist  cosine_color_dist  euclidean_name_bert_dist  \\\n",
       "204167                   0.0                0.0                  0.452269   \n",
       "\n",
       "        cosine_name_bert_dist  euclidean_name_embedding_dist  \\\n",
       "204167               0.006031                       0.428349   \n",
       "\n",
       "        cosine_name_embedding_dist  \n",
       "204167                    0.000438  "
      ]
     },
     "execution_count": 41,
     "metadata": {},
     "output_type": "execute_result"
    }
   ],
   "source": [
    "X_train.head(1)"
   ]
  },
  {
   "cell_type": "code",
   "execution_count": 42,
   "id": "fe2bdf51",
   "metadata": {},
   "outputs": [],
   "source": [
    "# определяем Pool для CatBoost\n",
    "y_train2 = y_train['target']\n",
    "y_my_test2 = y_my_test['target']\n",
    "embeddin_col = ['ozon_bert_manhattan_distance','main_pic_manhattan_distance','name_emb_manhattan_distance'] \n",
    "\n",
    "train_pool = Pool(\n",
    "    data=X_train[feats],\n",
    "    label=y_train2,\n",
    "    text_features=['characteristic_attributes_mapping1', 'characteristic_attributes_mapping2', 'name1', 'name2'],\n",
    "    embedding_features=embeddin_col\n",
    ")\n",
    "eval_pool = Pool(\n",
    "    data=X_my_test[feats],\n",
    "    label=y_my_test2,\n",
    "    text_features=['characteristic_attributes_mapping1', 'characteristic_attributes_mapping2', 'name1', 'name2'],\n",
    "    embedding_features=embeddin_col\n",
    ")"
   ]
  },
  {
   "cell_type": "code",
   "execution_count": 43,
   "id": "6abfe26b",
   "metadata": {
    "scrolled": true
   },
   "outputs": [
    {
     "data": {
      "application/vnd.jupyter.widget-view+json": {
       "model_id": "412f56ed0a4b4bde98de081cd5785d1b",
       "version_major": 2,
       "version_minor": 0
      },
      "text/plain": [
       "MetricVisualizer(layout=Layout(align_self='stretch', height='500px'))"
      ]
     },
     "metadata": {},
     "output_type": "display_data"
    },
    {
     "name": "stderr",
     "output_type": "stream",
     "text": [
      "Warning: Overfitting detector is active, thus evaluation metric is calculated on every iteration. 'metric_period' is ignored for evaluation metric.\n"
     ]
    },
    {
     "name": "stdout",
     "output_type": "stream",
     "text": [
      "0:\tlearn: 0.6445739\ttest: 0.6437813\tbest: 0.6437813 (0)\ttotal: 468ms\tremaining: 19m 29s\n",
      "10:\tlearn: 0.4727504\ttest: 0.4697385\tbest: 0.4697385 (10)\ttotal: 5.29s\tremaining: 19m 57s\n",
      "20:\tlearn: 0.4425972\ttest: 0.4395304\tbest: 0.4395304 (20)\ttotal: 10.3s\tremaining: 20m 20s\n",
      "30:\tlearn: 0.4314097\ttest: 0.4287253\tbest: 0.4287253 (30)\ttotal: 15.1s\tremaining: 20m 5s\n",
      "40:\tlearn: 0.4232735\ttest: 0.4207176\tbest: 0.4207176 (40)\ttotal: 20s\tremaining: 19m 59s\n",
      "50:\tlearn: 0.4184407\ttest: 0.4162416\tbest: 0.4162416 (50)\ttotal: 24.9s\tremaining: 19m 56s\n",
      "60:\tlearn: 0.4147771\ttest: 0.4127897\tbest: 0.4127897 (60)\ttotal: 29.7s\tremaining: 19m 47s\n",
      "70:\tlearn: 0.4117368\ttest: 0.4100015\tbest: 0.4100015 (70)\ttotal: 34.5s\tremaining: 19m 39s\n",
      "80:\tlearn: 0.4088645\ttest: 0.4074205\tbest: 0.4074205 (80)\ttotal: 39.4s\tremaining: 19m 35s\n",
      "90:\tlearn: 0.4067646\ttest: 0.4056701\tbest: 0.4056701 (90)\ttotal: 44.2s\tremaining: 19m 30s\n",
      "100:\tlearn: 0.4049976\ttest: 0.4041666\tbest: 0.4041666 (100)\ttotal: 48.9s\tremaining: 19m 21s\n",
      "110:\tlearn: 0.4034905\ttest: 0.4029179\tbest: 0.4029179 (110)\ttotal: 53.6s\tremaining: 19m 12s\n",
      "120:\tlearn: 0.4017427\ttest: 0.4013452\tbest: 0.4013452 (120)\ttotal: 58.1s\tremaining: 19m 3s\n",
      "130:\tlearn: 0.4001902\ttest: 0.4001573\tbest: 0.4001573 (130)\ttotal: 1m 2s\tremaining: 18m 54s\n",
      "140:\tlearn: 0.3986157\ttest: 0.3986954\tbest: 0.3986954 (140)\ttotal: 1m 7s\tremaining: 18m 46s\n",
      "150:\tlearn: 0.3970291\ttest: 0.3974652\tbest: 0.3974652 (150)\ttotal: 1m 12s\tremaining: 18m 40s\n",
      "160:\tlearn: 0.3956891\ttest: 0.3964826\tbest: 0.3964826 (160)\ttotal: 1m 16s\tremaining: 18m 35s\n",
      "170:\tlearn: 0.3943688\ttest: 0.3954516\tbest: 0.3954516 (170)\ttotal: 1m 21s\tremaining: 18m 28s\n",
      "180:\tlearn: 0.3932834\ttest: 0.3946942\tbest: 0.3946942 (180)\ttotal: 1m 25s\tremaining: 18m 20s\n",
      "190:\tlearn: 0.3921922\ttest: 0.3938186\tbest: 0.3938186 (190)\ttotal: 1m 30s\tremaining: 18m 14s\n",
      "200:\tlearn: 0.3911901\ttest: 0.3931077\tbest: 0.3931077 (200)\ttotal: 1m 35s\tremaining: 18m 9s\n",
      "210:\tlearn: 0.3900891\ttest: 0.3922938\tbest: 0.3922938 (210)\ttotal: 1m 39s\tremaining: 18m 3s\n",
      "220:\tlearn: 0.3891606\ttest: 0.3916732\tbest: 0.3916732 (220)\ttotal: 1m 44s\tremaining: 17m 59s\n",
      "230:\tlearn: 0.3883166\ttest: 0.3910994\tbest: 0.3910994 (230)\ttotal: 1m 49s\tremaining: 17m 55s\n",
      "240:\tlearn: 0.3873192\ttest: 0.3904478\tbest: 0.3904478 (240)\ttotal: 1m 54s\tremaining: 17m 51s\n",
      "250:\tlearn: 0.3864732\ttest: 0.3900250\tbest: 0.3900250 (250)\ttotal: 1m 59s\tremaining: 17m 46s\n",
      "260:\tlearn: 0.3856636\ttest: 0.3895113\tbest: 0.3895113 (260)\ttotal: 2m 3s\tremaining: 17m 42s\n",
      "270:\tlearn: 0.3848429\ttest: 0.3890592\tbest: 0.3890592 (270)\ttotal: 2m 8s\tremaining: 17m 36s\n",
      "280:\tlearn: 0.3840581\ttest: 0.3885115\tbest: 0.3885115 (280)\ttotal: 2m 13s\tremaining: 17m 30s\n",
      "290:\tlearn: 0.3832676\ttest: 0.3879132\tbest: 0.3879132 (290)\ttotal: 2m 17s\tremaining: 17m 25s\n",
      "300:\tlearn: 0.3824933\ttest: 0.3873595\tbest: 0.3873595 (300)\ttotal: 2m 22s\tremaining: 17m 19s\n",
      "310:\tlearn: 0.3819109\ttest: 0.3871202\tbest: 0.3871202 (310)\ttotal: 2m 27s\tremaining: 17m 15s\n",
      "320:\tlearn: 0.3812041\ttest: 0.3867280\tbest: 0.3867280 (320)\ttotal: 2m 32s\tremaining: 17m 11s\n",
      "330:\tlearn: 0.3804051\ttest: 0.3863111\tbest: 0.3863111 (330)\ttotal: 2m 36s\tremaining: 17m 7s\n",
      "340:\tlearn: 0.3797630\ttest: 0.3859705\tbest: 0.3859705 (340)\ttotal: 2m 41s\tremaining: 17m 3s\n",
      "350:\tlearn: 0.3791140\ttest: 0.3855598\tbest: 0.3855598 (350)\ttotal: 2m 46s\tremaining: 16m 58s\n",
      "360:\tlearn: 0.3785489\ttest: 0.3852689\tbest: 0.3852689 (360)\ttotal: 2m 51s\tremaining: 16m 53s\n",
      "370:\tlearn: 0.3779615\ttest: 0.3849955\tbest: 0.3849955 (370)\ttotal: 2m 55s\tremaining: 16m 48s\n",
      "380:\tlearn: 0.3773515\ttest: 0.3847283\tbest: 0.3847283 (380)\ttotal: 3m\tremaining: 16m 43s\n",
      "390:\tlearn: 0.3767493\ttest: 0.3843619\tbest: 0.3843619 (390)\ttotal: 3m 5s\tremaining: 16m 39s\n",
      "400:\tlearn: 0.3761655\ttest: 0.3840106\tbest: 0.3840106 (400)\ttotal: 3m 10s\tremaining: 16m 34s\n",
      "410:\tlearn: 0.3755744\ttest: 0.3837509\tbest: 0.3837495 (409)\ttotal: 3m 14s\tremaining: 16m 30s\n",
      "420:\tlearn: 0.3749934\ttest: 0.3834831\tbest: 0.3834831 (420)\ttotal: 3m 19s\tremaining: 16m 25s\n",
      "430:\tlearn: 0.3743293\ttest: 0.3831311\tbest: 0.3831311 (430)\ttotal: 3m 24s\tremaining: 16m 20s\n",
      "440:\tlearn: 0.3737858\ttest: 0.3829080\tbest: 0.3829080 (440)\ttotal: 3m 28s\tremaining: 16m 15s\n",
      "450:\tlearn: 0.3731721\ttest: 0.3826646\tbest: 0.3826646 (450)\ttotal: 3m 33s\tremaining: 16m 11s\n",
      "460:\tlearn: 0.3726279\ttest: 0.3823280\tbest: 0.3823280 (460)\ttotal: 3m 38s\tremaining: 16m 6s\n",
      "470:\tlearn: 0.3720719\ttest: 0.3820444\tbest: 0.3820444 (470)\ttotal: 3m 43s\tremaining: 16m 2s\n",
      "480:\tlearn: 0.3715174\ttest: 0.3817524\tbest: 0.3817524 (480)\ttotal: 3m 48s\tremaining: 15m 57s\n",
      "490:\tlearn: 0.3710032\ttest: 0.3815042\tbest: 0.3815042 (490)\ttotal: 3m 53s\tremaining: 15m 53s\n",
      "500:\tlearn: 0.3704472\ttest: 0.3813004\tbest: 0.3813004 (500)\ttotal: 3m 57s\tremaining: 15m 48s\n",
      "510:\tlearn: 0.3699262\ttest: 0.3811550\tbest: 0.3811550 (510)\ttotal: 4m 2s\tremaining: 15m 43s\n",
      "520:\tlearn: 0.3693946\ttest: 0.3807756\tbest: 0.3807756 (520)\ttotal: 4m 7s\tremaining: 15m 38s\n",
      "530:\tlearn: 0.3688717\ttest: 0.3805619\tbest: 0.3805619 (530)\ttotal: 4m 11s\tremaining: 15m 33s\n",
      "540:\tlearn: 0.3683788\ttest: 0.3803744\tbest: 0.3803744 (540)\ttotal: 4m 16s\tremaining: 15m 28s\n",
      "550:\tlearn: 0.3678442\ttest: 0.3801767\tbest: 0.3801767 (550)\ttotal: 4m 21s\tremaining: 15m 23s\n",
      "560:\tlearn: 0.3673813\ttest: 0.3800430\tbest: 0.3800403 (559)\ttotal: 4m 25s\tremaining: 15m 19s\n",
      "570:\tlearn: 0.3669041\ttest: 0.3798750\tbest: 0.3798687 (568)\ttotal: 4m 30s\tremaining: 15m 14s\n",
      "580:\tlearn: 0.3664334\ttest: 0.3797482\tbest: 0.3797482 (580)\ttotal: 4m 35s\tremaining: 15m 10s\n",
      "590:\tlearn: 0.3660336\ttest: 0.3796579\tbest: 0.3796579 (590)\ttotal: 4m 40s\tremaining: 15m 5s\n",
      "600:\tlearn: 0.3656267\ttest: 0.3794950\tbest: 0.3794950 (600)\ttotal: 4m 45s\tremaining: 15m\n",
      "610:\tlearn: 0.3652311\ttest: 0.3794198\tbest: 0.3794198 (610)\ttotal: 4m 50s\tremaining: 14m 56s\n",
      "620:\tlearn: 0.3647804\ttest: 0.3792735\tbest: 0.3792735 (620)\ttotal: 4m 54s\tremaining: 14m 52s\n",
      "630:\tlearn: 0.3642920\ttest: 0.3791788\tbest: 0.3791788 (630)\ttotal: 4m 59s\tremaining: 14m 47s\n",
      "640:\tlearn: 0.3639048\ttest: 0.3790202\tbest: 0.3790202 (640)\ttotal: 5m 4s\tremaining: 14m 42s\n",
      "650:\tlearn: 0.3634973\ttest: 0.3788692\tbest: 0.3788692 (650)\ttotal: 5m 9s\tremaining: 14m 37s\n",
      "660:\tlearn: 0.3630545\ttest: 0.3787590\tbest: 0.3787590 (660)\ttotal: 5m 13s\tremaining: 14m 33s\n",
      "670:\tlearn: 0.3626411\ttest: 0.3786368\tbest: 0.3786368 (670)\ttotal: 5m 18s\tremaining: 14m 28s\n",
      "680:\tlearn: 0.3622509\ttest: 0.3785256\tbest: 0.3785211 (677)\ttotal: 5m 23s\tremaining: 14m 23s\n",
      "690:\tlearn: 0.3618020\ttest: 0.3783430\tbest: 0.3783430 (690)\ttotal: 5m 27s\tremaining: 14m 18s\n",
      "700:\tlearn: 0.3614074\ttest: 0.3782385\tbest: 0.3782385 (700)\ttotal: 5m 32s\tremaining: 14m 14s\n",
      "710:\tlearn: 0.3609766\ttest: 0.3780560\tbest: 0.3780560 (710)\ttotal: 5m 37s\tremaining: 14m 9s\n",
      "720:\tlearn: 0.3605442\ttest: 0.3779464\tbest: 0.3779460 (719)\ttotal: 5m 42s\tremaining: 14m 4s\n",
      "730:\tlearn: 0.3601609\ttest: 0.3779168\tbest: 0.3779117 (726)\ttotal: 5m 47s\tremaining: 14m\n",
      "740:\tlearn: 0.3597430\ttest: 0.3777021\tbest: 0.3777021 (740)\ttotal: 5m 52s\tremaining: 13m 56s\n",
      "750:\tlearn: 0.3593543\ttest: 0.3775644\tbest: 0.3775644 (750)\ttotal: 5m 56s\tremaining: 13m 50s\n",
      "760:\tlearn: 0.3589125\ttest: 0.3774246\tbest: 0.3774246 (760)\ttotal: 6m 1s\tremaining: 13m 45s\n",
      "770:\tlearn: 0.3585300\ttest: 0.3773622\tbest: 0.3773522 (765)\ttotal: 6m 6s\tremaining: 13m 41s\n",
      "780:\tlearn: 0.3581260\ttest: 0.3772961\tbest: 0.3772893 (779)\ttotal: 6m 11s\tremaining: 13m 36s\n",
      "790:\tlearn: 0.3577436\ttest: 0.3771544\tbest: 0.3771544 (790)\ttotal: 6m 15s\tremaining: 13m 32s\n",
      "800:\tlearn: 0.3573642\ttest: 0.3769699\tbest: 0.3769699 (800)\ttotal: 6m 20s\tremaining: 13m 27s\n",
      "810:\tlearn: 0.3569862\ttest: 0.3769329\tbest: 0.3769291 (809)\ttotal: 6m 25s\tremaining: 13m 22s\n",
      "820:\tlearn: 0.3566183\ttest: 0.3768195\tbest: 0.3768195 (820)\ttotal: 6m 30s\tremaining: 13m 18s\n",
      "830:\tlearn: 0.3562559\ttest: 0.3767830\tbest: 0.3767830 (830)\ttotal: 6m 34s\tremaining: 13m 13s\n",
      "840:\tlearn: 0.3558480\ttest: 0.3766596\tbest: 0.3766596 (840)\ttotal: 6m 39s\tremaining: 13m 8s\n",
      "850:\tlearn: 0.3554882\ttest: 0.3766236\tbest: 0.3766236 (850)\ttotal: 6m 44s\tremaining: 13m 4s\n",
      "860:\tlearn: 0.3551180\ttest: 0.3765282\tbest: 0.3765282 (860)\ttotal: 6m 49s\tremaining: 12m 59s\n",
      "870:\tlearn: 0.3547208\ttest: 0.3764339\tbest: 0.3764243 (869)\ttotal: 6m 54s\tremaining: 12m 54s\n",
      "880:\tlearn: 0.3543330\ttest: 0.3763498\tbest: 0.3763457 (876)\ttotal: 6m 59s\tremaining: 12m 50s\n"
     ]
    },
    {
     "name": "stdout",
     "output_type": "stream",
     "text": [
      "890:\tlearn: 0.3539120\ttest: 0.3762197\tbest: 0.3762031 (888)\ttotal: 7m 3s\tremaining: 12m 45s\n",
      "900:\tlearn: 0.3535437\ttest: 0.3761036\tbest: 0.3761036 (900)\ttotal: 7m 8s\tremaining: 12m 41s\n",
      "910:\tlearn: 0.3531878\ttest: 0.3760086\tbest: 0.3760086 (910)\ttotal: 7m 13s\tremaining: 12m 36s\n",
      "920:\tlearn: 0.3527895\ttest: 0.3758719\tbest: 0.3758719 (920)\ttotal: 7m 18s\tremaining: 12m 31s\n",
      "930:\tlearn: 0.3524201\ttest: 0.3758254\tbest: 0.3758254 (930)\ttotal: 7m 23s\tremaining: 12m 26s\n",
      "940:\tlearn: 0.3520523\ttest: 0.3756878\tbest: 0.3756878 (940)\ttotal: 7m 27s\tremaining: 12m 22s\n",
      "950:\tlearn: 0.3516439\ttest: 0.3755616\tbest: 0.3755544 (949)\ttotal: 7m 32s\tremaining: 12m 17s\n",
      "960:\tlearn: 0.3512945\ttest: 0.3754333\tbest: 0.3754333 (960)\ttotal: 7m 37s\tremaining: 12m 12s\n",
      "970:\tlearn: 0.3509557\ttest: 0.3753849\tbest: 0.3753799 (962)\ttotal: 7m 42s\tremaining: 12m 7s\n",
      "980:\tlearn: 0.3506090\ttest: 0.3754230\tbest: 0.3753799 (962)\ttotal: 7m 47s\tremaining: 12m 3s\n",
      "990:\tlearn: 0.3502728\ttest: 0.3753594\tbest: 0.3753594 (990)\ttotal: 7m 51s\tremaining: 11m 58s\n",
      "1000:\tlearn: 0.3499248\ttest: 0.3753065\tbest: 0.3753037 (998)\ttotal: 7m 56s\tremaining: 11m 53s\n",
      "1010:\tlearn: 0.3495747\ttest: 0.3752170\tbest: 0.3752157 (1009)\ttotal: 8m 1s\tremaining: 11m 49s\n",
      "1020:\tlearn: 0.3492503\ttest: 0.3751727\tbest: 0.3751727 (1020)\ttotal: 8m 6s\tremaining: 11m 44s\n",
      "1030:\tlearn: 0.3489570\ttest: 0.3750901\tbest: 0.3750901 (1030)\ttotal: 8m 10s\tremaining: 11m 39s\n",
      "1040:\tlearn: 0.3486043\ttest: 0.3749913\tbest: 0.3749913 (1040)\ttotal: 8m 15s\tremaining: 11m 34s\n",
      "1050:\tlearn: 0.3482180\ttest: 0.3748981\tbest: 0.3748981 (1050)\ttotal: 8m 20s\tremaining: 11m 29s\n",
      "1060:\tlearn: 0.3478858\ttest: 0.3748982\tbest: 0.3748768 (1054)\ttotal: 8m 25s\tremaining: 11m 25s\n",
      "1070:\tlearn: 0.3475373\ttest: 0.3747994\tbest: 0.3747994 (1070)\ttotal: 8m 30s\tremaining: 11m 20s\n",
      "1080:\tlearn: 0.3471982\ttest: 0.3746875\tbest: 0.3746875 (1080)\ttotal: 8m 34s\tremaining: 11m 15s\n",
      "1090:\tlearn: 0.3468587\ttest: 0.3745695\tbest: 0.3745667 (1089)\ttotal: 8m 39s\tremaining: 11m 11s\n",
      "1100:\tlearn: 0.3464817\ttest: 0.3744836\tbest: 0.3744836 (1100)\ttotal: 8m 44s\tremaining: 11m 6s\n",
      "1110:\tlearn: 0.3461785\ttest: 0.3743927\tbest: 0.3743927 (1110)\ttotal: 8m 49s\tremaining: 11m 1s\n",
      "1120:\tlearn: 0.3458459\ttest: 0.3743586\tbest: 0.3743586 (1120)\ttotal: 8m 54s\tremaining: 10m 56s\n",
      "1130:\tlearn: 0.3454375\ttest: 0.3741906\tbest: 0.3741787 (1129)\ttotal: 8m 58s\tremaining: 10m 52s\n",
      "1140:\tlearn: 0.3451036\ttest: 0.3740884\tbest: 0.3740884 (1140)\ttotal: 9m 3s\tremaining: 10m 47s\n",
      "1150:\tlearn: 0.3447579\ttest: 0.3740529\tbest: 0.3740142 (1146)\ttotal: 9m 8s\tremaining: 10m 42s\n",
      "1160:\tlearn: 0.3444041\ttest: 0.3739850\tbest: 0.3739850 (1160)\ttotal: 9m 13s\tremaining: 10m 38s\n",
      "1170:\tlearn: 0.3440664\ttest: 0.3739854\tbest: 0.3739687 (1167)\ttotal: 9m 18s\tremaining: 10m 33s\n",
      "1180:\tlearn: 0.3436986\ttest: 0.3739492\tbest: 0.3739472 (1178)\ttotal: 9m 23s\tremaining: 10m 28s\n",
      "1190:\tlearn: 0.3432825\ttest: 0.3737248\tbest: 0.3737248 (1190)\ttotal: 9m 27s\tremaining: 10m 23s\n",
      "1200:\tlearn: 0.3429537\ttest: 0.3736622\tbest: 0.3736571 (1199)\ttotal: 9m 32s\tremaining: 10m 19s\n",
      "1210:\tlearn: 0.3426324\ttest: 0.3735993\tbest: 0.3735819 (1208)\ttotal: 9m 36s\tremaining: 10m 14s\n",
      "1220:\tlearn: 0.3423169\ttest: 0.3735362\tbest: 0.3735143 (1217)\ttotal: 9m 41s\tremaining: 10m 9s\n",
      "1230:\tlearn: 0.3419977\ttest: 0.3735856\tbest: 0.3735143 (1217)\ttotal: 9m 46s\tremaining: 10m 4s\n",
      "1240:\tlearn: 0.3416964\ttest: 0.3735544\tbest: 0.3735143 (1217)\ttotal: 9m 50s\tremaining: 9m 59s\n",
      "1250:\tlearn: 0.3413882\ttest: 0.3735749\tbest: 0.3735143 (1217)\ttotal: 9m 55s\tremaining: 9m 54s\n",
      "1260:\tlearn: 0.3410870\ttest: 0.3735748\tbest: 0.3735143 (1217)\ttotal: 10m\tremaining: 9m 50s\n",
      "Stopped by overfitting detector  (50 iterations wait)\n",
      "\n",
      "bestTest = 0.3735143441\n",
      "bestIteration = 1217\n",
      "\n",
      "Shrink model to first 1218 iterations.\n",
      "CPU times: total: 2h 44min 57s\n",
      "Wall time: 38min 35s\n"
     ]
    },
    {
     "data": {
      "text/plain": [
       "<catboost.core.CatBoostClassifier at 0x1be794ef430>"
      ]
     },
     "execution_count": 43,
     "metadata": {},
     "output_type": "execute_result"
    }
   ],
   "source": [
    "%%time\n",
    "# обучаем модель\n",
    "model = CatBoostClassifier(random_state=RANDOM_STATE, iterations=2500, learning_rate=0.1) #300\n",
    "\n",
    "model.fit(\n",
    "    train_pool,\n",
    "    eval_set=eval_pool,\n",
    "    plot=True,\n",
    "    verbose=True,\n",
    "    use_best_model=True,\n",
    "    early_stopping_rounds=50,\n",
    "    metric_period=10\n",
    ")"
   ]
  },
  {
   "cell_type": "markdown",
   "id": "29a7303c",
   "metadata": {},
   "source": [
    "## *Metric*"
   ]
  },
  {
   "cell_type": "code",
   "execution_count": 44,
   "id": "a130f5cd",
   "metadata": {},
   "outputs": [],
   "source": [
    "# функция расчета метрики pr_auc_macro\n",
    "def pr_auc_macro(\n",
    "    target_df: pd.DataFrame,\n",
    "    predictions_df: pd.DataFrame,\n",
    "    prec_level: float = 0.75,\n",
    "    cat_column: str = \"cat3_grouped\"\n",
    ") -> float:\n",
    "\n",
    "    df = target_df.merge(predictions_df, on=[\"variantid1\", \"variantid2\"])\n",
    "\n",
    "    y_true = df[\"target\"]\n",
    "    y_pred = df[\"scores\"]\n",
    "    categories = df[cat_column]\n",
    "\n",
    "    weights = []\n",
    "    pr_aucs = []\n",
    "\n",
    "    unique_cats, counts = np.unique(categories, return_counts=True)\n",
    "\n",
    "    # calculate metric for each big category\n",
    "    for i, category in enumerate(unique_cats):\n",
    "        # take just a certain category\n",
    "        cat_idx = np.where(categories == category)[0]\n",
    "        y_pred_cat = y_pred[cat_idx]\n",
    "        y_true_cat = y_true[cat_idx]\n",
    "\n",
    "        # if there is no matches in the category then PRAUC=0\n",
    "        if sum(y_true_cat) == 0:\n",
    "            pr_aucs.append(0)\n",
    "            weights.append(counts[i] / len(categories))\n",
    "            continue\n",
    "        \n",
    "        # get coordinates (x, y) for (recall, precision) of PR-curve\n",
    "        y, x, _ = precision_recall_curve(y_true_cat, y_pred_cat)\n",
    "        \n",
    "        # reverse the lists so that x's are in ascending order (left to right)\n",
    "        y = y[::-1]\n",
    "        x = x[::-1]\n",
    "        \n",
    "        # get indices for x-coordinate (recall) where y-coordinate (precision) \n",
    "        # is higher than precision level (75% for our task)\n",
    "        good_idx = np.where(y >= prec_level)[0]\n",
    "        \n",
    "        # if there are more than one such x's (at least one is always there, \n",
    "        # it's x=0 (recall=0)) we get a grid from x=0, to the rightest x \n",
    "        # with acceptable precision\n",
    "        if len(good_idx) > 1:\n",
    "            gt_prec_level_idx = np.arange(0, good_idx[-1] + 1)\n",
    "        # if there is only one such x, then we have zeros in the top scores \n",
    "        # and the curve simply goes down sharply at x=0 and does not rise \n",
    "        # above the required precision: PRAUC=0\n",
    "        else:\n",
    "            pr_aucs.append(0)\n",
    "            weights.append(counts[i] / len(categories))\n",
    "            continue\n",
    "        \n",
    "        # calculate category weight anyway\n",
    "        weights.append(counts[i] / len(categories))\n",
    "        # calculate PRAUC for all points where the rightest x \n",
    "        # still has required precision \n",
    "        try:\n",
    "            pr_auc_prec_level = auc(x[gt_prec_level_idx], y[gt_prec_level_idx])\n",
    "            if not np.isnan(pr_auc_prec_level):\n",
    "                pr_aucs.append(pr_auc_prec_level)\n",
    "        except ValueError:\n",
    "            pr_aucs.append(0)\n",
    "            \n",
    "    return np.average(pr_aucs, weights=weights)"
   ]
  },
  {
   "cell_type": "markdown",
   "id": "8b649365",
   "metadata": {},
   "source": [
    "##  Расчет pr_auc на нашей тестовой"
   ]
  },
  {
   "cell_type": "code",
   "execution_count": 45,
   "id": "098e7782",
   "metadata": {
    "scrolled": true
   },
   "outputs": [
    {
     "data": {
      "text/plain": [
       "'PROCtrain:'"
      ]
     },
     "metadata": {},
     "output_type": "display_data"
    },
    {
     "data": {
      "text/plain": [
       "0.7517883245096232"
      ]
     },
     "metadata": {},
     "output_type": "display_data"
    },
    {
     "name": "stdout",
     "output_type": "stream",
     "text": [
      "AUC: 0.9341463199589175\n",
      "Accuracy: 0.8668033009884828\n",
      "F1: 0.8492645700516012\n",
      "Precision: 0.845927379784102\n",
      "CPU times: total: 14min 7s\n",
      "Wall time: 42.2 s\n"
     ]
    }
   ],
   "source": [
    "%%time\n",
    "# расчет на трейне\n",
    "X_train[\"scores\"] = model.predict_proba(train_pool)[:, 1] # for cat\n",
    "pred_tr = model.predict(train_pool)\n",
    "\n",
    "pr_auc_macro_metr = pr_auc_macro(y_train, X_train)\n",
    "display('PROCtrain:', pr_auc_macro_metr)\n",
    "\n",
    "print('AUC:', roc_auc_score(y_train['target'], X_train[\"scores\"]))\n",
    "print('Accuracy:', acc(y_train['target'], pred_tr))\n",
    "print('F1:', f1_score(y_train['target'], pred_tr))\n",
    "print('Precision:', precision_score(y_train['target'], pred_tr))"
   ]
  },
  {
   "cell_type": "code",
   "execution_count": 46,
   "id": "27f0bfa3",
   "metadata": {},
   "outputs": [
    {
     "data": {
      "text/plain": [
       "'PROCeval:'"
      ]
     },
     "metadata": {},
     "output_type": "display_data"
    },
    {
     "data": {
      "text/plain": [
       "0.660094681924286"
      ]
     },
     "metadata": {},
     "output_type": "display_data"
    },
    {
     "name": "stdout",
     "output_type": "stream",
     "text": [
      "AUC: 0.9116826808205767\n",
      "Accuracy: 0.8421533740328425\n",
      "F1: 0.8217511520737327\n",
      "Precision: 0.8167827042872847\n",
      "CPU times: total: 1min 33s\n",
      "Wall time: 5.02 s\n"
     ]
    }
   ],
   "source": [
    "%%time\n",
    "# расчет на тесте\n",
    "X_my_test[\"scores\"] = model.predict_proba(eval_pool)[:, 1] #for cat\n",
    "pred_ts = model.predict(eval_pool)\n",
    "\n",
    "pr_auc_macro_metr = pr_auc_macro(y_my_test, X_my_test)\n",
    "display('PROCeval:', pr_auc_macro_metr)\n",
    "\n",
    "print('AUC:', roc_auc_score(y_my_test['target'], X_my_test[\"scores\"]))\n",
    "print('Accuracy:', acc(y_my_test['target'], pred_ts))\n",
    "print('F1:', f1_score(y_my_test['target'], pred_ts))\n",
    "print('Precision:', precision_score(y_my_test['target'], pred_ts))"
   ]
  },
  {
   "cell_type": "code",
   "execution_count": 47,
   "id": "521832a9",
   "metadata": {},
   "outputs": [
    {
     "data": {
      "text/html": [
       "<div>\n",
       "<style scoped>\n",
       "    .dataframe tbody tr th:only-of-type {\n",
       "        vertical-align: middle;\n",
       "    }\n",
       "\n",
       "    .dataframe tbody tr th {\n",
       "        vertical-align: top;\n",
       "    }\n",
       "\n",
       "    .dataframe thead th {\n",
       "        text-align: right;\n",
       "    }\n",
       "</style>\n",
       "<table border=\"1\" class=\"dataframe\">\n",
       "  <thead>\n",
       "    <tr style=\"text-align: right;\">\n",
       "      <th></th>\n",
       "      <th>Feature Id</th>\n",
       "      <th>Importances</th>\n",
       "    </tr>\n",
       "  </thead>\n",
       "  <tbody>\n",
       "    <tr>\n",
       "      <th>0</th>\n",
       "      <td>name2</td>\n",
       "      <td>15.606899</td>\n",
       "    </tr>\n",
       "    <tr>\n",
       "      <th>1</th>\n",
       "      <td>name1</td>\n",
       "      <td>12.751022</td>\n",
       "    </tr>\n",
       "    <tr>\n",
       "      <th>2</th>\n",
       "      <td>name_jaccard_similarity</td>\n",
       "      <td>8.675418</td>\n",
       "    </tr>\n",
       "    <tr>\n",
       "      <th>3</th>\n",
       "      <td>characteristic_attributes_mapping2</td>\n",
       "      <td>6.655387</td>\n",
       "    </tr>\n",
       "    <tr>\n",
       "      <th>4</th>\n",
       "      <td>name_emb_manhattan_distance</td>\n",
       "      <td>6.098602</td>\n",
       "    </tr>\n",
       "    <tr>\n",
       "      <th>5</th>\n",
       "      <td>characteristic_attributes_mapping1</td>\n",
       "      <td>5.847714</td>\n",
       "    </tr>\n",
       "    <tr>\n",
       "      <th>6</th>\n",
       "      <td>attr_dist</td>\n",
       "      <td>5.100949</td>\n",
       "    </tr>\n",
       "    <tr>\n",
       "      <th>7</th>\n",
       "      <td>name_levenshtein_distance</td>\n",
       "      <td>5.020778</td>\n",
       "    </tr>\n",
       "    <tr>\n",
       "      <th>8</th>\n",
       "      <td>ozon_bert_manhattan_distance</td>\n",
       "      <td>3.077709</td>\n",
       "    </tr>\n",
       "    <tr>\n",
       "      <th>9</th>\n",
       "      <td>attributes_jaccard_similarity</td>\n",
       "      <td>2.116221</td>\n",
       "    </tr>\n",
       "    <tr>\n",
       "      <th>10</th>\n",
       "      <td>cosine_color_dist</td>\n",
       "      <td>1.645063</td>\n",
       "    </tr>\n",
       "    <tr>\n",
       "      <th>11</th>\n",
       "      <td>euclidean_name_bert_dist</td>\n",
       "      <td>1.438988</td>\n",
       "    </tr>\n",
       "    <tr>\n",
       "      <th>12</th>\n",
       "      <td>common_keys</td>\n",
       "      <td>1.382343</td>\n",
       "    </tr>\n",
       "    <tr>\n",
       "      <th>13</th>\n",
       "      <td>cosine_main_pic_dist</td>\n",
       "      <td>1.369531</td>\n",
       "    </tr>\n",
       "    <tr>\n",
       "      <th>14</th>\n",
       "      <td>cosine_name_embedding_dist</td>\n",
       "      <td>1.260660</td>\n",
       "    </tr>\n",
       "    <tr>\n",
       "      <th>15</th>\n",
       "      <td>main_pic_std_diff</td>\n",
       "      <td>1.246181</td>\n",
       "    </tr>\n",
       "    <tr>\n",
       "      <th>16</th>\n",
       "      <td>pic_dist_0_perc</td>\n",
       "      <td>1.196329</td>\n",
       "    </tr>\n",
       "    <tr>\n",
       "      <th>17</th>\n",
       "      <td>ozon_name_std_diff</td>\n",
       "      <td>0.901534</td>\n",
       "    </tr>\n",
       "    <tr>\n",
       "      <th>18</th>\n",
       "      <td>median_name_emb_manhattan_distance</td>\n",
       "      <td>0.888048</td>\n",
       "    </tr>\n",
       "    <tr>\n",
       "      <th>19</th>\n",
       "      <td>mean_name_emb_manhattan_distance</td>\n",
       "      <td>0.872695</td>\n",
       "    </tr>\n",
       "    <tr>\n",
       "      <th>20</th>\n",
       "      <td>main_pic_dist_25_perc</td>\n",
       "      <td>0.859132</td>\n",
       "    </tr>\n",
       "    <tr>\n",
       "      <th>21</th>\n",
       "      <td>std_main_pic_manhattan_distance</td>\n",
       "      <td>0.846946</td>\n",
       "    </tr>\n",
       "    <tr>\n",
       "      <th>22</th>\n",
       "      <td>std_name_emb_manhattan_distance</td>\n",
       "      <td>0.812292</td>\n",
       "    </tr>\n",
       "    <tr>\n",
       "      <th>23</th>\n",
       "      <td>cat3</td>\n",
       "      <td>0.754470</td>\n",
       "    </tr>\n",
       "    <tr>\n",
       "      <th>24</th>\n",
       "      <td>main_pic_manhattan_distance</td>\n",
       "      <td>0.722727</td>\n",
       "    </tr>\n",
       "    <tr>\n",
       "      <th>25</th>\n",
       "      <td>attr_acc</td>\n",
       "      <td>0.711747</td>\n",
       "    </tr>\n",
       "    <tr>\n",
       "      <th>26</th>\n",
       "      <td>euclidean_color_dist</td>\n",
       "      <td>0.707888</td>\n",
       "    </tr>\n",
       "    <tr>\n",
       "      <th>27</th>\n",
       "      <td>same_value_keys</td>\n",
       "      <td>0.706758</td>\n",
       "    </tr>\n",
       "    <tr>\n",
       "      <th>28</th>\n",
       "      <td>main_pic_dist_0_perc</td>\n",
       "      <td>0.694984</td>\n",
       "    </tr>\n",
       "    <tr>\n",
       "      <th>29</th>\n",
       "      <td>mean_main_pic_manhattan_distance</td>\n",
       "      <td>0.694269</td>\n",
       "    </tr>\n",
       "    <tr>\n",
       "      <th>30</th>\n",
       "      <td>cosine_name_bert_dist</td>\n",
       "      <td>0.689411</td>\n",
       "    </tr>\n",
       "    <tr>\n",
       "      <th>31</th>\n",
       "      <td>median_main_pic_manhattan_distance</td>\n",
       "      <td>0.661129</td>\n",
       "    </tr>\n",
       "    <tr>\n",
       "      <th>32</th>\n",
       "      <td>cat32</td>\n",
       "      <td>0.652336</td>\n",
       "    </tr>\n",
       "    <tr>\n",
       "      <th>33</th>\n",
       "      <td>euclidean_name_embedding_dist</td>\n",
       "      <td>0.651692</td>\n",
       "    </tr>\n",
       "    <tr>\n",
       "      <th>34</th>\n",
       "      <td>median_ozon_bert_manhattan_distance</td>\n",
       "      <td>0.508077</td>\n",
       "    </tr>\n",
       "    <tr>\n",
       "      <th>35</th>\n",
       "      <td>mean_value2</td>\n",
       "      <td>0.499951</td>\n",
       "    </tr>\n",
       "    <tr>\n",
       "      <th>36</th>\n",
       "      <td>mean_value1</td>\n",
       "      <td>0.499871</td>\n",
       "    </tr>\n",
       "    <tr>\n",
       "      <th>37</th>\n",
       "      <td>cat41</td>\n",
       "      <td>0.482904</td>\n",
       "    </tr>\n",
       "    <tr>\n",
       "      <th>38</th>\n",
       "      <td>mean_ozon_bert_manhattan_distance</td>\n",
       "      <td>0.478384</td>\n",
       "    </tr>\n",
       "    <tr>\n",
       "      <th>39</th>\n",
       "      <td>main_pic_dist_50_perc</td>\n",
       "      <td>0.473212</td>\n",
       "    </tr>\n",
       "    <tr>\n",
       "      <th>40</th>\n",
       "      <td>std_ozon_bert_manhattan_distance</td>\n",
       "      <td>0.466139</td>\n",
       "    </tr>\n",
       "    <tr>\n",
       "      <th>41</th>\n",
       "      <td>cat42</td>\n",
       "      <td>0.429551</td>\n",
       "    </tr>\n",
       "    <tr>\n",
       "      <th>42</th>\n",
       "      <td>name_std_diff</td>\n",
       "      <td>0.400986</td>\n",
       "    </tr>\n",
       "    <tr>\n",
       "      <th>43</th>\n",
       "      <td>euclidean_main_pic_dist</td>\n",
       "      <td>0.396715</td>\n",
       "    </tr>\n",
       "    <tr>\n",
       "      <th>44</th>\n",
       "      <td>name_mean_diff</td>\n",
       "      <td>0.357429</td>\n",
       "    </tr>\n",
       "    <tr>\n",
       "      <th>45</th>\n",
       "      <td>pic_dist_50_perc</td>\n",
       "      <td>0.344269</td>\n",
       "    </tr>\n",
       "    <tr>\n",
       "      <th>46</th>\n",
       "      <td>ozon_name_mean_diff</td>\n",
       "      <td>0.267179</td>\n",
       "    </tr>\n",
       "    <tr>\n",
       "      <th>47</th>\n",
       "      <td>ozon_name_median_diff</td>\n",
       "      <td>0.245153</td>\n",
       "    </tr>\n",
       "    <tr>\n",
       "      <th>48</th>\n",
       "      <td>main_pic_mean_diff</td>\n",
       "      <td>0.241256</td>\n",
       "    </tr>\n",
       "    <tr>\n",
       "      <th>49</th>\n",
       "      <td>name_median_diff</td>\n",
       "      <td>0.221039</td>\n",
       "    </tr>\n",
       "    <tr>\n",
       "      <th>50</th>\n",
       "      <td>main_pic_median_diff</td>\n",
       "      <td>0.205761</td>\n",
       "    </tr>\n",
       "    <tr>\n",
       "      <th>51</th>\n",
       "      <td>pic_dist_25_perc</td>\n",
       "      <td>0.164272</td>\n",
       "    </tr>\n",
       "  </tbody>\n",
       "</table>\n",
       "</div>"
      ],
      "text/plain": [
       "                             Feature Id  Importances\n",
       "0                                 name2    15.606899\n",
       "1                                 name1    12.751022\n",
       "2               name_jaccard_similarity     8.675418\n",
       "3    characteristic_attributes_mapping2     6.655387\n",
       "4           name_emb_manhattan_distance     6.098602\n",
       "5    characteristic_attributes_mapping1     5.847714\n",
       "6                             attr_dist     5.100949\n",
       "7             name_levenshtein_distance     5.020778\n",
       "8          ozon_bert_manhattan_distance     3.077709\n",
       "9         attributes_jaccard_similarity     2.116221\n",
       "10                    cosine_color_dist     1.645063\n",
       "11             euclidean_name_bert_dist     1.438988\n",
       "12                          common_keys     1.382343\n",
       "13                 cosine_main_pic_dist     1.369531\n",
       "14           cosine_name_embedding_dist     1.260660\n",
       "15                    main_pic_std_diff     1.246181\n",
       "16                      pic_dist_0_perc     1.196329\n",
       "17                   ozon_name_std_diff     0.901534\n",
       "18   median_name_emb_manhattan_distance     0.888048\n",
       "19     mean_name_emb_manhattan_distance     0.872695\n",
       "20                main_pic_dist_25_perc     0.859132\n",
       "21      std_main_pic_manhattan_distance     0.846946\n",
       "22      std_name_emb_manhattan_distance     0.812292\n",
       "23                                 cat3     0.754470\n",
       "24          main_pic_manhattan_distance     0.722727\n",
       "25                             attr_acc     0.711747\n",
       "26                 euclidean_color_dist     0.707888\n",
       "27                      same_value_keys     0.706758\n",
       "28                 main_pic_dist_0_perc     0.694984\n",
       "29     mean_main_pic_manhattan_distance     0.694269\n",
       "30                cosine_name_bert_dist     0.689411\n",
       "31   median_main_pic_manhattan_distance     0.661129\n",
       "32                                cat32     0.652336\n",
       "33        euclidean_name_embedding_dist     0.651692\n",
       "34  median_ozon_bert_manhattan_distance     0.508077\n",
       "35                          mean_value2     0.499951\n",
       "36                          mean_value1     0.499871\n",
       "37                                cat41     0.482904\n",
       "38    mean_ozon_bert_manhattan_distance     0.478384\n",
       "39                main_pic_dist_50_perc     0.473212\n",
       "40     std_ozon_bert_manhattan_distance     0.466139\n",
       "41                                cat42     0.429551\n",
       "42                        name_std_diff     0.400986\n",
       "43              euclidean_main_pic_dist     0.396715\n",
       "44                       name_mean_diff     0.357429\n",
       "45                     pic_dist_50_perc     0.344269\n",
       "46                  ozon_name_mean_diff     0.267179\n",
       "47                ozon_name_median_diff     0.245153\n",
       "48                   main_pic_mean_diff     0.241256\n",
       "49                     name_median_diff     0.221039\n",
       "50                 main_pic_median_diff     0.205761\n",
       "51                     pic_dist_25_perc     0.164272"
      ]
     },
     "execution_count": 47,
     "metadata": {},
     "output_type": "execute_result"
    }
   ],
   "source": [
    "# проверим важность признаков\n",
    "fi = model.get_feature_importance(prettified=True)\n",
    "fi"
   ]
  },
  {
   "cell_type": "markdown",
   "id": "e5643eaa",
   "metadata": {},
   "source": [
    "## ДООБУЧЕНИЕ НА ВСЕЙ"
   ]
  },
  {
   "cell_type": "code",
   "execution_count": 48,
   "id": "043cf339",
   "metadata": {},
   "outputs": [],
   "source": [
    "# общий трейн\n",
    "X_all = features.drop([\"target\"], axis=1)\n",
    "y_all = features[\"target\"]\n",
    "\n",
    "pool_all = Pool(\n",
    "    data=X_all[feats],\n",
    "    label=y_all,\n",
    "    text_features=['characteristic_attributes_mapping1', 'characteristic_attributes_mapping2', 'name1', 'name2'],\n",
    "    embedding_features=embeddin_col\n",
    ")"
   ]
  },
  {
   "cell_type": "code",
   "execution_count": 49,
   "id": "761c5fae",
   "metadata": {
    "scrolled": true
   },
   "outputs": [
    {
     "data": {
      "application/vnd.jupyter.widget-view+json": {
       "model_id": "b3968e04a8ce4c4eb628a70f84c2a867",
       "version_major": 2,
       "version_minor": 0
      },
      "text/plain": [
       "MetricVisualizer(layout=Layout(align_self='stretch', height='500px'))"
      ]
     },
     "metadata": {},
     "output_type": "display_data"
    },
    {
     "name": "stderr",
     "output_type": "stream",
     "text": [
      "You should provide test set for use best model. use_best_model parameter has been switched to false value.\n"
     ]
    },
    {
     "name": "stdout",
     "output_type": "stream",
     "text": [
      "0:\tlearn: 0.6439947\ttotal: 430ms\tremaining: 17m 53s\n",
      "10:\tlearn: 0.4727322\ttotal: 5.35s\tremaining: 20m 11s\n",
      "20:\tlearn: 0.4417225\ttotal: 10.4s\tremaining: 20m 29s\n",
      "30:\tlearn: 0.4292237\ttotal: 15.4s\tremaining: 20m 29s\n",
      "40:\tlearn: 0.4218881\ttotal: 20.3s\tremaining: 20m 18s\n",
      "50:\tlearn: 0.4176330\ttotal: 25.1s\tremaining: 20m 3s\n",
      "60:\tlearn: 0.4133479\ttotal: 29.7s\tremaining: 19m 49s\n",
      "70:\tlearn: 0.4105857\ttotal: 34.5s\tremaining: 19m 39s\n",
      "80:\tlearn: 0.4078973\ttotal: 39.3s\tremaining: 19m 34s\n",
      "90:\tlearn: 0.4061246\ttotal: 44.1s\tremaining: 19m 27s\n",
      "100:\tlearn: 0.4045260\ttotal: 48.9s\tremaining: 19m 20s\n",
      "110:\tlearn: 0.4030569\ttotal: 53.7s\tremaining: 19m 14s\n",
      "120:\tlearn: 0.4017401\ttotal: 58.3s\tremaining: 19m 6s\n",
      "130:\tlearn: 0.4003393\ttotal: 1m 3s\tremaining: 19m 1s\n",
      "140:\tlearn: 0.3987428\ttotal: 1m 7s\tremaining: 18m 56s\n",
      "150:\tlearn: 0.3974103\ttotal: 1m 12s\tremaining: 18m 50s\n",
      "160:\tlearn: 0.3961225\ttotal: 1m 17s\tremaining: 18m 45s\n",
      "170:\tlearn: 0.3949854\ttotal: 1m 22s\tremaining: 18m 38s\n",
      "180:\tlearn: 0.3938653\ttotal: 1m 26s\tremaining: 18m 32s\n",
      "190:\tlearn: 0.3927860\ttotal: 1m 31s\tremaining: 18m 29s\n",
      "200:\tlearn: 0.3918479\ttotal: 1m 36s\tremaining: 18m 24s\n",
      "210:\tlearn: 0.3908492\ttotal: 1m 41s\tremaining: 18m 20s\n",
      "220:\tlearn: 0.3898133\ttotal: 1m 46s\tremaining: 18m 13s\n",
      "230:\tlearn: 0.3889169\ttotal: 1m 50s\tremaining: 18m 7s\n",
      "240:\tlearn: 0.3880696\ttotal: 1m 55s\tremaining: 18m 2s\n",
      "250:\tlearn: 0.3872817\ttotal: 2m\tremaining: 17m 55s\n",
      "260:\tlearn: 0.3864131\ttotal: 2m 4s\tremaining: 17m 50s\n",
      "270:\tlearn: 0.3855747\ttotal: 2m 9s\tremaining: 17m 43s\n",
      "280:\tlearn: 0.3848837\ttotal: 2m 13s\tremaining: 17m 36s\n",
      "290:\tlearn: 0.3842147\ttotal: 2m 18s\tremaining: 17m 29s\n",
      "300:\tlearn: 0.3833204\ttotal: 2m 22s\tremaining: 17m 23s\n",
      "310:\tlearn: 0.3826474\ttotal: 2m 27s\tremaining: 17m 19s\n",
      "320:\tlearn: 0.3820461\ttotal: 2m 32s\tremaining: 17m 14s\n",
      "330:\tlearn: 0.3814239\ttotal: 2m 37s\tremaining: 17m 10s\n",
      "340:\tlearn: 0.3807471\ttotal: 2m 42s\tremaining: 17m 6s\n",
      "350:\tlearn: 0.3801721\ttotal: 2m 46s\tremaining: 17m 1s\n",
      "360:\tlearn: 0.3796442\ttotal: 2m 51s\tremaining: 16m 57s\n",
      "370:\tlearn: 0.3790574\ttotal: 2m 56s\tremaining: 16m 52s\n",
      "380:\tlearn: 0.3784570\ttotal: 3m 1s\tremaining: 16m 47s\n",
      "390:\tlearn: 0.3779020\ttotal: 3m 5s\tremaining: 16m 42s\n",
      "400:\tlearn: 0.3773178\ttotal: 3m 10s\tremaining: 16m 37s\n",
      "410:\tlearn: 0.3767788\ttotal: 3m 15s\tremaining: 16m 32s\n",
      "420:\tlearn: 0.3761907\ttotal: 3m 20s\tremaining: 16m 27s\n",
      "430:\tlearn: 0.3756430\ttotal: 3m 24s\tremaining: 16m 23s\n",
      "440:\tlearn: 0.3751410\ttotal: 3m 29s\tremaining: 16m 19s\n",
      "450:\tlearn: 0.3745702\ttotal: 3m 34s\tremaining: 16m 14s\n",
      "460:\tlearn: 0.3740230\ttotal: 3m 39s\tremaining: 16m 9s\n",
      "470:\tlearn: 0.3735165\ttotal: 3m 43s\tremaining: 16m 4s\n",
      "480:\tlearn: 0.3730378\ttotal: 3m 48s\tremaining: 15m 59s\n",
      "490:\tlearn: 0.3725429\ttotal: 3m 53s\tremaining: 15m 54s\n",
      "500:\tlearn: 0.3720816\ttotal: 3m 57s\tremaining: 15m 49s\n",
      "510:\tlearn: 0.3715715\ttotal: 4m 2s\tremaining: 15m 44s\n",
      "520:\tlearn: 0.3711006\ttotal: 4m 7s\tremaining: 15m 40s\n",
      "530:\tlearn: 0.3706081\ttotal: 4m 12s\tremaining: 15m 35s\n",
      "540:\tlearn: 0.3701485\ttotal: 4m 17s\tremaining: 15m 30s\n",
      "550:\tlearn: 0.3696913\ttotal: 4m 21s\tremaining: 15m 26s\n",
      "560:\tlearn: 0.3691520\ttotal: 4m 26s\tremaining: 15m 21s\n",
      "570:\tlearn: 0.3687235\ttotal: 4m 31s\tremaining: 15m 16s\n",
      "580:\tlearn: 0.3683105\ttotal: 4m 35s\tremaining: 15m 11s\n",
      "590:\tlearn: 0.3678796\ttotal: 4m 40s\tremaining: 15m 6s\n",
      "600:\tlearn: 0.3674135\ttotal: 4m 45s\tremaining: 15m 2s\n",
      "610:\tlearn: 0.3670356\ttotal: 4m 50s\tremaining: 14m 57s\n",
      "620:\tlearn: 0.3666385\ttotal: 4m 55s\tremaining: 14m 52s\n",
      "630:\tlearn: 0.3662251\ttotal: 4m 59s\tremaining: 14m 47s\n",
      "640:\tlearn: 0.3656855\ttotal: 5m 4s\tremaining: 14m 43s\n",
      "650:\tlearn: 0.3652927\ttotal: 5m 9s\tremaining: 14m 38s\n",
      "660:\tlearn: 0.3648561\ttotal: 5m 14s\tremaining: 14m 33s\n",
      "670:\tlearn: 0.3644553\ttotal: 5m 18s\tremaining: 14m 28s\n",
      "680:\tlearn: 0.3640701\ttotal: 5m 23s\tremaining: 14m 24s\n",
      "690:\tlearn: 0.3636486\ttotal: 5m 28s\tremaining: 14m 19s\n",
      "700:\tlearn: 0.3632688\ttotal: 5m 32s\tremaining: 14m 14s\n",
      "710:\tlearn: 0.3628667\ttotal: 5m 37s\tremaining: 14m 9s\n",
      "720:\tlearn: 0.3625070\ttotal: 5m 42s\tremaining: 14m 4s\n",
      "730:\tlearn: 0.3621133\ttotal: 5m 46s\tremaining: 13m 59s\n",
      "740:\tlearn: 0.3617126\ttotal: 5m 51s\tremaining: 13m 55s\n",
      "750:\tlearn: 0.3613373\ttotal: 5m 56s\tremaining: 13m 50s\n",
      "760:\tlearn: 0.3608568\ttotal: 6m 1s\tremaining: 13m 45s\n",
      "770:\tlearn: 0.3604651\ttotal: 6m 6s\tremaining: 13m 41s\n",
      "780:\tlearn: 0.3600717\ttotal: 6m 11s\tremaining: 13m 36s\n",
      "790:\tlearn: 0.3596920\ttotal: 6m 15s\tremaining: 13m 32s\n",
      "800:\tlearn: 0.3593201\ttotal: 6m 20s\tremaining: 13m 27s\n",
      "810:\tlearn: 0.3589018\ttotal: 6m 25s\tremaining: 13m 22s\n",
      "820:\tlearn: 0.3585538\ttotal: 6m 30s\tremaining: 13m 17s\n",
      "830:\tlearn: 0.3582046\ttotal: 6m 35s\tremaining: 13m 13s\n",
      "840:\tlearn: 0.3578298\ttotal: 6m 39s\tremaining: 13m 8s\n",
      "850:\tlearn: 0.3574819\ttotal: 6m 44s\tremaining: 13m 3s\n",
      "860:\tlearn: 0.3570479\ttotal: 6m 49s\tremaining: 12m 58s\n",
      "870:\tlearn: 0.3567078\ttotal: 6m 53s\tremaining: 12m 53s\n",
      "880:\tlearn: 0.3563567\ttotal: 6m 58s\tremaining: 12m 49s\n",
      "890:\tlearn: 0.3560132\ttotal: 7m 3s\tremaining: 12m 44s\n",
      "900:\tlearn: 0.3556575\ttotal: 7m 7s\tremaining: 12m 39s\n",
      "910:\tlearn: 0.3553363\ttotal: 7m 12s\tremaining: 12m 34s\n",
      "920:\tlearn: 0.3550401\ttotal: 7m 17s\tremaining: 12m 30s\n",
      "930:\tlearn: 0.3547145\ttotal: 7m 22s\tremaining: 12m 25s\n",
      "940:\tlearn: 0.3544022\ttotal: 7m 27s\tremaining: 12m 20s\n",
      "950:\tlearn: 0.3540659\ttotal: 7m 31s\tremaining: 12m 16s\n",
      "960:\tlearn: 0.3537283\ttotal: 7m 36s\tremaining: 12m 11s\n",
      "970:\tlearn: 0.3533941\ttotal: 7m 41s\tremaining: 12m 6s\n",
      "980:\tlearn: 0.3530686\ttotal: 7m 46s\tremaining: 12m 2s\n",
      "990:\tlearn: 0.3527116\ttotal: 7m 51s\tremaining: 11m 57s\n",
      "1000:\tlearn: 0.3523769\ttotal: 7m 55s\tremaining: 11m 52s\n",
      "1010:\tlearn: 0.3520437\ttotal: 8m\tremaining: 11m 48s\n",
      "1020:\tlearn: 0.3517173\ttotal: 8m 5s\tremaining: 11m 43s\n",
      "1030:\tlearn: 0.3514004\ttotal: 8m 10s\tremaining: 11m 38s\n",
      "1040:\tlearn: 0.3510903\ttotal: 8m 14s\tremaining: 11m 33s\n",
      "1050:\tlearn: 0.3507313\ttotal: 8m 19s\tremaining: 11m 29s\n",
      "1060:\tlearn: 0.3503852\ttotal: 8m 24s\tremaining: 11m 24s\n",
      "1070:\tlearn: 0.3500876\ttotal: 8m 29s\tremaining: 11m 19s\n",
      "1080:\tlearn: 0.3497315\ttotal: 8m 33s\tremaining: 11m 14s\n",
      "1090:\tlearn: 0.3494024\ttotal: 8m 38s\tremaining: 11m 10s\n",
      "1100:\tlearn: 0.3490515\ttotal: 8m 43s\tremaining: 11m 5s\n",
      "1110:\tlearn: 0.3486834\ttotal: 8m 48s\tremaining: 11m\n",
      "1120:\tlearn: 0.3483729\ttotal: 8m 53s\tremaining: 10m 55s\n",
      "1130:\tlearn: 0.3480733\ttotal: 8m 57s\tremaining: 10m 51s\n",
      "1140:\tlearn: 0.3477719\ttotal: 9m 2s\tremaining: 10m 46s\n",
      "1150:\tlearn: 0.3474516\ttotal: 9m 7s\tremaining: 10m 41s\n",
      "1160:\tlearn: 0.3471537\ttotal: 9m 12s\tremaining: 10m 36s\n",
      "1170:\tlearn: 0.3468359\ttotal: 9m 16s\tremaining: 10m 32s\n",
      "1180:\tlearn: 0.3465382\ttotal: 9m 21s\tremaining: 10m 27s\n",
      "1190:\tlearn: 0.3462381\ttotal: 9m 26s\tremaining: 10m 22s\n",
      "1200:\tlearn: 0.3458918\ttotal: 9m 31s\tremaining: 10m 17s\n",
      "1210:\tlearn: 0.3456029\ttotal: 9m 35s\tremaining: 10m 12s\n",
      "1220:\tlearn: 0.3452961\ttotal: 9m 40s\tremaining: 10m 7s\n",
      "1230:\tlearn: 0.3450040\ttotal: 9m 45s\tremaining: 10m 3s\n",
      "1240:\tlearn: 0.3447045\ttotal: 9m 49s\tremaining: 9m 58s\n",
      "1250:\tlearn: 0.3444160\ttotal: 9m 54s\tremaining: 9m 53s\n",
      "1260:\tlearn: 0.3440876\ttotal: 9m 59s\tremaining: 9m 48s\n",
      "1270:\tlearn: 0.3437807\ttotal: 10m 4s\tremaining: 9m 44s\n",
      "1280:\tlearn: 0.3434982\ttotal: 10m 8s\tremaining: 9m 39s\n",
      "1290:\tlearn: 0.3431981\ttotal: 10m 13s\tremaining: 9m 34s\n",
      "1300:\tlearn: 0.3429034\ttotal: 10m 18s\tremaining: 9m 29s\n",
      "1310:\tlearn: 0.3426082\ttotal: 10m 23s\tremaining: 9m 25s\n",
      "1320:\tlearn: 0.3423655\ttotal: 10m 27s\tremaining: 9m 20s\n",
      "1330:\tlearn: 0.3420978\ttotal: 10m 32s\tremaining: 9m 15s\n",
      "1340:\tlearn: 0.3418018\ttotal: 10m 37s\tremaining: 9m 10s\n",
      "1350:\tlearn: 0.3415089\ttotal: 10m 41s\tremaining: 9m 5s\n",
      "1360:\tlearn: 0.3412127\ttotal: 10m 46s\tremaining: 9m 1s\n",
      "1370:\tlearn: 0.3409751\ttotal: 10m 51s\tremaining: 8m 56s\n",
      "1380:\tlearn: 0.3406937\ttotal: 10m 56s\tremaining: 8m 51s\n",
      "1390:\tlearn: 0.3404043\ttotal: 11m\tremaining: 8m 46s\n",
      "1400:\tlearn: 0.3400721\ttotal: 11m 5s\tremaining: 8m 42s\n",
      "1410:\tlearn: 0.3397836\ttotal: 11m 10s\tremaining: 8m 37s\n",
      "1420:\tlearn: 0.3395523\ttotal: 11m 15s\tremaining: 8m 32s\n",
      "1430:\tlearn: 0.3392731\ttotal: 11m 20s\tremaining: 8m 28s\n",
      "1440:\tlearn: 0.3389891\ttotal: 11m 24s\tremaining: 8m 23s\n",
      "1450:\tlearn: 0.3387134\ttotal: 11m 29s\tremaining: 8m 18s\n",
      "1460:\tlearn: 0.3384181\ttotal: 11m 34s\tremaining: 8m 13s\n",
      "1470:\tlearn: 0.3381557\ttotal: 11m 39s\tremaining: 8m 9s\n",
      "1480:\tlearn: 0.3378821\ttotal: 11m 43s\tremaining: 8m 4s\n",
      "1490:\tlearn: 0.3376080\ttotal: 11m 48s\tremaining: 7m 59s\n"
     ]
    },
    {
     "name": "stdout",
     "output_type": "stream",
     "text": [
      "1500:\tlearn: 0.3373456\ttotal: 11m 53s\tremaining: 7m 54s\n",
      "1510:\tlearn: 0.3371041\ttotal: 11m 58s\tremaining: 7m 49s\n",
      "1520:\tlearn: 0.3368404\ttotal: 12m 2s\tremaining: 7m 45s\n",
      "1530:\tlearn: 0.3365817\ttotal: 12m 7s\tremaining: 7m 40s\n",
      "1540:\tlearn: 0.3363250\ttotal: 12m 11s\tremaining: 7m 35s\n",
      "1550:\tlearn: 0.3360719\ttotal: 12m 16s\tremaining: 7m 30s\n",
      "1560:\tlearn: 0.3358150\ttotal: 12m 21s\tremaining: 7m 25s\n",
      "1570:\tlearn: 0.3355407\ttotal: 12m 25s\tremaining: 7m 21s\n",
      "1580:\tlearn: 0.3352680\ttotal: 12m 30s\tremaining: 7m 16s\n",
      "1590:\tlearn: 0.3350041\ttotal: 12m 35s\tremaining: 7m 11s\n",
      "1600:\tlearn: 0.3347301\ttotal: 12m 40s\tremaining: 7m 6s\n",
      "1610:\tlearn: 0.3344755\ttotal: 12m 45s\tremaining: 7m 2s\n",
      "1620:\tlearn: 0.3341319\ttotal: 12m 50s\tremaining: 6m 57s\n",
      "1630:\tlearn: 0.3338773\ttotal: 12m 54s\tremaining: 6m 52s\n",
      "1640:\tlearn: 0.3335962\ttotal: 12m 59s\tremaining: 6m 47s\n",
      "1650:\tlearn: 0.3333276\ttotal: 13m 4s\tremaining: 6m 43s\n",
      "1660:\tlearn: 0.3330973\ttotal: 13m 8s\tremaining: 6m 38s\n",
      "1670:\tlearn: 0.3328370\ttotal: 13m 13s\tremaining: 6m 33s\n",
      "1680:\tlearn: 0.3325902\ttotal: 13m 18s\tremaining: 6m 29s\n",
      "1690:\tlearn: 0.3322972\ttotal: 13m 23s\tremaining: 6m 24s\n",
      "1700:\tlearn: 0.3320232\ttotal: 13m 27s\tremaining: 6m 19s\n",
      "1710:\tlearn: 0.3317922\ttotal: 13m 32s\tremaining: 6m 14s\n",
      "1720:\tlearn: 0.3315429\ttotal: 13m 37s\tremaining: 6m 10s\n",
      "1730:\tlearn: 0.3312585\ttotal: 13m 41s\tremaining: 6m 5s\n",
      "1740:\tlearn: 0.3309805\ttotal: 13m 46s\tremaining: 6m\n",
      "1750:\tlearn: 0.3307106\ttotal: 13m 51s\tremaining: 5m 55s\n",
      "1760:\tlearn: 0.3304473\ttotal: 13m 56s\tremaining: 5m 50s\n",
      "1770:\tlearn: 0.3301806\ttotal: 14m\tremaining: 5m 46s\n",
      "1780:\tlearn: 0.3298765\ttotal: 14m 5s\tremaining: 5m 41s\n",
      "1790:\tlearn: 0.3296333\ttotal: 14m 10s\tremaining: 5m 36s\n",
      "1800:\tlearn: 0.3293615\ttotal: 14m 15s\tremaining: 5m 31s\n",
      "1810:\tlearn: 0.3291335\ttotal: 14m 19s\tremaining: 5m 27s\n",
      "1820:\tlearn: 0.3288893\ttotal: 14m 24s\tremaining: 5m 22s\n",
      "1830:\tlearn: 0.3286436\ttotal: 14m 29s\tremaining: 5m 17s\n",
      "1840:\tlearn: 0.3284255\ttotal: 14m 33s\tremaining: 5m 12s\n",
      "1850:\tlearn: 0.3281966\ttotal: 14m 38s\tremaining: 5m 8s\n",
      "1860:\tlearn: 0.3279425\ttotal: 14m 43s\tremaining: 5m 3s\n",
      "1870:\tlearn: 0.3276999\ttotal: 14m 48s\tremaining: 4m 58s\n",
      "1880:\tlearn: 0.3273915\ttotal: 14m 53s\tremaining: 4m 53s\n",
      "1890:\tlearn: 0.3271305\ttotal: 14m 57s\tremaining: 4m 49s\n",
      "1900:\tlearn: 0.3268744\ttotal: 15m 2s\tremaining: 4m 44s\n",
      "1910:\tlearn: 0.3266400\ttotal: 15m 7s\tremaining: 4m 39s\n",
      "1920:\tlearn: 0.3263775\ttotal: 15m 11s\tremaining: 4m 34s\n",
      "1930:\tlearn: 0.3261372\ttotal: 15m 16s\tremaining: 4m 30s\n",
      "1940:\tlearn: 0.3258922\ttotal: 15m 21s\tremaining: 4m 25s\n",
      "1950:\tlearn: 0.3256275\ttotal: 15m 26s\tremaining: 4m 20s\n",
      "1960:\tlearn: 0.3253796\ttotal: 15m 31s\tremaining: 4m 15s\n",
      "1970:\tlearn: 0.3251402\ttotal: 15m 36s\tremaining: 4m 11s\n",
      "1980:\tlearn: 0.3248789\ttotal: 15m 40s\tremaining: 4m 6s\n",
      "1990:\tlearn: 0.3246209\ttotal: 15m 45s\tremaining: 4m 1s\n",
      "2000:\tlearn: 0.3243951\ttotal: 15m 50s\tremaining: 3m 56s\n",
      "2010:\tlearn: 0.3241592\ttotal: 15m 55s\tremaining: 3m 52s\n",
      "2020:\tlearn: 0.3238934\ttotal: 16m\tremaining: 3m 47s\n",
      "2030:\tlearn: 0.3236303\ttotal: 16m 4s\tremaining: 3m 42s\n",
      "2040:\tlearn: 0.3233975\ttotal: 16m 9s\tremaining: 3m 38s\n",
      "2050:\tlearn: 0.3231565\ttotal: 16m 14s\tremaining: 3m 33s\n",
      "2060:\tlearn: 0.3229725\ttotal: 16m 19s\tremaining: 3m 28s\n",
      "2070:\tlearn: 0.3227578\ttotal: 16m 24s\tremaining: 3m 23s\n",
      "2080:\tlearn: 0.3225248\ttotal: 16m 28s\tremaining: 3m 19s\n",
      "2090:\tlearn: 0.3222679\ttotal: 16m 33s\tremaining: 3m 14s\n",
      "2100:\tlearn: 0.3220244\ttotal: 16m 38s\tremaining: 3m 9s\n",
      "2110:\tlearn: 0.3217950\ttotal: 16m 43s\tremaining: 3m 4s\n",
      "2120:\tlearn: 0.3215370\ttotal: 16m 47s\tremaining: 3m\n",
      "2130:\tlearn: 0.3213083\ttotal: 16m 52s\tremaining: 2m 55s\n",
      "2140:\tlearn: 0.3210909\ttotal: 16m 57s\tremaining: 2m 50s\n",
      "2150:\tlearn: 0.3208372\ttotal: 17m 1s\tremaining: 2m 45s\n",
      "2160:\tlearn: 0.3206252\ttotal: 17m 6s\tremaining: 2m 41s\n",
      "2170:\tlearn: 0.3203865\ttotal: 17m 11s\tremaining: 2m 36s\n",
      "2180:\tlearn: 0.3201441\ttotal: 17m 16s\tremaining: 2m 31s\n",
      "2190:\tlearn: 0.3199122\ttotal: 17m 20s\tremaining: 2m 26s\n",
      "2200:\tlearn: 0.3196697\ttotal: 17m 25s\tremaining: 2m 22s\n",
      "2210:\tlearn: 0.3194521\ttotal: 17m 30s\tremaining: 2m 17s\n",
      "2220:\tlearn: 0.3192082\ttotal: 17m 35s\tremaining: 2m 12s\n",
      "2230:\tlearn: 0.3189939\ttotal: 17m 40s\tremaining: 2m 7s\n",
      "2240:\tlearn: 0.3187571\ttotal: 17m 45s\tremaining: 2m 3s\n",
      "2250:\tlearn: 0.3185190\ttotal: 17m 49s\tremaining: 1m 58s\n",
      "2260:\tlearn: 0.3183011\ttotal: 17m 54s\tremaining: 1m 53s\n",
      "2270:\tlearn: 0.3180411\ttotal: 17m 59s\tremaining: 1m 48s\n",
      "2280:\tlearn: 0.3178301\ttotal: 18m 4s\tremaining: 1m 44s\n",
      "2290:\tlearn: 0.3175995\ttotal: 18m 8s\tremaining: 1m 39s\n",
      "2300:\tlearn: 0.3173769\ttotal: 18m 13s\tremaining: 1m 34s\n",
      "2310:\tlearn: 0.3171537\ttotal: 18m 18s\tremaining: 1m 29s\n",
      "2320:\tlearn: 0.3169030\ttotal: 18m 22s\tremaining: 1m 25s\n",
      "2330:\tlearn: 0.3166841\ttotal: 18m 27s\tremaining: 1m 20s\n",
      "2340:\tlearn: 0.3164373\ttotal: 18m 32s\tremaining: 1m 15s\n",
      "2350:\tlearn: 0.3162286\ttotal: 18m 37s\tremaining: 1m 10s\n",
      "2360:\tlearn: 0.3160171\ttotal: 18m 41s\tremaining: 1m 6s\n",
      "2370:\tlearn: 0.3157814\ttotal: 18m 46s\tremaining: 1m 1s\n",
      "2380:\tlearn: 0.3155558\ttotal: 18m 51s\tremaining: 56.6s\n",
      "2390:\tlearn: 0.3153172\ttotal: 18m 56s\tremaining: 51.8s\n",
      "2400:\tlearn: 0.3151227\ttotal: 19m\tremaining: 47s\n",
      "2410:\tlearn: 0.3149083\ttotal: 19m 5s\tremaining: 42.3s\n",
      "2420:\tlearn: 0.3146972\ttotal: 19m 10s\tremaining: 37.5s\n",
      "2430:\tlearn: 0.3144639\ttotal: 19m 15s\tremaining: 32.8s\n",
      "2440:\tlearn: 0.3142375\ttotal: 19m 19s\tremaining: 28s\n",
      "2450:\tlearn: 0.3140327\ttotal: 19m 24s\tremaining: 23.3s\n",
      "2460:\tlearn: 0.3138212\ttotal: 19m 29s\tremaining: 18.5s\n",
      "2470:\tlearn: 0.3136089\ttotal: 19m 34s\tremaining: 13.8s\n",
      "2480:\tlearn: 0.3133708\ttotal: 19m 38s\tremaining: 9.03s\n",
      "2490:\tlearn: 0.3131568\ttotal: 19m 43s\tremaining: 4.28s\n",
      "2499:\tlearn: 0.3129599\ttotal: 19m 47s\tremaining: 0us\n"
     ]
    },
    {
     "data": {
      "text/plain": [
       "<catboost.core.CatBoostClassifier at 0x1be794ef430>"
      ]
     },
     "execution_count": 49,
     "metadata": {},
     "output_type": "execute_result"
    }
   ],
   "source": [
    "# обучим модель на всех данных\n",
    "model.fit(\n",
    "    pool_all,\n",
    "    plot=True,\n",
    "    verbose=True,\n",
    "    use_best_model=True,\n",
    "    early_stopping_rounds=40,\n",
    "    metric_period=10\n",
    ")"
   ]
  },
  {
   "cell_type": "markdown",
   "id": "e46fd523",
   "metadata": {},
   "source": [
    "## Submission. Расчет на финальной тестовой"
   ]
  },
  {
   "cell_type": "markdown",
   "id": "db880bd2",
   "metadata": {},
   "source": [
    "### *Предобработка тестовой выборки*"
   ]
  },
  {
   "cell_type": "code",
   "execution_count": 50,
   "id": "1eb031ac",
   "metadata": {
    "scrolled": true
   },
   "outputs": [
    {
     "name": "stdout",
     "output_type": "stream",
     "text": [
      "449\n"
     ]
    },
    {
     "name": "stderr",
     "output_type": "stream",
     "text": [
      "100%|██████████| 18084/18084 [00:04<00:00, 3739.18it/s]"
     ]
    },
    {
     "name": "stdout",
     "output_type": "stream",
     "text": [
      "CPU times: total: 19.9 s\n",
      "Wall time: 19.9 s\n"
     ]
    },
    {
     "name": "stderr",
     "output_type": "stream",
     "text": [
      "\n"
     ]
    }
   ],
   "source": [
    "%%time\n",
    "\n",
    "REST_test = 50\n",
    "\n",
    "test_data = new_col(test_data)\n",
    "test_data = cat3_grouped(test_data, REST_test)\n",
    "test_data[cat_col] = encoder.transform(test_data[cat_col]) \n",
    "test_data = color(test_data)\n",
    "\n",
    "# Объединение таблиц\n",
    "features_test = merge_f(test_pairs_wo_target, test_data)\n",
    "\n",
    "\n",
    "features_test[['attr_dist', \n",
    "               'attr_acc', \n",
    "               'common_keys', \n",
    "               'same_value_keys', \n",
    "               'mean_value1', \n",
    "               'mean_value2']] = features_test[['attributes_set1', 'attributes_set2']].progress_apply(\n",
    "    lambda x: pd.Series(compare_attr(*x)), axis=1\n",
    ")\n",
    "\n",
    "features_test['mean_value1'] = features_test['mean_value1'].fillna(0)\n",
    "features_test['mean_value2'] = features_test['mean_value2'].fillna(0)"
   ]
  },
  {
   "cell_type": "code",
   "execution_count": 51,
   "id": "282e9d3c",
   "metadata": {},
   "outputs": [],
   "source": [
    "features_test['main_pic_embeddings_resnet_v1_new1'] = features_test['main_pic_embeddings_resnet_v11'].apply(lambda x: x[0])\n",
    "features_test['main_pic_embeddings_resnet_v1_new2'] = features_test['main_pic_embeddings_resnet_v12'].apply(lambda x: x[0])"
   ]
  },
  {
   "cell_type": "code",
   "execution_count": 52,
   "id": "b71f2ae1",
   "metadata": {},
   "outputs": [
    {
     "name": "stderr",
     "output_type": "stream",
     "text": [
      "100%|██████████| 18084/18084 [00:03<00:00, 5072.19it/s]\n",
      "100%|██████████| 18084/18084 [00:02<00:00, 6828.38it/s]\n",
      "100%|██████████| 18084/18084 [00:02<00:00, 6764.32it/s]"
     ]
    },
    {
     "name": "stdout",
     "output_type": "stream",
     "text": [
      "CPU times: total: 9.03 s\n",
      "Wall time: 8.93 s\n"
     ]
    },
    {
     "name": "stderr",
     "output_type": "stream",
     "text": [
      "\n"
     ]
    }
   ],
   "source": [
    "%%time\n",
    "# Добавляем новые столбцы в датафрейм features_test с вычисленными статистическими характеристиками разности \n",
    "# между эмбеддингами названий товаров\n",
    "features_test[['name_mean_diff', 'name_median_diff', 'name_std_diff']] = features_test.progress_apply(\n",
    "    lambda x: calculate_statistical_features(\n",
    "        x['name_bert7681'], x['name_bert7682']), axis=1, result_type='expand'\n",
    ")\n",
    "\n",
    "# Добавляем новые столбцы в датафрейм features_test с вычисленными статистическими характеристиками разности \n",
    "# между эмбеддингами названий товаров от ozon\n",
    "features_test[['ozon_name_mean_diff', 'ozon_name_median_diff', 'ozon_name_std_diff']] = features_test.progress_apply(\n",
    "    lambda x: calculate_statistical_features(\n",
    "        x['name_bert_641'], x['name_bert_642']), axis=1, result_type='expand'\n",
    ")\n",
    "\n",
    "# Добавляем новые столбцы в датафрейм features_test с вычисленными статистическими характеристиками разности \n",
    "# между эмбеддингами картинок товаров\n",
    "features_test[['main_pic_mean_diff', 'main_pic_median_diff', 'main_pic_std_diff']] = features_test.progress_apply(\n",
    "    lambda x: calculate_statistical_features(\n",
    "        x['main_pic_embeddings_resnet_v1_new1'], x['main_pic_embeddings_resnet_v1_new2']), axis=1, result_type='expand'\n",
    ")"
   ]
  },
  {
   "cell_type": "code",
   "execution_count": 53,
   "id": "ce700520",
   "metadata": {},
   "outputs": [
    {
     "name": "stderr",
     "output_type": "stream",
     "text": [
      "100%|██████████| 18084/18084 [00:29<00:00, 604.30it/s]\n",
      "100%|██████████| 18084/18084 [00:36<00:00, 499.34it/s]"
     ]
    },
    {
     "name": "stdout",
     "output_type": "stream",
     "text": [
      "CPU times: total: 1min 6s\n",
      "Wall time: 1min 6s\n"
     ]
    },
    {
     "name": "stderr",
     "output_type": "stream",
     "text": [
      "\n"
     ]
    }
   ],
   "source": [
    "%%time\n",
    "# Добавляем новый столбец в датафрейм features_test с вычисленным коэффициентом Жаккара между названиями товаров\n",
    "features_test['name_jaccard_similarity'] = features_test.progress_apply(\n",
    "    lambda x: calculate_jaccard_similarity(x['name1'], x['name2']), axis=1\n",
    ")\n",
    "\n",
    "# Добавляем новый столбец в датафрейм features_test с вычисленным коэффициентом Жаккара между атрибутами товаров\n",
    "features_test['attributes_jaccard_similarity'] = features_test.progress_apply(\n",
    "    lambda x: calculate_jaccard_similarity(x['characteristic_attributes_mapping1'], x['characteristic_attributes_mapping2']), axis=1\n",
    ")"
   ]
  },
  {
   "cell_type": "code",
   "execution_count": 54,
   "id": "d6a93847",
   "metadata": {},
   "outputs": [
    {
     "name": "stderr",
     "output_type": "stream",
     "text": [
      "100%|██████████| 18084/18084 [00:09<00:00, 1962.37it/s]\n",
      "100%|██████████| 18084/18084 [00:11<00:00, 1519.89it/s]\n",
      "100%|██████████| 18084/18084 [00:04<00:00, 3990.33it/s]\n",
      "100%|██████████| 18084/18084 [00:04<00:00, 3912.60it/s]\n",
      "100%|██████████| 18084/18084 [00:06<00:00, 2823.28it/s]\n",
      "100%|██████████| 18084/18084 [00:06<00:00, 2917.60it/s]"
     ]
    },
    {
     "name": "stdout",
     "output_type": "stream",
     "text": [
      "CPU times: total: 43.3 s\n",
      "Wall time: 43 s\n"
     ]
    },
    {
     "name": "stderr",
     "output_type": "stream",
     "text": [
      "\n"
     ]
    }
   ],
   "source": [
    "%%time\n",
    "features_test[[\"pic_dist_0_perc\", \"pic_dist_25_perc\", \"pic_dist_50_perc\"]] = (\n",
    "    features_test[[\"pic_embeddings_resnet_v11\", \"pic_embeddings_resnet_v12\"]].progress_apply(\n",
    "        lambda x: pd.Series(get_pic_features_func(*x)), axis=1))\n",
    "\n",
    "features_test[[\"main_pic_dist_0_perc\", \"main_pic_dist_25_perc\", \"main_pic_dist_50_perc\"]] = (\n",
    "    features_test[[\"main_pic_embeddings_resnet_v11\", \"main_pic_embeddings_resnet_v12\"]].progress_apply(\n",
    "        lambda x: pd.Series(get_pic_features_func(*x)), axis=1))\n",
    "\n",
    "features_test[[\"euclidean_main_pic_dist\", \"cosine_main_pic_dist\"]] = (\n",
    "    features_test[[\"main_pic_embeddings_resnet_v1_new1\", \"main_pic_embeddings_resnet_v1_new2\"]].progress_apply(\n",
    "        lambda x: pd.Series(text_dense_distances(*x)), axis=1))\n",
    "\n",
    "features_test[[\"euclidean_color_dist\", \"cosine_color_dist\"]] = (\n",
    "    features_test[[\"clr_vect1\", \"clr_vect2\"]].progress_apply(\n",
    "        lambda x: pd.Series(text_dense_distances(*x)), axis=1))\n",
    "\n",
    "features_test[[\"euclidean_name_bert_dist\", \"cosine_name_bert_dist\"]] = (\n",
    "    features_test[[\"name_bert_641\", \"name_bert_642\"]].progress_apply(\n",
    "        lambda x: pd.Series(text_dense_distances(*x)), axis=1))\n",
    "\n",
    "features_test[[\"euclidean_name_embedding_dist\", \"cosine_name_embedding_dist\"]] = (\n",
    "    features_test[[\"name_bert7681\", \"name_bert7682\"]].progress_apply(\n",
    "        lambda x: pd.Series(text_dense_distances(*x)), axis=1))\n"
   ]
  },
  {
   "cell_type": "code",
   "execution_count": 55,
   "id": "159e6490",
   "metadata": {},
   "outputs": [
    {
     "name": "stderr",
     "output_type": "stream",
     "text": [
      "100%|██████████| 18084/18084 [00:00<00:00, 32296.88it/s]\n",
      "100%|██████████| 18084/18084 [00:00<00:00, 30587.97it/s]\n",
      "100%|██████████| 18084/18084 [00:00<00:00, 23779.09it/s]\n"
     ]
    }
   ],
   "source": [
    "# Расчет features_test манхэттенского расстояния между признаками name_bert_641 и name_bert_642\n",
    "features_test['ozon_bert_manhattan_distance'] = features_test.progress_apply(\n",
    "    lambda x: manhattan_distance(x['name_bert_641'], x['name_bert_642']), axis=1\n",
    ")\n",
    "\n",
    "# Расчет features_test манхэттенского расстояния между признаками main_pic_embeddings_resnet_v1_new1 и main_pic_embeddings_resnet_v1_new2\n",
    "features_test['main_pic_manhattan_distance'] = features_test.progress_apply(\n",
    "    lambda x: manhattan_distance(x['main_pic_embeddings_resnet_v1_new1'], x['main_pic_embeddings_resnet_v1_new2']), axis=1\n",
    ")\n",
    "\n",
    "# Расчет features_test манхэттенского расстояния между признаками name_embedding1 и name_embedding2\n",
    "features_test['name_emb_manhattan_distance'] = features_test.progress_apply(\n",
    "    lambda x: manhattan_distance(x['name_bert7681'], x['name_bert7682']), axis=1\n",
    ")"
   ]
  },
  {
   "cell_type": "code",
   "execution_count": 56,
   "id": "9902aaaf",
   "metadata": {},
   "outputs": [
    {
     "name": "stderr",
     "output_type": "stream",
     "text": [
      "100%|██████████| 18084/18084 [00:04<00:00, 4173.18it/s]\n",
      "100%|██████████| 18084/18084 [00:04<00:00, 4105.39it/s]\n",
      "100%|██████████| 18084/18084 [00:05<00:00, 3182.74it/s]"
     ]
    },
    {
     "name": "stdout",
     "output_type": "stream",
     "text": [
      "CPU times: total: 14.5 s\n",
      "Wall time: 14.5 s\n"
     ]
    },
    {
     "name": "stderr",
     "output_type": "stream",
     "text": [
      "\n"
     ]
    }
   ],
   "source": [
    "%%time\n",
    "# расчитываем среднее, медиану и стд для ozon_bert_manhattan_distance\n",
    "features_test[[\"mean_ozon_bert_manhattan_distance\", \n",
    "          \"median_ozon_bert_manhattan_distance\", \n",
    "          \"std_ozon_bert_manhattan_distance\"]] = (features_test['ozon_bert_manhattan_distance'].progress_apply(\n",
    "        lambda x: pd.Series(calculate_statistics(x))))\n",
    "\n",
    "# расчитываем среднее, медиану и стд для main_pic_manhattan_distance\n",
    "features_test[[\"mean_main_pic_manhattan_distance\", \n",
    "          \"median_main_pic_manhattan_distance\", \n",
    "          \"std_main_pic_manhattan_distance\"]] = (features_test['main_pic_manhattan_distance'].progress_apply(\n",
    "        lambda x: pd.Series(calculate_statistics(x))))\n",
    "\n",
    "# расчитываем среднее, медиану и стд для name_emb_manhattan_distance\n",
    "features_test[[\"mean_name_emb_manhattan_distance\", \n",
    "          \"median_name_emb_manhattan_distance\", \n",
    "          \"std_name_emb_manhattan_distance\"]] = (features_test['name_emb_manhattan_distance'].progress_apply(\n",
    "        lambda x: pd.Series(calculate_statistics(x))))"
   ]
  },
  {
   "cell_type": "code",
   "execution_count": 57,
   "id": "30c1201f",
   "metadata": {},
   "outputs": [
    {
     "name": "stderr",
     "output_type": "stream",
     "text": [
      "100%|██████████| 18084/18084 [02:40<00:00, 112.77it/s]"
     ]
    },
    {
     "name": "stdout",
     "output_type": "stream",
     "text": [
      "CPU times: total: 2min 40s\n",
      "Wall time: 2min 40s\n"
     ]
    },
    {
     "name": "stderr",
     "output_type": "stream",
     "text": [
      "\n"
     ]
    }
   ],
   "source": [
    "%%time\n",
    "# расчитаем расстояния Левенштейна для name1 и name2\n",
    "features_test[[\"name_levenshtein_distance\"]] = (\n",
    "    features_test[[\"name1\", \"name2\"]].progress_apply(\n",
    "        lambda x: pd.Series(levenshtein_distance(*x)), axis=1))"
   ]
  },
  {
   "cell_type": "code",
   "execution_count": 58,
   "id": "4a3056e4",
   "metadata": {},
   "outputs": [],
   "source": [
    "# заполним пропуски в characteristic_attributes_mapping1 и characteristic_attributes_mapping2\n",
    "features_test = drop_f(features_test)\n",
    "features_test[['characteristic_attributes_mapping1', \n",
    "               'characteristic_attributes_mapping2']] = features_test[['characteristic_attributes_mapping1', \n",
    "                                                                       'characteristic_attributes_mapping2']].fillna('{}')"
   ]
  },
  {
   "cell_type": "code",
   "execution_count": 59,
   "id": "b21f7add",
   "metadata": {},
   "outputs": [
    {
     "name": "stdout",
     "output_type": "stream",
     "text": [
      "<class 'pandas.core.frame.DataFrame'>\n",
      "Int64Index: 275675 entries, 204167 to 61494\n",
      "Data columns (total 56 columns):\n",
      " #   Column                               Non-Null Count   Dtype  \n",
      "---  ------                               --------------   -----  \n",
      " 0   variantid1                           275675 non-null  int64  \n",
      " 1   variantid2                           275675 non-null  int64  \n",
      " 2   name1                                275675 non-null  object \n",
      " 3   characteristic_attributes_mapping1   275675 non-null  object \n",
      " 4   cat3                                 275675 non-null  float64\n",
      " 5   cat41                                275675 non-null  float64\n",
      " 6   cat3_grouped                         275675 non-null  object \n",
      " 7   name2                                275675 non-null  object \n",
      " 8   characteristic_attributes_mapping2   275675 non-null  object \n",
      " 9   cat32                                275675 non-null  float64\n",
      " 10  cat42                                275675 non-null  float64\n",
      " 11  name_mean_diff                       275675 non-null  float32\n",
      " 12  name_median_diff                     275675 non-null  float32\n",
      " 13  name_std_diff                        275675 non-null  float32\n",
      " 14  ozon_name_mean_diff                  275675 non-null  float32\n",
      " 15  ozon_name_median_diff                275675 non-null  float32\n",
      " 16  ozon_name_std_diff                   275675 non-null  float32\n",
      " 17  main_pic_mean_diff                   275675 non-null  float32\n",
      " 18  main_pic_median_diff                 275675 non-null  float32\n",
      " 19  main_pic_std_diff                    275675 non-null  float32\n",
      " 20  name_jaccard_similarity              275675 non-null  float64\n",
      " 21  attributes_jaccard_similarity        275675 non-null  float64\n",
      " 22  attr_dist                            275675 non-null  float64\n",
      " 23  attr_acc                             275675 non-null  float64\n",
      " 24  common_keys                          275675 non-null  float64\n",
      " 25  same_value_keys                      275675 non-null  float64\n",
      " 26  mean_value1                          275675 non-null  float64\n",
      " 27  mean_value2                          275675 non-null  float64\n",
      " 28  ozon_bert_manhattan_distance         275675 non-null  object \n",
      " 29  main_pic_manhattan_distance          275675 non-null  object \n",
      " 30  name_emb_manhattan_distance          275675 non-null  object \n",
      " 31  mean_ozon_bert_manhattan_distance    275675 non-null  float32\n",
      " 32  median_ozon_bert_manhattan_distance  275675 non-null  float32\n",
      " 33  std_ozon_bert_manhattan_distance     275675 non-null  float32\n",
      " 34  mean_main_pic_manhattan_distance     275675 non-null  float32\n",
      " 35  median_main_pic_manhattan_distance   275675 non-null  float32\n",
      " 36  std_main_pic_manhattan_distance      275675 non-null  float32\n",
      " 37  mean_name_emb_manhattan_distance     275675 non-null  float32\n",
      " 38  median_name_emb_manhattan_distance   275675 non-null  float32\n",
      " 39  std_name_emb_manhattan_distance      275675 non-null  float32\n",
      " 40  name_levenshtein_distance            275675 non-null  int64  \n",
      " 41  pic_dist_0_perc                      275675 non-null  float64\n",
      " 42  pic_dist_25_perc                     275675 non-null  float64\n",
      " 43  pic_dist_50_perc                     275675 non-null  float64\n",
      " 44  main_pic_dist_0_perc                 275675 non-null  float64\n",
      " 45  main_pic_dist_25_perc                275675 non-null  float64\n",
      " 46  main_pic_dist_50_perc                275675 non-null  float64\n",
      " 47  euclidean_main_pic_dist              275675 non-null  float64\n",
      " 48  cosine_main_pic_dist                 275675 non-null  float64\n",
      " 49  euclidean_color_dist                 275675 non-null  float64\n",
      " 50  cosine_color_dist                    275675 non-null  float64\n",
      " 51  euclidean_name_bert_dist             275675 non-null  float64\n",
      " 52  cosine_name_bert_dist                275675 non-null  float64\n",
      " 53  euclidean_name_embedding_dist        275675 non-null  float64\n",
      " 54  cosine_name_embedding_dist           275675 non-null  float64\n",
      " 55  scores                               275675 non-null  float64\n",
      "dtypes: float32(18), float64(27), int64(3), object(8)\n",
      "memory usage: 101.0+ MB\n"
     ]
    },
    {
     "data": {
      "text/plain": [
       "None"
      ]
     },
     "metadata": {},
     "output_type": "display_data"
    },
    {
     "name": "stdout",
     "output_type": "stream",
     "text": [
      "<class 'pandas.core.frame.DataFrame'>\n",
      "Int64Index: 18084 entries, 0 to 18083\n",
      "Data columns (total 58 columns):\n",
      " #   Column                               Non-Null Count  Dtype  \n",
      "---  ------                               --------------  -----  \n",
      " 0   variantid1                           18084 non-null  int64  \n",
      " 1   variantid2                           18084 non-null  int64  \n",
      " 2   cat3_grouped                         18084 non-null  object \n",
      " 3   name1                                18084 non-null  object \n",
      " 4   characteristic_attributes_mapping1   18084 non-null  object \n",
      " 5   cat21                                18084 non-null  object \n",
      " 6   cat3                                 18084 non-null  float64\n",
      " 7   cat41                                18084 non-null  float64\n",
      " 8   cat3_grouped                         18084 non-null  object \n",
      " 9   name2                                18084 non-null  object \n",
      " 10  characteristic_attributes_mapping2   18084 non-null  object \n",
      " 11  cat22                                18084 non-null  object \n",
      " 12  cat32                                18084 non-null  float64\n",
      " 13  cat42                                18084 non-null  float64\n",
      " 14  attr_dist                            18084 non-null  float64\n",
      " 15  attr_acc                             18084 non-null  float64\n",
      " 16  common_keys                          18084 non-null  float64\n",
      " 17  same_value_keys                      18084 non-null  float64\n",
      " 18  mean_value1                          18084 non-null  float64\n",
      " 19  mean_value2                          18084 non-null  float64\n",
      " 20  name_mean_diff                       18084 non-null  float32\n",
      " 21  name_median_diff                     18084 non-null  float32\n",
      " 22  name_std_diff                        18084 non-null  float32\n",
      " 23  ozon_name_mean_diff                  18084 non-null  float32\n",
      " 24  ozon_name_median_diff                18084 non-null  float32\n",
      " 25  ozon_name_std_diff                   18084 non-null  float32\n",
      " 26  main_pic_mean_diff                   18084 non-null  float32\n",
      " 27  main_pic_median_diff                 18084 non-null  float32\n",
      " 28  main_pic_std_diff                    18084 non-null  float32\n",
      " 29  name_jaccard_similarity              18084 non-null  float64\n",
      " 30  attributes_jaccard_similarity        18084 non-null  float64\n",
      " 31  pic_dist_0_perc                      18084 non-null  float64\n",
      " 32  pic_dist_25_perc                     18084 non-null  float64\n",
      " 33  pic_dist_50_perc                     18084 non-null  float64\n",
      " 34  main_pic_dist_0_perc                 18084 non-null  float64\n",
      " 35  main_pic_dist_25_perc                18084 non-null  float64\n",
      " 36  main_pic_dist_50_perc                18084 non-null  float64\n",
      " 37  euclidean_main_pic_dist              18084 non-null  float64\n",
      " 38  cosine_main_pic_dist                 18084 non-null  float64\n",
      " 39  euclidean_color_dist                 18084 non-null  float64\n",
      " 40  cosine_color_dist                    18084 non-null  float64\n",
      " 41  euclidean_name_bert_dist             18084 non-null  float64\n",
      " 42  cosine_name_bert_dist                18084 non-null  float64\n",
      " 43  euclidean_name_embedding_dist        18084 non-null  float64\n",
      " 44  cosine_name_embedding_dist           18084 non-null  float64\n",
      " 45  ozon_bert_manhattan_distance         18084 non-null  object \n",
      " 46  main_pic_manhattan_distance          18084 non-null  object \n",
      " 47  name_emb_manhattan_distance          18084 non-null  object \n",
      " 48  mean_ozon_bert_manhattan_distance    18084 non-null  float32\n",
      " 49  median_ozon_bert_manhattan_distance  18084 non-null  float32\n",
      " 50  std_ozon_bert_manhattan_distance     18084 non-null  float32\n",
      " 51  mean_main_pic_manhattan_distance     18084 non-null  float32\n",
      " 52  median_main_pic_manhattan_distance   18084 non-null  float32\n",
      " 53  std_main_pic_manhattan_distance      18084 non-null  float32\n",
      " 54  mean_name_emb_manhattan_distance     18084 non-null  float32\n",
      " 55  median_name_emb_manhattan_distance   18084 non-null  float32\n",
      " 56  std_name_emb_manhattan_distance      18084 non-null  float32\n",
      " 57  name_levenshtein_distance            18084 non-null  int64  \n",
      "dtypes: float32(18), float64(26), int64(3), object(11)\n",
      "memory usage: 6.9+ MB\n"
     ]
    },
    {
     "data": {
      "text/plain": [
       "None"
      ]
     },
     "metadata": {},
     "output_type": "display_data"
    }
   ],
   "source": [
    "display(X_train.info())\n",
    "display(features_test.info())"
   ]
  },
  {
   "cell_type": "code",
   "execution_count": 60,
   "id": "47ba7eba",
   "metadata": {},
   "outputs": [
    {
     "data": {
      "text/html": [
       "<div>\n",
       "<style scoped>\n",
       "    .dataframe tbody tr th:only-of-type {\n",
       "        vertical-align: middle;\n",
       "    }\n",
       "\n",
       "    .dataframe tbody tr th {\n",
       "        vertical-align: top;\n",
       "    }\n",
       "\n",
       "    .dataframe thead th {\n",
       "        text-align: right;\n",
       "    }\n",
       "</style>\n",
       "<table border=\"1\" class=\"dataframe\">\n",
       "  <thead>\n",
       "    <tr style=\"text-align: right;\">\n",
       "      <th></th>\n",
       "      <th>variantid1</th>\n",
       "      <th>variantid2</th>\n",
       "      <th>target</th>\n",
       "    </tr>\n",
       "  </thead>\n",
       "  <tbody>\n",
       "    <tr>\n",
       "      <th>0</th>\n",
       "      <td>52076340</td>\n",
       "      <td>290590137</td>\n",
       "      <td>0.253759</td>\n",
       "    </tr>\n",
       "    <tr>\n",
       "      <th>1</th>\n",
       "      <td>64525522</td>\n",
       "      <td>204128919</td>\n",
       "      <td>0.412551</td>\n",
       "    </tr>\n",
       "    <tr>\n",
       "      <th>2</th>\n",
       "      <td>77243372</td>\n",
       "      <td>479860557</td>\n",
       "      <td>0.590537</td>\n",
       "    </tr>\n",
       "  </tbody>\n",
       "</table>\n",
       "</div>"
      ],
      "text/plain": [
       "   variantid1  variantid2    target\n",
       "0    52076340   290590137  0.253759\n",
       "1    64525522   204128919  0.412551\n",
       "2    77243372   479860557  0.590537"
      ]
     },
     "execution_count": 60,
     "metadata": {},
     "output_type": "execute_result"
    }
   ],
   "source": [
    "submission_example = features_test.copy()\n",
    "\n",
    "submission_example[\"target\"] = model.predict_proba(features_test[feats])[:, 1]\n",
    "submission_example = submission_example[[\"variantid1\", \"variantid2\", \"target\"]]\n",
    "submission_example.head(3)"
   ]
  },
  {
   "cell_type": "code",
   "execution_count": 61,
   "id": "a68322a0",
   "metadata": {},
   "outputs": [
    {
     "data": {
      "text/html": [
       "<div>\n",
       "<style scoped>\n",
       "    .dataframe tbody tr th:only-of-type {\n",
       "        vertical-align: middle;\n",
       "    }\n",
       "\n",
       "    .dataframe tbody tr th {\n",
       "        vertical-align: top;\n",
       "    }\n",
       "\n",
       "    .dataframe thead th {\n",
       "        text-align: right;\n",
       "    }\n",
       "</style>\n",
       "<table border=\"1\" class=\"dataframe\">\n",
       "  <thead>\n",
       "    <tr style=\"text-align: right;\">\n",
       "      <th></th>\n",
       "      <th>variantid1</th>\n",
       "      <th>variantid2</th>\n",
       "      <th>target</th>\n",
       "    </tr>\n",
       "  </thead>\n",
       "  <tbody>\n",
       "    <tr>\n",
       "      <th>0</th>\n",
       "      <td>52076340</td>\n",
       "      <td>290590137</td>\n",
       "      <td>0.253759</td>\n",
       "    </tr>\n",
       "    <tr>\n",
       "      <th>1</th>\n",
       "      <td>64525522</td>\n",
       "      <td>204128919</td>\n",
       "      <td>0.412551</td>\n",
       "    </tr>\n",
       "    <tr>\n",
       "      <th>2</th>\n",
       "      <td>77243372</td>\n",
       "      <td>479860557</td>\n",
       "      <td>0.590537</td>\n",
       "    </tr>\n",
       "  </tbody>\n",
       "</table>\n",
       "</div>"
      ],
      "text/plain": [
       "   variantid1  variantid2    target\n",
       "0    52076340   290590137  0.253759\n",
       "1    64525522   204128919  0.412551\n",
       "2    77243372   479860557  0.590537"
      ]
     },
     "execution_count": 61,
     "metadata": {},
     "output_type": "execute_result"
    }
   ],
   "source": [
    "s = submission_example.drop_duplicates().merge(\n",
    "      features_test[[\"variantid1\", \"variantid2\"]].drop_duplicates([\"variantid1\", \"variantid2\"]),\n",
    "      on=[\"variantid1\", \"variantid2\"]\n",
    ")\n",
    "\n",
    "s.head(3)"
   ]
  },
  {
   "cell_type": "code",
   "execution_count": 62,
   "id": "5d68b6e1",
   "metadata": {},
   "outputs": [
    {
     "data": {
      "text/plain": [
       "0"
      ]
     },
     "execution_count": 62,
     "metadata": {},
     "output_type": "execute_result"
    }
   ],
   "source": [
    "features_test.duplicated([\"variantid1\", \"variantid2\"]).sum()"
   ]
  },
  {
   "cell_type": "code",
   "execution_count": 63,
   "id": "6c4c93ca",
   "metadata": {},
   "outputs": [
    {
     "data": {
      "text/plain": [
       "0.004406284395753667"
      ]
     },
     "execution_count": 63,
     "metadata": {},
     "output_type": "execute_result"
    }
   ],
   "source": [
    "s.target.min()"
   ]
  },
  {
   "cell_type": "code",
   "execution_count": 64,
   "id": "bda8f231",
   "metadata": {},
   "outputs": [
    {
     "data": {
      "text/plain": [
       "0.9936165022287068"
      ]
     },
     "execution_count": 64,
     "metadata": {},
     "output_type": "execute_result"
    }
   ],
   "source": [
    "s.target.max()"
   ]
  },
  {
   "cell_type": "code",
   "execution_count": 65,
   "id": "99ad45ee",
   "metadata": {},
   "outputs": [],
   "source": [
    "# s = s.drop_duplicates([\"variantid1\", \"variantid2\"])"
   ]
  },
  {
   "cell_type": "code",
   "execution_count": 66,
   "id": "9f21130c",
   "metadata": {},
   "outputs": [],
   "source": [
    "s.to_csv(\"submission_Cat_LEVI_NEW_FEATURES.csv\", index=False)"
   ]
  },
  {
   "cell_type": "code",
   "execution_count": 67,
   "id": "6643f7fd",
   "metadata": {},
   "outputs": [
    {
     "name": "stdout",
     "output_type": "stream",
     "text": [
      "<class 'pandas.core.frame.DataFrame'>\n",
      "Int64Index: 18084 entries, 0 to 18083\n",
      "Data columns (total 3 columns):\n",
      " #   Column      Non-Null Count  Dtype  \n",
      "---  ------      --------------  -----  \n",
      " 0   variantid1  18084 non-null  int64  \n",
      " 1   variantid2  18084 non-null  int64  \n",
      " 2   target      18084 non-null  float64\n",
      "dtypes: float64(1), int64(2)\n",
      "memory usage: 565.1 KB\n"
     ]
    }
   ],
   "source": [
    "s.info()"
   ]
  },
  {
   "cell_type": "code",
   "execution_count": null,
   "id": "c1edc4db",
   "metadata": {},
   "outputs": [],
   "source": []
  }
 ],
 "metadata": {
  "kernelspec": {
   "display_name": "Python 3 (ipykernel)",
   "language": "python",
   "name": "python3"
  },
  "language_info": {
   "codemirror_mode": {
    "name": "ipython",
    "version": 3
   },
   "file_extension": ".py",
   "mimetype": "text/x-python",
   "name": "python",
   "nbconvert_exporter": "python",
   "pygments_lexer": "ipython3",
   "version": "3.10.9"
  },
  "toc": {
   "base_numbering": 1,
   "nav_menu": {},
   "number_sections": true,
   "sideBar": true,
   "skip_h1_title": false,
   "title_cell": "",
   "title_sidebar": "Contents",
   "toc_cell": false,
   "toc_position": {
    "height": "674.503px",
    "left": "10px",
    "top": "150px",
    "width": "282.145px"
   },
   "toc_section_display": true,
   "toc_window_display": true
  }
 },
 "nbformat": 4,
 "nbformat_minor": 5
}
