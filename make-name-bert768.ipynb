{
 "cells": [
  {
   "cell_type": "code",
   "execution_count": 13,
   "metadata": {
    "_cell_guid": "b1076dfc-b9ad-4769-8c92-a6c4dae69d19",
    "_uuid": "8f2839f25d086af736a60e9eeb907d3b93b6e0e5",
    "execution": {
     "iopub.execute_input": "2023-05-29T17:01:15.562953Z",
     "iopub.status.busy": "2023-05-29T17:01:15.562516Z",
     "iopub.status.idle": "2023-05-29T17:01:15.569087Z",
     "shell.execute_reply": "2023-05-29T17:01:15.568014Z",
     "shell.execute_reply.started": "2023-05-29T17:01:15.562895Z"
    }
   },
   "outputs": [],
   "source": [
    "import warnings\n",
    "import pandas as pd\n",
    "import numpy as np\n",
    "import torch\n",
    "import transformers\n",
    "\n",
    "from tqdm.notebook import tqdm\n",
    "\n",
    "tqdm.pandas()"
   ]
  },
  {
   "cell_type": "code",
   "execution_count": 14,
   "metadata": {
    "execution": {
     "iopub.execute_input": "2023-05-29T17:01:22.419197Z",
     "iopub.status.busy": "2023-05-29T17:01:22.418770Z",
     "iopub.status.idle": "2023-05-29T17:01:46.222132Z",
     "shell.execute_reply": "2023-05-29T17:01:46.220965Z",
     "shell.execute_reply.started": "2023-05-29T17:01:22.419165Z"
    }
   },
   "outputs": [],
   "source": [
    "etl = pd.read_parquet(\"/kaggle/input/hackathon-files-for-participants-ozon/train_data.parquet\")\n",
    "test_etl = pd.read_parquet(\"/kaggle/input/hackathon-files-for-participants-ozon/test_data.parquet\")"
   ]
  },
  {
   "cell_type": "code",
   "execution_count": 15,
   "metadata": {
    "execution": {
     "iopub.execute_input": "2023-05-29T17:01:53.613509Z",
     "iopub.status.busy": "2023-05-29T17:01:53.612337Z",
     "iopub.status.idle": "2023-05-29T17:01:53.718801Z",
     "shell.execute_reply": "2023-05-29T17:01:53.717567Z",
     "shell.execute_reply.started": "2023-05-29T17:01:53.613469Z"
    }
   },
   "outputs": [],
   "source": [
    "etl = pd.concat([etl, test_etl])"
   ]
  },
  {
   "cell_type": "code",
   "execution_count": 16,
   "metadata": {
    "execution": {
     "iopub.execute_input": "2023-05-29T17:01:54.160089Z",
     "iopub.status.busy": "2023-05-29T17:01:54.159603Z",
     "iopub.status.idle": "2023-05-29T17:01:54.295665Z",
     "shell.execute_reply": "2023-05-29T17:01:54.294292Z",
     "shell.execute_reply.started": "2023-05-29T17:01:54.160053Z"
    }
   },
   "outputs": [],
   "source": [
    "tokenizer = transformers.BertTokenizer.from_pretrained('bert-base-uncased')"
   ]
  },
  {
   "cell_type": "code",
   "execution_count": 17,
   "metadata": {
    "execution": {
     "iopub.execute_input": "2023-05-29T17:01:54.607286Z",
     "iopub.status.busy": "2023-05-29T17:01:54.606850Z",
     "iopub.status.idle": "2023-05-29T17:01:55.060048Z",
     "shell.execute_reply": "2023-05-29T17:01:55.057891Z",
     "shell.execute_reply.started": "2023-05-29T17:01:54.607251Z"
    }
   },
   "outputs": [
    {
     "data": {
      "application/vnd.jupyter.widget-view+json": {
       "model_id": "9bc46a1f40ce46a28db9dec5ee0f9df6",
       "version_major": 2,
       "version_minor": 0
      },
      "text/plain": [
       "  0%|          | 0/50 [00:00<?, ?it/s]"
      ]
     },
     "metadata": {},
     "output_type": "display_data"
    }
   ],
   "source": [
    "MAX_LENGTH = 512\n",
    "tokenized = etl['name'].progress_apply(\n",
    "    lambda x: tokenizer(x,\n",
    "                        add_special_tokens=True,\n",
    "                        truncation=True,\n",
    "                        max_length=MAX_LENGTH                        \n",
    "                       ).input_ids)"
   ]
  },
  {
   "cell_type": "code",
   "execution_count": 18,
   "metadata": {
    "execution": {
     "iopub.execute_input": "2023-05-29T17:01:55.833024Z",
     "iopub.status.busy": "2023-05-29T17:01:55.831755Z",
     "iopub.status.idle": "2023-05-29T17:01:55.865405Z",
     "shell.execute_reply": "2023-05-29T17:01:55.864034Z",
     "shell.execute_reply.started": "2023-05-29T17:01:55.832981Z"
    }
   },
   "outputs": [
    {
     "data": {
      "application/vnd.jupyter.widget-view+json": {
       "model_id": "c9ff1f5469a14c1a955d9359a89e2337",
       "version_major": 2,
       "version_minor": 0
      },
      "text/plain": [
       "  0%|          | 0/50 [00:00<?, ?it/s]"
      ]
     },
     "metadata": {},
     "output_type": "display_data"
    }
   ],
   "source": [
    "max_len = pd.DataFrame(tokenized)['name'].apply(len).max()\n",
    "padded = np.array([i + [0]*(max_len - len(i)) for i in tqdm(tokenized.values)])"
   ]
  },
  {
   "cell_type": "code",
   "execution_count": 19,
   "metadata": {
    "execution": {
     "iopub.execute_input": "2023-05-29T17:01:56.319316Z",
     "iopub.status.busy": "2023-05-29T17:01:56.318275Z",
     "iopub.status.idle": "2023-05-29T17:01:56.329014Z",
     "shell.execute_reply": "2023-05-29T17:01:56.327645Z",
     "shell.execute_reply.started": "2023-05-29T17:01:56.319279Z"
    }
   },
   "outputs": [],
   "source": [
    "padded = pd.DataFrame(padded, index = etl.variantid).reset_index()\n",
    "padded = padded.rename(columns=dict(zip(padded.columns, padded.columns.astype(str))))"
   ]
  },
  {
   "cell_type": "code",
   "execution_count": 20,
   "metadata": {
    "execution": {
     "iopub.execute_input": "2023-05-29T17:01:57.262051Z",
     "iopub.status.busy": "2023-05-29T17:01:57.261596Z",
     "iopub.status.idle": "2023-05-29T17:01:57.273422Z",
     "shell.execute_reply": "2023-05-29T17:01:57.271863Z",
     "shell.execute_reply.started": "2023-05-29T17:01:57.262017Z"
    }
   },
   "outputs": [],
   "source": [
    "index = padded.variantid\n",
    "padded = np.array(padded.drop('variantid', axis=1))"
   ]
  },
  {
   "cell_type": "code",
   "execution_count": 21,
   "metadata": {
    "execution": {
     "iopub.execute_input": "2023-05-29T17:01:57.806140Z",
     "iopub.status.busy": "2023-05-29T17:01:57.805716Z",
     "iopub.status.idle": "2023-05-29T17:01:57.812321Z",
     "shell.execute_reply": "2023-05-29T17:01:57.810996Z",
     "shell.execute_reply.started": "2023-05-29T17:01:57.806110Z"
    }
   },
   "outputs": [],
   "source": [
    "attention_mask = np.where(padded != 0, 1, 0)"
   ]
  },
  {
   "cell_type": "code",
   "execution_count": 22,
   "metadata": {
    "execution": {
     "iopub.execute_input": "2023-05-29T17:01:58.710086Z",
     "iopub.status.busy": "2023-05-29T17:01:58.709606Z",
     "iopub.status.idle": "2023-05-29T17:01:58.718885Z",
     "shell.execute_reply": "2023-05-29T17:01:58.717353Z",
     "shell.execute_reply.started": "2023-05-29T17:01:58.710052Z"
    }
   },
   "outputs": [
    {
     "data": {
      "text/plain": [
       "device(type='cpu')"
      ]
     },
     "execution_count": 22,
     "metadata": {},
     "output_type": "execute_result"
    }
   ],
   "source": [
    "cpu_device = torch.device('cpu')\n",
    "device = torch.device('cuda' if torch.cuda.is_available() else 'cpu')\n",
    "device"
   ]
  },
  {
   "cell_type": "code",
   "execution_count": 23,
   "metadata": {
    "execution": {
     "iopub.execute_input": "2023-05-29T17:01:59.397113Z",
     "iopub.status.busy": "2023-05-29T17:01:59.396692Z",
     "iopub.status.idle": "2023-05-29T17:02:00.887758Z",
     "shell.execute_reply": "2023-05-29T17:02:00.886355Z",
     "shell.execute_reply.started": "2023-05-29T17:01:59.397080Z"
    }
   },
   "outputs": [
    {
     "name": "stderr",
     "output_type": "stream",
     "text": [
      "Some weights of the model checkpoint at bert-base-uncased were not used when initializing BertModel: ['cls.predictions.transform.dense.weight', 'cls.seq_relationship.weight', 'cls.predictions.transform.dense.bias', 'cls.predictions.bias', 'cls.seq_relationship.bias', 'cls.predictions.transform.LayerNorm.bias', 'cls.predictions.transform.LayerNorm.weight']\n",
      "- This IS expected if you are initializing BertModel from the checkpoint of a model trained on another task or with another architecture (e.g. initializing a BertForSequenceClassification model from a BertForPreTraining model).\n",
      "- This IS NOT expected if you are initializing BertModel from the checkpoint of a model that you expect to be exactly identical (initializing a BertForSequenceClassification model from a BertForSequenceClassification model).\n"
     ]
    }
   ],
   "source": [
    "bert_model = transformers.BertModel.\\\n",
    "        from_pretrained('bert-base-uncased').to(device)"
   ]
  },
  {
   "cell_type": "code",
   "execution_count": 24,
   "metadata": {
    "execution": {
     "iopub.execute_input": "2023-05-29T17:02:04.117411Z",
     "iopub.status.busy": "2023-05-29T17:02:04.116967Z",
     "iopub.status.idle": "2023-05-29T17:03:31.434380Z",
     "shell.execute_reply": "2023-05-29T17:03:31.433012Z",
     "shell.execute_reply.started": "2023-05-29T17:02:04.117378Z"
    }
   },
   "outputs": [
    {
     "data": {
      "application/vnd.jupyter.widget-view+json": {
       "model_id": "32448785596b46e2a7134f5c94b7f4d6",
       "version_major": 2,
       "version_minor": 0
      },
      "text/plain": [
       "  0%|          | 0/11 [00:00<?, ?it/s]"
      ]
     },
     "metadata": {},
     "output_type": "display_data"
    }
   ],
   "source": [
    "batch_size = 256\n",
    "embeddings = []\n",
    "for i in tqdm(range(padded.shape[0] // batch_size + 1)): \n",
    "#     создаем батчи и грузим сразу в нужное устройство (GPU или CPU)\n",
    "    batch = torch.LongTensor(\n",
    "            padded[batch_size * i:batch_size * (i + 1)]\n",
    "        ).to(device)\n",
    "#     то же самое с attention_mask\n",
    "    attention_mask_batch = torch.LongTensor(\n",
    "            attention_mask[batch_size * i:batch_size * (i + 1)]\n",
    "        ).to(device)\n",
    "#         далее магия происходит\n",
    "    with torch.no_grad():\n",
    "        batch_embeddings = bert_model(batch,\n",
    "                                      attention_mask=attention_mask_batch)\n",
    "#     вырезаем аккуратненько определенный срез и склеиваем\n",
    "    embeddings.append(batch_embeddings[0][:,0,:].to(cpu_device).numpy())"
   ]
  },
  {
   "cell_type": "code",
   "execution_count": 25,
   "metadata": {
    "execution": {
     "iopub.execute_input": "2023-05-29T17:03:31.437727Z",
     "iopub.status.busy": "2023-05-29T17:03:31.437278Z",
     "iopub.status.idle": "2023-05-29T17:03:31.444424Z",
     "shell.execute_reply": "2023-05-29T17:03:31.443174Z",
     "shell.execute_reply.started": "2023-05-29T17:03:31.437687Z"
    }
   },
   "outputs": [],
   "source": [
    "f = np.concatenate(embeddings)"
   ]
  },
  {
   "cell_type": "code",
   "execution_count": 27,
   "metadata": {
    "execution": {
     "iopub.execute_input": "2023-05-29T17:03:35.206968Z",
     "iopub.status.busy": "2023-05-29T17:03:35.206542Z",
     "iopub.status.idle": "2023-05-29T17:03:35.215606Z",
     "shell.execute_reply": "2023-05-29T17:03:35.214002Z",
     "shell.execute_reply.started": "2023-05-29T17:03:35.206920Z"
    }
   },
   "outputs": [],
   "source": [
    "to_save = pd.DataFrame(f, index = index).reset_index()"
   ]
  },
  {
   "cell_type": "code",
   "execution_count": 28,
   "metadata": {
    "execution": {
     "iopub.execute_input": "2023-05-29T17:03:35.479674Z",
     "iopub.status.busy": "2023-05-29T17:03:35.479238Z",
     "iopub.status.idle": "2023-05-29T17:03:35.489022Z",
     "shell.execute_reply": "2023-05-29T17:03:35.488032Z",
     "shell.execute_reply.started": "2023-05-29T17:03:35.479639Z"
    }
   },
   "outputs": [],
   "source": [
    "emb = pd.concat([to_save.variantid, \n",
    "                 pd.Series(list(\n",
    "                     to_save.drop('variantid', axis=1).to_numpy()\n",
    "                 ), name='name_bert768')], axis=1)"
   ]
  },
  {
   "cell_type": "code",
   "execution_count": 29,
   "metadata": {
    "execution": {
     "iopub.execute_input": "2023-05-29T17:03:35.755123Z",
     "iopub.status.busy": "2023-05-29T17:03:35.753860Z",
     "iopub.status.idle": "2023-05-29T17:03:35.785482Z",
     "shell.execute_reply": "2023-05-29T17:03:35.784133Z",
     "shell.execute_reply.started": "2023-05-29T17:03:35.755068Z"
    }
   },
   "outputs": [],
   "source": [
    "emb.reset_index(drop=True).to_parquet('name_bert768.parquet')"
   ]
  }
 ],
 "metadata": {
  "kernelspec": {
   "display_name": "Python 3 (ipykernel)",
   "language": "python",
   "name": "python3"
  },
  "language_info": {
   "codemirror_mode": {
    "name": "ipython",
    "version": 3
   },
   "file_extension": ".py",
   "mimetype": "text/x-python",
   "name": "python",
   "nbconvert_exporter": "python",
   "pygments_lexer": "ipython3",
   "version": "3.9.16"
  }
 },
 "nbformat": 4,
 "nbformat_minor": 4
}
