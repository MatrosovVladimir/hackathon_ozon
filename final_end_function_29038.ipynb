{
 "cells": [
  {
   "cell_type": "markdown",
   "id": "e46fd523",
   "metadata": {},
   "source": [
    "## Submission. Расчет на финальной тестовой"
   ]
  },
  {
   "cell_type": "markdown",
   "id": "b3d52cc3",
   "metadata": {},
   "source": [
    "### Libraries"
   ]
  },
  {
   "cell_type": "code",
   "execution_count": null,
   "id": "a4d3bfa7",
   "metadata": {},
   "outputs": [],
   "source": [
    "#!pip install catboost -q\n",
    "#!pip install shap -q\n",
    "#!pip install pyarrow -q\n",
    "#!pip install fastparquet -q"
   ]
  },
  {
   "cell_type": "code",
   "execution_count": 1,
   "id": "0e0cab1c",
   "metadata": {},
   "outputs": [],
   "source": [
    "import json\n",
    "import ast\n",
    "from functools import partial\n",
    "from typing import List\n",
    "\n",
    "import matplotlib.pyplot as plt\n",
    "import numpy as np\n",
    "import pandas as pd\n",
    "import seaborn as sns\n",
    "from catboost import CatBoostClassifier, Pool\n",
    "from catboost.utils import eval_metric\n",
    "from scipy.spatial.distance import cosine, euclidean\n",
    "from sklearn.metrics import pairwise_distances, roc_curve, precision_recall_curve\n",
    "from sklearn.metrics import  auc, accuracy_score as acc, roc_auc_score, f1_score, precision_score\n",
    "from sklearn.model_selection import train_test_split,RandomizedSearchCV,GridSearchCV\n",
    "from sklearn.feature_extraction.text import CountVectorizer\n",
    "from sklearn.preprocessing import OrdinalEncoder\n",
    "\n",
    "from nltk.metrics.distance import edit_distance\n",
    "\n",
    "import joblib\n",
    "\n",
    "from tqdm import tqdm\n",
    "import warnings\n",
    "\n",
    "# настройки\n",
    "tqdm.pandas()\n",
    "warnings.filterwarnings(\"ignore\")\n",
    "pd.set_option('display.max_columns', None)\n",
    "\n",
    "# константы\n",
    "RANDOM_STATE = 42"
   ]
  },
  {
   "cell_type": "markdown",
   "id": "5e33a0a1",
   "metadata": {},
   "source": [
    "### Model loading"
   ]
  },
  {
   "cell_type": "code",
   "execution_count": 2,
   "id": "0cf54eb5",
   "metadata": {
    "scrolled": true
   },
   "outputs": [],
   "source": [
    "model = CatBoostClassifier()"
   ]
  },
  {
   "cell_type": "code",
   "execution_count": 3,
   "id": "311ebc7b",
   "metadata": {},
   "outputs": [
    {
     "data": {
      "text/plain": [
       "<catboost.core.CatBoostClassifier at 0x20f9b62d0c0>"
      ]
     },
     "execution_count": 3,
     "metadata": {},
     "output_type": "execute_result"
    }
   ],
   "source": [
    "model.load_model('final_Ozon.cbm')"
   ]
  },
  {
   "cell_type": "markdown",
   "id": "103ebf33",
   "metadata": {},
   "source": [
    "### Functions"
   ]
  },
  {
   "cell_type": "code",
   "execution_count": 4,
   "id": "502c9ff1",
   "metadata": {},
   "outputs": [],
   "source": [
    "def new_col(train_data):\n",
    "\n",
    "\n",
    "    # переводим текст категорий в словарь\n",
    "    train_data['attributes_set'] = train_data.characteristic_attributes_mapping.fillna('{}').apply(ast.literal_eval)\n",
    "    \n",
    "    train_data['cat2'] = train_data['categories'].apply(lambda x: json.loads(x).get('2'))\n",
    "    train_data['cat3'] = train_data['categories'].apply(lambda x: json.loads(x).get('3'))  \n",
    "    train_data['cat4'] = train_data['categories'].apply(lambda x: json.loads(x).get('4'))  \n",
    "    \n",
    "    # Переведем двумрные эмбеддинги в одномерные\n",
    "    train_data['main_pic_embeddings_resnet_v1_new'] = train_data['main_pic_embeddings_resnet_v1'].apply(lambda x: x[0])\n",
    "    \n",
    "    return train_data"
   ]
  },
  {
   "cell_type": "code",
   "execution_count": 5,
   "id": "8bd587d3",
   "metadata": {},
   "outputs": [],
   "source": [
    "def cat3_grouped(train_data, FOR_REST):\n",
    "    cat3_counts = train_data[\"cat3\"].value_counts().to_dict()\n",
    "\n",
    "    cntr = 0\n",
    "    for cat3 in cat3_counts:\n",
    "        if cat3_counts[cat3] < FOR_REST:\n",
    "            cntr += cat3_counts[cat3]   \n",
    "    print(cntr)\n",
    "\n",
    "    train_data[\"cat3_grouped\"] = train_data[\"cat3\"].apply(lambda x: x if cat3_counts[x] > FOR_REST else \"rest\")\n",
    "\n",
    "    return train_data"
   ]
  },
  {
   "cell_type": "code",
   "execution_count": 6,
   "id": "59ff0c4c",
   "metadata": {},
   "outputs": [],
   "source": [
    "# выделим самые популярные цвета и поместим все в матрицу цветов\n",
    "def color(df):\n",
    "       \n",
    "    df['black'] = df['color_parsed'].astype(str).apply(lambda x: 1 if ('черный' in x) or ('black') in x else 0)\n",
    "    df['silver'] = df['color_parsed'].astype(str).apply(lambda x: 1 if ('silver'in x) or ('серебристый' in x) or ('серебряный' in x) else 0)\n",
    "    df['rose'] = df['color_parsed'].astype(str).apply(lambda x: 1 if ('pink' in x) or ('розовый'  in x) else 0)\n",
    "    df['red'] = df['color_parsed'].astype(str).apply(lambda x: 1 if ('red' in x) or ('красный' in x) else 0)\n",
    "    df['white'] = df['color_parsed'].astype(str).apply(lambda x: 1 if ('white' in x) or ('белый' in x) else 0)\n",
    "    df['blue'] = df['color_parsed'].astype(str).apply(lambda x: 1 if ('blue' in x) or ('синий' in x) or ('голубой' in x)  else 0)\n",
    "    df['multicol'] = df['color_parsed'].astype(str).apply(lambda x: 1 if ('разноцветный' in x) or ('цветной' in x) or ('многоцветный' in x) else 0)\n",
    "    df['green'] = df['color_parsed'].astype(str).apply(lambda x: 1 if ('green' in x) or ('зеленый' in x) else 0)\n",
    "    df['yellow'] = df['color_parsed'].astype(str).apply(lambda x: 1 if ('yellow' in x) or ('желтый' in x) else 0)\n",
    "    df['gold'] = df['color_parsed'].astype(str).apply(lambda x: 1 if ('gold' in x) or ('золотой' in x) else 0)\n",
    "    df['purple'] = df['color_parsed'].astype(str).apply(lambda x: 1 if ('purple' in x) or ('пурпурный' in x)  or ('сиреневый' in x) or ('фиолетовый' in x) else 0)\n",
    "    df['orange'] = df['color_parsed'].astype(str).apply(lambda x: 1 if 'оранжевый' in x else 0)\n",
    "    df['brown'] = df['color_parsed'].astype(str).apply(lambda x: 1 if ('коричневый' in x) or ('brown' in x) or ('темно-коричневый' in x) else 0)\n",
    "    df['grey'] = df['color_parsed'].astype(str).apply(lambda x: 1 if ('серый' in x) or ('grey' in x) or ('темно-серый' in x) else 0)\n",
    "    \n",
    "    name_color = ['black', 'silver', 'rose', 'red', 'white', 'blue', 'multicol', \n",
    "                  'green', 'yellow', 'gold', 'purple', 'orange', 'brown', 'grey'] \n",
    "    \n",
    "    df['clr_vect'] = df[name_color].values.tolist()\n",
    "    df = df.drop(name_color, axis=1)\n",
    "    df = df.drop(['color_parsed'], axis=1)\n",
    "     \n",
    "    return df"
   ]
  },
  {
   "cell_type": "code",
   "execution_count": 7,
   "id": "f9851186",
   "metadata": {},
   "outputs": [],
   "source": [
    "# объединим данные по парам товаров\n",
    "def merge_f(pairs, data): \n",
    "    features = pairs.merge(data.add_suffix('1'), on='variantid1').merge(data.add_suffix('2'), on='variantid2')\n",
    "    features.rename(columns={'cat31': 'cat3', 'cat3_grouped1': 'cat3_grouped'}, inplace=True)\n",
    "    return features"
   ]
  },
  {
   "cell_type": "code",
   "execution_count": 8,
   "id": "691c5c96",
   "metadata": {},
   "outputs": [],
   "source": [
    "# добавим признаки взаимосвязи характеристик\n",
    "def is_number(value):\n",
    "    try:\n",
    "        float(value)\n",
    "        return True\n",
    "    except ValueError:\n",
    "        return False\n",
    "\n",
    "def compare_attr(set1, set2):\n",
    "    keys1 = set(set1.keys())\n",
    "    keys2 = set(set2.keys())\n",
    "    \n",
    "    # Отношение общих ключей к сумме ключей\n",
    "    ratio = len(keys2 & keys1) / (len(keys2) + len(keys1))\n",
    "    \n",
    "    # Количество одинаковых значений в общих ключах\n",
    "    d = 0\n",
    "    for i in keys2 & keys1:\n",
    "        if set1[i][0] == set2[i][0]:\n",
    "            d += 1\n",
    "    \n",
    "    # Количество общих ключей\n",
    "    common_keys = len(keys1 & keys2)\n",
    "    \n",
    "    # Количество ключей с одинаковыми значениями\n",
    "    same_value_keys = sum(1 for key in keys1 & keys2 if set1[key] == set2[key])\n",
    "    \n",
    "    # Среднее значение числовых характеристик для первого товара\n",
    "    mean_value1 = np.mean([float(value[0]) for key, value in set1.items() if is_number(value[0])])\n",
    "    \n",
    "    # Среднее значение числовых характеристик для второго товара\n",
    "    mean_value2 = np.mean([float(value[0]) for key, value in set2.items() if is_number(value[0])])\n",
    "    \n",
    "    return ratio, d, common_keys, same_value_keys, mean_value1, mean_value2"
   ]
  },
  {
   "cell_type": "code",
   "execution_count": 9,
   "id": "f1a9c9c2",
   "metadata": {},
   "outputs": [],
   "source": [
    "#Похожесть атрибутов\n",
    "def calculate_statistical_features(embedding1, embedding2):\n",
    "    \n",
    "    # Вычисляем разность между двумя эмбеддингами\n",
    "    diff = embedding1 - embedding2\n",
    "    \n",
    "    # Вычисляем среднее значение разности\n",
    "    mean = np.mean(diff)\n",
    "    \n",
    "    # Вычисляем медиану разности\n",
    "    median = np.median(diff)\n",
    "    \n",
    "    # Вычисляем стандартное отклонение разности\n",
    "    std = np.std(diff)\n",
    "    \n",
    "    # Возвращаем вычисленные значения\n",
    "    return mean, median, std"
   ]
  },
  {
   "cell_type": "code",
   "execution_count": 10,
   "id": "ebedde6a",
   "metadata": {},
   "outputs": [],
   "source": [
    "# добавим коэффициент Жаккара\n",
    "def calculate_jaccard_similarity(text1, text2):\n",
    "    # Заменяем значения None на пустые строки\n",
    "    text1 = '' if text1 is None else text1\n",
    "    text2 = '' if text2 is None else text2\n",
    "    \n",
    "    # Заменяем значения типа float на пустые строки\n",
    "    text1 = '' if isinstance(text1, float) else text1\n",
    "    text2 = '' if isinstance(text2, float) else text2\n",
    "    \n",
    "    # Инициализируем векторизатор с бинарными значениями\n",
    "    vectorizer = CountVectorizer(binary=True)\n",
    "\n",
    "    try:\n",
    "        # Преобразуем тексты в векторы\n",
    "        X = vectorizer.fit_transform([text1, text2])\n",
    "    except ValueError:\n",
    "        # Если после предобработки текстов не осталось слов для анализа,\n",
    "        # возвращаем значение 0\n",
    "        return 0\n",
    "    \n",
    "    # Преобразуем тексты в векторы\n",
    "    X = vectorizer.fit_transform([text1, text2])\n",
    "    \n",
    "    # Вычисляем пересечение между векторами\n",
    "    intersection = X[0].multiply(X[1]).sum()\n",
    "    \n",
    "    # Вычисляем объединение между векторами\n",
    "    union = X.sum() - intersection\n",
    "    \n",
    "    # Возвращаем коэффициент Жаккара\n",
    "    return intersection / union"
   ]
  },
  {
   "cell_type": "code",
   "execution_count": 11,
   "id": "97532c66",
   "metadata": {},
   "outputs": [],
   "source": [
    "def get_pic_features(main_pic_embeddings_1,\n",
    "                     main_pic_embeddings_2,\n",
    "                     percentiles: List[int]):\n",
    "    \"\"\"\n",
    "    Calculate distances percentiles for \n",
    "    pairwise pic distances. Percentiles are useful \n",
    "    when product has several pictures.\n",
    "    \"\"\"\n",
    "    \n",
    "    if main_pic_embeddings_1 is not None and main_pic_embeddings_2 is not None:\n",
    "        main_pic_embeddings_1 = np.array([x for x in main_pic_embeddings_1])\n",
    "        main_pic_embeddings_2 = np.array([x for x in main_pic_embeddings_2])\n",
    "        \n",
    "        dist_m = pairwise_distances(\n",
    "            main_pic_embeddings_1, main_pic_embeddings_2\n",
    "        )\n",
    "    else:\n",
    "        dist_m = np.array([[-1]])\n",
    "\n",
    "    pair_features = []\n",
    "    pair_features += np.percentile(dist_m, percentiles).tolist()\n",
    "\n",
    "    return pair_features\n",
    "\n",
    "\n",
    "def text_dense_distances(ozon_embedding, comp_embedding):\n",
    "    \"\"\"\n",
    "    Calculate Euclidean and Cosine distances between\n",
    "    ozon_embedding and comp_embedding.\n",
    "    \"\"\"\n",
    "    pair_features = []\n",
    "    if ozon_embedding is None or comp_embedding is None:\n",
    "        pair_features = [-1, -1]\n",
    "    \n",
    "    elif len(ozon_embedding) == 0 or len(comp_embedding) == 0:\n",
    "        pair_features = [-1, -1]\n",
    "    \n",
    "    else:\n",
    "        pair_features.append(\n",
    "            euclidean(ozon_embedding, comp_embedding)\n",
    "        )\n",
    "        cosine_value = cosine(ozon_embedding, comp_embedding)\n",
    "        \n",
    "        pair_features.append(cosine_value)\n",
    "\n",
    "    return pair_features"
   ]
  },
  {
   "cell_type": "code",
   "execution_count": 12,
   "id": "2fed472e",
   "metadata": {},
   "outputs": [],
   "source": [
    "def manhattan_distance(emb1, emb2):\n",
    "    \"\"\"\n",
    "    Функция для расчета манхэттенского расстояния между двумя одномерными эмбеддингами в строке датафрейма\n",
    "    :return: манхэттенское расстояние между эмбеддингами в строке\n",
    "    \"\"\"\n",
    "    return np.abs(emb1 - emb2)"
   ]
  },
  {
   "cell_type": "code",
   "execution_count": 13,
   "id": "5039d37f",
   "metadata": {},
   "outputs": [],
   "source": [
    "def calculate_statistics(arr):\n",
    "    \"\"\"\n",
    "    Функция для расчета статистических мер для массива\n",
    "    :param arr: массив значений\n",
    "    :return: кортеж из среднего значения, медианы и стандартного отклонения\n",
    "    \"\"\"\n",
    "    mean = np.mean(arr)\n",
    "    median = np.median(arr)\n",
    "    std = np.std(arr)\n",
    "    \n",
    "    return mean, median, std"
   ]
  },
  {
   "cell_type": "code",
   "execution_count": 14,
   "id": "7ef2e252",
   "metadata": {},
   "outputs": [],
   "source": [
    "def levenshtein_distance(text1, text2):\n",
    "    \"\"\"\n",
    "    Функция для расчета расстояния Левенштейна между двумя текстами\n",
    "    :param text1: первый текст\n",
    "    :param text2: второй текст\n",
    "    :return: расстояние Левенштейна между text1 и text2\n",
    "    \"\"\"\n",
    "    return edit_distance(text1, text2)"
   ]
  },
  {
   "cell_type": "code",
   "execution_count": 15,
   "id": "6e59cf28",
   "metadata": {},
   "outputs": [],
   "source": [
    "# drop\n",
    "def drop_f(features):\n",
    "    features = features.drop([\n",
    "        'name_bert_641', \n",
    "        'name_bert_642', \n",
    "        'main_pic_embeddings_resnet_v11', \n",
    "        'main_pic_embeddings_resnet_v12',\n",
    "        'main_pic_embeddings_resnet_v1_new1', \n",
    "        'main_pic_embeddings_resnet_v1_new2',\n",
    "        'name_bert7681', \n",
    "        'name_bert7682',\n",
    "        'categories1',\n",
    "        'categories2',\n",
    "        'pic_embeddings_resnet_v11',\n",
    "        'pic_embeddings_resnet_v12',       \n",
    "        'cat3_grouped2',\n",
    "        'attributes_set1', \n",
    "        'attributes_set2', \n",
    "        'clr_vect1', \n",
    "        'clr_vect2'], axis=1)  \n",
    "    \n",
    "    return features"
   ]
  },
  {
   "cell_type": "markdown",
   "id": "91b0044a",
   "metadata": {},
   "source": [
    "### Data loading"
   ]
  },
  {
   "cell_type": "code",
   "execution_count": 16,
   "id": "861e639f",
   "metadata": {},
   "outputs": [],
   "source": [
    "test_data = pd.read_parquet('test_data.parquet', engine='auto')\n",
    "test_pairs_wo_target = pd.read_parquet('test_pairs_wo_target.parquet', engine='auto')"
   ]
  },
  {
   "cell_type": "code",
   "execution_count": 17,
   "id": "c756d6ea",
   "metadata": {},
   "outputs": [
    {
     "name": "stdout",
     "output_type": "stream",
     "text": [
      "CPU times: total: 531 ms\n",
      "Wall time: 511 ms\n"
     ]
    }
   ],
   "source": [
    "%%time\n",
    "# грузим дополнительные ембеддинги названий\n",
    "name_bert = pd.read_parquet('name_bert768_a_test.parquet')"
   ]
  },
  {
   "cell_type": "code",
   "execution_count": 18,
   "id": "8542150c",
   "metadata": {},
   "outputs": [
    {
     "name": "stdout",
     "output_type": "stream",
     "text": [
      "<class 'pandas.core.frame.DataFrame'>\n",
      "Int64Index: 35730 entries, 0 to 35729\n",
      "Data columns (total 9 columns):\n",
      " #   Column                             Non-Null Count  Dtype \n",
      "---  ------                             --------------  ----- \n",
      " 0   variantid                          35730 non-null  int64 \n",
      " 1   name                               35730 non-null  object\n",
      " 2   categories                         35730 non-null  object\n",
      " 3   color_parsed                       26089 non-null  object\n",
      " 4   pic_embeddings_resnet_v1           19977 non-null  object\n",
      " 5   main_pic_embeddings_resnet_v1      35730 non-null  object\n",
      " 6   name_bert_64                       35730 non-null  object\n",
      " 7   characteristic_attributes_mapping  35726 non-null  object\n",
      " 8   name_bert768                       35730 non-null  object\n",
      "dtypes: int64(1), object(8)\n",
      "memory usage: 2.7+ MB\n"
     ]
    },
    {
     "data": {
      "text/plain": [
       "None"
      ]
     },
     "metadata": {},
     "output_type": "display_data"
    }
   ],
   "source": [
    "# объединим датасеты с новыми эмбеддингами\n",
    "test_data = test_data.merge(name_bert, on='variantid')\n",
    "\n",
    "display(test_data.info())"
   ]
  },
  {
   "cell_type": "code",
   "execution_count": 19,
   "id": "5bcabf70",
   "metadata": {},
   "outputs": [
    {
     "name": "stdout",
     "output_type": "stream",
     "text": [
      "<class 'pandas.core.frame.DataFrame'>\n",
      "Int64Index: 35730 entries, 0 to 35729\n",
      "Data columns (total 9 columns):\n",
      " #   Column                             Non-Null Count  Dtype \n",
      "---  ------                             --------------  ----- \n",
      " 0   variantid                          35730 non-null  int64 \n",
      " 1   name                               35730 non-null  object\n",
      " 2   categories                         35730 non-null  object\n",
      " 3   color_parsed                       26089 non-null  object\n",
      " 4   pic_embeddings_resnet_v1           19977 non-null  object\n",
      " 5   main_pic_embeddings_resnet_v1      35730 non-null  object\n",
      " 6   name_bert_64                       35730 non-null  object\n",
      " 7   characteristic_attributes_mapping  35726 non-null  object\n",
      " 8   name_bert768                       35730 non-null  object\n",
      "dtypes: int64(1), object(8)\n",
      "memory usage: 2.7+ MB\n"
     ]
    },
    {
     "data": {
      "text/plain": [
       "None"
      ]
     },
     "metadata": {},
     "output_type": "display_data"
    }
   ],
   "source": [
    "# удалим дубликаты по колонке variantid\n",
    "test_data = test_data.drop_duplicates('variantid')\n",
    "\n",
    "display(test_data.info())"
   ]
  },
  {
   "cell_type": "markdown",
   "id": "ef6aeb32",
   "metadata": {},
   "source": [
    "### Encoder"
   ]
  },
  {
   "cell_type": "code",
   "execution_count": 20,
   "id": "2eb42e70",
   "metadata": {},
   "outputs": [],
   "source": [
    "encoder = joblib.load('encoder_ozon.pkl')\n",
    "# закодируем колонки cat3 и cat4\n",
    "cat_col = ['cat3', 'cat4'] #список колонок для кодирования"
   ]
  },
  {
   "cell_type": "markdown",
   "id": "db880bd2",
   "metadata": {},
   "source": [
    "### *Предобработка тестовой выборки*"
   ]
  },
  {
   "cell_type": "code",
   "execution_count": 21,
   "id": "1eb031ac",
   "metadata": {
    "scrolled": true
   },
   "outputs": [
    {
     "name": "stdout",
     "output_type": "stream",
     "text": [
      "449\n"
     ]
    },
    {
     "name": "stderr",
     "output_type": "stream",
     "text": [
      "100%|██████████| 18084/18084 [00:05<00:00, 3486.04it/s]"
     ]
    },
    {
     "name": "stdout",
     "output_type": "stream",
     "text": [
      "CPU times: total: 18.5 s\n",
      "Wall time: 18.5 s\n"
     ]
    },
    {
     "name": "stderr",
     "output_type": "stream",
     "text": [
      "\n"
     ]
    }
   ],
   "source": [
    "%%time\n",
    "\n",
    "REST_test = 50\n",
    "\n",
    "test_data = new_col(test_data)\n",
    "test_data = cat3_grouped(test_data, REST_test)\n",
    "test_data[cat_col] = encoder.transform(test_data[cat_col]) \n",
    "test_data = color(test_data)\n",
    "\n",
    "# Объединение таблиц\n",
    "features_test = merge_f(test_pairs_wo_target, test_data)\n",
    "\n",
    "\n",
    "features_test[['attr_dist', \n",
    "               'attr_acc', \n",
    "               'common_keys', \n",
    "               'same_value_keys', \n",
    "               'mean_value1', \n",
    "               'mean_value2']] = features_test[['attributes_set1', 'attributes_set2']].progress_apply(\n",
    "    lambda x: pd.Series(compare_attr(*x)), axis=1\n",
    ")\n",
    "\n",
    "features_test['mean_value1'] = features_test['mean_value1'].fillna(0)\n",
    "features_test['mean_value2'] = features_test['mean_value2'].fillna(0)"
   ]
  },
  {
   "cell_type": "code",
   "execution_count": 22,
   "id": "282e9d3c",
   "metadata": {},
   "outputs": [],
   "source": [
    "features_test['main_pic_embeddings_resnet_v1_new1'] = features_test['main_pic_embeddings_resnet_v11'].apply(lambda x: x[0])\n",
    "features_test['main_pic_embeddings_resnet_v1_new2'] = features_test['main_pic_embeddings_resnet_v12'].apply(lambda x: x[0])"
   ]
  },
  {
   "cell_type": "code",
   "execution_count": 23,
   "id": "b71f2ae1",
   "metadata": {},
   "outputs": [
    {
     "name": "stderr",
     "output_type": "stream",
     "text": [
      "100%|██████████| 18084/18084 [00:03<00:00, 5101.90it/s]\n",
      "100%|██████████| 18084/18084 [00:02<00:00, 7023.92it/s]\n",
      "100%|██████████| 18084/18084 [00:02<00:00, 7077.84it/s]"
     ]
    },
    {
     "name": "stdout",
     "output_type": "stream",
     "text": [
      "CPU times: total: 8.77 s\n",
      "Wall time: 8.72 s\n"
     ]
    },
    {
     "name": "stderr",
     "output_type": "stream",
     "text": [
      "\n"
     ]
    }
   ],
   "source": [
    "%%time\n",
    "# Добавляем новые столбцы в датафрейм features_test с вычисленными статистическими характеристиками разности \n",
    "# между эмбеддингами названий товаров\n",
    "features_test[['name_mean_diff', 'name_median_diff', 'name_std_diff']] = features_test.progress_apply(\n",
    "    lambda x: calculate_statistical_features(\n",
    "        x['name_bert7681'], x['name_bert7682']), axis=1, result_type='expand'\n",
    ")\n",
    "\n",
    "# Добавляем новые столбцы в датафрейм features_test с вычисленными статистическими характеристиками разности \n",
    "# между эмбеддингами названий товаров от ozon\n",
    "features_test[['ozon_name_mean_diff', 'ozon_name_median_diff', 'ozon_name_std_diff']] = features_test.progress_apply(\n",
    "    lambda x: calculate_statistical_features(\n",
    "        x['name_bert_641'], x['name_bert_642']), axis=1, result_type='expand'\n",
    ")\n",
    "\n",
    "# Добавляем новые столбцы в датафрейм features_test с вычисленными статистическими характеристиками разности \n",
    "# между эмбеддингами картинок товаров\n",
    "features_test[['main_pic_mean_diff', 'main_pic_median_diff', 'main_pic_std_diff']] = features_test.progress_apply(\n",
    "    lambda x: calculate_statistical_features(\n",
    "        x['main_pic_embeddings_resnet_v1_new1'], x['main_pic_embeddings_resnet_v1_new2']), axis=1, result_type='expand'\n",
    ")"
   ]
  },
  {
   "cell_type": "code",
   "execution_count": 24,
   "id": "ce700520",
   "metadata": {},
   "outputs": [
    {
     "name": "stderr",
     "output_type": "stream",
     "text": [
      "100%|██████████| 18084/18084 [00:29<00:00, 610.97it/s]\n",
      "100%|██████████| 18084/18084 [00:35<00:00, 515.36it/s]"
     ]
    },
    {
     "name": "stdout",
     "output_type": "stream",
     "text": [
      "CPU times: total: 1min 5s\n",
      "Wall time: 1min 4s\n"
     ]
    },
    {
     "name": "stderr",
     "output_type": "stream",
     "text": [
      "\n"
     ]
    }
   ],
   "source": [
    "%%time\n",
    "# Добавляем новый столбец в датафрейм features_test с вычисленным коэффициентом Жаккара между названиями товаров\n",
    "features_test['name_jaccard_similarity'] = features_test.progress_apply(\n",
    "    lambda x: calculate_jaccard_similarity(x['name1'], x['name2']), axis=1\n",
    ")\n",
    "\n",
    "# Добавляем новый столбец в датафрейм features_test с вычисленным коэффициентом Жаккара между атрибутами товаров\n",
    "features_test['attributes_jaccard_similarity'] = features_test.progress_apply(\n",
    "    lambda x: calculate_jaccard_similarity(x['characteristic_attributes_mapping1'], x['characteristic_attributes_mapping2']), axis=1\n",
    ")"
   ]
  },
  {
   "cell_type": "code",
   "execution_count": 25,
   "id": "d6a93847",
   "metadata": {},
   "outputs": [
    {
     "name": "stderr",
     "output_type": "stream",
     "text": [
      "100%|██████████| 18084/18084 [00:09<00:00, 1914.85it/s]\n",
      "100%|██████████| 18084/18084 [00:11<00:00, 1526.60it/s]\n",
      "100%|██████████| 18084/18084 [00:04<00:00, 3656.20it/s]\n",
      "100%|██████████| 18084/18084 [00:04<00:00, 3820.62it/s]\n",
      "100%|██████████| 18084/18084 [00:05<00:00, 3595.79it/s]\n",
      "100%|██████████| 18084/18084 [00:06<00:00, 2923.02it/s]"
     ]
    },
    {
     "name": "stdout",
     "output_type": "stream",
     "text": [
      "CPU times: total: 42.6 s\n",
      "Wall time: 42.3 s\n"
     ]
    },
    {
     "name": "stderr",
     "output_type": "stream",
     "text": [
      "\n"
     ]
    }
   ],
   "source": [
    "%%time\n",
    "get_pic_features_func = partial(get_pic_features, percentiles=[0, 25, 50])\n",
    "\n",
    "features_test[[\"pic_dist_0_perc\", \"pic_dist_25_perc\", \"pic_dist_50_perc\"]] = (\n",
    "    features_test[[\"pic_embeddings_resnet_v11\", \"pic_embeddings_resnet_v12\"]].progress_apply(\n",
    "        lambda x: pd.Series(get_pic_features_func(*x)), axis=1))\n",
    "\n",
    "features_test[[\"main_pic_dist_0_perc\", \"main_pic_dist_25_perc\", \"main_pic_dist_50_perc\"]] = (\n",
    "    features_test[[\"main_pic_embeddings_resnet_v11\", \"main_pic_embeddings_resnet_v12\"]].progress_apply(\n",
    "        lambda x: pd.Series(get_pic_features_func(*x)), axis=1))\n",
    "\n",
    "features_test[[\"euclidean_main_pic_dist\", \"cosine_main_pic_dist\"]] = (\n",
    "    features_test[[\"main_pic_embeddings_resnet_v1_new1\", \"main_pic_embeddings_resnet_v1_new2\"]].progress_apply(\n",
    "        lambda x: pd.Series(text_dense_distances(*x)), axis=1))\n",
    "\n",
    "features_test[[\"euclidean_color_dist\", \"cosine_color_dist\"]] = (\n",
    "    features_test[[\"clr_vect1\", \"clr_vect2\"]].progress_apply(\n",
    "        lambda x: pd.Series(text_dense_distances(*x)), axis=1))\n",
    "\n",
    "features_test[[\"euclidean_name_bert_dist\", \"cosine_name_bert_dist\"]] = (\n",
    "    features_test[[\"name_bert_641\", \"name_bert_642\"]].progress_apply(\n",
    "        lambda x: pd.Series(text_dense_distances(*x)), axis=1))\n",
    "\n",
    "features_test[[\"euclidean_name_embedding_dist\", \"cosine_name_embedding_dist\"]] = (\n",
    "    features_test[[\"name_bert7681\", \"name_bert7682\"]].progress_apply(\n",
    "        lambda x: pd.Series(text_dense_distances(*x)), axis=1))\n"
   ]
  },
  {
   "cell_type": "code",
   "execution_count": 26,
   "id": "159e6490",
   "metadata": {},
   "outputs": [
    {
     "name": "stderr",
     "output_type": "stream",
     "text": [
      "100%|██████████| 18084/18084 [00:00<00:00, 31806.36it/s]\n",
      "100%|██████████| 18084/18084 [00:00<00:00, 31421.76it/s]\n",
      "100%|██████████| 18084/18084 [00:00<00:00, 22670.48it/s]\n"
     ]
    }
   ],
   "source": [
    "# Расчет features_test манхэттенского расстояния между признаками name_bert_641 и name_bert_642\n",
    "features_test['ozon_bert_manhattan_distance'] = features_test.progress_apply(\n",
    "    lambda x: manhattan_distance(x['name_bert_641'], x['name_bert_642']), axis=1\n",
    ")\n",
    "\n",
    "# Расчет features_test манхэттенского расстояния между признаками main_pic_embeddings_resnet_v1_new1 и main_pic_embeddings_resnet_v1_new2\n",
    "features_test['main_pic_manhattan_distance'] = features_test.progress_apply(\n",
    "    lambda x: manhattan_distance(x['main_pic_embeddings_resnet_v1_new1'], x['main_pic_embeddings_resnet_v1_new2']), axis=1\n",
    ")\n",
    "\n",
    "# Расчет features_test манхэттенского расстояния между признаками name_embedding1 и name_embedding2\n",
    "features_test['name_emb_manhattan_distance'] = features_test.progress_apply(\n",
    "    lambda x: manhattan_distance(x['name_bert7681'], x['name_bert7682']), axis=1\n",
    ")"
   ]
  },
  {
   "cell_type": "code",
   "execution_count": 27,
   "id": "9902aaaf",
   "metadata": {},
   "outputs": [
    {
     "name": "stderr",
     "output_type": "stream",
     "text": [
      "100%|██████████| 18084/18084 [00:04<00:00, 3939.96it/s]\n",
      "100%|██████████| 18084/18084 [00:04<00:00, 4065.99it/s]\n",
      "100%|██████████| 18084/18084 [00:05<00:00, 3189.98it/s]"
     ]
    },
    {
     "name": "stdout",
     "output_type": "stream",
     "text": [
      "CPU times: total: 14.7 s\n",
      "Wall time: 14.7 s\n"
     ]
    },
    {
     "name": "stderr",
     "output_type": "stream",
     "text": [
      "\n"
     ]
    }
   ],
   "source": [
    "%%time\n",
    "# расчитываем среднее, медиану и стд для ozon_bert_manhattan_distance\n",
    "features_test[[\"mean_ozon_bert_manhattan_distance\", \n",
    "          \"median_ozon_bert_manhattan_distance\", \n",
    "          \"std_ozon_bert_manhattan_distance\"]] = (features_test['ozon_bert_manhattan_distance'].progress_apply(\n",
    "        lambda x: pd.Series(calculate_statistics(x))))\n",
    "\n",
    "# расчитываем среднее, медиану и стд для main_pic_manhattan_distance\n",
    "features_test[[\"mean_main_pic_manhattan_distance\", \n",
    "          \"median_main_pic_manhattan_distance\", \n",
    "          \"std_main_pic_manhattan_distance\"]] = (features_test['main_pic_manhattan_distance'].progress_apply(\n",
    "        lambda x: pd.Series(calculate_statistics(x))))\n",
    "\n",
    "# расчитываем среднее, медиану и стд для name_emb_manhattan_distance\n",
    "features_test[[\"mean_name_emb_manhattan_distance\", \n",
    "          \"median_name_emb_manhattan_distance\", \n",
    "          \"std_name_emb_manhattan_distance\"]] = (features_test['name_emb_manhattan_distance'].progress_apply(\n",
    "        lambda x: pd.Series(calculate_statistics(x))))"
   ]
  },
  {
   "cell_type": "code",
   "execution_count": 28,
   "id": "30c1201f",
   "metadata": {},
   "outputs": [
    {
     "name": "stderr",
     "output_type": "stream",
     "text": [
      "100%|██████████| 18084/18084 [02:37<00:00, 115.02it/s]"
     ]
    },
    {
     "name": "stdout",
     "output_type": "stream",
     "text": [
      "CPU times: total: 2min 36s\n",
      "Wall time: 2min 37s\n"
     ]
    },
    {
     "name": "stderr",
     "output_type": "stream",
     "text": [
      "\n"
     ]
    }
   ],
   "source": [
    "%%time\n",
    "# расчитаем расстояния Левенштейна для name1 и name2\n",
    "features_test[[\"name_levenshtein_distance\"]] = (\n",
    "    features_test[[\"name1\", \"name2\"]].progress_apply(\n",
    "        lambda x: pd.Series(levenshtein_distance(*x)), axis=1))"
   ]
  },
  {
   "cell_type": "code",
   "execution_count": 29,
   "id": "4a3056e4",
   "metadata": {},
   "outputs": [],
   "source": [
    "# заполним пропуски в characteristic_attributes_mapping1 и characteristic_attributes_mapping2\n",
    "features_test = drop_f(features_test)\n",
    "features_test[['characteristic_attributes_mapping1', \n",
    "               'characteristic_attributes_mapping2']] = features_test[['characteristic_attributes_mapping1', \n",
    "                                                                       'characteristic_attributes_mapping2']].fillna('{}')"
   ]
  },
  {
   "cell_type": "code",
   "execution_count": 30,
   "id": "b21f7add",
   "metadata": {},
   "outputs": [
    {
     "name": "stdout",
     "output_type": "stream",
     "text": [
      "<class 'pandas.core.frame.DataFrame'>\n",
      "Int64Index: 18084 entries, 0 to 18083\n",
      "Data columns (total 58 columns):\n",
      " #   Column                               Non-Null Count  Dtype  \n",
      "---  ------                               --------------  -----  \n",
      " 0   variantid1                           18084 non-null  int64  \n",
      " 1   variantid2                           18084 non-null  int64  \n",
      " 2   cat3_grouped                         18084 non-null  object \n",
      " 3   name1                                18084 non-null  object \n",
      " 4   characteristic_attributes_mapping1   18084 non-null  object \n",
      " 5   cat21                                18084 non-null  object \n",
      " 6   cat3                                 18084 non-null  float64\n",
      " 7   cat41                                18084 non-null  float64\n",
      " 8   cat3_grouped                         18084 non-null  object \n",
      " 9   name2                                18084 non-null  object \n",
      " 10  characteristic_attributes_mapping2   18084 non-null  object \n",
      " 11  cat22                                18084 non-null  object \n",
      " 12  cat32                                18084 non-null  float64\n",
      " 13  cat42                                18084 non-null  float64\n",
      " 14  attr_dist                            18084 non-null  float64\n",
      " 15  attr_acc                             18084 non-null  float64\n",
      " 16  common_keys                          18084 non-null  float64\n",
      " 17  same_value_keys                      18084 non-null  float64\n",
      " 18  mean_value1                          18084 non-null  float64\n",
      " 19  mean_value2                          18084 non-null  float64\n",
      " 20  name_mean_diff                       18084 non-null  float32\n",
      " 21  name_median_diff                     18084 non-null  float32\n",
      " 22  name_std_diff                        18084 non-null  float32\n",
      " 23  ozon_name_mean_diff                  18084 non-null  float32\n",
      " 24  ozon_name_median_diff                18084 non-null  float32\n",
      " 25  ozon_name_std_diff                   18084 non-null  float32\n",
      " 26  main_pic_mean_diff                   18084 non-null  float32\n",
      " 27  main_pic_median_diff                 18084 non-null  float32\n",
      " 28  main_pic_std_diff                    18084 non-null  float32\n",
      " 29  name_jaccard_similarity              18084 non-null  float64\n",
      " 30  attributes_jaccard_similarity        18084 non-null  float64\n",
      " 31  pic_dist_0_perc                      18084 non-null  float64\n",
      " 32  pic_dist_25_perc                     18084 non-null  float64\n",
      " 33  pic_dist_50_perc                     18084 non-null  float64\n",
      " 34  main_pic_dist_0_perc                 18084 non-null  float64\n",
      " 35  main_pic_dist_25_perc                18084 non-null  float64\n",
      " 36  main_pic_dist_50_perc                18084 non-null  float64\n",
      " 37  euclidean_main_pic_dist              18084 non-null  float64\n",
      " 38  cosine_main_pic_dist                 18084 non-null  float64\n",
      " 39  euclidean_color_dist                 18084 non-null  float64\n",
      " 40  cosine_color_dist                    18084 non-null  float64\n",
      " 41  euclidean_name_bert_dist             18084 non-null  float64\n",
      " 42  cosine_name_bert_dist                18084 non-null  float64\n",
      " 43  euclidean_name_embedding_dist        18084 non-null  float64\n",
      " 44  cosine_name_embedding_dist           18084 non-null  float64\n",
      " 45  ozon_bert_manhattan_distance         18084 non-null  object \n",
      " 46  main_pic_manhattan_distance          18084 non-null  object \n",
      " 47  name_emb_manhattan_distance          18084 non-null  object \n",
      " 48  mean_ozon_bert_manhattan_distance    18084 non-null  float32\n",
      " 49  median_ozon_bert_manhattan_distance  18084 non-null  float32\n",
      " 50  std_ozon_bert_manhattan_distance     18084 non-null  float32\n",
      " 51  mean_main_pic_manhattan_distance     18084 non-null  float32\n",
      " 52  median_main_pic_manhattan_distance   18084 non-null  float32\n",
      " 53  std_main_pic_manhattan_distance      18084 non-null  float32\n",
      " 54  mean_name_emb_manhattan_distance     18084 non-null  float32\n",
      " 55  median_name_emb_manhattan_distance   18084 non-null  float32\n",
      " 56  std_name_emb_manhattan_distance      18084 non-null  float32\n",
      " 57  name_levenshtein_distance            18084 non-null  int64  \n",
      "dtypes: float32(18), float64(26), int64(3), object(11)\n",
      "memory usage: 6.9+ MB\n"
     ]
    },
    {
     "data": {
      "text/plain": [
       "None"
      ]
     },
     "metadata": {},
     "output_type": "display_data"
    }
   ],
   "source": [
    "display(features_test.info())"
   ]
  },
  {
   "cell_type": "code",
   "execution_count": 31,
   "id": "4e3606be",
   "metadata": {},
   "outputs": [],
   "source": [
    "feats = joblib.load('feats_ozon.joblib') #загружаем список колонок, необходимых для предсказаний"
   ]
  },
  {
   "cell_type": "code",
   "execution_count": 32,
   "id": "47ba7eba",
   "metadata": {},
   "outputs": [
    {
     "data": {
      "text/html": [
       "<div>\n",
       "<style scoped>\n",
       "    .dataframe tbody tr th:only-of-type {\n",
       "        vertical-align: middle;\n",
       "    }\n",
       "\n",
       "    .dataframe tbody tr th {\n",
       "        vertical-align: top;\n",
       "    }\n",
       "\n",
       "    .dataframe thead th {\n",
       "        text-align: right;\n",
       "    }\n",
       "</style>\n",
       "<table border=\"1\" class=\"dataframe\">\n",
       "  <thead>\n",
       "    <tr style=\"text-align: right;\">\n",
       "      <th></th>\n",
       "      <th>variantid1</th>\n",
       "      <th>variantid2</th>\n",
       "      <th>target</th>\n",
       "    </tr>\n",
       "  </thead>\n",
       "  <tbody>\n",
       "    <tr>\n",
       "      <th>0</th>\n",
       "      <td>52076340</td>\n",
       "      <td>290590137</td>\n",
       "      <td>0.148339</td>\n",
       "    </tr>\n",
       "    <tr>\n",
       "      <th>1</th>\n",
       "      <td>64525522</td>\n",
       "      <td>204128919</td>\n",
       "      <td>0.504336</td>\n",
       "    </tr>\n",
       "    <tr>\n",
       "      <th>2</th>\n",
       "      <td>77243372</td>\n",
       "      <td>479860557</td>\n",
       "      <td>0.568597</td>\n",
       "    </tr>\n",
       "  </tbody>\n",
       "</table>\n",
       "</div>"
      ],
      "text/plain": [
       "   variantid1  variantid2    target\n",
       "0    52076340   290590137  0.148339\n",
       "1    64525522   204128919  0.504336\n",
       "2    77243372   479860557  0.568597"
      ]
     },
     "execution_count": 32,
     "metadata": {},
     "output_type": "execute_result"
    }
   ],
   "source": [
    "submission_example = features_test.copy()\n",
    "\n",
    "submission_example[\"target\"] = model.predict_proba(features_test[feats])[:, 1]\n",
    "submission_example = submission_example[[\"variantid1\", \"variantid2\", \"target\"]]\n",
    "submission_example.head(3)"
   ]
  },
  {
   "cell_type": "code",
   "execution_count": 33,
   "id": "a68322a0",
   "metadata": {},
   "outputs": [
    {
     "data": {
      "text/html": [
       "<div>\n",
       "<style scoped>\n",
       "    .dataframe tbody tr th:only-of-type {\n",
       "        vertical-align: middle;\n",
       "    }\n",
       "\n",
       "    .dataframe tbody tr th {\n",
       "        vertical-align: top;\n",
       "    }\n",
       "\n",
       "    .dataframe thead th {\n",
       "        text-align: right;\n",
       "    }\n",
       "</style>\n",
       "<table border=\"1\" class=\"dataframe\">\n",
       "  <thead>\n",
       "    <tr style=\"text-align: right;\">\n",
       "      <th></th>\n",
       "      <th>variantid1</th>\n",
       "      <th>variantid2</th>\n",
       "      <th>target</th>\n",
       "    </tr>\n",
       "  </thead>\n",
       "  <tbody>\n",
       "    <tr>\n",
       "      <th>0</th>\n",
       "      <td>52076340</td>\n",
       "      <td>290590137</td>\n",
       "      <td>0.148339</td>\n",
       "    </tr>\n",
       "    <tr>\n",
       "      <th>1</th>\n",
       "      <td>64525522</td>\n",
       "      <td>204128919</td>\n",
       "      <td>0.504336</td>\n",
       "    </tr>\n",
       "    <tr>\n",
       "      <th>2</th>\n",
       "      <td>77243372</td>\n",
       "      <td>479860557</td>\n",
       "      <td>0.568597</td>\n",
       "    </tr>\n",
       "  </tbody>\n",
       "</table>\n",
       "</div>"
      ],
      "text/plain": [
       "   variantid1  variantid2    target\n",
       "0    52076340   290590137  0.148339\n",
       "1    64525522   204128919  0.504336\n",
       "2    77243372   479860557  0.568597"
      ]
     },
     "execution_count": 33,
     "metadata": {},
     "output_type": "execute_result"
    }
   ],
   "source": [
    "s = submission_example.drop_duplicates().merge(\n",
    "      features_test[[\"variantid1\", \"variantid2\"]].drop_duplicates([\"variantid1\", \"variantid2\"]),\n",
    "      on=[\"variantid1\", \"variantid2\"]\n",
    ")\n",
    "\n",
    "s.head(3)"
   ]
  },
  {
   "cell_type": "code",
   "execution_count": 34,
   "id": "5d68b6e1",
   "metadata": {},
   "outputs": [
    {
     "data": {
      "text/plain": [
       "0"
      ]
     },
     "execution_count": 34,
     "metadata": {},
     "output_type": "execute_result"
    }
   ],
   "source": [
    "features_test.duplicated([\"variantid1\", \"variantid2\"]).sum()"
   ]
  },
  {
   "cell_type": "code",
   "execution_count": 35,
   "id": "6c4c93ca",
   "metadata": {},
   "outputs": [
    {
     "data": {
      "text/plain": [
       "0.004518014998942482"
      ]
     },
     "execution_count": 35,
     "metadata": {},
     "output_type": "execute_result"
    }
   ],
   "source": [
    "s.target.min()"
   ]
  },
  {
   "cell_type": "code",
   "execution_count": 36,
   "id": "bda8f231",
   "metadata": {},
   "outputs": [
    {
     "data": {
      "text/plain": [
       "0.9936960954617106"
      ]
     },
     "execution_count": 36,
     "metadata": {},
     "output_type": "execute_result"
    }
   ],
   "source": [
    "s.target.max()"
   ]
  },
  {
   "cell_type": "code",
   "execution_count": 37,
   "id": "99ad45ee",
   "metadata": {},
   "outputs": [],
   "source": [
    "# s = s.drop_duplicates([\"variantid1\", \"variantid2\"])"
   ]
  },
  {
   "cell_type": "code",
   "execution_count": 40,
   "id": "9f21130c",
   "metadata": {},
   "outputs": [],
   "source": [
    "s.to_csv(\"submission_Cat_29038.csv\", index=False)"
   ]
  },
  {
   "cell_type": "code",
   "execution_count": 39,
   "id": "6643f7fd",
   "metadata": {},
   "outputs": [
    {
     "name": "stdout",
     "output_type": "stream",
     "text": [
      "<class 'pandas.core.frame.DataFrame'>\n",
      "Int64Index: 18084 entries, 0 to 18083\n",
      "Data columns (total 3 columns):\n",
      " #   Column      Non-Null Count  Dtype  \n",
      "---  ------      --------------  -----  \n",
      " 0   variantid1  18084 non-null  int64  \n",
      " 1   variantid2  18084 non-null  int64  \n",
      " 2   target      18084 non-null  float64\n",
      "dtypes: float64(1), int64(2)\n",
      "memory usage: 565.1 KB\n"
     ]
    }
   ],
   "source": [
    "s.info()"
   ]
  },
  {
   "cell_type": "code",
   "execution_count": null,
   "id": "c1edc4db",
   "metadata": {},
   "outputs": [],
   "source": []
  }
 ],
 "metadata": {
  "kernelspec": {
   "display_name": "Python 3 (ipykernel)",
   "language": "python",
   "name": "python3"
  },
  "language_info": {
   "codemirror_mode": {
    "name": "ipython",
    "version": 3
   },
   "file_extension": ".py",
   "mimetype": "text/x-python",
   "name": "python",
   "nbconvert_exporter": "python",
   "pygments_lexer": "ipython3",
   "version": "3.9.16"
  },
  "toc": {
   "base_numbering": 1,
   "nav_menu": {},
   "number_sections": true,
   "sideBar": true,
   "skip_h1_title": false,
   "title_cell": "",
   "title_sidebar": "Contents",
   "toc_cell": false,
   "toc_position": {
    "height": "674.503px",
    "left": "10px",
    "top": "150px",
    "width": "282.145px"
   },
   "toc_section_display": true,
   "toc_window_display": true
  }
 },
 "nbformat": 4,
 "nbformat_minor": 5
}
